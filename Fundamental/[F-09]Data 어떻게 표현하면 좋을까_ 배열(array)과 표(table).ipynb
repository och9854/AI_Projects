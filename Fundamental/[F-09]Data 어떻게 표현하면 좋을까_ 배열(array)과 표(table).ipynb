{
 "cells": [
  {
   "cell_type": "markdown",
   "id": "262ec11e",
   "metadata": {},
   "source": [
    "# 1. 기본 통계 데이터를 계산하기\n",
    " ## (1) 평균 계산하기\n",
    " ## (2) 배열을 활용한 평균, 표준편차, 중앙값 계산\n",
    " \n",
    " \n",
    "# 2. Numpy로 모든 걸 한방에!\n",
    " ## (1) NumPy 소개\n",
    " Numerical Python의 줄임말로, 과학 계산용 고성ㄴ능 컴퓨팅과 데이터 분석에 필요한 파이썬 패키지이다.\n",
    "\n",
    "### numpy의 장점\n",
    "- 빠르고 효율적으로 사용하여 벡터의 산술 연산과 브로드캐스팅 연산을 지원하는 다차원 배열 `ndarray`데이터 타입을 지원한다.\n",
    "- 반복문을 작성할 필요 없이 전체 데이터 배열에 대해 빠른 연산을 제공하는 다양한 표준 수학 함수를 제공한다.\n",
    "- 배열 데이터를 디스크에 쓰거나 읽을 수 있다.(= 파일로 저장한다)\n",
    "- 선형대수, 난수발생기, 푸리에 변환 가능, C/C++ 포트란으로 쓰인 코드를 통합한다.\n",
    "\n",
    " ## (2) NumPy 주요 기능\n",
    " ### 1) ndarray 만들기\n",
    " ndarray 객체를 이용하면 파이썬에서 사용하는 대규모 데이터 집합을 n차원 배열로 담을 수 있다.\n",
    "  - `arange()`와 `arrary([])`로 만들 수 있다."
   ]
  },
  {
   "cell_type": "code",
   "execution_count": 1,
   "id": "a0c5103a",
   "metadata": {},
   "outputs": [
    {
     "name": "stdout",
     "output_type": "stream",
     "text": [
      "[0 1 2 3 4]\n",
      "<class 'numpy.ndarray'>\n",
      "--------------------------\n",
      "[0 1 2 3 4]\n",
      "<class 'numpy.ndarray'>\n",
      "--------------------------\n",
      "['0' '1' '2' '3' '4']\n",
      "<class 'numpy.ndarray'>\n",
      "--------------------------\n",
      "[0 1 2 3 4]\n",
      "<class 'numpy.ndarray'>\n"
     ]
    }
   ],
   "source": [
    "import numpy as np\n",
    "\n",
    "# 아래 A와 B는 결과적으로 같은 ndarray 객체를 생성합니다. \n",
    "A = np.arange(5)\n",
    "B = np.array([0,1,2,3,4])  # 파이썬 리스트를 numpy ndarray로 변환\n",
    "\n",
    "# 하지만 C는 좀 다를 것입니다. \n",
    "C = np.array([0,1,2,3,'4'])\n",
    "\n",
    "# D도 A, B와 같은 결과를 내겠지만, B의 방법을 권합니다. \n",
    "D = np.ndarray((5,), np.int64, np.array([0,1,2,3,4]))\n",
    "\n",
    "print(A)\n",
    "print(type(A))\n",
    "print(\"--------------------------\")\n",
    "print(B)\n",
    "print(type(B))\n",
    "print(\"--------------------------\")\n",
    "print(C)\n",
    "print(type(C))\n",
    "print(\"--------------------------\")\n",
    "print(D)\n",
    "print(type(D))"
   ]
  },
  {
   "cell_type": "markdown",
   "id": "afe789c2",
   "metadata": {},
   "source": [
    "numpy.ndarrary도 array이기 때문에, **모든 element의 type이 동일해야 한다.**"
   ]
  },
  {
   "cell_type": "markdown",
   "id": "1c04f498",
   "metadata": {},
   "source": [
    "### 2) 크기\n",
    "- `ndarray.size`\n",
    "- `ndarray.shape`\n",
    "- `ndarray.ndim`\n",
    "- `reshape()`"
   ]
  },
  {
   "cell_type": "code",
   "execution_count": 3,
   "id": "1abed3d9",
   "metadata": {},
   "outputs": [
    {
     "name": "stdout",
     "output_type": "stream",
     "text": [
      "행렬 내 원소의 개수: 10\n",
      "행렬의 모양: (2, 5)\n",
      "행렬의 축 개수: 2\n"
     ]
    }
   ],
   "source": [
    "A = np.arange(10).reshape(2, 5)   # 길이 10의 1차원 행렬을 2X5 2차원 행렬로 바꿔봅니다.\n",
    "\n",
    "print(\"행렬 내 원소의 개수:\", A.size)\n",
    "print(\"행렬의 모양:\", A.shape)\n",
    "print(\"행렬의 축 개수:\", A.ndim)"
   ]
  },
  {
   "cell_type": "markdown",
   "id": "9e9690a5",
   "metadata": {},
   "source": [
    "### 3) type\n",
    "NumPy 라이브러리 내부의 자료형들은 파이썬 내장함수와 동일하다.\n",
    "그러나 헷갈리는 기능이 하나 있을텐데, 바로 `type()`과 `dtype()` 메서드이다.\n",
    "\n",
    "- Numpy: `numpy.array.dtype`\n",
    "- 파이썬: `type()`"
   ]
  }
 ],
 "metadata": {
  "kernelspec": {
   "display_name": "Python 3 (ipykernel)",
   "language": "python",
   "name": "python3"
  },
  "language_info": {
   "codemirror_mode": {
    "name": "ipython",
    "version": 3
   },
   "file_extension": ".py",
   "mimetype": "text/x-python",
   "name": "python",
   "nbconvert_exporter": "python",
   "pygments_lexer": "ipython3",
   "version": "3.9.7"
  }
 },
 "nbformat": 4,
 "nbformat_minor": 5
}
