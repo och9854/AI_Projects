{
  "nbformat": 4,
  "nbformat_minor": 0,
  "metadata": {
    "colab": {
      "name": "gd02_demand_arima.ipynb",
      "provenance": []
    },
    "kernelspec": {
      "name": "python3",
      "display_name": "Python 3"
    },
    "language_info": {
      "name": "python"
    }
  },
  "cells": [
    {
      "cell_type": "markdown",
      "source": [
        "## 2-1. 들어가며\n",
        "\n",
        "지난 시간에는 데이터의 시계열적 특징을 고려하지 않고 변수들 간의 관계를 확인하는 상관관계 분석과 선형 회귀 분석을 진행했어요. 하지만 상관관계 분석이나 선형 회귀 분석을 통해서는 차량 수요 예측을 제대로 할 수 없었는데요, 그 이유는 상관관계 분석이나 선형 회귀 분석은 과거의 관측값에서 얻은 정보를 활용하지 못했기 때문이에요.\n",
        "\n",
        "차량 수요 예측의 경우, 과거의 수요를 분석함으로써 시간의 흐름에 따른 수요의 패턴을 파악하고, 이를 통해 미래의 수요를 예측하여 보다 정확한 예측을 할 수 있어요.\n",
        "\n",
        "따라서 이번 시간에는 데이터의 시계열적 특성을 이용하여 시계열 분석을 해보려고 합니다. 시계열이란 시간 순서대로 발생한 데이터의 수열을 의미하는데요, 시계열 예측은 주어진 시계열을 보고 수학적인 모델을 만들어서 미래에 일어날 일을 예측하는 것이에요. 데이터의 시계열 패턴에 따라 ARMA 모형, ARIMA 모형, SARIMA 모형 등 다양한 시계열 모형을 사용합니다.\n",
        "\n",
        "![content img](https://d3s0tskafalll9.cloudfront.net/media/images/4028644.max-800x600.jpg)\n",
        "\n",
        "이번 시간에는 시계열 자료의 패턴을 이용하는 제일 기본적인 테크닉인 ARIMA 모형으로 차량 수요 예측을 하고, ARIMA 모형에 계절적 성분을 추가한 SARIMA를 다뤄볼 겁니다.\n",
        "\n",
        "또한 시계열 자료의 패턴을 이용하지 않은 선형 회귀 기반 머신러닝 모델을 통해 차량 수요 예측을 한 후, 데이터를 정제해 성능 개선을 할 거에요.\n",
        "\n",
        "마지막으로는 시계열 모형과 회귀 분석을 결합한 동적 회귀 모형을 통해 차량 수요 예측을 할 예정입니다.\n",
        "\n",
        "준비되었나요? 그럼 출발합시다!\n",
        "\n",
        "### 학습 목표\n",
        "\n",
        "___\n",
        "\n",
        "-   ARIMA 모형과 SARIMA 모형을 시계열 데이터에 적용해 본다.\n",
        "-   여러 머신러닝 모델을 데이터에 적용해 보고, 성능 개선을 한다.\n",
        "-   동적 회귀 모형을 이해하고, 데이터에 적용해 본다.\n",
        "\n",
        "### 목차\n",
        "\n",
        "___\n",
        "\n",
        "1.  시계열 분석과 ARIMA 모형\n",
        "2.  ARIMA 모형을 활용한 차량 수요 예측\n",
        "3.  SARIMA 모형을 활용한 차량 수요 예측\n",
        "4.  여러 머신러닝 모델을 활용한 차량 수요 예측\n",
        "5.  수요 예측 모델의 성능 개선\n",
        "6.  동적 회귀 모형의 이해\n",
        "7.  프로젝트\n",
        "\n",
        "### 준비물\n",
        "\n",
        "___\n",
        "\n",
        "아래 명령을 실행해 라이브러리를 설치해 주세요.\n",
        "\n",
        "```bash\n",
        "$ pip install pmdarima\n",
        "```\n",
        "\n",
        "**pmdarima(Pyramid-arima)** 는 R에서 실행되는 `auto.arima`를 파이썬에서 실행시킬 수 있도록 설계된 통계 라이브러리인데요, 시계열 분석할 때 유용하게 사용될 수 있어요. 공식 문서를 참고해 보세요.\n",
        "\n",
        "-   [pmdarima: ARIMA estimators for Python](http://alkaline-ml.com/pmdarima/)\n",
        "\n",
        "렉처에서 만든 `raws.csv`를 준비해 줍니다. 파일이 없다면 아래 명령어를 통해 다시 준비해 주세요.\n",
        "\n",
        "```bash\n",
        "$ mkdir -p ~/aiffel/demand_forecasting/data\n",
        "$ ln -s ~/data/* ~/aiffel/demand_forecasting/data\n",
        "```"
      ],
      "metadata": {
        "id": "dbsNUPT5ANtQ"
      }
    },
    {
      "cell_type": "markdown",
      "source": [
        "## 2-2. 시계열 분석과 ARIMA 모형\n",
        "\n",
        "지금부터 시계열 분석을 위해 만족해야 하는 약정상성(weak stationarity) 가정에 대해 알아보고, 시계열 데이터를 다루는 기본적인 모형 중 하나인 ARIMA 모형(Auto-Regressive Integrated Moving Average)을 알아보겠습니다.\n",
        "\n",
        "또한 ARIMA 모형 결정 과정을 간단히 설명하고, 그 과정에 따라 ARIMA 모형을 적합하는 과정을 진행할 거에요.\n",
        "\n",
        "ARIMA 모형 결정 과정을 간략히 설명하자면, 데이터에 계절성과 정상성이 있는지 그래프와 검정을 통해 살펴보고, 만약 계절성과 정상성이 존재하면 차분과 로그 변환을 통해 계절성을 제거하여 정상적인 시계열 데이터로 만들어요. 그 후 ARIMA 모형의 모수를 결정하여 모형을 적합한 뒤, 모형에 적절했는지 점검하면 됩니다.\n",
        "\n",
        "### 라이브러리 불러오기\n",
        "\n",
        "___\n",
        "\n",
        "먼저 라이브러리를 불러옵니다."
      ],
      "metadata": {
        "id": "6W02IFXTAcpd"
      }
    },
    {
      "cell_type": "code",
      "execution_count": null,
      "metadata": {
        "id": "T02cg2sSAEcb"
      },
      "outputs": [],
      "source": [
        "import os\n",
        "import requests\n",
        "from io import BytesIO\n",
        "from itertools import product\n",
        "from datetime import datetime\n",
        "\n",
        "# 데이터 처리\n",
        "import pandas as pd\n",
        "import numpy as np\n",
        "\n",
        "# 시각화\n",
        "import matplotlib as mpl\n",
        "import matplotlib.pyplot as plt\n",
        "import matplotlib.ticker as plticker\n",
        "import seaborn as sns\n",
        "\n",
        "# 분석\n",
        "import sklearn\n",
        "from sklearn.preprocessing import StandardScaler\n",
        "from sklearn.linear_model import Ridge, RidgeCV, Lasso, LassoCV\n",
        "import statsmodels.api as sm\n",
        "import pmdarima as pm  \n",
        "\n",
        "# statsmodels\n",
        "from statsmodels.graphics.tsaplots import plot_acf, plot_pacf\n",
        "from statsmodels.tsa.seasonal import STL\n",
        "from statsmodels.tsa.stattools import adfuller # 정상성 검정\n",
        "from statsmodels.tsa.arima_model import ARIMA\n",
        "\n",
        "import warnings\n",
        "warnings.filterwarnings( 'ignore' )\n",
        "\n",
        "print(\"슝~\")"
      ]
    },
    {
      "cell_type": "markdown",
      "source": [
        "pmdarima는 일정 버전 이상의 라이브러리가 먼저 설치되어 있어야 해요. 라이브러리의 버전도 확인해 봅시다.\n",
        "\n",
        "> -   Numpy (>=1.17.3),\n",
        "> -   SciPy (>=1.3.2),\n",
        "> -   Scikit-learn (>=0.22),\n",
        "> -   Pandas (>=0.19),\n",
        "> -   Statsmodels (>=0.11)"
      ],
      "metadata": {
        "id": "NMY2A_K4AfC_"
      }
    },
    {
      "cell_type": "code",
      "source": [
        "print( f'# pandas:       {pd.__version__}' )\n",
        "print( f'# numpy:        {np.__version__}' )\n",
        "print( f'# matplotlib:   {mpl.__version__}' )  \n",
        "print( f'# seaborn:      {sns.__version__}' )\n",
        "print( f'# statsmodels:  {sm.__version__}' )\n",
        "print( f'# scikit-learn: {sklearn.__version__}' )\n",
        "print( f'# pmdarima:     {pm.__version__}' )"
      ],
      "metadata": {
        "id": "pxFyI9Z4AwiJ"
      },
      "execution_count": null,
      "outputs": []
    },
    {
      "cell_type": "markdown",
      "source": [
        "### 데이터 준비\n",
        "\n",
        "___\n",
        "\n",
        "데이터를 불러옵시다. 불러올 데이터는 이전 노드에서 만들어 놓았었는데요, 사전 가동률 데이터, 존 클릭 수 데이터, 날씨 데이터를 합하여 만들었어요."
      ],
      "metadata": {
        "id": "D0wXOpQ_Azgo"
      }
    },
    {
      "cell_type": "code",
      "source": [
        "file_path_raws = os.getenv('HOME') + '/aiffel/demand_forecasting/data/raws.csv'\n",
        "df_raws = pd.read_csv(file_path_raws)\n",
        "\n",
        "df_op_ts = df_raws.set_index('target_dates').sort_index()\n",
        "df_op_ts.head()"
      ],
      "metadata": {
        "id": "RAEOxwqmA0bH"
      },
      "execution_count": null,
      "outputs": []
    },
    {
      "cell_type": "markdown",
      "source": [
        "### 시계열 분석\n",
        "\n",
        "___\n",
        "\n",
        "시계열 데이터는 주식 거래 데이터, 기후 데이터, 유가 변동 데이터 등과 같이 **시간 순서대로 발생한 데이터** 에요. 다른 데이터와 달리 시계열 데이터는 시간과 연관되어 있기 때문에, 시계열 데이터를 제대로 분석하고, 예측하기 위해서는 일반적인 통계 기법을 사용하는 것보다 시계열 기법을 사용하는 것이 좋아요. 시계열 분석과 일반적인 통계 분석은 차이가 있기 때문이죠.\n",
        "\n",
        "일반적인 통계 분석은 데이터가 독립적이고 동일하게 분포되어야 한다는 i.i.d(독립 항등 분포, Independent and Identically Distributed) 가정을 만족해야 해요. 반면 시계열 분석은 **약정상성(weak stationarity) 가정** 을 만족해야 해요. 약정상성 가정은 아래와 같이 3가지가 있어요.\n",
        "\n",
        "1.  시간(t)이 흘러도 평균이 같다.\n",
        "2.  시간(t)이 흘러도 분산이 같다.\n",
        "3.  자기공분산 또는 각 값들의 상관성(Auto-Correlation, 자기상관관계)이 시간이 아니라 시차에 의존한다.\n",
        "\n",
        "각 가정에 대해 조금 더 자세히 알아봅시다. 우선 1번과 2번 가정의 경우, 평균과 분산이 시간(t)에 따라 변하면 예측이 어려워지기 때문에 평균과 분산이 시간이 흘러도 일정해야 해요.\n",
        "\n",
        "예를 들어 12시일 때의 평균과 분산이 각각 10과 5, 13시일 때의 평균과 분산이 각각 200과100, 14시일 때의 평균과 분산이 각각 3과2, ... 이런 식으로 평균과 분산이 시간에 따라 계속 변하면 그 데이터는 예측이 불가능해요.\n",
        "\n",
        "3번 가정인 자기 공분산 또는 각 값들의 상관성이 시차에 의존한다는 의미는 t 시점과 t+s 시점의 공분산과 t 시점과 t-s 시점의 공분산이 같다는 의미에요.\n",
        "\n",
        "만약 1월 1일과 1월 2일의 공분산과 1월 2일과 1월 3일의 공분산이 0.8이고, 1월 1일과 1월 3일의 공분산과 1월 2일과 1월 4일의 공분산이 0.4라면, 시차 1일 때 공분산은 0.8이고 시차 2일 때 공분산이 0.4라는 것을 추측할 수 있어요. 따라서 12월 23일의 값이 주어졌을 때, 0.8의 공분산을 가지는 값을 12월 24일의 값, 0.4의 공분산을 가지는 값을 12월 25일의 값으로 예측할 수 있어요.\n",
        "\n",
        "> ❓ 혹시 공분산, 상관관계, 자기공분산, 자기상관관계 등 여러 개념들이 혼동되시나요?\n",
        "> \n",
        "> 공분산은 확률변수가 두 개 일때의 분산입니다. 각 변수의 분포가 서로 얼마나 관련이 있는지를 수치적으로 표현한 것으로 해석할 수 있으며, 각 변수의 평균에서의 편차를 곱한 것의 평균이라고 정의합니다.\n",
        "> \n",
        "> -   분산(Variance. VAR(X)VAR(X)VAR(X))\n",
        "> \n",
        "> VAR(X)\\=1n−1∑i\\=1n(xi−E(X))2VAR(X) = \\\\frac {1}{n-1} \\\\sum^{n}\\_{i=1} (x\\_i - E(X))^2VAR(X)\\=n−11i\\=1∑n(xi−E(X))2\n",
        "> \n",
        "> -   공분산(Covariance. COV(X,Y)COV(X, Y)COV(X,Y))\n",
        "> \n",
        "> COV(X,Y)\\=1n−1∑i\\=1n(xi−E(X))(yi−E(Y))COV(X, Y) = \\\\frac {1}{n-1} \\\\sum^{n}\\_{i=1} (x\\_i - E(X))(y\\_i - E(Y))COV(X,Y)\\=n−11i\\=1∑n(xi−E(X))(yi−E(Y))\n",
        "> \n",
        "> X,YX, YX,Y: 확률변수, xi,yix\\_i, y\\_ixi,yi: 관측값, E(X),E(Y)E(X), E(Y)E(X),E(Y): 평균\n",
        "> \n",
        "> 상관관계는 공분산을 분산으로 다시 나누어주어 공분산을 (-1,1) 범위로 스케일링 해준 것이라고 볼 수 있어요.\n",
        "> \n",
        "> -   상관관계\n",
        "> \n",
        "> COR(X,Y)\\=COV(X,Y)VAR(X)VAR(Y)COR(X, Y) = \\\\frac {COV(X, Y)}{\\\\sqrt{ VAR(X)VAR(Y)}}COR(X,Y)\\=VAR(X)VAR(Y)COV(X,Y)\n",
        "> \n",
        "> 이때 시계열의 경우, xt{x\\_t}xt와 xt+1{x\\_{t+1}}xt+1의 상관관계를 계산하므로 COV(Xt,Xt+1)COV(X\\_t, X\\_{t+1})COV(Xt,Xt+1), COR(Xt,Xt+1)COR(X\\_t, X\\_{t+1})COR(Xt,Xt+1) 를 각각 자기공분산, 자기상관관계라고 칭합니다. 이는 나중에 나올 ACF(Auto Correlation Function)와도 통하는 개념입니다.\n",
        "\n",
        "하지만 약정상성 가정을 만족하지 않는 비정상(non-stationary) 시계열 데이터가 있다면 어떻게 해야 할까요? 정상화시키면 되겠죠? 평균이 일정하지 않으면 차분(difference)을 통해, 분산이 일정하지 않으면 로그 변환(transformation) 등을 통해 정상화할 수 있어요.\n",
        "\n",
        "여기서 차분이란 현 시점 자료에서 전 시점 자료를 빼는 것으로, 일반 차분과 계절 차분이 있어요. 일반 차분은 바로 전 시점의 자료를 빼는 것이고, 계절 차분이란 여러 시점(계절성의 주기만큼의 시차) 전의 자료를 빼는 방법으로, 일반적으로 계절성을 갖는 자료를 정상화할 때 사용해요.\n",
        "\n",
        "### ARIMA 모형\n",
        "\n",
        "___\n",
        "\n",
        "지금부터 시계열 데이터를 다루는 기본적인 모형 중 하나인 **ARIMA 모형(Auto-Regressive Integrated Moving Average)** 을 알아보고, 사용해 보겠습니다. ARIMA 모형은 AR(자기 회귀, Autoregression) 모형과 MA(이동 평균, Moving Average) 모형을 합친 모형으로, 현재값을 과거값과 과거의 예측 오차를 통해 설명할 수 있답니다.\n",
        "\n",
        "아래의 참고 자료를 읽고 퀴즈에 답해보세요.\n",
        "\n",
        "-   [ARIMA 모형](https://be-favorite.tistory.com/63)\n",
        "-   [Chapter 8. ARIMA 모델](https://otexts.com/fppkr/arima.html)\n",
        "\n",
        "Q1. ARIMA 모델을 적합하려면 시계열 데이터가 정상성(Stationary)을 띠고 있어야 해요. 정상성이 무엇인지 간단히 설명하세요.\n",
        "\n",
        "예시답안\n",
        "\n",
        "시계열 자료의 분포(평균, 분산, 자기상관)가 시간에 따라 변화하지 않는 성질이다.\n",
        "\n",
        "Q2. AR모형과 MA 모형에 대해 간단히 설명해 보세요.\n",
        "\n",
        "예시답안\n",
        "\n",
        "AR 모형은 시계열의 현재값을 p개의 과거값들의 선형결합으로 예측을 설명한다. MA 모형은 시계열을 현시점의 오차와 q개의 과거 오차들의 선형결합으로 예측을 수행한다.\n",
        "\n",
        "ARIMA(p, d, q) 모형은 d차 차분한 데이터에 AR(p) 모형과 MA(q) 모형을 합친 모형이에요. 여기서 p는 AR 모형 차수, d는 차분 횟수, q는 MA 모형 차수에요. ARIMA 모형은 비정상 시계열을 차분과 변환을 통해 AR, MA, ARMA로 정상화시킬 수 있어요.\n",
        "\n",
        "예를 들어 p=0일 때 d번 차분하면 MA(q)가 되고, d=0일 때, ARMA(p, q)이므로 정상성을 만족해요. q=0이면 d번 차분해서 AR(p)가 되는 거죠. p, d, q의 최적 차수는 ACF, PACF를 사용해 찾을 수 있어요.\n",
        "\n",
        "### ARIMA 모형 결정 과정\n",
        "\n",
        "___\n",
        "\n",
        "이제부터 아래의 과정을 통해 ARIMA 모형을 결정하게 될 거예요.\n",
        "\n",
        "**1\\. 계절성/정상성 점검**  \n",
        "먼저 시계열도(Time series plot), ACF, PACF, ADF test 등을 종합적으로 보고, 시계열에 계절성과 정상성이 존재하는지 판단해요.\n",
        "\n",
        "**2\\. 적절한 차분/로그 변환 실시**  \n",
        "데이터가 정상성을 띠지 않을 때에는 일반적으로 차분이나 로그 변환을 정상성을 띠는 데이터로 만들어요. 보통 평균이 일정하지 않을 때, 즉 추세나 계절성이 존재할 때는 차분(yt−yt−1y\\_t - y\\_{t-1}yt−yt−1)을 하고, 분산이 일정하지 않을 때, 즉 변동폭이 일정하지 않을 경우는 로그 변환을 해요. 만약 데이터에서 일정한 주기의 계절성이 관측되면, 계절차분을 이용해 계절성을 제거한 자료를 가지고 분석합니다.\n",
        "\n",
        "아래의 그림에서 (a)와 같은 비정상 시계열을 로그변환하면 (b)와 같이 분산이 일정해지고, 차분을 하면 (c)와 같이 평균이 일정해져요.\n",
        "\n",
        "![content img](https://d3s0tskafalll9.cloudfront.net/media/images/seukeurinsyas_2021-09-05_20-37-27.max-800x600.png)\n",
        "\n",
        "\\[비정상 시계열과 정상 시계열\\]\n",
        "\n",
        "[https://leedakyeong.tistory.com/entry/ARIMA%EB%9E%80-ARIMA-%EB%B6%84%EC%84%9D%EA%B8%B0%EB%B2%95-AR-MA-ACF-PACF-%EC%A0%95%EC%83%81%EC%84%B1%EC%9D%B4%EB%9E%80](https://leedakyeong.tistory.com/entry/ARIMA%EB%9E%80-ARIMA-%EB%B6%84%EC%84%9D%EA%B8%B0%EB%B2%95-AR-MA-ACF-PACF-%EC%A0%95%EC%83%81%EC%84%B1%EC%9D%B4%EB%9E%80)\n",
        "\n",
        "**3\\. 모형 판별 및 적합**  \n",
        "ARIMA 모형의 모수(parameter)를 결정하기 위해 크게 두 가지 방법이 존재해요. ACF, PACF 등의 지표를 이용해 적합하는 방법과 AIC 기반으로 자동 선택을 진행하는 방법이에요.\n",
        "\n",
        "ACF, PACF를 이용하는 방법은 AR, MA를 지정한 뒤에 ACF, PACF plot을 그려서 파악할 수 있어요. 아래의 표에 모수를 정하는 방법을 정리해 놓았어요.\n",
        "\n",
        "![content img](https://d3s0tskafalll9.cloudfront.net/media/images/seukeurinsyas_2021-09-05_23-51-25.max-800x600.png)\n",
        "\n",
        "\\[ARIMA 모수 결정 방법\\]\n",
        "\n",
        "[https://hwao-story.tistory.com/13](https://hwao-story.tistory.com/13)\n",
        "\n",
        "ARIMA 모형에서는 ACF, PACF를 이용하고, SARIMA 모형에서는 `auto_arima()`를 이용해 자동으로 모형을 결정할 거에요.\n",
        "\n",
        "**4\\. 모형 점검**  \n",
        "모형의 잔차나 예측 결과를 확인해 특별히 이상이 있는지 확인해야 해요. 잔차의 경우 자기 상관이 남아있으면 모형이 적절치 않았을 수 있다는 것을 의미해요. 예측 결과가 특별히 예상되는 범위를 벗어나는지, 혹은 도메인 지식과 어긋나는 패턴을 보이지 않는지도 확인해야 해요."
      ],
      "metadata": {
        "id": "lBTcKno1A-Eg"
      }
    },
    {
      "cell_type": "markdown",
      "source": [
        "## 2-3. ARIMA 모형을 활용한 차량 수요 예측\n",
        "\n",
        "앞서 살펴 봤듯이 ARIMA 모형 결정 순서는 다음과 같습니다.\n",
        "\n",
        "-   계절성/정상성 점검→적절한 차분/로그 변환 실시→모형 판별 및 적합→모형 점검\n",
        "\n",
        "이제부터 ARIMA 모형을 결정하겠습니다.\n",
        "\n",
        "### 계절성/정상성 점검\n",
        "\n",
        "___\n",
        "\n",
        "-   **시계열도(Time series plot)**"
      ],
      "metadata": {
        "id": "tNsRgeQSBEe3"
      }
    },
    {
      "cell_type": "code",
      "source": [
        "fig, ax = plt.subplots(nrows=1, ncols=1, figsize=(12, 8))  \n",
        "plt.plot(df_op_ts['op_rate_0d_all_cars'])\n",
        "plt.xticks(rotation=45)\n",
        "loc = plticker.MultipleLocator(base=30.0) \n",
        "ax.xaxis.set_major_locator(loc)\n",
        "plt.show()"
      ],
      "metadata": {
        "id": "JgtL-rdSBCFE"
      },
      "execution_count": null,
      "outputs": []
    },
    {
      "cell_type": "markdown",
      "source": [
        "**계절성을 제외하면 자료의 분포가 크게 변화하지 않는** 것 같아요. 단, 평균이 시간에 따라 조금씩 변화하고 있네요.\n",
        "\n",
        "더 짧은 기간을 그려서 데이터에 주기(cycle)가 있는지를 살펴볼게요."
      ],
      "metadata": {
        "id": "yu1PXFNYBGiv"
      }
    },
    {
      "cell_type": "code",
      "source": [
        "fig, ax = plt.subplots(nrows=1, ncols=1, figsize=(12, 8))  \n",
        "plt.plot(df_op_ts['op_rate_0d_all_cars'][0:100], \"b.-\")\n",
        "plt.xticks(rotation=45)\n",
        "loc = plticker.MultipleLocator(base=7.0) \n",
        "ax.xaxis.set_major_locator(loc)\n",
        "plt.show()"
      ],
      "metadata": {
        "id": "UYgMaRboBHzz"
      },
      "execution_count": null,
      "outputs": []
    },
    {
      "cell_type": "markdown",
      "source": [
        "**데이터의 주기가 7일** 임이 명확하게 확인되고 있어요. 또한, 유난히 크게 가동률이 상승했던 날짜를 확인할 수 있는데요, 공휴일인 것처럼 보여요. 아래에서 자세히 살펴보죠.\n",
        "\n",
        "-   **STL 분해**\n",
        "\n",
        "**STL 분해(Seasonal and Trend decomposition using LOESS)** 을 통해 데이터에 내재된 패턴을 확인해 봅시다. STL은 시계열에 내재된 Seasonal 성분과 Trend 성분을 쉽게 확인할 수 있는 방법론이에요. 비선형 관계를 추정하는 기법인 Loess를 사용하여 어떤 종류의 데이터도 다룰 수 있고, 다른 시계열 분해보다 더 좋은 결과가 나오는 강력한 시계열 분해 기법이죠.\n",
        "\n",
        "시계열은 추세(trend), 계절성(seasonality), 주기(cycle)이라는 3가지 패턴이 존재하는데요, 추세와 주기를 결합해 하나의 성분으로 여기는 것이 일반적이에요. 따라서 시계열은 추세-주기 성분, 계절성 성분, 나머지(remainder) 성분으로 구성됩니다. STL 분해는 시계열 성분을 추출하는 시계열 분해 기법 중 하나에요.\n",
        "\n",
        "STL 분해는 다른 시계열 분해에는 없는 몇 가지 장점이 있어요. 첫째, 어떤 종류의 계절성도 다룰 수 있어요. 둘째, seasonal window와 trend-cycle window의 매개변수를 조절해 계절성분과 추세-주기 성분을 사용자가 조정할 수 있어요. 마지막으로 이상치가 추세-주기와 계절성분에 영향을 주지 않게 만들 수 있어요.\n",
        "\n",
        "단점으로는 STL 분해는 덧셈 분해만 지원하기 때문에 곱셈 분해를 해야 한다면 로그를 취해 분해를 하고 성분을 원래대로 되돌려야 한다는 점이 있어요."
      ],
      "metadata": {
        "id": "LbjdHGi_BLRw"
      }
    },
    {
      "cell_type": "code",
      "source": [
        "time_series_op_rate = df_op_ts['op_rate_0d_all_cars'] # Create univariate time series\n",
        "STL_decomposed = STL(time_series_op_rate, seasonal=7, period=7).fit()\n",
        "fig = STL_decomposed.plot()\n",
        "fig.set_size_inches(10, 16)\n",
        "\n",
        "for ax in fig.axes :\n",
        "    loc = plticker.MultipleLocator(base=30.0) \n",
        "    ax.xaxis.set_major_locator(loc)\n",
        "    ax.xaxis.set_minor_locator(loc)\n",
        "    ax.tick_params(axis='x', labelrotation=45)\n",
        "    \n",
        "plt.show()\n",
        "print(STL_decomposed.resid[STL_decomposed.resid>0.1]) # 가설 검증"
      ],
      "metadata": {
        "id": "PLG6RzRjBLy9"
      },
      "execution_count": null,
      "outputs": []
    },
    {
      "cell_type": "markdown",
      "source": [
        "STL 분해를 통해서 알 수 있는 사실은 아래와 같아요.\n",
        "\n",
        "1.  Trend로부터 연중 패턴을 어느 정도 확인할 수 있어요.  \n",
        "    2019년 9월 초에 가동률이 크게 상승했으며, 그 이후에는 전반적으로 큰 수준의 변화 없이 일정하다는 것을 알 수 있어요.\n",
        "    \n",
        "2.  Residual을 보면 이상치가 생기는 날짜가 일부 존재해요.  \n",
        "    데이터가 유난히 튀는 이유는 무엇일까요? '공휴일에 사람들의 수요가 많아 평소에 비해 높은 가동률을 가질 것이다'라는 가설을 세울 수 있어요. 실제로 수요가 trend, seasonal 성분에 비해 큰 날짜를 확인해봤을 때 공휴일임을 알 수 있어요. 구정, 추석 등 명절 때의 가동률이 특별히 높군요.\n",
        "    \n",
        "\n",
        "지금까지 STL 분해를 통해 **Holiday Effect** 를 확인할 수 있었어요. 이 수치들을 이상치로 취급해 적절히 다른 값으로 대체한 뒤 따로 모델링하는 것이 더 적합하다고 판단할 수 있어요. 이상치 처리는 다양한 방식으로 할 수 있지만 여기선 **선형 보간법** 을 적용해보죠."
      ],
      "metadata": {
        "id": "-JqtWrdyBNBH"
      }
    },
    {
      "cell_type": "code",
      "source": [
        "time_series_op_rate_replace = time_series_op_rate.copy()\n",
        "time_series_op_rate_replace[STL_decomposed.resid>0.1] = np.NaN\n",
        "time_series_op_rate_replace = time_series_op_rate_replace.interpolate(method='linear') # Linear interpolation\n",
        "\n",
        "# Outlier를 처리한 뒤의 STL Decomposition\n",
        "STL_decomposed_replace = STL(time_series_op_rate_replace, seasonal=7, period=7).fit()\n",
        "fig = STL_decomposed_replace.plot()\n",
        "fig.set_size_inches(10, 16)\n",
        "\n",
        "for ax in fig.axes :\n",
        "    loc = plticker.MultipleLocator(base=30.0) \n",
        "    ax.xaxis.set_major_locator(loc)\n",
        "    ax.xaxis.set_minor_locator(loc)\n",
        "    ax.tick_params(axis='x', labelrotation=45)\n",
        "    \n",
        "plt.show()\n",
        "print(STL_decomposed_replace.resid[STL_decomposed_replace.resid>0.1])"
      ],
      "metadata": {
        "id": "urrjBaytBPcY"
      },
      "execution_count": null,
      "outputs": []
    },
    {
      "cell_type": "markdown",
      "source": [
        "이상치를 처리한 후에 STL 분해를 해보니 Residual의 분포가 비교적 안정화된 것을 확인할 수 있어요. 변화가 잘 안 보이신다면 y축 범위에 주목하세요!\n",
        "\n",
        "-   **ACF, PACF**\n",
        "\n",
        "**ACF** (자기상관함수, Autocorrelation Function)는 다양한 시차 k에 대한 자기상관값을 의미해요. 즉 $y_t$t와 $y_t+k$가 얼마나 관계가 있는지를 측정하는 것이고, 식은 아래와 같아요.\n"
      ],
      "metadata": {
        "id": "B_OQH1SEBTxe"
      }
    },
    {
      "cell_type": "markdown",
      "source": [
        "![image.png](data:image/png;base64,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)"
      ],
      "metadata": {
        "id": "0FoOLcJjDP3o"
      }
    },
    {
      "cell_type": "markdown",
      "source": [
        "위의 식에서 분모인 분산 $var(y_t)$은 N개의 관측값을, 분자인 공분산 $cov(y_t,y_{t+k})$는 N−k개의 관측값을 계산해요. ACF plot에서는 유의미한 상관과 유의미하지 않은 상관을 확인할 수 있는데, 점선(유의 한계) 위쪽이 유의미한 값이고, 해당 시차에 대한 상관이 0이 아니라는 것을 의미해요.\n",
        "\n",
        "**PACF** (편자기상관함수, Partial Autocorrelation Function)는 시점 t와 t−k 사이에 존재하는 t−1, t−2, ..., t−k+1의 영향을 제외하고 구한 자기상관값이에요. ACF를 사용해 모든 시계열 데이터를 분석하기에는 한계가 있기 때문에 PACF를 사용한 추가적인 분석이 필요해요. 수식은 아래와 같아요."
      ],
      "metadata": {
        "id": "ujG9YellDUvf"
      }
    },
    {
      "cell_type": "markdown",
      "source": [
        "![image.png](data:image/png;base64,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)"
      ],
      "metadata": {
        "id": "ExmJAeBeDt5v"
      }
    },
    {
      "cell_type": "markdown",
      "source": [
        "$e_t$는 $y_{t−k}$를 제외하고 $y_{t−1}$에서 $y_{t−(k−1)}$로 설명될 부분을 제거한 것이기 때문에 PACF는 온전히 $y_t$와 $y_{t−k}$의 관계만 볼 수 있어요. PACF plot에서도 점선(유의 한계) 위쪽이 유의미한 값이에요.\n",
        "\n",
        "**ACF나 PACF가 특정한 주기로 크거나 작은 값을 가진다면 계절성을 의심** 할 수 있어요. ACF, PACF plot을 그려서 데이터에 특정 주기가 있는지 확인해 봅시다."
      ],
      "metadata": {
        "id": "LaCYw-ShD1un"
      }
    },
    {
      "cell_type": "code",
      "source": [
        "# ACF, PACF plot\n",
        "plot_acf(time_series_op_rate_replace)\n",
        "plot_pacf(time_series_op_rate_replace)\n",
        "plt.show()"
      ],
      "metadata": {
        "id": "ej1wGcqzDLO4"
      },
      "execution_count": null,
      "outputs": []
    },
    {
      "cell_type": "markdown",
      "source": [
        "ACF, PACF plot에서 **주기 7의 강한 계절성** 을 관측할 수 있어요. 이제 `lag = 7`로 차분을 실시하고 다시 ACF와 PACF를 확인해 봅시다."
      ],
      "metadata": {
        "id": "-0GeZpbDEiAA"
      }
    },
    {
      "cell_type": "code",
      "source": [
        "# 차분 \n",
        "time_series_op_rate_diff = time_series_op_rate_replace.diff(7).dropna()\n",
        "plot_acf(time_series_op_rate_diff)\n",
        "plot_pacf(time_series_op_rate_diff)\n",
        "plt.show()"
      ],
      "metadata": {
        "id": "wbeGl5GsEjja"
      },
      "execution_count": null,
      "outputs": []
    },
    {
      "cell_type": "markdown",
      "source": [
        "계절 차분을 한 이후에도 계절성이 남아있지만, 처음에 비해선 일부 제거된 모습이군요.\n",
        "\n",
        "ADF 검정(Augmented Dickey-Fuller Test)\n",
        "시계열 데이터가 정상적(stationary)인지를 판단하기 위해서 ADF 검정(Augmented Dickey-Fuller Test) 을 할 수 있어요.\n",
        "\n",
        "ADF 검정은 정상성을 알아보기 위한 단위근 검정 방법이에요. 참고로 단위근(unit root)이란 $x=1, y=1$인 해로, 시계열 자료에서 예측할 수 없는 결과를 가져올 수 있어요.\n",
        "\n",
        "검정에는 자료에 단위근이 존재한다는 귀무가설(Null Hyperthesis, $H_0: \\alpha = 1$)과 자료에 단위근이 존재하지 않아 시계열 자료가 정상성을 만족한다는 대립가설(Alternative Hypothesis, $H_1: \\alpha / 1$), 이렇게 2가지 가설을 사용하고, 검정을 통해 귀무가설을 기각하면 정상성을 띤다고 볼 수 있어요.\n",
        "\n",
        "조금 더 자세히 설명하면, ADF 검정은 1979년 David Dickey와 Wayne Fuller에 의해 개발된 DF 검정을 일반화한 검정이에요. Dickey-Fuller 단위근 검정은 단위근이 존재한다는 귀무가설을 통계적으로 검정하는 방법이에요.\n",
        "$$\n",
        "y_t=c+βt+αy_{t−1}+ϕ∇y_{t−1}+e_t\n",
        "​$$\n",
        " \n",
        "위의 식에서 cc는 시계열 데이터의 레벨, \\betaβ는 시계열 데이터의 추세항이에요. 각 파라미터를 regression으로 추정해 \\alphaα가 단위근을 가질 확률을 검정합니다. \\alpha=1α=1이면 단위근을 가지는 것이기 때문에 정상성을 띠지 않는다고 판단해요.\n",
        "\n",
        "ADF 검정은 DF 검정에 p lag의 차분을 추가해 검정 능력을 더 강화시켰습니다. 식은 아래와 같아요.\n",
        "\n",
        "$$\n",
        "y_t=c+βt+αy_{t−1}+ϕ_1∇y_{t−1}+...+ϕ_p∇y_{t−p}+e_t\n",
        "​$$​\n",
        " \n",
        "DF 검정의 식에서 p lag의 차분만큼 항이 추가된 것을 알 수 있죠? t-pt−p 시점까지의 차분 경향성을 파악할 수 있어서 주기를 가진 데이터의 정상성 여부를 판단할 수 있어요.\n",
        "\n",
        "ADF 검정의 귀무가설은 DF 검정과 귀무가설이 같으므로 **검정통계량이 Critical Value보다 작거나 p-value가 설정한 유의수준 값보다 작으면 정상적**인 시계열 데이터라고 볼 수 있어요."
      ],
      "metadata": {
        "id": "-jf2Iw9SE2C4"
      }
    },
    {
      "cell_type": "code",
      "source": [
        "p_value = adfuller(time_series_op_rate_diff.reset_index().op_rate_0d_all_cars)[1]\n",
        "print(f'p-value of ADF test (diff 7): {p_value}')\n",
        "\n",
        "\n",
        "fig, ax = plt.subplots(nrows=1, ncols=1, figsize=(12, 8))\n",
        "\n",
        "plt.plot(time_series_op_rate_diff.reset_index().op_rate_0d_all_cars);\n",
        "\n",
        "plt.show()"
      ],
      "metadata": {
        "id": "gDG3hoeKGgAo"
      },
      "execution_count": null,
      "outputs": []
    },
    {
      "cell_type": "markdown",
      "source": [
        "ADF 검정 결과, 단위근이 있다는 귀무가설이 유의수준 0.05에서 기각되었어요. 이는 **시계열이 정상성을 가지고 있다** 는 증거이기 때문에 추가적인 차분이나 로그변환을 진행하지는 않을 거예요.\n",
        "\n",
        "더 짧은 기간을 그려서 계절성이 제거되었는지 볼게요."
      ],
      "metadata": {
        "id": "IDK-tGCjGoHo"
      }
    },
    {
      "cell_type": "code",
      "source": [
        "fig, ax = plt.subplots(nrows=1, ncols=1, figsize=(12, 8))\n",
        "\n",
        "plt.plot(time_series_op_rate_diff.reset_index().op_rate_0d_all_cars[0:100], \"b.-\")\n",
        "\n",
        "plt.show()"
      ],
      "metadata": {
        "id": "U7ICLsXYGpdN"
      },
      "execution_count": null,
      "outputs": []
    },
    {
      "cell_type": "markdown",
      "source": [
        "계절 차분 이후 계절성이 제거된 모습을 확인할 수 있었어요.\n",
        "\n",
        "### 모형 적합과 검증\n",
        "\n",
        "___\n",
        "\n",
        "이제부터 ARIMA 모형을 적합시켜 보겠습니다. 우선 학습 데이터와 테스트 데이터로 2021년 4월 1일을 기준으로 분리할게요. 계절차분을 1번 해주었기 때문에 $d=1$이에요. ACF, PACF plot을 참고로 하여 모수 $p=3$, $q=1$를 가지는 ARIMA 모형을 적합시켜보겠습니다."
      ],
      "metadata": {
        "id": "JcspTsplGrO3"
      }
    },
    {
      "cell_type": "code",
      "source": [
        "# Split Train/Test data\n",
        "op_rate_train = time_series_op_rate_diff[time_series_op_rate_diff.index<'2021-04-01']\n",
        "op_rate_test = time_series_op_rate_diff[time_series_op_rate_diff.index>='2021-04-01']\n",
        "\n",
        "model = ARIMA(op_rate_train, order=(3, 1, 1))  \n",
        "fitted_m = model.fit(disp=-1)  \n",
        "print(fitted_m.summary())"
      ],
      "metadata": {
        "id": "t2KswfjUGxbB"
      },
      "execution_count": null,
      "outputs": []
    },
    {
      "cell_type": "markdown",
      "source": [
        "학습 데이터에 대해 ARIMA 모형이 잘 fit하는지 시각화해보겠습니다."
      ],
      "metadata": {
        "id": "77AmMK-rG0lP"
      }
    },
    {
      "cell_type": "code",
      "source": [
        "fitted_m.plot_predict()\n",
        "plt.show()"
      ],
      "metadata": {
        "id": "7ncZF2ALG1Ym"
      },
      "execution_count": null,
      "outputs": []
    },
    {
      "cell_type": "markdown",
      "source": [
        "`forecast()`를 이용해 테스트 데이터 구간의 데이터를 예측해 하고, RMSE를 구해 봅니다."
      ],
      "metadata": {
        "id": "aO4UT4CsG2yo"
      }
    },
    {
      "cell_type": "code",
      "source": [
        "fc, se, conf = fitted_m.forecast(len(op_rate_test), alpha=0.05)  # 95% conf\n",
        "\n",
        "arima_rmse = np.sqrt(sklearn.metrics.mean_squared_error(op_rate_test, fc))\n",
        "print(f'Test RMSE: {arima_rmse}\\n')\n",
        "\n",
        "# Make as pandas series\n",
        "fc_series = pd.Series(fc, index=op_rate_test.index)   # 예측결과\n",
        "\n",
        "\n",
        "# Plot\n",
        "fig, ax = plt.subplots(nrows=1, ncols=1, figsize=(12, 8))\n",
        "\n",
        "plt.plot(op_rate_train, alpha=0.5, color='black', label='training')\n",
        "plt.plot(op_rate_test, alpha=0.5, color='red', label='actual operation rate')\n",
        "plt.plot(fc_series, alpha=0.5, color='blue', label='predicted operation rate')\n",
        "plt.legend()\n",
        "\n",
        "plt.xticks(rotation=45)\n",
        "loc = plticker.MultipleLocator(base=30.0) \n",
        "ax.xaxis.set_major_locator(loc)\n",
        "\n",
        "plt.show()"
      ],
      "metadata": {
        "id": "_cP9dcFSG4A4"
      },
      "execution_count": null,
      "outputs": []
    },
    {
      "cell_type": "markdown",
      "source": [
        "지금까지 ARIMA 모형을 적합해 차량 수요 예측을 해 보았어요. 그런데 ARIMA 모형을 통해 차량 수요 예측이 잘 되었다고 할 수 있을까요?\n",
        "\n",
        "다음 스텝에서는 SARIMA 모형에 대해 배워볼 것입니다. 또한 계절성을 제거하기 전의 데이터를 가지고 SARIMA 모형을 적합한 뒤, 차량 수요 예측을 수행하여 ARIMA 모형의 예측 정확도와 비교해 보겠습니다."
      ],
      "metadata": {
        "id": "tEX_gfOyG5tI"
      }
    },
    {
      "cell_type": "markdown",
      "source": [
        "## 2-4. SARIMA 모형을 활용한 차량 수요 예측\n",
        "\n",
        "이번에는 SARIMA 모형을 사용해 차량 수요 예측을 하려고 합니다. 이전 스텝에서 계절성과 정상성을 점검하고, 차분과 로그 변환을 했기 때문에 모형 판별과 적합을 한 뒤 모형이 적절했는지 점검하는 과정을 진행할 것입니다. ARIMA 모형과는 달리 SARIMA 모형에서는 `auto_arima()`를 사용해 AIC를 최소로 하는 모델을 자동으로 찾을 거에요.\n",
        "\n",
        "### SARIMA 모형\n",
        "\n",
        "___\n",
        "\n",
        "**SARIMA** (Seasonal Autoregressive Integrated Moving Average) 모형은 **ARIMA 모형(p, d, q)에 계절적 주기 S(Seasonal)를 기준으로 하는 AR, I, MA를 추가해 예측** 하는 모형이에요. 일종의 이중적인 ARIMA 모형인 셈이죠. 계절적 주기가 들어갔기 때문에 계절성 ARIMA 모형이라고 부르기도 해요. 참고로 ARIMA(p, d, q)와 SARIMA(p, d, q)(0, 1, 0, 0)은 동일한 모형이에요.\n",
        "\n",
        "**계절성은 특정 패턴이 주기적** 으로 나타나요. 이 주기적인 특성을 AR 모형이나 MA 모형만을 사용해 나타내는 것은 어렵지만, SARIMA 모형을 사용하면 쉽게 다룰 수 있어요. SARIMA 모형의 일반적인 모형은 아래와 같아요. 표현되는 항의 수가 많아서 후방이동 연산자 B(Backshift Operator)를 활용해서 간단히 표현해요.\n",
        "\n",
        "$$\n",
        "ΦP(B^S)ϕ_p(B)(1−B^S)^D(1−B)^dy_t=ΘQ(B^S)θ_q(B)a_t\n",
        "$$\n",
        "\n",
        ">참고로 후방이동 연산자는 시계열 시차를 다룰 때 유용한 표기법이고, 아래와 같아요.\n",
        "$$\n",
        "By_t = y_{t-1}\n",
        "$$\n",
        "$yt$에 작용하는 후방이동 연산자 B는 데이터를 한 시점 뒤로 옮겨줘요. 예를 들어 월별 데이터에서 '지난해 같은 달'을 표현하고 싶으면,\n",
        "$B^{12}y_t = y_{t-12}$로 표기해요. 또한 d차 차분은 $(1-B)^dy_t$로 표기합니다.\n",
        ">\n",
        "위 모형은 SARIMA(p, d, q)(P, D, Q, S)이며, 비계절성 부분 (p, d, q)와 계절성 부분 (P, D, Q, S)로 구분할 수 있어요. 여기서 p는 비계절성 AR 모형 차수, d는 비계절성 차분 횟수, q는 비계절성 MA 모형 차수, P는 계절성 AR 모형 차수, D는 계절성 차분 횟수, Q는 계절성 MA 모형 차수, S는 주기의 길이를 의미해요. 식에서 보듯 추자적인 계절성 항을 비계절성 항에 곱해주는 거에요.\n",
        "\n",
        "예를 들어 설명해 볼게요. SARIMA(1,0,0)(1,0,0,12)의 경우, 각 달은 한 달 전의 값과 12달 전의 값에 영향을 받는다고 생각할 수 있어요. 2021년 9월의 값은 2021년 8월의 값과 2020년 9월의 값의 선형 회귀라고 볼 수 있어요.\n",
        "\n",
        "$$\n",
        "2021년 9월의 값 = (2021년 8월의 값) * 계수1 + (2020년 9월의 값) * 계수2 + 오차항\n",
        "$$\n",
        "\n",
        "위와 같이 식을 세우고 계수1과 계수2를 추정해 나가면서 AIC 등의 적합도와 예측능력을 통해서 모델의 형태를 바꿔나갈 수 있어요.\n",
        "\n",
        "SARIMA 모형을 선택하는 기준은 AIC 등의 적합도와 모형 복잡도 패널티를 종합해 선택하거나 검증 데이터에 대해 모형의 예측 능력을 결정해요.\n",
        "\n",
        "### 모델 판별 및 적합\n",
        "\n",
        "___\n",
        "\n",
        "이제부터 `auto_arima()`를 이용해 **Multiplicative SARIMA 모형** 을 적합해 봅시다. `auto_arima()`는 AIC를 최소로 하는 모델을 자동으로 찾아줘요. 참고로 AIC(Akaike Information Criterion)는 주어진 데이터셋에 대한 통계 모델의 상대적인 품질을 평가하는데, AIC 값이 낮을수록 모델의 적합도가 높다는 것을 의미해요. AIC의 공식은 아래와 같아요.\n",
        "\n",
        "$$\n",
        "AIC = -2\\ln(L) + 2k\n",
        "$$\n",
        "\n",
        "$-2\\ln(L)$은 모형의 적합도이고, $L$은 Likelihood function이에요. $k$는 모형의 추정된 파라미터의 개수이며, 모형에 패널티를 주기 위해 사용해요. 어떤 모형이 적합도를 높이려고 불필요한 파라미터를 사용할 수도 있는데, 이를 상쇄시키려고 불필요한 파라미터가 증가할수록 $2k$만큼의 패널티를 주어 모델의 품질을 평가해요.\n",
        "\n",
        "우선 2021년 4월 1일을 기준으로 학습데이터와 테스트 데이터를 나눈 후, `auto_arima()`를 사용해 모형을 결정해봅시다. 우리는 SARIMA 모형을 사용하므로 계절차분을 하지 않은 데이터를 사용한다는 점을 유의하세요.\n",
        "\n",
        "stepwise search를 하는 데에 3~6분 정도 소요된다는 점을 유의하세요!"
      ],
      "metadata": {
        "id": "Sh4GhF8bG9bg"
      }
    },
    {
      "cell_type": "code",
      "source": [
        "model_auto_arima = pm.auto_arima(op_rate_train, seasonal=True, m=7, D=1)\n",
        "print('슝~')"
      ],
      "metadata": {
        "id": "D5gXZNyvG94U"
      },
      "execution_count": null,
      "outputs": []
    },
    {
      "cell_type": "code",
      "source": [
        "print(model_auto_arima)\n",
        "print(model_auto_arima.params())\n",
        "print(model_auto_arima.aic())"
      ],
      "metadata": {
        "id": "f6eylMYnI-KJ"
      },
      "execution_count": null,
      "outputs": []
    },
    {
      "cell_type": "markdown",
      "source": [
        "가장 적절한 모델이 결정되었어요. 모델이 찾아낸 파라미터들이 보이나요?\n",
        "\n",
        "Q3. 가장 적절한 SARIMA 모형은 무엇인가요? 각 파라미터의 의미는 무엇인가요?\n",
        "\n",
        "예시답안\n",
        "\n",
        "ARIMA(p, d, q)(P, D, Q)\\[S\\] = SARIMA(p, d, q)(P, D, Q, S). p는 비계절성 AR 모형 차수, d는 비계절성 차분 횟수, q는 비계절성 MA 모형 차수, P는 계절성 AR 모형 차수, D는 계절성 차분 횟수, Q는 계절성 MA 모형 차수, S는 주기의 길이이다.\n",
        "\n",
        "### 모델 점검\n",
        "\n",
        "___\n",
        "\n",
        "적당한 모델을 찾았으니 모델을 점검해 봅시다. 먼저 예측 결과를 확인해 이상이 있는지 확인해 볼게요. 예측 결과가 특별히 예상되는 범위를 벗어나는지, 혹은 도메인 지식과 어긋나는 패턴을 보이진 않는지 확인해 보세요."
      ],
      "metadata": {
        "id": "fAWEaovVJBPR"
      }
    },
    {
      "cell_type": "code",
      "source": [
        "op_rate_pred, conf_int = model_auto_arima.predict(n_periods=op_rate_test.shape[0], return_conf_int=True)\n",
        "sarima_rmse = np.sqrt(sklearn.metrics.mean_squared_error(op_rate_test, op_rate_pred))\n",
        "print(f'Test RMSE: {sarima_rmse}\\n')\n",
        "\n",
        "fig, ax = plt.subplots(nrows=1, ncols=1, figsize=(12, 8))\n",
        "plt.xticks(rotation=45)\n",
        "loc = plticker.MultipleLocator(base=7.0) \n",
        "ax.xaxis.set_major_locator(loc)\n",
        "\n",
        "plt.plot(op_rate_train[-50:], alpha=0.5, color='black', label='training')\n",
        "plt.plot(op_rate_test, alpha=0.5, color='red', label='actual operation rate')\n",
        "plt.plot(op_rate_test.index.values, op_rate_pred, alpha=0.5, color='blue', label='predicted operation rate')\n",
        "plt.fill_between(op_rate_test.index.values, conf_int[:, 0], conf_int[:, 1], alpha=0.1, color='b') # Confidence Interval\n",
        "plt.legend()\n",
        "plt.show()"
      ],
      "metadata": {
        "id": "a2pA6izvJB7J"
      },
      "execution_count": null,
      "outputs": []
    },
    {
      "cell_type": "markdown",
      "source": [
        "수치와 시각화를 통해 `auto_arima()`를 통해 결정된 SARIMA 모형이 차량 수요 예측을 잘하는지 살펴보았어요. 그래프를 통해 보니 실제값과 예측값이 조금 차이 나는 것 같죠? 이전에 사용했던 ARIMA 모형과 비교해도 예측 정확도가 낮아요.\n",
        "\n",
        "마지막으로 `plot_diagnostics()` 을 이용해 잔차에 대한 검증을 해봅시다. 잔차에 자기상관이 남아있으면 모델이 적절치 않았을 수 있다는 의미입니다. 왜냐하면 애초에 시계열분석이 자기상관성을 파악하기 위한 것이기 때문에, 잔차에 아직 독립성이 결여되어있다면 분석이 덜 된 것으로 볼 수 있기 때문입니다."
      ],
      "metadata": {
        "id": "RfY8WSXlJDNh"
      }
    },
    {
      "cell_type": "code",
      "source": [
        "model_auto_arima.plot_diagnostics(figsize=(10, 10))\n",
        "plt.show()"
      ],
      "metadata": {
        "id": "GhlBk1ISJFGh"
      },
      "execution_count": null,
      "outputs": []
    },
    {
      "cell_type": "markdown",
      "source": [
        "위의 그래프는 아래와 같이 분석할 수 있어요.\n",
        "\n",
        "-   Standardized residual: 일부의 잔차가 이상치로 확인되고 있어요.\n",
        "-   Histogram plus estimated density: 잔차가 정규분포를 따르지 않는 것으로 보여요. KDE라인이 N(0, 1) 라인에 비해 뾰족하죠?\n",
        "-   Normal Q-Q plot: 잔차의 분포(파란 선)가 양 끝에서 정규분포를 크게 벗어나는 잔차가 많기 때문에 정규성을 띠지 않아요. (잔차의 분포가 정규성을 띠는지, 아닌지가 애매하면 shapiro-wilk test같은 정규성 검정을 사용하세요.)\n",
        "-   Correlogram(자기상관도): 잔차의 자기상관성이 관측되지 않으므로 기존의 계절성을 모델이 효과적으로 해결했다고 볼 수 있어요."
      ],
      "metadata": {
        "id": "njDxUY9_JGSI"
      }
    },
    {
      "cell_type": "markdown",
      "source": [
        "## 2-5. 여러 머신러닝 모델을 활용한 차량 수요 예측\n",
        "\n",
        "이번에는 ARIMA 모델의 예측과 정확도를 비교하기 위해 시계열 자료의 패턴을 이용하지 않은 선형 회귀 분석과 회귀계수 축소법을 사용하겠습니다. 선형 회귀 분석은 이전에도 했었죠? 이번에는 RMSE를 사용하여 모형의 성능을 판단해 보려고 해요.\n",
        "\n",
        "회귀계수 축소법은 데이터의 과적합 문제를 해결하기 위한 정규화 방법 중 하나인데요, 여기서는 Ridge와 Lasso를 사용할 예정입니다.\n",
        "\n",
        "### 선형 회귀 분석\n",
        "\n",
        "___\n",
        "\n",
        "먼저 선형 회귀 분석을 해볼게요. 설명 변수로 존 클릭 수, 날씨, 요일을 넣어주고, `target_dates`를 인덱스로 정합니다. 데이터셋을 2021년 4월 21일을 기준으로 학습 데이터와 테스트 데이터로 나눈 후, OLS 선형회귀 검정을 수행해 봅시다."
      ],
      "metadata": {
        "id": "kUosXVeWJMPo"
      }
    },
    {
      "cell_type": "code",
      "source": [
        "# 설명 변수 테이블 설정\n",
        "_x_data = df_raws[['click_d_1', 'click_d_2', 'click_d_3', 'click_d_4', 'click_d_5', 'click_d_6', 'click_d_7', 'is_clean', 'avg_precipitation', 'avg_temperature', 'target_dates']]\n",
        "\n",
        "_x_weekday = pd.get_dummies(df_raws['weekday'], prefix='weekday', drop_first=False)\n",
        "\n",
        "_x_data = pd.concat([_x_data, _x_weekday], axis=1)\n",
        "\n",
        "_x_data.set_index(\"target_dates\", drop=True, inplace=True)\n",
        "_x_data = _x_data.sort_values('target_dates')\n",
        "\n",
        "# 예측 대상 데이터 설정\n",
        "target = df_raws[['op_rate_0d_all_cars', 'target_dates' ]]\n",
        "\n",
        "target.set_index(\"target_dates\", drop=True, inplace=True)\n",
        "target = target.sort_values('target_dates')\n",
        "\n",
        "# Train/Test 데이터셋 나누기\n",
        "_x_data_train = _x_data[_x_data.index<'2021-04-01']\n",
        "_x_data_test = _x_data[_x_data.index>='2021-04-01']\n",
        "target_train = target[target.index<'2021-04-01']\n",
        "target_test = target[target.index>='2021-04-01']\n",
        "\n",
        "# 상수항 추가\n",
        "x_data_train = sm.add_constant(_x_data_train, has_constant='add')\n",
        "x_data_test = sm.add_constant(_x_data_test, has_constant='add')\n",
        "\n",
        "# OLS 선형회귀 검정\n",
        "model = sm.OLS(target_train, x_data_train)\n",
        "model_fit = model.fit()\n",
        "\n",
        "# 결과물 출력\n",
        "print(model_fit.summary())"
      ],
      "metadata": {
        "id": "X38W7otxJH9D"
      },
      "execution_count": null,
      "outputs": []
    },
    {
      "cell_type": "markdown",
      "source": [
        "$R^2=0.769$이므로 존 클릭 수, 날씨, 요일이 약 77% 정도 가동률을 설명하고 있어요. 이제 회귀모델을 평가해보겠습니다."
      ],
      "metadata": {
        "id": "bYCZmhLLJPtY"
      }
    },
    {
      "cell_type": "code",
      "source": [
        "ols_pred_test = model_fit.predict(x_data_test)\n",
        "linreg_rmse = np.sqrt(sklearn.metrics.mean_squared_error(target_test, ols_pred_test))\n",
        "print(f'Test RMSE: {linreg_rmse}')"
      ],
      "metadata": {
        "id": "fVxHZQA3JTUQ"
      },
      "execution_count": null,
      "outputs": []
    },
    {
      "cell_type": "markdown",
      "source": [
        "선형 회귀의 평가는 실제값과 회귀 예측값의 차이를 기반으로 하는데요, 여기서는 RMSE를 사용했어요. RMSE가 0.0234이니 예측값과 실제값의 차이가 크지 않다는 거겠죠?"
      ],
      "metadata": {
        "id": "04yuBEIuJVJ4"
      }
    },
    {
      "cell_type": "code",
      "source": [
        "fig, ax = plt.subplots(nrows=1, ncols=1, figsize=(12, 8))\n",
        "plt.xticks(rotation=45)\n",
        "loc = plticker.MultipleLocator(base=7.0) \n",
        "ax.xaxis.set_major_locator(loc)\n",
        "\n",
        "plt.plot(target_train[-50:], alpha=0.5, color='black', label='training')\n",
        "plt.plot(target_test, alpha=0.5, color='red', label='actual operation rate')\n",
        "plt.plot(target_test.index.values, ols_pred_test, alpha=0.4, color='blue', label='predicted operation rate')\n",
        "plt.legend()\n",
        "\n",
        "plt.show()"
      ],
      "metadata": {
        "id": "-572gPgjJWH4"
      },
      "execution_count": null,
      "outputs": []
    },
    {
      "cell_type": "markdown",
      "source": [
        "시각화를 통해서도 예측값인 파란색 실선과 실제값인 빨간색 실선이 비슷한 패턴으로 변하는 것을 볼 수 있어요.\n",
        "\n",
        "### 정규화 - 회귀계수 축소법\n",
        "\n",
        "___\n",
        "\n",
        "이번에는 Ridge와 Lasso를 이용한 회귀계수 축소 방법을 사용해 봅시다. **회귀계수 축소법** 은 회귀계수를 축소하는 항(패널티)를 추가하는 방법인데요, 회귀계수를 축소하면 과적합(overfitting) 문제를 해결할 수 있고, 잡음(noise)이 제거되어 모형의 정확도가 개선돼요. 중요한 변수만 남기 때문에 모형의 연산 속도도 빨라져요.\n",
        "\n",
        "회귀계수 축소법에는 축소하는 항이 어떤 것인지에 따라 3가지 방법이 있지만 우리는 Ridge와 Lasso를 이용할 거에요. Ridge와 Lasso에 대해 들어본 적이 있나요? L1, L2 정규화는 들어본 적이 있을 겁니다. Ridge와 Lasso는 간단하게 L1, L2 정규화를 선형 회귀 모형에 사용한 거에요. 선형 회귀 모형에 L1 정규화를 하면 Lasso, L2 정규화를 하면 Ridge가 되는 거죠. 참고로 L1, L2 정규화를 모두 적용한 것이 Elastic-Net이에요.\n",
        "\n",
        "Ridge와 Lasso의 식은 아래와 같아요. 식에서 λ가 붙은 부분이 L1, L2 정규화 부분이랍니다. 참고로 λ는 하이퍼파라미터에요. 우리가 앞으로 사용할 라이브러리에서는 λ 대신 α를 하이퍼파라미터로 사용하고 있다는 점을 유의하세요."
      ],
      "metadata": {
        "id": "dDiUrVGTJZfA"
      }
    },
    {
      "cell_type": "markdown",
      "source": [
        "![image.png](data:image/png;base64,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)"
      ],
      "metadata": {
        "id": "I6QmQQK1JnJS"
      }
    },
    {
      "cell_type": "markdown",
      "source": [
        "회귀계수 축소법에 대해 자세히 알고 싶다면 아래의 자료를 참고하세요.\n",
        "\n",
        "-   [회귀계수 축소법 - Lasso, Ridge, Elastic-Net 개념](https://todayisbetterthanyesterday.tistory.com/12)\n",
        "\n",
        "**Ridge**  \n",
        "먼저 가장 적당한 alpha 값(λ)을 구해 볼게요."
      ],
      "metadata": {
        "id": "RKGuXie5Jvh5"
      }
    },
    {
      "cell_type": "code",
      "source": [
        "x_train = _x_data_train\n",
        "x_test = _x_data_test\n",
        "y_train = target_train\n",
        "y_test = target_test\n",
        "\n",
        "print(\"슝~\")"
      ],
      "metadata": {
        "id": "mZwznsENJmtC"
      },
      "execution_count": null,
      "outputs": []
    },
    {
      "cell_type": "code",
      "source": [
        "alpha_values = [0.0001, 0.0005, 0.001, 0.002, 0.003, 0.004, 0.005, 0.01, 0.05, 0.1, 0.2, 0.3, 0.4, 0.5, 0.6, 0.7, 0.8, 0.9, 1]\n",
        "ridge_op_rate_cv = RidgeCV(alphas=alpha_values, cv=5).fit(x_train, y_train.values.ravel())\n",
        "\n",
        "print(ridge_op_rate_cv.alpha_)"
      ],
      "metadata": {
        "id": "wFgDepKlJyex"
      },
      "execution_count": null,
      "outputs": []
    },
    {
      "cell_type": "markdown",
      "source": [
        "가장 적당한 alpha 값이 1.0으로 나오네요. (참고로, 가장 적당한 alpha 값은 변동될 수 있어요.) 이제 모델 훈련과 예측을 하여 RMSE를 구해 봅시다."
      ],
      "metadata": {
        "id": "mybrZPNqJz1Y"
      }
    },
    {
      "cell_type": "code",
      "source": [
        "ridge_op_rate = Ridge(alpha=1).fit(x_train, y_train)\n",
        "y_pred_ridge = ridge_op_rate.predict(x_test)\n",
        "ridge_rmse = np.sqrt(sklearn.metrics.mean_squared_error(y_test, y_pred_ridge))\n",
        "print(f'Test RMSE: {ridge_rmse: .5f}')"
      ],
      "metadata": {
        "id": "gHTCO0CvJ0nw"
      },
      "execution_count": null,
      "outputs": []
    },
    {
      "cell_type": "markdown",
      "source": [
        "Ridge를 이용해도 RMSE의 값이 기본 선형회귀 분석과 별 차이가 안 나네요. 시각화를 해서 예측을 잘 하고 있는지 확인해 봅시다."
      ],
      "metadata": {
        "id": "_oc3tkf6J19B"
      }
    },
    {
      "cell_type": "code",
      "source": [
        "fig, ax = plt.subplots(nrows=1, ncols=1, figsize=(12, 8))\n",
        "plt.xticks(rotation=45)\n",
        "loc = plticker.MultipleLocator(base=7.0) \n",
        "ax.xaxis.set_major_locator(loc)\n",
        "\n",
        "plt.plot(target_train[-50:], alpha=0.5, color='black', label='training')\n",
        "plt.plot(target_test, alpha=0.5, color='red', label='actual operation rate')\n",
        "plt.plot(target_test.index.values, y_pred_ridge, alpha=0.4, color='blue', label='predicted operation rate')\n",
        "plt.legend()\n",
        "\n",
        "plt.show()"
      ],
      "metadata": {
        "id": "iK-R6g1PJ3j4"
      },
      "execution_count": null,
      "outputs": []
    },
    {
      "cell_type": "markdown",
      "source": [
        "어떤가요? 이제 Lasso에 대해서 동일한 과정을 적용해 봅시다.\n",
        "\n",
        "**Lasso**"
      ],
      "metadata": {
        "id": "MeJ5SLeOJ4MJ"
      }
    },
    {
      "cell_type": "code",
      "source": [
        "alpha_values = [0.0001, 0.0005, 0.001, 0.002, 0.003, 0.004, 0.005, 0.01, 0.05, 0.1, 0.2, 0.3, 0.4, 0.5, 0.6, 0.7, 0.8, 0.9, 1]\n",
        "lasso_op_rate_cv = LassoCV(alphas=alpha_values, cv=5).fit(x_train, y_train)\n",
        "print(lasso_op_rate_cv.alpha_)"
      ],
      "metadata": {
        "id": "_mSvvpSsJ6Pq"
      },
      "execution_count": null,
      "outputs": []
    },
    {
      "cell_type": "code",
      "source": [
        "lasso_op_rate = Lasso(alpha=0.0005).fit(x_train, y_train)\n",
        "y_pred_lasso = lasso_op_rate.predict(x_test)\n",
        "lasso_rmse = np.sqrt(sklearn.metrics.mean_squared_error(y_test, y_pred_lasso))\n",
        "print(f'Test RMSE: {lasso_rmse}')"
      ],
      "metadata": {
        "id": "T7UFeqWUJ7RB"
      },
      "execution_count": null,
      "outputs": []
    },
    {
      "cell_type": "markdown",
      "source": [
        "가장 적절한 alpha 값은 0.0001이고, RMSE는 기본선형회귀분석이나 Ridge보다 조금 높아요. 시각화를 해 봅시다."
      ],
      "metadata": {
        "id": "L46c1v8FJ8k5"
      }
    },
    {
      "cell_type": "code",
      "source": [
        "fig, ax = plt.subplots(nrows=1, ncols=1, figsize=(12, 8))\n",
        "plt.xticks(rotation=45)\n",
        "loc = plticker.MultipleLocator(base=7.0) \n",
        "ax.xaxis.set_major_locator(loc)\n",
        "\n",
        "\n",
        "plt.plot(target_train[-50:], alpha=0.5, color='black', label='training')\n",
        "plt.plot(target_test, alpha=0.5, color='red', label='actual operation rate')\n",
        "plt.plot(target_test.index.values, y_pred_lasso, alpha=0.4, color='blue', label='predicted operation rate')\n",
        "plt.legend()\n",
        "\n",
        "plt.show()"
      ],
      "metadata": {
        "id": "bn2ebRFUJ9wR"
      },
      "execution_count": null,
      "outputs": []
    },
    {
      "cell_type": "markdown",
      "source": [
        "선형 회귀에서 파생된 모델의 경우, feature의 개수가 그렇게 많지 않았기 때문에 정규화가 큰 효과를 발휘하지 못했음을 확인할 수 있었어요."
      ],
      "metadata": {
        "id": "3wWeUaaJJ_BD"
      }
    },
    {
      "cell_type": "markdown",
      "source": [
        "## 2-6. 수요 예측 모델의 성능 개선\n",
        "\n",
        "이번 스텝에서는 데이터 정제를 통해 성능을 개선해보려고 해요. 보통 데이터 정제는 EDA 과정에서 하지만 성능 개선을 위해 데이터 정제를 하는 이유는 데이터 정제를 통한 모델링의 효과를 보기 위해서에요. 데이터 정제를 통해 얼마나 성능이 개선되는지 확인해 봅시다.\n",
        "\n",
        "데이터 정제 방법에는 여러 가지가 있지만 이번에는 간단히 **이상치(outliers) 제거** 를 해보겠습니다.\n",
        "\n",
        "### 이상치 확인\n",
        "\n",
        "___\n",
        "\n",
        "이상치는 대부분의 값의 범위에서 벗어나 극단적으로 작거나 큰 값이에요. 이상치는 빈도는 작지만 영향력이 크기 때문에 데이터에 이상치가 있으면 정확한 분석을 하기 어려워요. 먼저 산점도와 박스 플롯을 그려 이상치가 존재하는지를 확인해 봅시다.\n",
        "\n",
        "**산점도**\n",
        "\n",
        "산점도에는 어떤 패턴이 있는데, 그 패턴에서 벗어나는 값을 이상치라고 할 수 있어요. 아래의 산점도에서 특정 패턴을 벗어난 이상치가 있는지 살펴 봅시다. 먼저 `df_raws` 데이터에서 필요 없는 컬럼을 제거하고, 산점도를 그립니다."
      ],
      "metadata": {
        "id": "FzKncz0AKBbR"
      }
    },
    {
      "cell_type": "code",
      "source": [
        "columns = df_raws.columns.tolist()\n",
        "columns.remove('target_dates')\n",
        "columns.remove('op_rate_0d_all_cars')\n",
        "columns.remove('op_rate_0d_major_cars')\n",
        "columns.remove('op_rate_1d_major_cars')\n",
        "columns.remove('op_rate_2d_major_cars')\n",
        "columns.remove('op_rate_3d_major_cars')\n",
        "columns.remove('op_rate_4d_major_cars')\n",
        "columns.remove('op_rate_5d_major_cars')\n",
        "columns.remove('op_rate_6d_major_cars')\n",
        "columns.remove('op_rate_7d_major_cars')\n",
        "\n",
        "fig, axs = plt.subplots(nrows=12, ncols=2, figsize=(10, 70))\n",
        "\n",
        "for i, temp_column in enumerate(columns):\n",
        "    row = i // 2\n",
        "    col = i % 2\n",
        "    sns.scatterplot(\n",
        "        ax=axs[row, col],\n",
        "        data=df_raws,\n",
        "        x='op_rate_0d_all_cars',\n",
        "        y=f'{temp_column}',\t\n",
        "    ).set_title(f'{temp_column}', fontsize=10)\n",
        "\n",
        "plt.show()"
      ],
      "metadata": {
        "id": "6HV5Vm-MKEAI"
      },
      "execution_count": null,
      "outputs": []
    },
    {
      "cell_type": "markdown",
      "source": [
        "**박스플롯**\n",
        "\n",
        "이번에는 박스플롯을 그려서 이상치가 존재하는지 확인해 보죠. 아래의 그림에서처럼 수염(whiskers)보다 바깥쪽에 존재하는 데이터가 이상치에요.\n",
        "\n",
        "![content img](https://d3s0tskafalll9.cloudfront.net/media/images/outliers.max-800x600.png)\n",
        "\n",
        "\\[박스플롯과 이상치\\]\n",
        "\n",
        "[https://towardsdatascience.com/understanding-boxplots-5e2df7bcbd51](https://towardsdatascience.com/understanding-boxplots-5e2df7bcbd51)"
      ],
      "metadata": {
        "id": "I7plqDBIKG3o"
      }
    },
    {
      "cell_type": "code",
      "source": [
        "fig, axs = plt.subplots(nrows=12, ncols=2, figsize=(10, 70))\n",
        "\n",
        "for i, temp_column in enumerate(columns):\n",
        "    row = i // 2\n",
        "    col = i % 2\n",
        "    sns.boxplot(\n",
        "        ax=axs[row, col],\n",
        "        data=df_raws[f'{temp_column}']\t\n",
        "    ).set_title(f'{temp_column}', fontsize=10)\n",
        "\n",
        "plt.show()"
      ],
      "metadata": {
        "id": "v62leTo_KIIP"
      },
      "execution_count": null,
      "outputs": []
    },
    {
      "cell_type": "markdown",
      "source": [
        "n일 전 사전 가동률과 n일 전 클릭 수, 평균 강수량 등에서 이상치를 발견할 수 있어요.\n",
        "\n",
        "#### 이상치 제거\n",
        "\n",
        "___\n",
        "\n",
        "이제 발견한 이상치를 없애면 될까요? 이상치를 무조건 제거하기 보다 이상치가 어떤 값인지 먼저 살펴보아야 해요. 오타나 오류라면 제거해도 되지만 데이터가 작거나 이상치가 중요한 값인 경우에는 평균, 중앙값 등으로 치환하거나 이상치를 따로 분리를 해서 분석하는 등 다른 방법을 생각해 봐야 해요.\n",
        "\n",
        "하지만 여기서는 간단히 이상치를 제거하는 방법을 사용해 보려고 해요. 이상치 제거 함수를 만들어서 이상치를 제거해 봅시다. 사분위범위수(IQR, Interquartile range)를 이용해 이상치 제거 함수를 만들 수 있어요."
      ],
      "metadata": {
        "id": "Y0CYA949KJxI"
      }
    },
    {
      "cell_type": "code",
      "source": [
        "df_clean = df_raws.copy()\n",
        "\n",
        "# 이상치 제거 함수\n",
        "def get_outlier(df=None, column=None, weight=1.5):\n",
        "  # target 값과 상관관계가 높은 열을 우선적으로 진행\n",
        "  quantile_25 = np.percentile(df[column].values, 25)\n",
        "  quantile_75 = np.percentile(df[column].values, 75)\n",
        "\n",
        "  IQR = quantile_75 - quantile_25\n",
        "  IQR_weight = IQR * weight\n",
        "  \n",
        "  lowest = quantile_25 - IQR_weight\n",
        "  highest = quantile_75 + IQR_weight\n",
        "  \n",
        "  outlier_idx = df[column][(df[column]<lowest) | (df[column]>highest)].index\n",
        "  return outlier_idx\n",
        "\n",
        "print(\"쓩~\")"
      ],
      "metadata": {
        "id": "_QvrGgpwKK3A"
      },
      "execution_count": null,
      "outputs": []
    },
    {
      "cell_type": "code",
      "source": [
        "outlier_idx_click_d_1 = get_outlier(df=df_clean, column='click_d_1', weight=1.5).tolist()\n",
        "outlier_idx_click_d_2 = get_outlier(df=df_clean, column='click_d_2', weight=1.5).tolist()\n",
        "outlier_idx_click_d_3 = get_outlier(df=df_clean, column='click_d_3', weight=1.5).tolist()\n",
        "outlier_idx_click_d_4 = get_outlier(df=df_clean, column='click_d_4', weight=1.5).tolist()\n",
        "outlier_idx_click_d_5 = get_outlier(df=df_clean, column='click_d_5', weight=1.5).tolist()\n",
        "outlier_idx_click_d_6 = get_outlier(df=df_clean, column='click_d_6', weight=1.5).tolist()\n",
        "outlier_idx_click_d_7 = get_outlier(df=df_clean, column='click_d_7', weight=1.5).tolist()\n",
        "outlier_idx_avg_precipitation = get_outlier(df=df_clean, column='avg_precipitation', weight=1.5).tolist()\n",
        "\n",
        "print(\"쓩~\")"
      ],
      "metadata": {
        "id": "6qR5incVKMDB"
      },
      "execution_count": null,
      "outputs": []
    },
    {
      "cell_type": "markdown",
      "source": [
        "설명 변수 컬럼의 이상치의 인덱스를 합치고, 중복된 인덱스를 제거해 이상치가 총 몇 개가 있는지 살펴봅시다."
      ],
      "metadata": {
        "id": "mpgqbVKPKNzo"
      }
    },
    {
      "cell_type": "code",
      "source": [
        "# 각 컬럼 outlier index 합치기\n",
        "outlier_idx = outlier_idx_click_d_1 + outlier_idx_click_d_2 + outlier_idx_click_d_3 + outlier_idx_click_d_4 + outlier_idx_click_d_5 + outlier_idx_click_d_6 + outlier_idx_click_d_7 + outlier_idx_avg_precipitation \n",
        "\n",
        "\n",
        "# outlier index 중복 제거\n",
        "outlier_idx_set = set(outlier_idx)\n",
        "outlier_idx = list(outlier_idx_set)\n",
        "\n",
        "len(outlier_idx)"
      ],
      "metadata": {
        "id": "Oh3WP5cDKOyY"
      },
      "execution_count": null,
      "outputs": []
    },
    {
      "cell_type": "markdown",
      "source": [
        "이상치 제거 후와 비교하기 위해서 제거 전의 정보를 확인해 볼게요."
      ],
      "metadata": {
        "id": "HGQB1Nh1KP6p"
      }
    },
    {
      "cell_type": "code",
      "source": [
        "df_clean.info()"
      ],
      "metadata": {
        "id": "-IZNjfRTKQ76"
      },
      "execution_count": null,
      "outputs": []
    },
    {
      "cell_type": "code",
      "source": [
        "df_clean.head(10)"
      ],
      "metadata": {
        "id": "cUyz_04AKR7h"
      },
      "execution_count": null,
      "outputs": []
    },
    {
      "cell_type": "markdown",
      "source": [
        "준비가 끝났으니 이제 이상치를 제거하고, 데이터를 다시 확인해 보죠."
      ],
      "metadata": {
        "id": "3TsXgCYvKTXy"
      }
    },
    {
      "cell_type": "code",
      "source": [
        "df_clean.drop(outlier_idx, axis=0, inplace=True)\n",
        "\n",
        "df_clean.info()"
      ],
      "metadata": {
        "id": "csX5w4s5KUZx"
      },
      "execution_count": null,
      "outputs": []
    },
    {
      "cell_type": "code",
      "source": [
        "df_clean.head(10)"
      ],
      "metadata": {
        "id": "kxH4FnsLKVjJ"
      },
      "execution_count": null,
      "outputs": []
    },
    {
      "cell_type": "markdown",
      "source": [
        "### 정제된 데이터로 재 모델링 해 보기\n",
        "\n",
        "___\n",
        "\n",
        "이상치를 제거하여 정제된 데이터로 재모델링해 봅시다. 이전과 같이 선형회귀와 Ridge/Lasso를 이용한 계수축소법을 사용할 거에요.\n",
        "\n",
        "**선형회귀**"
      ],
      "metadata": {
        "id": "QC7yBVVDKXRi"
      }
    },
    {
      "cell_type": "code",
      "source": [
        "# 설명 변수 테이블 설정\n",
        "_x_data_clean = df_clean[['click_d_1', 'click_d_2', 'click_d_3', 'click_d_4', 'click_d_5', 'click_d_6', 'click_d_7', 'is_clean', 'avg_precipitation', 'avg_temperature', 'target_dates']]\n",
        "\n",
        "_x_weekday_clean = pd.get_dummies(df_clean['weekday'], prefix='weekday', drop_first=False)\n",
        "\n",
        "_x_data_clean = pd.concat([_x_data_clean, _x_weekday_clean], axis=1)\n",
        "\n",
        "_x_data_clean.set_index(\"target_dates\", drop=True, inplace=True)\n",
        "_x_data_clean = _x_data_clean.sort_values('target_dates')\n",
        "\n",
        "# 예측 대상 데이터 설정\n",
        "target_clean = df_clean[['op_rate_0d_all_cars', 'target_dates']]\n",
        "\n",
        "target_clean.set_index(\"target_dates\", drop=True, inplace=True)\n",
        "target_clean = target_clean.sort_values('target_dates')\n",
        "\n",
        "# Train/Test 데이터셋 나누기\n",
        "_x_data_train_clean = _x_data_clean[_x_data_clean.index<'2021-04-01']\n",
        "_x_data_test_clean = _x_data_clean[_x_data_clean.index>='2021-04-01']\n",
        "target_train_clean = target_clean[target_clean.index<'2021-04-01']\n",
        "target_test_clean = target_clean[target_clean.index>='2021-04-01']\n",
        "\n",
        "# 상수항 추가\n",
        "x_data_train_clean = sm.add_constant(_x_data_train_clean, has_constant='add')\n",
        "x_data_test_clean = sm.add_constant(_x_data_test_clean, has_constant='add')\n",
        "\n",
        "# OLS 선형회귀 검정\n",
        "model_clean = sm.OLS(target_train_clean, x_data_train_clean)\n",
        "model_clean_fit = model_clean.fit()\n",
        "\n",
        "# 결과물 출력\n",
        "print(model_clean_fit.summary())"
      ],
      "metadata": {
        "id": "gdSw8g5IKYOx"
      },
      "execution_count": null,
      "outputs": []
    },
    {
      "cell_type": "code",
      "source": [
        "ols_pred_test_clean = model_clean_fit.predict(x_data_test_clean)\n",
        "linreg_rmse_cleaned = np.sqrt(sklearn.metrics.mean_squared_error(target_test_clean, ols_pred_test_clean))\n",
        "  \n",
        "print(f'.    Test RMSE: {linreg_rmse_cleaned: .5f}')\n",
        "print(f'cf ) Test RMSE( non_clean ): {linreg_rmse: .5f}')"
      ],
      "metadata": {
        "id": "SgfPAXgAKZPz"
      },
      "execution_count": null,
      "outputs": []
    },
    {
      "cell_type": "code",
      "source": [
        "fig, ax = plt.subplots(nrows=1, ncols=1, figsize=(12, 8))\n",
        "plt.xticks(rotation=45)\n",
        "loc = plticker.MultipleLocator(base=7.0) \n",
        "ax.xaxis.set_major_locator(loc)\n",
        "\n",
        "plt.plot(target_train_clean[-50:], alpha=0.5, color='black', label='training')\n",
        "plt.plot(target_test_clean, alpha=0.5, color='red', label='actual operation rate')\n",
        "plt.plot(target_test_clean.index.values, ols_pred_test_clean, alpha=0.4, color='blue', label='predicted operation rate')\n",
        "plt.legend()\n",
        "\n",
        "plt.show()"
      ],
      "metadata": {
        "id": "Fda3iiFjKaAa"
      },
      "execution_count": null,
      "outputs": []
    },
    {
      "cell_type": "markdown",
      "source": [
        "### Ridge"
      ],
      "metadata": {
        "id": "6SM-WfRxKawS"
      }
    },
    {
      "cell_type": "code",
      "source": [
        "x_train = _x_data_train_clean\n",
        "x_test = _x_data_test_clean\n",
        "y_train = target_train_clean\n",
        "y_test = target_test_clean\n",
        "\n",
        "alpha_values_clean = [0.0001, 0.0005, 0.001, 0.002, 0.003, 0.004, 0.005, 0.01, 0.05, 0.1, 0.2, 0.3, 0.4, 0.5, 0.6, 0.7, 0.8, 0.9, 1]\n",
        "ridge_op_rate_cv_clean = RidgeCV(alphas=alpha_values_clean, cv=5).fit(x_train, y_train.values.ravel())\n",
        "\n",
        "print(ridge_op_rate_cv_clean.alpha_)"
      ],
      "metadata": {
        "id": "W9uWhcdcKflh"
      },
      "execution_count": null,
      "outputs": []
    },
    {
      "cell_type": "code",
      "source": [
        "ridge_op_rate = Ridge(alpha=1).fit(x_train, y_train)\n",
        "y_pred_ridge = ridge_op_rate.predict(x_test)\n",
        "ridge_rmse_cleaned = np.sqrt(sklearn.metrics.mean_squared_error(y_test, y_pred_ridge))\n",
        "print(f'.    Test RMSE_cleaned:      {ridge_rmse_cleaned: .5f}')\n",
        "print(f'cf ) Test RMSE( non_clean ): {ridge_rmse: .5f}\\n\\n')\n",
        "\n",
        "fig, ax = plt.subplots(nrows=1, ncols=1, figsize=(12, 8))\n",
        "plt.xticks(rotation=45)\n",
        "loc = plticker.MultipleLocator(base=7.0) \n",
        "ax.xaxis.set_major_locator(loc)\n",
        "\n",
        "\n",
        "plt.plot(target_train_clean[-50:], alpha=0.5, color='black', label='training')\n",
        "plt.plot(target_test_clean, alpha=0.5, color='red', label='actual operation rate')\n",
        "plt.plot(target_test_clean.index.values, y_pred_ridge, alpha=0.4, color='blue', label='predicted operation rate')\n",
        "plt.legend()\n",
        "\n",
        "plt.show()"
      ],
      "metadata": {
        "id": "II9GfJryKidZ"
      },
      "execution_count": null,
      "outputs": []
    },
    {
      "cell_type": "markdown",
      "source": [
        "### Lasso"
      ],
      "metadata": {
        "id": "8Cho29LGKjGh"
      }
    },
    {
      "cell_type": "code",
      "source": [
        "alpha_values = [0.0001, 0.0005, 0.001, 0.002, 0.003, 0.004, 0.005, 0.01, 0.05, 0.1, 0.2, 0.3, 0.4, 0.5, 0.6, 0.7, 0.8, 0.9, 1]\n",
        "lasso_op_rate_cv = LassoCV(alphas=alpha_values, cv=5).fit(x_train, y_train.values.ravel())\n",
        "\n",
        "print(lasso_op_rate_cv.alpha_)"
      ],
      "metadata": {
        "id": "7ZHSOwXXKkE0"
      },
      "execution_count": null,
      "outputs": []
    },
    {
      "cell_type": "code",
      "source": [
        "lasso_op_rate = Lasso(alpha=0.0005).fit(x_train, y_train)\n",
        "y_pred_lasso = lasso_op_rate.predict(x_test)\n",
        "lasso_rmse_cleaned = np.sqrt(sklearn.metrics.mean_squared_error(y_test, y_pred_lasso))\n",
        "print(f'     Test RMSE:              {lasso_rmse_cleaned: .5f}')\n",
        "print(f'cf ) Test RMSE( non_clean ): {lasso_rmse: .5f}\\n\\n')\n",
        "\n",
        "fig, ax = plt.subplots(nrows=1, ncols=1, figsize=(12, 8))\n",
        "plt.xticks(rotation=45)\n",
        "loc = plticker.MultipleLocator(base=7.0) \n",
        "ax.xaxis.set_major_locator(loc)\n",
        "\n",
        "plt.plot(target_train_clean[-50:], alpha=0.5, color='black', label='training')\n",
        "plt.plot(target_test_clean, alpha=0.5, color='red', label='actual operation rate')\n",
        "plt.plot(target_test_clean.index.values, y_pred_lasso, alpha=0.4, color='blue', label='predicted operation rate')\n",
        "plt.legend()\n",
        "\n",
        "plt.show()"
      ],
      "metadata": {
        "id": "5y-c_MnXKl9J"
      },
      "execution_count": null,
      "outputs": []
    },
    {
      "cell_type": "markdown",
      "source": [
        "Q4. 데이터 정제 전과 정제 후의 모델링의 결과를 비교해 보세요.\n",
        "\n",
        "예시답안\n",
        "\n",
        "이상치 제거를 통한 데이터 정제 후의 모든 회귀 모형의 RMSE의 값이 감소하는 것으로 보아 데이터 정제 후 성능이 개선되었음을 알 수 있다.\n",
        "\n",
        "이상치를 제거하고 모델링을 하면 성능(RMSE 등) 개선 효과는 있어요. 하지만 우리가 다루고 있는 시계열 데이터에서는 빈틈이 생기면 안 되기 때문에 선형 보간법 등으로 해당 이상치를 다른 값으로 대체해 주는 것이 좋아요. 위와 같이 이상치를 제거하고 시계열 데이터를 다룬다면 소용이 없답니다. 그렇다면 어떤 방법을 써야 좋은 결과를 얻을 수 있을까요? 다음 장에서 알아 봅시다."
      ],
      "metadata": {
        "id": "Dw3yPeEDKoqM"
      }
    },
    {
      "cell_type": "markdown",
      "source": [
        "## 2-7. 동적 회귀 모형의 이해\n",
        "\n",
        "시계열 모형에는 시계열의 이전 관측값에서 얻은 정보는 들어가지만, 존 클릭 수, 날씨, 요일 등의 외부 변수들은 들어가지 않아요. 하지만 때로는 과거의 변동을 더 잘 설명할 수 있는 외부 변수가 더 정확하게 예측할 수도 있어요. 반대로 회귀 모형은 예측 변수(predictor variable)와 관련된 정보를 포함하지만 시계열을 다루기 어려워요.\n",
        "\n",
        "'만약 시계열 데이터와 외부 변수를 모두 다룰 수 있다면 더 정확하게 예측할 수 있지 않을까?'라는 아이디어에서 만들어진 것이 **동적 회귀 모형(Regression with ARIMA error/Dynamic Regression Model)** 이에요. 쉽게 말하면 오차항에 ARIMA 구조를 가정한 모형이죠. 오차에 자기상관 구조가 존재하는 경우에 사용할 수 있어요.\n",
        "\n",
        "회귀 모형의 식이 아래와 같다고 해보죠. $y_t$는 $k$ 예측변수 $(x_{1,t},...,x_{k,t})$의 선형 함수이고, $e_t$는 상관관계가 없는 오차항(백색잡음)이에요.\n",
        "\n",
        "$$\n",
        "y_t = β_0+β_1x_{1,t}+⋯+β_kx_{k,t}+ϵ_t\n",
        "$$\n",
        "\n",
        "동적 회귀 모형은 자기상관을 넣기 위해 회귀 모형에 $ϵ_t$ 대신 $η_t$을 넣어주고, $η_t$이 ARIMA 모형을 따른다고 가정해요. 만약 $η_t$가 ARIMA(1,1,1) 모형을 따르면 동적 회귀 모형은 아래와 같이 쓸 수 있어요. 참고로 아래의 식에서 $ϵ_t$는 백색잡음 시계열이에요.\n",
        "\n",
        "$$\n",
        "y_t=β_0+β_1x_{1,t}+⋯+β_kx_{k,t}+η_t\n",
        "$$\n",
        "\n",
        "$$\n",
        "(1−ϕ_1B)(1−B)η_t=(1+θ_1B)ϵ_t\n",
        "$$\n",
        "\n",
        "동적 회귀 모형에는 두 개의 오차항, 즉 회귀 모형에서 온 오차$(η_t)$와 ARIMA 모형에서 온 오차$(ϵ_t)$가 있고, ARIMA 모형 오차만 백색잡음이랍니다.\n",
        "\n",
        "-   [Chapter 9 동적 회귀 모델](https://otexts.com/fppkr/dynamic.html)\n",
        "\n",
        "### SARIMAX\n",
        "\n",
        "이제부터 동적 회귀 모형을 사용해 봅시다. `stats.model`의 SARIMAX를 사용할 것인데요, SARIMAX에서 X는 외부 변수인 eXogeneous를 의미해요. 즉 SARIMAX는 ARIMA 모형과 외부 변수를 합한 단어이고, 위에서 살펴 보았던 동적 회귀 모형을 생성해요.\n",
        "\n",
        "SARIMAX의 주요 파라미터는 아래와 같아요. 자세한 내용은 [SARIMAX 공식 홈페이지](https://www.statsmodels.org/dev/generated/statsmodels.tsa.statespace.sarimax.SARIMAX.html?highlight=sarimax%20parameter)를 확인해 보세요.\n",
        "\n",
        "> -   endog : 관측된 시계열 데이터 (endogeneous)\n",
        "> -   exog : 시계열 데이터에 영향을 미치는 외부 변수 데이터 (exogeneous)\n",
        "> -   order : ARIMA의 (p, d, q), default는 (1, 0, 0)\n",
        "> -   seasonal\\_order : 계절성 부분인 (P, D, Q, S)\n",
        "\n",
        "동적 회귀 모형을 모델링을 하기 위해서는 하이퍼파라미터 p, d, q, P, D, Q를 설정해 주어야 해요. 주기(S)의 경우에는 분기별 데이터일 경우에는 4, 월별 데이터의 경우에는 12로 설정해주죠. 우리가 예측하고자 하는 데이터의 주기는 7이므로 S=7로 설정해 주면 좋겠죠?\n",
        "\n",
        "그 후 가장 낮은 AIC 값을 가지는 파라미터 조합을 선택하는데, 일반적으로 Grid search를 통해 해요.\n",
        "\n",
        "차량 수요 예측을 하기 전에 다른 데이터를 사용해 간단한 동적 회귀 모형 실습을 해 봅시다. 아래의 코드는 [SARIMAX 공식 홈페이지](https://www.statsmodels.org/dev/examples/notebooks/generated/statespace_sarimax_stata.html)를 참고했어요.\n",
        "\n",
        "먼저 데이터를 다운로드합니다."
      ],
      "metadata": {
        "id": "krLf1tlZKwpi"
      }
    },
    {
      "cell_type": "code",
      "source": [
        "# Dataset\n",
        "friedman2 = requests.get('https://www.stata-press.com/data/r12/friedman2.dta').content\n",
        "data = pd.read_stata(BytesIO(friedman2))\n",
        "data.index = data.time\n",
        "data.index.freq = \"QS-OCT\"\n",
        "\n",
        "data.head()"
      ],
      "metadata": {
        "id": "ZKrTsQHbKpMl"
      },
      "execution_count": null,
      "outputs": []
    },
    {
      "cell_type": "markdown",
      "source": [
        "데이터의 변수에는 m2, time, m1, consump, pc92가 있는데요, 각각의 의미는 아래와 같아요.\n",
        "\n",
        "-   m2(광의통화): M1과 만기 2년 미만 정기 예/적금과 같이 약간의 이자만 포기하면 현금화할 수 있는 금융 상품을 포함합니다. MMF(머니마켓펀드), CD(양도성예금증서), CMA(종합자산관리계좌) 등의 시장형 금융상품, 금전신탁, 수익증권 등의 실적 배당형 금융상품, 금융, 종금사 발행어음 등도 포함됩니다.\n",
        "-   m1(협의통화): 지폐, 동전, 요구불예금을 포함한 현금통화로, 언제든지 현금으로 전환될 수 있는 통화입니다.\n",
        "-   consump: 개인 소비를 의미하며 단위는 '$'입니다. UAB 국민소득계정(NIPA)을 이용해 산출한 수치입니다.\n",
        "-   pc92: 개인 소비를 의미합니다."
      ],
      "metadata": {
        "id": "_rzKSmmJMLhy"
      }
    },
    {
      "cell_type": "code",
      "source": [
        "data.info()"
      ],
      "metadata": {
        "id": "EpIfmfQbMNfG"
      },
      "execution_count": null,
      "outputs": []
    },
    {
      "cell_type": "markdown",
      "source": [
        "결측치를 확인해 보겠습니다."
      ],
      "metadata": {
        "id": "KU-B7IlYMQgq"
      }
    },
    {
      "cell_type": "code",
      "source": [
        "# 결측치 확인\n",
        "data.isnull().sum()"
      ],
      "metadata": {
        "id": "w8ybimoPMQzM"
      },
      "execution_count": null,
      "outputs": []
    },
    {
      "cell_type": "code",
      "source": [
        "data[data['m1'].isnull()]"
      ],
      "metadata": {
        "id": "3MuE3BpqMSMi"
      },
      "execution_count": null,
      "outputs": []
    },
    {
      "cell_type": "markdown",
      "source": [
        "결측치는 m2, m1에 52개씩 존재하고, 1959년 이전의 데이터가 존재하지 않아요. 그러므로 1959년 이후의 데이터만 사용하겠습니다.\n",
        "\n",
        "우리의 목적은 동적 회귀 모형을 사용해 보는 것이므로 EDA나 데이터 전처리는 생략하고 진행해보도록 할게요. 내부 변수이자 시계열 부분으로는 'consump', 외부 변수로는 'm2'를 설정해 보도록 하겠습니다. 파라미터인 orders는 임의로 설정해 보겠습니다."
      ],
      "metadata": {
        "id": "AH8bXHh-MTvD"
      }
    },
    {
      "cell_type": "code",
      "source": [
        "# Variables\n",
        "endog = data.loc['1959':, 'consump']\n",
        "exog = sm.add_constant(data.loc['1959':, 'm2'])\n",
        "nobs = endog.shape[0]\n",
        "\n",
        "# Fit the model\n",
        "mod = sm.tsa.statespace.SARIMAX(endog, exog=exog, order=(1,0,1))\n",
        "fit_res = mod.fit(disp=False, maxiter=250)\n",
        "print(fit_res.summary())"
      ],
      "metadata": {
        "id": "zYkVPtXdMUGw"
      },
      "execution_count": null,
      "outputs": []
    },
    {
      "cell_type": "markdown",
      "source": [
        "모형이 잘 적합(fitting)되었는지 확인해 봅시다. 모형의 적합성은 아래의 것들로 판단할 수 있습니다.\n",
        "\n",
        "-   Ljung-Box(L1)  \n",
        "    시계열의 모형이 올바르게 적합되었는지 평가하는 시계열 모형 적합도 척도 중 하나입니다. 귀무가설은 '잔차가 white noise를 따른다'로 설정하고, p-value가 낮으면 시간대별 잔차가 상관(correlated)되어 있는 것으로 판단할 수 있어요.\n",
        "    \n",
        "-   Jarque-Bera  \n",
        "    귀무가설을 '잔차가 normal distribution을 따른다'라고 가정하며, p-value가 낮으면 귀무가설을 기각해요.\n",
        "    \n",
        "-   Heteroskedasticity  \n",
        "    각 시간대 별 잔차의 분산이 일정한지 보는 테스트에요. 귀무가설을 '잔차의 분산이 일정하다'라고 가정하며 p-value가 낮으면 귀무가설을 기각합니다.\n",
        "    \n",
        "\n",
        "Ljung-Box(L1)의 값은 작고, Jarque-Bera와 Heteroskedasticity의 값은 크므로 좋은 모형이 아닌 것 같아요.\n",
        "\n",
        "`plot_diagnostic()`을 이용하여 잔차를 확인해 봅시다."
      ],
      "metadata": {
        "id": "AvD0P3-PMXOZ"
      }
    },
    {
      "cell_type": "code",
      "source": [
        "fit_res.plot_diagnostics(figsize=(11, 8))\n",
        "plt.show()"
      ],
      "metadata": {
        "id": "Ru2_l5atMYiZ"
      },
      "execution_count": null,
      "outputs": []
    },
    {
      "cell_type": "markdown",
      "source": [
        "잔차의 분포를 나타낸 그래프도 위의 모형이 좋은 모형이 아니라는 것을 보여 주고 있어요. 히스토그램과 Q-Q 플롯을 보니 잔차가 정규성을 띠지 않는 것처럼 보여요. Correlogram에서도 잔차가 자기상관되는 것으로 보이는 군요.\n",
        "\n",
        "하지만 파라미터를 조정하면 더 좋은 결과를 얻을 수 있을 거에요. 그래서 보통은 Grid search를 통해 최적의 파라미터를 찾아요. 하지만 지금은 위의 모형으로 진행하겠습니다.\n",
        "\n",
        "이제 모형을 통해 예측을 해보고, 시각화를 통해 모형이 제대로 예측을 했는지 점검해 봅시다."
      ],
      "metadata": {
        "id": "CSSdWNCdMa6z"
      }
    },
    {
      "cell_type": "code",
      "source": [
        "pred = fit_res.get_prediction(dynamic='1978-01-01')\n",
        "pred_ci = pred.conf_int()\n",
        "\n",
        "# Graph\n",
        "fig, ax = plt.subplots(figsize=(9,4))\n",
        "npre = 4\n",
        "ax.set(title='Personal consumption', xlabel='Date', ylabel='Billions of dollars')\n",
        "\n",
        "# Plot data points\n",
        "data.loc['1977-07-01':, 'consump'].plot(ax=ax, style='o', label='Observed')\n",
        "\n",
        "# Plot predictions\n",
        "\n",
        "pred.predicted_mean.loc['1977-07-01':].plot(ax=ax, style='g', label='Dynamic forecast (1978)')\n",
        "ci = pred_ci.loc['1977-07-01':]\n",
        "ax.fill_between(ci.index, ci.iloc[:,0], ci.iloc[:,1], color='g', alpha=0.1)\n",
        "\n",
        "legend = ax.legend(loc='lower right')"
      ],
      "metadata": {
        "id": "QCAvwb6kMcDB"
      },
      "execution_count": null,
      "outputs": []
    },
    {
      "cell_type": "markdown",
      "source": [
        "시각화를 해 보니 시간이 흐를수록 예측을 잘 하고 있지 못함을 알 수 있어요. 그 이유는 파라미터를 임의로 설정한 것도 있겠죠? 다음 스텝인 프로젝트에서는 Grid search를 사용하여 더 좋은 모형을 찾을 수 있을 거에요."
      ],
      "metadata": {
        "id": "jgJUk_v_Mdla"
      }
    },
    {
      "cell_type": "markdown",
      "source": [
        "## 2-8. 프로젝트: 어떤 예측 모형이 차량 수요 예측에 가장 적합할까?\n",
        "\n",
        "이번 프로젝트에서는 이전 스텝에서 배운 동적 회귀 모형을 이용해 차량 수요 예측을 하고 그 결과를 다른 모형들과 비교하려고 합니다.\n",
        "\n",
        "먼저 주요 라이브러리 버전을 살펴보죠."
      ],
      "metadata": {
        "id": "CcrcdS9dMfTB"
      }
    },
    {
      "cell_type": "code",
      "source": [
        "import pandas\n",
        "import pmdarima\n",
        "import statsmodels\n",
        "\n",
        "print(pandas.__version__)\n",
        "print(pmdarima.__version__)\n",
        "print(statsmodels.__version__)"
      ],
      "metadata": {
        "id": "30P-V90SMf3Z"
      },
      "execution_count": null,
      "outputs": []
    },
    {
      "cell_type": "markdown",
      "source": [
        "이제 아래의 스텝을 따라 프로젝트를 진행해 주세요.\n",
        "\n",
        "### Step 1. 학습 데이터와 테스트 데이터 나누기\n",
        "\n",
        "___\n",
        "\n",
        "학습 데이터와 테스트 데이터는 '2-4. 여러 머신러닝 모형을 활용한 차량 수요 예측'에서 만들어 놓은 학습 데이터와 테스트 데이터를 그대로 사용하면 됩니다. 기억을 상기시키기 위해서 아래에 코드를 적어 놓았습니다.\n",
        "\n",
        "```bash\n",
        "# 설명 변수 테이블 설정\n",
        "_x_data = df_raws[['click_d_1', 'click_d_2', 'click_d_3', 'click_d_4', 'click_d_5', 'click_d_6', 'click_d_7', 'is_clean', 'avg_precipitation', 'avg_temperature', 'target_dates']]\n",
        "\n",
        "_x_weekday = pd.get_dummies(df_raws['weekday'], prefix='weekday', drop_first=False)\n",
        "\n",
        "_x_data = pd.concat([_x_data, _x_weekday], axis=1)\n",
        "\n",
        "_x_data.set_index(\"target_dates\", drop=True, inplace=True)\n",
        "_x_data = _x_data.sort_values('target_dates')\n",
        "\n",
        "# 예측 대상 데이터 설정\n",
        "target = df_raws[['op_rate_0d_all_cars', 'target_dates' ]]\n",
        "\n",
        "target.set_index(\"target_dates\", drop=True, inplace=True)\n",
        "target = target.sort_values('target_dates')\n",
        "\n",
        "# Train/Test 데이터셋 나누기\n",
        "_x_data_train = _x_data[_x_data.index<'2021-04-01']\n",
        "_x_data_test = _x_data[_x_data.index>='2021-04-01']\n",
        "target_train = target[target.index<'2021-04-01']\n",
        "target_test = target[target.index>='2021-04-01']\n",
        "```"
      ],
      "metadata": {
        "id": "wJj2GU-bMjN5"
      }
    },
    {
      "cell_type": "code",
      "source": [
        "x_train = _x_data_train\n",
        "x_test = _x_data_test\n",
        "y_train = target_train\n",
        "y_test = target_test"
      ],
      "metadata": {
        "id": "9KwEXKqbMjYZ"
      },
      "execution_count": null,
      "outputs": []
    },
    {
      "cell_type": "markdown",
      "source": [
        "### Step 2. Grid search를 이용하여 최상의 파라미터 조합 찾기\n",
        "\n",
        "___\n",
        "\n",
        "동적 회귀 모형을 선언하기 위해서는 (p, d, q) x (P, D, Q)(S) 파라미터를 설정해 주어야 합니다. 이 때 실제로 Grid search를 하여 가장 낮은 AIC를 가지는 파라미터 조합을 선택해요. Grid search는 파라미터가 가질 수 있는 선택지가 많아질수록 탐색 공간이 넓어져 탐색에 오랜 시간이 걸립니다. 예를 들어 모든 파라미터(p, d, q, P, D, Q 총 6가지)를 0과 2 사이(0 또는 1)에서 찾는다면, 탐색 공간은 26\\=642^6=6426\\=64개가 되고 5분 정도 걸려요.\n",
        "\n",
        "itertools의 `product()`를 이용하여 최상의 파라미터 조합을 찾아 보세요. 아래 이미지와 같이 파라미터 조합이 나올 수 있도록 해보세요. 시간의 여유가 된다면 p, q, P, Q의 범위를 더 늘려 보세요.\n",
        "\n",
        "![content img](https://d3s0tskafalll9.cloudfront.net/media/original_images/seukeurinsyas_2021-09-07_10-53-01.png)\n",
        "\n",
        "\\[최상의 파라미터 조합과 AIC 탐색\\]"
      ],
      "metadata": {
        "id": "da_7a56gMntR"
      }
    },
    {
      "cell_type": "code",
      "source": [
        "# 모수\n",
        "p = range(0, 2)\n",
        "q = range(0, 2)\n",
        "d = range(0, 2)\n",
        "P = range(0, 2)\n",
        "Q = range(0, 2)\n",
        "D = range(0, 2)\n",
        "\n",
        "# 초기화\n",
        "best_AIC = float(\"inf\")\n",
        "best_model = sm.tsa.SARIMAX(endog=y_train, exog=x_train, order=(0, 0, 0), seasonal_order=(0, 0, 0, 7))\n",
        "iter_cnt = 0\n",
        "\n",
        "# for 문으로 최소 AIC 찾기 (Grid Search)\n",
        "\n",
        "### YOUR CODE ###"
      ],
      "metadata": {
        "id": "0oYMdOPaMoL-"
      },
      "execution_count": null,
      "outputs": []
    },
    {
      "cell_type": "markdown",
      "source": [
        "### Step3. 모형 구조 확인\n",
        "\n",
        "___\n",
        "\n",
        "`model.summary()`를 사용해 모형의 정보를 출력해 보세요."
      ],
      "metadata": {
        "id": "hZ0xNU_uMrYJ"
      }
    },
    {
      "cell_type": "code",
      "source": [
        "# 모형 구조 확인\n",
        "\n",
        "### YOUR CODE ###"
      ],
      "metadata": {
        "id": "_1ncXoACMszx"
      },
      "execution_count": null,
      "outputs": []
    },
    {
      "cell_type": "markdown",
      "source": [
        "### Step 4. 차량 수요 예측\n",
        "\n",
        "___\n",
        "\n",
        "예측값과 예측값의 신뢰구간을 얻을 수 있는 `get_forecast(steps=n)`을 사용해 보세요. 학습 데이터 다음부터 지정한 steps만큼 예측할 수 있어요. RMSE와 시각화를 통해 모형의 예측 정확도를 확인해 보세요. RMSE을 구할 때는 예측값에 `.predicted_mean`을 사용해보세요. 시각화할 때는 이전 스텝에서와 같이 마지막 50개의 데이터만 사용하세요.a|"
      ],
      "metadata": {
        "id": "efrcCHGrMuXB"
      }
    },
    {
      "cell_type": "code",
      "source": [
        "# RMSE\n",
        "\n",
        "### YOUR CODE ###"
      ],
      "metadata": {
        "id": "xXbvQ8hEMuol"
      },
      "execution_count": null,
      "outputs": []
    },
    {
      "cell_type": "code",
      "source": [
        "# 시각화\n",
        "\n",
        "### YOUR CODE ###"
      ],
      "metadata": {
        "id": "Z1lS3pzTMwT6"
      },
      "execution_count": null,
      "outputs": []
    },
    {
      "cell_type": "markdown",
      "source": [
        "### Step 5. 다른 모형 사용하기\n",
        "\n",
        "___\n",
        "\n",
        "지금까지 배운 모형이 아닌 다른 모형을 사용해 차량 수요 예측을 해보세요. 트리 기반 머신러닝 모형(LGBM, Gradient Boosting, XBG, Random Forest 등)을 사용해 보세요. 3개 이상의 모형을 사용해 차량의 수요를 예측해 보세요.\n",
        "\n",
        "### Step 6. 결과 비교\n",
        "\n",
        "___\n",
        "\n",
        "동적 회귀 모형과 여러분들이 사용한 모형들의 예측 정확도를 RMSE를 사용하여 비교해 봅시다. 이전 스텝에서 다루었던 다른 모형들의 예측 정확도를 포함시켜도 좋아요. 어떤 모형이 차량 수요를 가장 잘 예측할까요?"
      ],
      "metadata": {
        "id": "ZGlJgvHtMzKK"
      }
    },
    {
      "cell_type": "markdown",
      "source": [
        "루브릭\n",
        "\n",
        "아래의 기준을 바탕으로 프로젝트를 평가합니다.\n",
        "\n",
        "| 평가문항 | 상세기준 |\n",
        "| --- | --- |\n",
        "| \n",
        "1\\. 동적 회귀 모형을 사용하여 차량 수요 예측을 하였는가? | Grid search를 사용하여 최상의 파라미터 조합을 찾고, RMSE와 시각화를 통해 예측 정확도를 평가하였다. |\n",
        "| 2\\. 다양한 머신러닝 모형을 사용하여 차량 수요 예측을 하였는가? | 3개 이상의 머신러닝 모형을 사용하여 차량 수요 예측을 하였다. |\n",
        "| 3\\. 다양한 모형을 사용한 차량 수요 예측 결과를 비교, 분석하였는가?| 다양한 모형을 사용한 차량 수요 예측의 정확도를 RMSE를 사용하여 비교, 분석하였다. |"
      ],
      "metadata": {
        "id": "TcseIZZTM2eq"
      }
    },
    {
      "cell_type": "code",
      "source": [
        ""
      ],
      "metadata": {
        "id": "aqNqLWw7M2wh"
      },
      "execution_count": null,
      "outputs": []
    }
  ]
}