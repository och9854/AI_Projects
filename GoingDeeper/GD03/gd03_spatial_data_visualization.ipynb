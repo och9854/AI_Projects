{
  "nbformat": 4,
  "nbformat_minor": 0,
  "metadata": {
    "colab": {
      "name": "gd03_spatial_data_visualization.ipynb",
      "provenance": []
    },
    "kernelspec": {
      "name": "python3",
      "display_name": "Python 3"
    },
    "language_info": {
      "name": "python"
    }
  },
  "cells": [
    {
      "cell_type": "markdown",
      "source": [
        "## 3-1. 들어가며\n",
        "\n",
        "### 성장을 위한 쏘카의 고민\n",
        "\n",
        "___\n",
        "\n",
        "쏘카는 2021년 8월 기준 누적 회원 수 680만명, 차량 대수 15,600대, 쏘카존 4,200여 곳을 보유하고 있으며 모빌리티 플랫폼 분야를 선도하고 있습니다. 쏘카는 항상 성장을 위해서 다양한 문제들에 직면하고 그것들을 해결하기 위해 부단히 노력하고 있습니다.  \n",
        "쏘카의 핵심 비즈니스는 카셰어링입니다. 고객 만족을 위해 쏘카는 아래 큰 고민 2가지를 항상 생각하고 있습니다.\n",
        "\n",
        "1.  고객을 위한 차량\n",
        "2.  쏘카존(SOCAR ZONE)\n",
        "\n",
        "이 중 우리는 2번째 고민인 '쏘카존'에 대해 파헤쳐보겠습니다. 쏘카존에 관한 상세한 고민으로는 **'새로운 존을 어느 곳에 마련해야 할까?', '기존의 존을 어떻게 조정해야 할까?'** 과 같이 최적의 쏘카존 위치를 설정하는 것입니다.\n",
        "\n",
        "이러한 비즈니스 고민을 해결하기 위하여 쏘카에서는 데이터 DB 적재 및 전처리 작업, 테스트 기획 및 결과 분석, 분석지표 설정 및 대시보드 작성, **공간 데이터 시각화** 등 다양한 방법과 대안을 제시하여 문제를 해결하고 있습니다. 특히 공간 데이터들을 시각화하는 것은 문제 해결의 시작이며, 보다 많은 아이디어와 해결책을 찾게 도와줍니다.\n",
        "\n",
        "아래의 예시를 통해 쏘카에서 하고 있는 공간 데이터 시각화 중 간단한 내용을 살펴보겠습니다.\n",
        "\n",
        "Q1. A 차량에는 1번 하이패스 카드가 설치되어 있습니다. 그런데 톨게이트를 지날 때 다른 하이패스 카드가 매칭되었습니다.여러분이 담당자라면 어떤 내용을 확인할 지 적어주세요.\n",
        "\n",
        "예시답안\n",
        "\n",
        "현재 차량에 매칭된 하이패스 카드 결제가 일어난 시간과 장소에 그 차량이 있었는지 데이터 확인 및 시각화한다.\n",
        "\n",
        "차량에 매칭된 하이패스 카드 결제가 일어난 시간과 장소에 그 차량이 있었는지 확인합니다. 이를 시각적으로 표현해보면 훨씬 직관적으로 보일 것이고, 문제를 더 빠르게 해결할 수 있을 것입니다.\n",
        "\n",
        "![content img](https://d3s0tskafalll9.cloudfront.net/media/images/deuleogamyeo_549JvuW.max-800x600.png)\n",
        "\n",
        "\\[톨게이트와 차량의 위치\\]\n",
        "\n",
        "위의 이미지는 하이패스 카드 결제 시간대에 특정 톨게이트에 있는 특정 차량의 위치를 표시하고 있습니다. 빨간 점은 톨게이트 위치이고, 파랑 점은 차량의 위치입니다. 하이패스 카드 결제 시간에 차량의 위치를 확인해 보면 그 시간에 차량이 통과했다는 것을 확인할 수 있습니다.\n",
        "\n",
        "이번 노드를 통해서 쏘카에서 공간 데이터를 어떻게 데이터를 다루고 시각화하는지 학습하도록 하겠습니다.\n",
        "\n",
        "### 학습 목표\n",
        "\n",
        "___\n",
        "\n",
        "1.  공간 데이터 및 GIS 개념을 익힌다.\n",
        "2.  공간 데이터를 수집하고 변환하는 방법을 익힌다.\n",
        "3.  python 라이브러리를 활용해 공간 데이터를 시각화한다.\n",
        "\n",
        "### 학습 내용\n",
        "\n",
        "___\n",
        "\n",
        "1.  공간 데이터 활용을 위한 개념(좌표 체계, EPSG 코드 체계)\n",
        "2.  공간 데이터 유형(벡터, 래스터 데이터)\n",
        "3.  공공 데이터 활용 방법(SGIS API, 공공 데이터 포털 API)\n",
        "4.  다양한 라이브러리(GeoPandas, Folium)를 활용한 시각화\n",
        "5.  좌표계 변환\n",
        "6.  공간 데이터 시각화 응용"
      ],
      "metadata": {
        "id": "DlCLbDjJNo4D"
      }
    },
    {
      "cell_type": "markdown",
      "source": [
        "공간 데이터를 다루기 위해서는 알아야 할 개념들이 많이 있습니다. 공간 데이터를 만나기 전에 어떤 개념들이 있는지 확인해보고자 합니다.\n",
        "\n",
        "먼저 **좌표 체계**에 대해 알아보고, 이를 코드로 나타낸 **EPSG코드**에 대해 알아보겠습니다.\n",
        "\n",
        "### 1\\. 지리 좌표 체계(GCS: Geographic Coordinate System)\n",
        "\n",
        "___\n",
        "\n",
        "#### 지리 좌표 체계란?\n",
        "\n",
        "지구상의 한 점의 위치는 좌표로 나타낼 수 있는데, 가장 보편적으로 사용하고 있는 좌표 체계가 지리 좌표 체계입니다. 즉, 지리 좌표 체계는 지구상의 어떤 물체의 **절대적 위치**를 나타내는 좌표체계입니다.  \n",
        "지리 좌표 체계를 나타내는 방법은 지구 타원체를 '동→서 방향의 위도선'과 '남→북 방향의 경도선'을 종횡으로 일정한 간격을 두고, '도, 분, 초'로 표시하는 것입니다.\n",
        "\n",
        "#### 지리 좌표 체계의 종류\n",
        "\n",
        "a. WGS84\n",
        "\n",
        "-   지구 중심에 회전 타원체의 중심을 위치시키는 방식입니다.\n",
        "-   경도, 위도를 갖고 있는 데이터라면 대부분 WGS84 좌표계라고 생각해도 됩니다.\n",
        "\n",
        "b. Bessel\n",
        "\n",
        "-   지구 중심이 아닌 다른 곳에 회전 타원체를 위치시키는 방식입니다. 다양한 Bessel 좌표계 중 일본에서 사용하고 있는 동경 측지계는 우리나라에서 1910년부터 사용했었습니다. 이는 우리나라 지리와 맞지 않았고 정부는 2013년부터 2020년까지 전국 지적도면 약 70만장의 위치기준을 일본의 동경 측지계에서 세계 표준의 측지계로 변환작업을 완료했습니다. 그래서 우리나라에서는 기관에 따라 WGS84, Bessel을 모두 사용하고 있습니다.\n",
        "-   [동경측지계->세계 표준 측지계](https://www.molit.go.kr/USR/NEWS/m_71/dtl.jsp?lcmspage=4&id=95085715)\n",
        "-   [도로명주소좌표계 세계측지계로 일원화](http://www.klan.kr/news_gisa/gisa_view.htm?gisa_category=05120000&gisa_idx=35165)\n",
        "\n",
        "지리 좌표 체계에 대한 자세한 설명은 아래의 자료를 참고하세요.\n",
        "\n",
        "-   [\\[GIS\\]좌표 정의 및 변환 방법, 자주쓰는 좌표계](https://yganalyst.github.io/spatial_analysis/spatial_analysis_3/)\n",
        "\n",
        "Q2. 지리 좌표 체계에 대해 설명하고, 국제 표준 타원체 2가지를 적어보시오.\n",
        "\n",
        "예시답안\n",
        "\n",
        "지리좌표계란, 지구상에 위치를 좌표로 표현하기 위해 3차원의 구면을 이용하는 좌표계를 의미한다. 한 지점은 경도(longitude)와 위도(latitude)로 표현되며 이 단위는 도(degree)로 표시된다. 국제 표준 타원체는 GRS80과 WGS84 두 가지가 있다.\n",
        "\n",
        "### 2\\. 평면 직각 좌표 체계(PCS: Planar Coordinate System)\n",
        "\n",
        "___\n",
        "\n",
        "#### 평면 직각 좌표 체계란?\n",
        "\n",
        "우리가 사는 지구는 3차원 타원체입니다. 그렇다면 3차원 지리 좌표 체계를 2차원인 종이 지도에 사용할 수 있을까요? 정답은 '사용할 수 없다'입니다. 3차원 지리 좌표 체계를 2차원에서 이용하려면 **투영법(Projection)** 이 필요합니다. 투영법은 3차원의 지구를 2차원 평면으로 옮기는 방법입니다.\n",
        "\n",
        "#### 투영법\n",
        "\n",
        "우리나라의 경우 TM(Transvers Mercator) 투영법을 사용합니다. TM 투영법은 가로로 눕힌 원통에 지구를 투영하는 방법으로 **남/북 방향의 왜곡이 적어** 우리나라와 같은 남/북으로 긴 형태에 적용하기 적합한 투영법입니다.\n",
        "\n",
        "3차원 지리 좌표 체계를 2차원 평면으로 변환하기 위해서는 몇 가지 Parameter가 필요합니다.\n",
        "\n",
        "-   데이텀(Datum)\n",
        "    -   측정의 기준이 되는 선과 점이며, 측지계라고도 부릅니다. 타원체의 종류, 좌표체계의 기준점과 방향 등을 정의합니다.\n",
        "    -   ex) Tokyo, Korea, Bessel 등\n",
        "-   투영법(Projection)\n",
        "    -   ex) TM, UTM, UTM-K 등\n",
        "-   중앙 경선(Centeral Meridian) / 중앙 위선(Latitude of Origin)\n",
        "    -   평면 직각 좌표체계의 원점을 의미합니다.\n",
        "    -   ex) 중부원점: 127도 00분 10.405초\n",
        "-   False Northing / False Easting\n",
        "    -   지리 좌표계값을 평면 직각 좌표계로 바꿔줄 때 위치에 따라 좌푯값에 일정한 값을 더하거나 빼주어야 하는데, 이때 사용되는 값입니다.\n",
        "    -   음수가 있을 수 있습니다.\n",
        "-   단위(Unit)\n",
        "    -   Meter\n",
        "-   선 증대율(Scale Factor)\n",
        "    -   타원체 상의 거리와 지도상의 거리의 비율을 의미합니다.\n",
        "    -   ex) UTM 좌표계에서는 0.9996을 사용\n",
        "\n",
        "#### 평면 직각 좌표 체계의 종류\n",
        "\n",
        "a. TM(Transverse Mercator)\n",
        "\n",
        "-   지구를 평면에 투영하기 위해 원통을 적도와 접하는 대신, 90도 회전 시켜 원통 면이 지구 타원체의 임의의 자오선과 접하도록 하여 투영하는 방법입니다.\n",
        "-   가로로 눕힌 원통을 이용하여 투영하기 때문에 남/북 방향으로는 왜곡이 적어 우리나라를 비롯해 남/북 방향으로 긴 형태를 가진 국가들에서 많이 채택합니다.\n",
        "-   아래 그림에서 Standard(0도, 적도와 접하는 방식)과 Transverse Mercator(90도, 임의의 자오선과 접하는 방식)을 확인할 수 있듯이 Transverse Mercator은 남/북 방향으로 왜곡이 적음을 알 수 있다.\n",
        "\n",
        "b. UTM\n",
        "\n",
        "-   전세계적으로 많이 사용되는 표준화된 투영법입니다.\n",
        "-   각 지점의 위치를 위도와 경도가 아닌 **구역(zone)** 의 고유번호 숫자와 가상의 기준점에서 북(North)/동(East)으로 떨어진 거리를 'Meter'로 나타내는 방법 입니다.\n",
        "-   UTM 좌표계는 Transverse Mercator 투영법을 사용하는 좌표계 중의 하나로서 전 세계를 경도 6° 간격의 영역으로 나누고, 이들 각각의 영역에 대해 별도의 원점과 축을 지정하여 좌표를 Meter 단위로 나타냅니다. 우리나라의 경우 52번째 Zone에 위치하며, 이 지역의 중심경도선인 경도 129°와 적도(위도 0°)의 교차점을 UTM 좌표계의 기준 원점으로 사용합니다.\n",
        "\n",
        "Q3. 우리나라는 지리적 특성상 남/북 방향으로 긴 형태인데 이러한 형태에 적절한 투영법은 무엇일까요?\n",
        "\n",
        "### 3\\. EPGS 코드 체계\n",
        "\n",
        "___\n",
        "\n",
        "#### EPSG 코드 체계란?\n",
        "\n",
        "어떤 타원체가 어디를 중심으로 어떻게 투영되는가에 따라 다양한 좌표계가 생겨납니다. 많은 사람들이 제각각 좌표계에 이름을 붙여 사용하게 된다면 많은 혼란이 생길 것입니다. 그래서 전세계의 좌표계를 **표준화된 코드** 로 정의하였고 이를 **EPSG 코드 체계** 라고 합니다.\n",
        "\n",
        "#### EPSG 코드 종류\n",
        "\n",
        "-   GCS(지리 좌표 체계)\n",
        "    -   대표적으로 위도, 경도 좌표계가 있습니다.\n",
        "    -   ex) WGS84 = EPSG4326\n",
        "-   PCS(평면 직각 좌표계)\n",
        "    -   대표적으로 UTM 좌표계가 있습니다.\n",
        "    -   ex) UTM-K = EPSG5179\n",
        "\n",
        "#### 주요 공간 데이터 제공 서비스별 EPSG 코드\n",
        "\n",
        "-   국가공간정보포털(용도지역, 건물통합정보, 토지이용, 연속지적도 등): EPSG5174\n",
        "-   도로명주소 데이터(전자지도, 배경지도): EPSG5179\n",
        "-   카카오맵(다음지도) API: EPSG5181\n",
        "-   산림청(산림입지토양도), 한국교원대학교(초중고 학교 위치 및 학군): EPSG5186\n",
        "\n",
        "### 정리\n",
        "\n",
        "___\n",
        "\n",
        "공간 데이터 시각화 학습에 앞서 간략하게 좌표체계와 EPSG 코드에 대해 학습해 보았습니다. 지리학이나 도시공학을 전공하지 않으신 분들은 다소 어렵게 느끼지실 수도 있겠습니다. 왜 공간 데이터 시각화 학습에 앞서 좌표체계와 EPSG 코드를 먼저 인지해야 할까요?\n",
        "\n",
        "공간 데이터를 수집하다 보면 **데이터마다 좌표계가 다른 경우** 를 매우 빈번하게 접하게 될 것 입니다.\n",
        "\n",
        "아래의 그림은 우리나라 시/군/구 행정구역지도와 철도 노선입니다. 어때 보이시나요? 행정구역 레이어와 철도 노선이 따로 있어서 분석이 어렵습니다. 좌표계가 다르기 때문입니다.\n",
        "\n",
        "![content img](https://d3s0tskafalll9.cloudfront.net/media/images/haengjeongguyeoggwa_ceoldo.max-800x600.png)\n",
        "\n",
        "\\[행정구역과 철도\\]\n",
        "\n",
        "공간 데이터마다 EPSG 코드가 다른 이유는 국가별로 지리 형상이 다른 국가의 지리를 왜곡 없이 표현하기 위해 각 국가의 지리 형상에 맞는 타원체와 투영법을 사용하기 때문입니다. 이러한 내용을 알고 있다면 공간 데이터마다 좌표계가 달라도 하나의 좌표계로 통일해 시각화하고 분석할 수 있을 것입니다.\n",
        "\n",
        "아래의 테이블은 좌표계와 EPSG 코드를 정리한 표입니다. 추후에 공간 데이터를 수집하고 분석할 때 유용하게 사용할 수 있습니다."
      ],
      "metadata": {
        "id": "DdYlhZPaNtV6"
      }
    },
    {
      "cell_type": "markdown",
      "source": [
        "## 3-3. 공간 데이터 유형\n",
        "\n",
        "공간 데이터는 다양한 유형이 있지만 여기에서는 **벡터(Vector)** 데이터와 **래스터(Raster)** 데이터를 다룰 예정입니다.\n",
        "\n",
        "### 벡터(Vector) 데이터\n",
        "\n",
        "___\n",
        "\n",
        "벡터 데이터는 가장 많이 사용하는 공간 데이터 타입입니다. 도시 및 지역 행정구역의 경계와 같은 지리적 공간 특징을 구별하는 점, 선, 면으로 구성됩니다. 점, 선, 면의 구분이 가능하므로 도로, 건물과 같은 물체의 구별이 가능합니다.\n",
        "\n",
        "#### 1\\. 점(Point)\n",
        "\n",
        "점으로 나타내는 객체의 경우 하나의 (x, y) 좌표에 의해 위치가 정해집니다.\n",
        "\n",
        "![content img](https://d3s0tskafalll9.cloudfront.net/media/original_images/point_table.png)\n",
        "\n",
        "\\[Data 예시\\]\n",
        "\n",
        "#### 2\\. 선(Line)\n",
        "\n",
        "2개 혹은 그 이상의 좌표와 선분으로 구성됩니다. 직선으로 나타나는 객체의 경우 시작점과 끝점으로 구축됩니다.\n",
        "\n",
        "![content img](https://d3s0tskafalll9.cloudfront.net/media/original_images/seon.png)\n",
        "\n",
        "\\[선 데이터\\]\n",
        "\n",
        "연속적이고 복잡한 선으로 나타내야 하는 경우, 서로 교차하는 지류, 합류점, 도로, 다리와 같은 객체는 교차점에 대한 정보를 나타냅니다. 교차점에 대한 정보가 없다면 교차구분을 할 수 없기 때문에 노드라는 개념이 필요합니다.\n",
        "\n",
        "![content img](https://d3s0tskafalll9.cloudfront.net/media/images/Line_table.max-800x600.png)\n",
        "\n",
        "\\[Data 예시\\]\n",
        "\n",
        "#### 3\\. 면(Polygon)\n",
        "\n",
        "모양, 둘레, 면적 등의 정보를 가지고 있습니다.\n",
        "\n",
        "![content img](https://d3s0tskafalll9.cloudfront.net/media/images/polygon_table_.max-800x600.png)\n",
        "\n",
        "\\[Data 예시\\]\n",
        "\n",
        "#### 4\\. 벡터 데이터 포맷(Vector Data Format)\n",
        "\n",
        "-   .shp  \n",
        "    Esri사에서 개발한 포맷으로 세계적으로 가장 많이 사용됩니다. 하나의 shp 파일이 동작하기 위해서는 동일한 디렉토리에 shx, dbf 타입의 파일이 필요합니다.\n",
        "-   shx  \n",
        "    Geometry 특징을 빠르게 찾을 수 있는 인덱스 파일입니다.\n",
        "-   dbf  \n",
        "    shp 파일의 열 속성을 가진 파일입니다.\n",
        "-   GeoJSON  \n",
        "    JSON 기반의 파일 포맷으로, JSON을 기반으로 하고 있기 때문에 사용하기 쉽고 빠르게 읽고 쓸 수 있습니다. 최근 공간 데이터베이스, 오픈 공간 데이터 플랫폼에서 많이 사용합니다. 파일 확장자로 .json, .geojson 둘 중 하나를 사용할 수 있습니다.\n",
        "\n",
        "Q4. 벡터 데이터의 종류와 각 데이터의 설명을 적으시오.\n",
        "\n",
        "예시답안\n",
        "\n",
        "점: 하나의 좌표로 표현할 수 있는 벡터 데이터  \n",
        "선: 2개 혹은 그 이상의 좌표와 선분으로 표현할 수 있는 벡터 데이터  \n",
        "면: 모양, 둘레, 면적 등의 정보를 가지고 있는 벡터 데이터\n",
        "\n",
        "### 래스터 데이터(Raster Data)\n",
        "\n",
        "___\n",
        "\n",
        "#### 1\\. 래스터 데이터란?\n",
        "\n",
        "픽셀 단위의 색 또는 색조 값을 가지고 있는 데이터 형태를 말합니다. 항공 영상, 위성 데이터의 형태는 주로 래스터 타입입니다. 표고(해발), 녹지, 강수량 등을 데이터로 나타낼 때 주로 사용합니다.\n",
        "\n",
        "#### 2\\. 래스터 데이터 포맷(Raster Data Format)\n",
        "\n",
        "래스터 데이터 포맷은 다양하며 아주 간단하게 사진 파일 포맷이라고 생각하면 됩니다. 이번 노드에서는 래스터 데이터에 대해 깊게 다루지 않으므로 아래의 링크를 통해 간단히 짚고 넘어가겠습니다.\n",
        "\n",
        "-   [GeoTIFF](https://en.wikipedia.org/wiki/GeoTIFF)\n",
        "-   [JPEG 2000](https://ko.wikipedia.org/wiki/JPEG_2000)\n",
        "-   [ECW](https://en.wikipedia.org/wiki/ECW_(file_format))\n",
        "-   [Esri grid](https://desktop.arcgis.com/en/arcmap/10.3/manage-data/raster-and-images/esri-grid-format.htm)\n",
        "-   [MrSID](https://en.wikipedia.org/wiki/MrSID)\n",
        "\n",
        "### 정리\n",
        "\n",
        "___\n",
        "\n",
        "벡터 데이터는 이산값의 경계가 있는 즉, 순차적인 점 혹은 정점을 사용하여 저장하는 데이터 값이고, 래스터 데이터는 데이터를 행, 열로 나눈 셀에 값을 저장한 데이터입니다. 벡터 데이터는 한 개의 개별 값이 데이터이지만, 래스터 데이터는 서로 연관된 연속된 데이터입니다.\n",
        "\n",
        "-   실생활에서의 예시\n",
        "    \n",
        "    > -   벡터 데이터: 테두리, 도로, 강 등\n",
        "    > -   래스터 데이터: 온도, 기압, 수압, 고도 등\n",
        "    \n",
        "\n",
        "벡터 데이터와 래스터 데이터를 요약하면 아래의 그림처럼 표현할 수 있습니다.\n",
        "\n",
        "Q5. 벡터 데이터와 래스터 데이터의 차이점은 무엇인가요?\n",
        "\n",
        "예시답안\n",
        "\n",
        "벡터 데이터는 이산값의 경계가 있는 즉, 순차적인 점 혹은 정점을 사용하여 저장하는 데이터 값이고, 래스터 데이터는 데이터를 행, 열로 나눈 셀에 값을 저장한 데이터입니다. 벡터 데이터는 한개의 개별 값이 데이터 이지만, 래스터 데이터는 서로 연관된 연속된 데이터입니다."
      ],
      "metadata": {
        "id": "13KM5wgZNwkh"
      }
    },
    {
      "cell_type": "markdown",
      "source": [
        "## 3-4. 실습을 위한 환경설정\n",
        "\n",
        "공간 데이터를 활용한 시각화를 위한 이번 노드 실습을 위해서는 환경설정이 필요합니다. 필요한 라이브러리는 아래와 같습니다.\n",
        "\n",
        "-   requests: 통신 요청/응답 라이브러리\n",
        "-   json: python에서 json 형식을 다루기 위해 필요한 라이브러리\n",
        "-   pyproj: 좌표 변환 및 측지연산을 수행하는 파이썬 라이브러리이며 매우 다양한 좌표계를 지원합니다. GeoPandas 라이브러리가 pypoj를 사용하기 때문에 가장 널리 사용되고 있습니다.\n",
        "-   geopandas: 벡터 데이터 작업을 위한 파이썬 라이브러리이며 벡터 데이터를 DataFrame 객체로 다룰 수 있게 해주는 모듈입니다. pandas, pypoj에 의존성을 가집니다.\n",
        "-   shape: 새로운 점, 선, 면 등의 백터 데이터 지오메트리 객체를 반환하는데 사용하는 라이브러리\n",
        "-   mapping: shape file 포맷을 객체로 읽어오고 백터 데이터의 feature 정보를 읽어오는 라이브러리\n",
        "-   folium: 벡터 데이터를 지도에 시각화하는 라이브러리\n",
        "\n",
        "로컬에서 구동하려면 아래 명령어를 이용해 라이브러리 설치를 진행해주시기 바랍니다.\n",
        "\n",
        "```\n",
        "$ pip install pyproj==3.2.0  \n",
        "$ conda install geopandas  \n",
        "$ pip install geojson==2.5.0   \n",
        "$ pip install folium==0.8.3\n",
        "```"
      ],
      "metadata": {
        "id": "emV40W5-N1Wq"
      }
    },
    {
      "cell_type": "markdown",
      "source": [
        "## 3-5. 공공데이터 활용하기\n",
        "\n",
        "수년 전까지만 해도 공간 데이터를 구하는 데 어려움이 많았습니다. 데이터를 생산하는 생산자가 많지 않았기 때문입니다.\n",
        "\n",
        "AI, ML 기술이 일상생활에도 상용화되면서 데이터의 가치가 증대되었습니다. 데이터의 가치가 증대되다 보니 데이터를 교환하는 마켓이 생겨나기 시작했습니다.\n",
        "\n",
        "최근에는 공공기관에서 많은 공간 데이터들을 제공해주고 있습니다. 공간정보를 제공하는 대표적인 2곳(SGIS, 공공 데이터 포털)에서 공간 데이터를 수집하는 방법을 알아보겠습니다.\n",
        "\n",
        "### SGIS API 사용방법\n",
        "\n",
        "___\n",
        "\n",
        "[개발지원센터](https://sgis.kostat.go.kr/developer/html/home.html) 로 이동하세요.\n",
        "\n",
        "#### 1\\. SGIS 회원 가입\n",
        "\n",
        "'회원가입 신청'을 클릭한 후 본인 인증을 하여 회원 가입을 합니다.\n",
        "\n",
        "![content img](https://d3s0tskafalll9.cloudfront.net/media/images/SGIS1.max-800x600.jpg)\n",
        "\n",
        "#### 2\\. 로그인 후 테스트 인증키 신청\n",
        "\n",
        "로그인 후 '인증키 발급 신청'을 클릭합니다.\n",
        "\n",
        "![content img](https://d3s0tskafalll9.cloudfront.net/media/images/SGIS2.max-800x600.jpg)\n",
        "\n",
        "인증키 신청 양식을 작성할 때는\n",
        "\n",
        "-   '\\*' 표시된 필수 입력 컬럼만 작성후 신청 버튼을 클릭합니다.\n",
        "-   서비스명은 임의로 넣어도 됩니다.\n",
        "-   '공유여부'는 'No'를 선택합니다.\n",
        "\n",
        "![content img](https://d3s0tskafalll9.cloudfront.net/media/images/SGIS3.max-800x600.jpg)\n",
        "\n",
        "#### 3\\. 인증키 신청완료 화면에서 서비스ID, 보안Key 확인\n",
        "\n",
        "-   신청 완료 화면은 아래와 같습니다. 마이페이지로 이동해도 서비스ID와 보안Key를 확인할 수 있습니다.\n",
        "\n",
        "![content img](https://d3s0tskafalll9.cloudfront.net/media/images/SGIS4.max-800x600.jpg)\n",
        "\n",
        "#### 접근토큰(access Token)\n",
        "\n",
        "SGIS 데이터 API를 활용하기 위해서는 'accessToken'를 항상 얻어와야 합니다. 매번 서비스ID와 보안Key를 입력해서 accessToken을 발급받는 코드를 작성하기 번거롭기 때문에 accessToken을 발급 받는 함수를 만들어 놓으면 편리합니다. 아래 함수는 이후 또 사용할 예정입니다.\n",
        "\n",
        "**(중요) 아래의 함수 `get_access_token` 내부의 consumer\\_key, consumer\\_secret 두 가지 변수에 개인이 발급받은 서비스ID와 보안Key를 입력하세요.**\n",
        "\n",
        "아래 코드가 정상적으로 실행되면 access token이 출력됩니다."
      ],
      "metadata": {
        "id": "bj3O7o47N3QZ"
      }
    },
    {
      "cell_type": "code",
      "execution_count": null,
      "metadata": {
        "id": "lDe1JUJyNb3t"
      },
      "outputs": [],
      "source": [
        "import requests\n",
        "\n",
        "### SGIS ACCESS TOKEN을 리턴 해주는 함수\n",
        "def get_access_token(consumer_key, consumer_secret) -> None:\n",
        "    temp_res = requests.get(\n",
        "        url=\"https://sgisapi.kostat.go.kr/OpenAPI3/auth/authentication.json\",\n",
        "        params={\n",
        "            \"consumer_key\": consumer_key,\n",
        "            \"consumer_secret\": consumer_secret\n",
        "        }\n",
        "    )\n",
        "\n",
        "    access_token = temp_res.json()[\"result\"][\"accessToken\"]\n",
        "  \n",
        "    return access_token\n",
        "\n",
        "# 여러분의 서비스ID, 보안Key 값을 함수에 넣어서 잘 작동하는지 확인해보세요\n",
        "consumer_key = \"\"   # 서비스ID\n",
        "consumer_secret = \"\" # 보안Key\n",
        "\n",
        "# get_access_token('서비스ID', '보안Key')\n",
        "print('access token: ', get_access_token(consumer_key, consumer_secret))"
      ]
    },
    {
      "cell_type": "markdown",
      "source": [
        "### 공공데이터 포털 API 사용방법\n",
        "\n",
        "___\n",
        "\n",
        "[공공데이터 포털](https://www.data.go.kr/uim/mss/socialMberInfoStep1FormView.do)에서 회원가입을 하고, 공공데이터 포탈 API를 사용해 봅시다.\n",
        "\n",
        "#### 1\\. 공공데이터 포털 회원가입\n",
        "\n",
        "공공데이터 포털에 회원가입을 합니다.\n",
        "\n",
        "![content img](https://d3s0tskafalll9.cloudfront.net/media/images/gonggongdeiteo1_hoeweongaib_sujeong.max-800x600.png)\n",
        "\n",
        "#### 2\\. 필요한 데이터 검색 후 데이터 활용 신청하기\n",
        "\n",
        "'데이터찾기'-'데이터목록'에 들어가 필요한 데이터를 검색하세요.\n",
        "\n",
        "![content img](https://d3s0tskafalll9.cloudfront.net/media/images/gonggongdeiteo2_deiteogeomsaeg.max-800x600.jpg)\n",
        "\n",
        "필요한 데이터를 클릭한 후, 아레의 그림과 같이 '활용신청'을 클릭합니다.\n",
        "\n",
        "![content img](https://d3s0tskafalll9.cloudfront.net/media/images/gonggongdeiteo3_deiteosinceong_korona.max-800x600.jpg)\n",
        "\n",
        "'활용목적'을 적은 후, '활용신청'을 클릭합니다.\n",
        "\n",
        "![content img](https://d3s0tskafalll9.cloudfront.net/media/images/gonggongdeiteo4_deiteosinceong.max-800x600.jpg)\n",
        "\n",
        "#### 3\\. 마이페이지에서 인증키 확인\n",
        "\n",
        "'마이페이지'에 가면 활용신청한 API 목록이 보일 것입니다. 원하는 데이터를 클릭하면 아래와 같이 나옵니다. 여기서 필요한 정보는 **일반 인증키(Decoding)** 입니다.\n",
        "\n",
        "**(중요) 인증키는 개인별로 다릅니다. 각 개인이 발급받아 사용하시길 바랍니다.**\n",
        "\n",
        "![content img](https://d3s0tskafalll9.cloudfront.net/media/images/gonggongdeiteo5_injeungki.max-800x600.jpg)\n",
        "\n",
        "#### 4\\. 사용 예시\n",
        "\n",
        "이제부터 '공공데이터 활용 지원센터\\_코로나19 예방접종센터 조회서비스'를 사용해 보겠습니다.\n",
        "\n",
        "-   [공공데이터 활용 지원센터\\_코로나19 예방접종센터 조회서비스](https://www.data.go.kr/data/15077586/openapi.do)\n",
        "\n",
        "API를 불러오는 함수를 만들어 데이터를 불러오겠습니다.\n",
        "\n",
        "**(중요) `serviceKey`에 본인의 일반 인증키(Decoding)를 넣고 함수를 실행시킵니다.**"
      ],
      "metadata": {
        "id": "6QPlxujYOCAi"
      }
    },
    {
      "cell_type": "code",
      "source": [
        "import requests\n",
        "import pandas as pd\n",
        "\n",
        "### 공공데이터활용지원센터_코로나19 예방접종센터 조회서비스 이용방법\n",
        "def get_vaccination_center(serviceKey):\n",
        "    temp_res = requests.get(\n",
        "        url=\"https://api.odcloud.kr/api/15077586/v1/centers\",\n",
        "        params={\n",
        "            \"serviceKey\": serviceKey\n",
        "        }\n",
        "    )\n",
        "\n",
        "    temp_df = pd.DataFrame(temp_res.json()[\"data\"])\n",
        "  \n",
        "    return temp_df\n",
        "\n",
        "# 본인의 일반 인증키(Decoding)를 넣어본다.\n",
        "serviceKey = \"\"\n",
        "vaccination_center_df = get_vaccination_center(serviceKey)\n",
        "vaccination_center_df"
      ],
      "metadata": {
        "id": "ghM5XFQKOCUi"
      },
      "execution_count": null,
      "outputs": []
    },
    {
      "cell_type": "markdown",
      "source": [
        "### 데이터 활용\n",
        "\n",
        "___\n",
        "\n",
        "#### 1\\. SGIS API를 활용해 서울시의 구 단위 코드 정보 dataframe 만들어 보기\n",
        "\n",
        "먼저 SGIS의 access token을 반환해주는 함수를 다시 한 번 보여드리겠습니다."
      ],
      "metadata": {
        "id": "VfuGcu4cOFSK"
      }
    },
    {
      "cell_type": "code",
      "source": [
        "### SGIS ACCESS TOKEN을 리턴 해주는 함수\n",
        "def get_access_token(consumer_key, consumer_secret) -> None:\n",
        "    temp_res = requests.get(\n",
        "        url=\"https://sgisapi.kostat.go.kr/OpenAPI3/auth/authentication.json\",\n",
        "        params={\n",
        "            \"consumer_key\": consumer_key,\n",
        "            \"consumer_secret\": consumer_secret\n",
        "        }\n",
        "    )\n",
        "  \n",
        "    access_token = temp_res.json()[\"result\"][\"accessToken\"]\n",
        "  \n",
        "    return access_token\n",
        "\n",
        "print(\"슝~\")"
      ],
      "metadata": {
        "id": "TaZtErgOOGeo"
      },
      "execution_count": null,
      "outputs": []
    },
    {
      "cell_type": "markdown",
      "source": [
        "다음은 SIGS의 서비스ID, 보안Key, 시도 코드를 입력받아 시/군/구 단위 지역 정보를 리스트 형태로 리턴받는 함수를 정의해 보겠습니다."
      ],
      "metadata": {
        "id": "9jMblB8zOIfK"
      }
    },
    {
      "cell_type": "code",
      "source": [
        "### SGIS 서비스ID, 보안Key, 시도 코드를 입력받아 시/군/구 단위 지역 정보를 리스트 형태로 리턴받는 함수\n",
        "def get_sido_info_list(consumer_key, consumer_secret, cd) -> None:\n",
        "    ACCESS_TOKEN=get_access_token(consumer_key, consumer_secret) # 위에서 정의한 get_access_token 사용\n",
        "    PARAMS={\n",
        "        \"accessToken\": ACCESS_TOKEN,\n",
        "        \"cd\": cd # 선택) 최대 5자리, non(default): 시도정보, 2자리: 시군구, 5자리: 읍면동 # 서울은 11\n",
        "        # \"pg_yn\": , # 선택) 경계 미포함(default): 0, 경계 포함: 1\n",
        "    }\n",
        "\n",
        "    temp_res = requests.get(\n",
        "        url=\"https://sgisapi.kostat.go.kr/OpenAPI3/addr/stage.json\",\n",
        "        params=PARAMS\n",
        "    )\n",
        "\n",
        "    temp_sido_info_list = temp_res.json()[\"result\"]\n",
        "    \n",
        "    return temp_sido_info_list\n",
        "\n",
        "print(\"슝~\")"
      ],
      "metadata": {
        "id": "661bhpxWOJ5r"
      },
      "execution_count": null,
      "outputs": []
    },
    {
      "cell_type": "markdown",
      "source": [
        "SGIS의 서비스ID, 보안Key, 시도 코드를 입력해서 서울시 지역 정보를 리스트로 가져오겠습니다.\n",
        "\n"
      ],
      "metadata": {
        "id": "biljPHSfOK3y"
      }
    },
    {
      "cell_type": "code",
      "source": [
        "#temp_seoul_info_list = get_sido_info_list(\"서비스ID\", \"보안key\", 11)\n",
        "temp_seoul_info_list = get_sido_info_list(consumer_key, consumer_secret, 11)\n",
        "\n",
        "temp_seoul_info_list"
      ],
      "metadata": {
        "id": "WGmr-T-8OMA6"
      },
      "execution_count": null,
      "outputs": []
    },
    {
      "cell_type": "markdown",
      "source": [
        "리스트 출력 결과를 확인하면 딕셔너리가 원소로 들어가 있습니다. 이를 데이터 프레임으로 표현해보도록 하겠습니다."
      ],
      "metadata": {
        "id": "50LayvkYONO6"
      }
    },
    {
      "cell_type": "code",
      "source": [
        "seoul_info_df = pd.DataFrame(temp_seoul_info_list)\n",
        "seoul_info_df"
      ],
      "metadata": {
        "id": "zT7S7zMLOOMC"
      },
      "execution_count": null,
      "outputs": []
    },
    {
      "cell_type": "markdown",
      "source": [
        "마지막으로 보기 좋게 컬럼 순서를 순차적으로 정렬하겠습니다."
      ],
      "metadata": {
        "id": "weTRjrSFOPUz"
      }
    },
    {
      "cell_type": "code",
      "source": [
        "seoul_info_df = seoul_info_df[[\"cd\", \"full_addr\", \"addr_name\", \"x_coor\", \"y_coor\"]]\n",
        "seoul_info_df"
      ],
      "metadata": {
        "id": "-QlN8shAOQRC"
      },
      "execution_count": null,
      "outputs": []
    },
    {
      "cell_type": "code",
      "source": [
        "# 데이터 프레임 정보 확인하기\n",
        "seoul_info_df.info()"
      ],
      "metadata": {
        "id": "fuTI4DMvORIa"
      },
      "execution_count": null,
      "outputs": []
    },
    {
      "cell_type": "markdown",
      "source": [
        "#### 2\\. SGIS API를 활용해 서울시의 동 단위 코드 정보 dataframe 만들어 보기\n",
        "\n",
        "위에서 정의한 함수`get_sido_info_list`을 조금 발전시켜서, 지역코드를 활용해 동 단위 정보를 데이터 프레임으로 가져오는 함수를 정의해보겠습니다."
      ],
      "metadata": {
        "id": "JIUSJDOYOSgC"
      }
    },
    {
      "cell_type": "code",
      "source": [
        "### 지역코드를 활용해 동 단위 정보를 데이터 프레임으로 가져오는 함수\n",
        "def get_cd_df(consumer_key, consumer_secret, cd) -> None:\n",
        "    ACCESS_TOKEN=get_access_token(consumer_key, consumer_secret)\n",
        "    PARAMS={\n",
        "        \"accessToken\": ACCESS_TOKEN,\n",
        "        \"cd\": cd # 선택) 최대 5자리, non(default): 시도정보, 2자리: 시군구, 5자리: 읍면동\n",
        "        # \"pg_yn\": , # 선택) 경계 미포함(default): 0, 경계 포함: 1\n",
        "    }\n",
        "\n",
        "    res = requests.get(\n",
        "        url=\"https://sgisapi.kostat.go.kr/OpenAPI3/addr/stage.json\",\n",
        "        params=PARAMS\n",
        "    )\n",
        "\n",
        "    # json -> dataframe\n",
        "    temp_df = pd.DataFrame(res.json()[\"result\"])\n",
        "\n",
        "    # 컬럼 순서변경\n",
        "    temp_df = temp_df[[\"cd\", \"full_addr\", \"addr_name\", \"x_coor\", \"y_coor\"]]\n",
        "    \n",
        "    return temp_df\n",
        "\n",
        "print(\"슝~\")"
      ],
      "metadata": {
        "id": "V7PTcT5DOS82"
      },
      "execution_count": null,
      "outputs": []
    },
    {
      "cell_type": "markdown",
      "source": [
        "서울특별시의 동 단위 데이터 프레임 만들어보겠습니다. 먼저 서울특별시 구 코드를 list로 생성하겠습니다."
      ],
      "metadata": {
        "id": "hDMEY3-FOVTL"
      }
    },
    {
      "cell_type": "code",
      "source": [
        "seoul_sig_cd_list = get_cd_df(consumer_key, consumer_secret, 11)[\"cd\"].values.tolist()\n",
        "seoul_sig_cd_list"
      ],
      "metadata": {
        "id": "YA1LusnyOX2K"
      },
      "execution_count": null,
      "outputs": []
    },
    {
      "cell_type": "markdown",
      "source": [
        "위에서 만든 seoul_sig_cd_list를 활용해 동단위 정보를 데이터 프레임으로 만들어 보겠습니다.\n",
        "for문을 이용해 반복하므로 시간이 조금 걸립니다. (약 2분)"
      ],
      "metadata": {
        "id": "NYKXdn33OY06"
      }
    },
    {
      "cell_type": "code",
      "source": [
        "import time\n",
        "\n",
        "# 서울특별시의 동 단위 데이터 프레임 (빈 데이터 프레임 생성)\n",
        "seoul_emd_df = pd.DataFrame()\n",
        "for cd in seoul_sig_cd_list:\n",
        "    temp_df = get_cd_df(consumer_key, consumer_secret, int(cd))\n",
        "    seoul_emd_df = seoul_emd_df.append(temp_df)\n",
        "    \n",
        "    time.sleep(0.5) # 0.5초 기다림\n",
        "\n",
        "seoul_emd_df"
      ],
      "metadata": {
        "id": "0wbBhAOpOamr"
      },
      "execution_count": null,
      "outputs": []
    },
    {
      "cell_type": "markdown",
      "source": [
        "### Q6. SGIS API를 이용해 농가 통계 데이터를 불러와 DataFrame으로 만들어 봅시다.\n",
        "\n",
        "___\n",
        "\n",
        "이제부터는 SGIS API에서 원하는 데이터를 불러와 DataFrame 형태로 표현해볼까요? 데이터별로 컬럼이 다르므로 **농가 통계** 데이터를 이용해보겠습니다.\n",
        "\n",
        "혹시 다른 데이터도 필요하시면 [개발지원센터 데이터API](https://sgis.kostat.go.kr/developer/html/openApi/api/data.html#5)에서 원하는 데이터 요청 주소를 얻을 수 있습니다.\n",
        "\n",
        "`get_country_info_list`함수는 농가 통계 데이터를 리스트 형태로 반환합니다.\n",
        "\n",
        "**함수 내부에 `url`인수에 농가 통계 정보의 API주소를 입력해주시기 바랍니다.**"
      ],
      "metadata": {
        "id": "bDVIngN2OcvC"
      }
    },
    {
      "cell_type": "code",
      "source": [
        "### SGIS 서비스ID, 보안Key, 시도 코드를 입력받아 농가 통계 정보를 리스트 형태로 리턴받는 함수\n",
        "def get_country_info_list(consumer_key, consumer_secret, year) -> None:\n",
        "    ACCESS_TOKEN=get_access_token(consumer_key, consumer_secret) # 위에서 정의한 get_access_token 사용\n",
        "    PARAMS={\n",
        "        \"accessToken\": ACCESS_TOKEN,\n",
        "        \"year\": year, # 연도, (2000, 2005, 2010, 2015)\n",
        "    }\n",
        "\n",
        "    temp_res = requests.get(\n",
        "        url=\"\", # 농가 통계 정보 데이터 API 주소를 입력하세요\n",
        "        params=PARAMS\n",
        "    )\n",
        "\n",
        "    temp_country_info_list= temp_res.json()[\"result\"]\n",
        "    \n",
        "    return temp_country_info_list\n",
        "\n",
        "print(\"슝~\")"
      ],
      "metadata": {
        "id": "pa7i1_c2Odz6"
      },
      "execution_count": null,
      "outputs": []
    },
    {
      "cell_type": "markdown",
      "source": [
        "농가 통계 데이터 url\n",
        "\n",
        "https://sgisapi.kostat.go.kr/OpenAPI3/stats/farmhousehold.json"
      ],
      "metadata": {
        "id": "C6Fklqh_OhLa"
      }
    },
    {
      "cell_type": "code",
      "source": [
        "#temp_country_info_list = get_country_info_list(\"서비스ID\", \"보안key\", #year)\n",
        "temp_country_info_list = get_country_info_list(consumer_key, consumer_secret, #year) # 년도(2000,2005,2010, 2015) 선택\n",
        "\n",
        "country_info_df = # 데이터 프레임 만들기\n",
        "country_info_df"
      ],
      "metadata": {
        "id": "7oyYuQRlOirq"
      },
      "execution_count": null,
      "outputs": []
    },
    {
      "cell_type": "markdown",
      "source": [
        "예시 답안\n",
        "\n",
        "```\n",
        "temp_country_info_list = get_country_info_list(consumer_key, consumer_secret, 2015)  \n",
        "country_info_df = pd.DataFrame(temp_country_info_list)  \n",
        "country_info_df\n",
        "```"
      ],
      "metadata": {
        "id": "shvJOYqDOW4q"
      }
    },
    {
      "cell_type": "markdown",
      "source": [
        "## 3-6. GeoPandas를 활용한 공간 데이터 시각화\n",
        "\n",
        "GeoPandas는 **파이썬에서 지리정보 데이터 처리의 기하하적 연산과 시각화 등을 돕는 패키지** 입니다. Pandas와 사용방법이 비슷하고, 공간정보 데이터를 분석하고 시각화 하는데 유용한 매서드가 포함되어 있습니다. GeoPandas는 **공간정보를 담고 있는 Geometry를 활용해 시각화** 할 수 있습니다.\n",
        "\n",
        "GeoPandas의 자료형은 GeoSeries와 GeoDataFrame입니다. 두 객체의 `plot()`을 사용하면 Geometry 데이터를 쉽게 시각화할 수 있습니다. Geometry 데이터는 지리정보를 표현하는 다각형, 선, 점을 의미하는데, 각각 'Polygon, LineString, Point'으로 정의되어 있습니다. 이제부터 Geometry 데이터인 Polygon, Point, LineString 데이터를 사용해 시각화하는 실습을 해보겠습니다.\n",
        "\n",
        "### Polygon(서울시 행정구역 시각화)\n",
        "\n",
        "___\n",
        "\n",
        "서울시 행정구역을 시각화하는 실습을 진행하겠습니다. 앞서 배운 SGIS API를 이용해 서울시 행정구역 코드 데이터를 가져와 시각화할 것입니다. 참고로 서울시 행정구역코드는 11입니다.\n",
        "\n",
        "코드를 실행하기 전에 이번 노드에서 필요한 라이브러리를 모두 import한 후 진행하겠습니다."
      ],
      "metadata": {
        "id": "bLLBLmgBOsNy"
      }
    },
    {
      "cell_type": "code",
      "source": [
        "# 필요한 라이브러리 import \n",
        "\n",
        "import requests\n",
        "import pprint\n",
        "import json\n",
        "import os\n",
        "import math\n",
        "import time\n",
        "import pandas as pd\n",
        "import numpy as np\n",
        "import geopandas as gpd\n",
        "import pyproj\n",
        "import folium\n",
        "import matplotlib.pyplot as plt\n",
        "\n",
        "from shapely.geometry import mapping, shape, Point, Polygon, LineString\n",
        "from folium import plugins\n",
        "from folium.plugins import MarkerCluster, HeatMap\n",
        "\n",
        "print(\"슝~\")"
      ],
      "metadata": {
        "id": "Eq9wwOheOnsY"
      },
      "execution_count": null,
      "outputs": []
    },
    {
      "cell_type": "code",
      "source": [
        "### Polygon 실습\n",
        "\n",
        "## 행정구역 코드를 이용한 행정구역 경계 데이터 가져오는 함수\n",
        "def get_features_json(access_token, si_code) -> None:\n",
        "    url=\"https://sgisapi.kostat.go.kr/OpenAPI3/boundary/hadmarea.geojson\"\n",
        "    params={\n",
        "        \"accessToken\": access_token,\n",
        "        \"year\": 2019, # 데이터 기준연도 범위: 2000 ~ 2019 / 2019가 가장 최근 데이터\n",
        "        \"adm_cd\": si_code, # 행정구역코드\n",
        "        \"low_search\": 0 # 행정구역코드에 해당하는 정보만 요청: 0, 1단계 하위 행정구역 정보 요청: 1, 2단계 하위 행정구역 정보 요청: 2\n",
        "    }\n",
        "\n",
        "    temp_features_json = requests.get(\n",
        "        url=url,\n",
        "        params=params\n",
        "    ).json()[\"features\"]\n",
        "\n",
        "    return temp_features_json\n",
        "\n",
        "print(\"슝~\")"
      ],
      "metadata": {
        "id": "VkO9RtrcOuzs"
      },
      "execution_count": null,
      "outputs": []
    },
    {
      "cell_type": "code",
      "source": [
        "## SGIS access_token 가져오는 함수\n",
        "access_token = get_access_token(consumer_key, consumer_secret)\n",
        "\n",
        "## 서울시 행정경계 데이터를 json으로 가져오기\n",
        "temp_features_json = get_features_json(access_token, 11)\n",
        "\n",
        "## 서울시 행정경계 데이터의 geometry 읽어오기\n",
        "temp_shape_data = temp_features_json[0][\"geometry\"]\n",
        "\n",
        "## Shape 라이브러리의 Shapely 메서드로 json geometry 읽어와서 시각화 하기\n",
        "temp_shape = shape(temp_shape_data)\n",
        "temp_shape"
      ],
      "metadata": {
        "id": "gtIgq5K5Ovy7"
      },
      "execution_count": null,
      "outputs": []
    },
    {
      "cell_type": "markdown",
      "source": [
        "### Point(공공데이터활용지원센터 코로나19 예방접종센터 시각화 실습)\n",
        "\n",
        "___\n",
        "\n",
        "이번에는 코로나19 예방접종센터 시각화 실습입니다. 공공데이터API를 이용해 진행하겠습니다.\n",
        "\n",
        "`get_vaccination_center`함수는 공공데이터 사이트에서 url, 서비스키를 이용해서 원하는 데이터를 불러와 데이터 프레임으로 변환해 반환합니다."
      ],
      "metadata": {
        "id": "KPcZkKqWOwaq"
      }
    },
    {
      "cell_type": "code",
      "source": [
        "### Point 실습\n",
        "### 공공데이터활용지원센터 코로나19 예방접종센터 데이터 가져오는 함수\n",
        "def get_vaccination_center(serviceKey) -> None:\n",
        "    temp_res = requests.get(\n",
        "        url=\"https://api.odcloud.kr/api/15077586/v1/centers\",\n",
        "        params={\n",
        "            \"serviceKey\": serviceKey\n",
        "        }\n",
        "    )\n",
        "\n",
        "    temp_df = pd.DataFrame(temp_res.json()[\"data\"])\n",
        "  \n",
        "    return temp_df\n",
        "\n",
        "print(\"슝~\")"
      ],
      "metadata": {
        "id": "fB6NBzraOysC"
      },
      "execution_count": null,
      "outputs": []
    },
    {
      "cell_type": "markdown",
      "source": [
        "함수의 인수인 `serviceKey`는 본인의 공공데이터 사이트의 `일반 인증키(Decoding)`을 입력하면 됩니다. 그리고 생성된 데이터 프레임을 확인해 봅시다."
      ],
      "metadata": {
        "id": "mm_8mC5mO0cE"
      }
    },
    {
      "cell_type": "code",
      "source": [
        "## 코로나19 예방접종센터 데이터를 데이터 프레임으로 가져오기\n",
        "vaccination_center_df = get_vaccination_center(serviceKey)\n",
        "vaccination_center_df"
      ],
      "metadata": {
        "id": "zFraYFj_O1fS"
      },
      "execution_count": null,
      "outputs": []
    },
    {
      "cell_type": "markdown",
      "source": [
        "코로나19 예방접종센터에 관련된 데이터 프레임이 생성되었습니다. 시각화 진행을 위해서는 위도와 경도 데이터를 활용해야 합니다. 현재 위도(lat), 경도(lng)의 데이터 타입은 **object**이므로 이를 **float**로 변경해야 합니다."
      ],
      "metadata": {
        "id": "0YcEDYFWO2xy"
      }
    },
    {
      "cell_type": "code",
      "source": [
        "## 위도(lat), 경도(lng)의 데이터 타입을 float으로 변경하기\n",
        "vaccination_center_df[\"lat\"] = vaccination_center_df[\"lat\"].astype(float)\n",
        "vaccination_center_df[\"lng\"] = vaccination_center_df[\"lng\"].astype(float)\n",
        "\n",
        "vaccination_center_df.info()"
      ],
      "metadata": {
        "id": "xIKOh-r4O3la"
      },
      "execution_count": null,
      "outputs": []
    },
    {
      "cell_type": "markdown",
      "source": [
        "다음은 예방접종센터의 위/경도 데이터를 이용해서 Geometry Point 객체를 생성해야 합니다. 여기에서는 `shapely.geometry`의 Point 메소드를 이용했습니다.\n",
        "\n",
        "그리고 Geopandas DataFrame을 이용해 데이터 프레임을 생성하면 됩니다."
      ],
      "metadata": {
        "id": "Z5cHy_8SO5xr"
      }
    },
    {
      "cell_type": "code",
      "source": [
        "## 예방접종센터의 위/경도 데이터로 Geometry Point 객체를 생성해서 Geometry 컬럼 생성하기\n",
        "vaccination_center_df[\"geometry\"] =vaccination_center_df.apply(lambda row: Point([row[\"lng\"], row[\"lat\"]]), axis=1)\n",
        "\n",
        "## Geopandas DataFrame으로 DataFrame 생성하기\n",
        "vaccination_center_gpd_df = gpd.GeoDataFrame(vaccination_center_df, geometry=\"geometry\")\n",
        "vaccination_center_gpd_df"
      ],
      "metadata": {
        "id": "kCD6FMsqO7Ay"
      },
      "execution_count": null,
      "outputs": []
    },
    {
      "cell_type": "markdown",
      "source": [
        "출력된 DataFrame의 Column 중 `geometry`를 살펴보면 값이 'POINT (127.00450 37.56782)'와 같은 형식입니다.  \n",
        "geopandas에서 geometry를 출력하게 되면 위와 같이 WKT 형태로 출력이 됩니다.  \n",
        "WKT는 Well-Known Text이라고 하며 지도, 공간 객체의 공간 참조 시스템(Spatial Reference System) 그리고 공간 참조 시스템 간의 변환을 표현하기 위한 텍스트 마크업 언어입니다.  \n",
        "WKT로 표현할 수 있는 기하학적 오브젝트는 포인트(Point), 선(Line), 폴리곤(Polygon), TIN 그리고 다각형(Polyhedrons)입니다.  \n",
        "위의 데이터는 Point 기하학적 오브젝트임을 알 수 있습니다.\n",
        "\n",
        "-   [\\[GIS\\] WKT(Well-Known Text) Geometry](http://www.gisdeveloper.co.kr/?p=994)\n",
        "\n",
        "마지막으로 확인할 것은 좌표계입니다. 만약 None이라면 좌표계를 정의해야 합니다."
      ],
      "metadata": {
        "id": "_eGedrFlO8tK"
      }
    },
    {
      "cell_type": "code",
      "source": [
        "## 좌표계 확인\n",
        "# None 값인 경우 좌표계를 정의 해주어야 합니다.\n",
        "print(vaccination_center_gpd_df.crs)"
      ],
      "metadata": {
        "id": "cuelvGAEO9vp"
      },
      "execution_count": null,
      "outputs": []
    },
    {
      "cell_type": "code",
      "source": [
        "## 위/경도 좌표계 정의\n",
        "# 위/경도 좌표계 EPSG 코드 -> epsg:4326은 좌표계에서 wgs84 범주에 포함됩니다.\n",
        "vaccination_center_gpd_df.crs = {\"init\": \"epsg:4326\"}\n",
        "vaccination_center_gpd_df.crs"
      ],
      "metadata": {
        "id": "jXI6Lp5AO-ja"
      },
      "execution_count": null,
      "outputs": []
    },
    {
      "cell_type": "markdown",
      "source": [
        "이제 캔버스 사이즈를 정의하고 코로나19 예방접종센터의 Point 시각화를 해보겠습니다."
      ],
      "metadata": {
        "id": "kQcYwB1mO_lx"
      }
    },
    {
      "cell_type": "code",
      "source": [
        "# 캔버스 사이즈 정의\n",
        "plt.rcParams['figure.figsize']=(10,20)\n",
        "\n",
        "## 시각화\n",
        "vaccination_center_gpd_df.plot(\n",
        "    color=\"blue\",\n",
        "    label=\"vaccination_center\"\n",
        ")\n",
        "plt.xlabel('longitude')\n",
        "plt.ylabel('latitude')\n",
        "plt.show()"
      ],
      "metadata": {
        "id": "aQtswCXcPAhq"
      },
      "execution_count": null,
      "outputs": []
    },
    {
      "cell_type": "markdown",
      "source": [
        "### Line(서울시 도로 시각화)\n",
        "\n",
        "___\n",
        "\n",
        "이번에는 서울시 도로를 시각화하겠습니다. 관련 데이터는 아래 링크에서 다운받을 수 있습니다.\n",
        "\n",
        "-   [공간 데이터 다운로드](http://data.nsdi.go.kr/dataset/12902)\n",
        "\n",
        "이 데이터에는 서울시 도로의 시점과 종점, 도로명부여의 기본정보가 포함되어 있습니다.\n",
        "\n",
        "클라우드 환경에서 사용하기 때문에 `cloud shell`에서 아래 명령어를 실행해야 합니다.\n",
        "\n",
        "```bash\n",
        "$ mkdir -p ~/aiffel/socar_gis/data  \n",
        "$ ln -s ~/data/* ~/aiffel/socar_gis/data  \n",
        "```\n",
        "\n",
        "만약 로컬에서 사용할 경우 파일 압축 해제 후 **Z\\_KAIS\\_TL\\_SPRD\\_MANAGE\\_11000.shp, Z\\_KAIS\\_TL\\_SPRD\\_MANAGE\\_11000.shx, Z\\_KAIS\\_TL\\_SPRD\\_MANAGE\\_11000.dbf 파일**을 실습에 활용합니다. (**3개의 파일이 같은 폴더**에 위치해 있어야 합니다.)"
      ],
      "metadata": {
        "id": "8aTPXVBhPCgS"
      }
    },
    {
      "cell_type": "code",
      "source": [
        "### Line 실습\n",
        "### 서울시 도로 공간 데이터를 Geopanda DataFrame으로 읽어오기\n",
        "import os\n",
        "path = os.getenv('HOME') +'/aiffel/socar_gis/data/Z_KAIS_TL_SPRD_MANAGE_11000.shp'\n",
        "seoul_line_geo_df = gpd.read_file(\n",
        "    path, # file_name\n",
        "    encoding=\"cp949\" # 한글깨짐 현상 방지\n",
        ")\n",
        "\n",
        "seoul_line_geo_df.head()"
      ],
      "metadata": {
        "id": "nIIzCj3qPDr6"
      },
      "execution_count": null,
      "outputs": []
    },
    {
      "cell_type": "markdown",
      "source": [
        "생성된 geopandas 데이터 프레임을 이용해서 시각화를 진행하겠습니다. plot 메소드를 이용하면 간단하게 생성할 수 있습니다."
      ],
      "metadata": {
        "id": "cgJ8JlxIPEna"
      }
    },
    {
      "cell_type": "code",
      "source": [
        "## 시각화 하기\n",
        "# 캔버스 사이즈 정의\n",
        "plt.rcParams['figure.figsize']=(10,20)\n",
        "\n",
        "# Line 시각화\n",
        "seoul_line_geo_df.plot(\n",
        "    color=\"black\"\n",
        ")"
      ],
      "metadata": {
        "id": "t2p-gG0HPF7r"
      },
      "execution_count": null,
      "outputs": []
    },
    {
      "cell_type": "markdown",
      "source": [
        "## 3-7. 좌표계 변환\n",
        "\n",
        "처음에 다양한 공간데이터를 활용할 때 좌표계를 일치시켜줘야 한다고 배웠습니다. 이번에는 좌표계를 변환하는 방법을 익혀서 다양한 데이터를 우리의 의도대로 분석할 수 있도록 하겠습니다.\n",
        "\n",
        "### Geopandas를 활용한 좌표계 변환 방법\n",
        "\n",
        "___\n",
        "\n",
        "인천공항의 주소 데이터를 가져와서 Geopandas DataFrame로 생성한 후, UTM-K 좌표계로 되어 있는 좌표를 위/경도 좌표계로 변경하겠습니다.\n",
        "\n",
        "-   [SGIS API 활용 정보 링크](https://sgis.kostat.go.kr/developer/html/openApi/api/data.html#52)\n",
        "\n",
        "앞서 정의했던 `get_access_token`을 이용해서 access token을 가져오도록 하겠습니다. 입력 인수는 SGIS 사이트의 나의 인증키에서 `서비스ID`, `보안Key`입니다.\n",
        "\n",
        "그리고 `get_address_info`함수는 access token과 주소를 입력해 DataFrame을 반환하는 함수입니다."
      ],
      "metadata": {
        "id": "06I5ugVgPIF1"
      }
    },
    {
      "cell_type": "code",
      "source": [
        "## SGIS access_token 가져오기\n",
        "access_token = get_access_token(consumer_key, consumer_secret)\n",
        "\n",
        "## 주소를 입력해 주소의 데이터를 DataFrame으로 가지고오는 함수\n",
        "def get_adress_info(access_token, address) -> None:\n",
        "    url=\"https://sgisapi.kostat.go.kr/OpenAPI3/addr/geocode.json\"\n",
        "    params={\n",
        "        \"accessToken\": access_token,\n",
        "        \"address\": address\n",
        "    }\n",
        "\n",
        "    temp_res = requests.get(\n",
        "        url=url,\n",
        "        params=params\n",
        "    ).json()[\"result\"][\"resultdata\"]\n",
        "\n",
        "    temp_df = pd.DataFrame(temp_res)\n",
        "\n",
        "    return temp_df\n",
        "\n",
        "print(\"슝~\")"
      ],
      "metadata": {
        "id": "qcgouOMIPI1w"
      },
      "execution_count": null,
      "outputs": []
    },
    {
      "cell_type": "markdown",
      "source": [
        "그럼 인천공항 주소를 입력해 DataFrame으로 가지고 오겠습니다.\n",
        "\n",
        "-   인천공항 주소: 인천 중구 공항로 271"
      ],
      "metadata": {
        "id": "7qK-1JcwPLWS"
      }
    },
    {
      "cell_type": "code",
      "source": [
        "# 예시) 인천공항 주소 정보 DataFrame으로 가지고 오기\n",
        "# 인천공항 주소: 인천 중구 공항로 271\n",
        "address_df = get_adress_info(access_token, \"인천 중구 공항로 271\")\n",
        "address_df"
      ],
      "metadata": {
        "id": "oQhFgotKPMRK"
      },
      "execution_count": null,
      "outputs": []
    },
    {
      "cell_type": "markdown",
      "source": [
        "위도(x)와 경도(y)의 연산을 위해 데이터타입을 float로 변경하겠습니다."
      ],
      "metadata": {
        "id": "0306KP2TPNuC"
      }
    },
    {
      "cell_type": "code",
      "source": [
        "## 위도(x), 경도(y)의 데이터 타입을 float으로 변경하기\n",
        "address_df[\"x\"] = address_df[\"x\"].astype(float)\n",
        "address_df[\"y\"] = address_df[\"y\"].astype(float)\n",
        "\n",
        "address_df.info()"
      ],
      "metadata": {
        "id": "kvjL5M8LPNQ6"
      },
      "execution_count": null,
      "outputs": []
    },
    {
      "cell_type": "markdown",
      "source": [
        "다음은 위/경도 데이터를 이용해서 Geometry Point 객체를 생성해야 합니다. 여기에서는 `shapely.geometry`의 Point 메소드를 이용했습니다.\n",
        "\n",
        "그 후 Geopandas DataFrame을 이용해 데이터 프레임을 생성하면 됩니다. 앞선 Point 실습과 동일한 방법입니다."
      ],
      "metadata": {
        "id": "z6qJRajHPQor"
      }
    },
    {
      "cell_type": "code",
      "source": [
        "## 주소정보중 위/경도 데이터로 Geometry Point 객체를 생성해서 Geometry 컬럼 생성하기\n",
        "address_df[\"geometry\"] = address_df.apply(lambda row: Point([row[\"x\"], row[\"y\"]]), axis=1)\n",
        "\n",
        "## Geopandas DataFrame으로 DataFrame 생성하기\n",
        "address_geo_df = gpd.GeoDataFrame(address_df, geometry=\"geometry\")\n",
        "address_geo_df[[\"bd_main_nm\", \"x\", \"y\", \"geometry\"]]"
      ],
      "metadata": {
        "id": "p1p4OubkPSBS"
      },
      "execution_count": null,
      "outputs": []
    },
    {
      "cell_type": "markdown",
      "source": [
        "좌표계를 확인했을 때 'None'이라면 정의를 해줍니다."
      ],
      "metadata": {
        "id": "8F8V7LN1PS-L"
      }
    },
    {
      "cell_type": "code",
      "source": [
        "## 좌표계 확인\n",
        "# None 값인 경우 좌표계를 정의 해주어야 합니다.\n",
        "print(address_geo_df.crs)"
      ],
      "metadata": {
        "id": "XWTIOA7iPT8a"
      },
      "execution_count": null,
      "outputs": []
    },
    {
      "cell_type": "code",
      "source": [
        "## 위/경도 좌표계 정의\n",
        "# SGIS 기본 좌표계 UTM-K 좌표계를 사용합니다.\n",
        "# UTM-K 좌표계의 EPSG코드는 epsg:5179를 사용합니다.\n",
        "address_geo_df.crs = {\"init\": \"epsg:5179\"}\n",
        "address_geo_df.crs"
      ],
      "metadata": {
        "id": "gxhRDAZ3PU2q"
      },
      "execution_count": null,
      "outputs": []
    },
    {
      "cell_type": "markdown",
      "source": [
        "마지막으로 UTM-K 좌표계를 WGS84(위/경도) 좌표계로 변환하겠습니다. WGS84 좌표계의 EPSG코드는 epsg:4326을 사용합니다."
      ],
      "metadata": {
        "id": "SGvtlMXTPWHk"
      }
    },
    {
      "cell_type": "code",
      "source": [
        "## UTM-K 좌표계 -> WGS84(위/경도) 좌표계 변환\n",
        "address_geo_df = address_geo_df.to_crs({\"init\": \"epsg:4326\"})\n",
        "address_geo_df[[\"bd_main_nm\", \"x\", \"y\", \"geometry\"]]"
      ],
      "metadata": {
        "id": "gnK5p_LIPXPk"
      },
      "execution_count": null,
      "outputs": []
    },
    {
      "cell_type": "markdown",
      "source": [
        "### pyproj를 활용한 좌표계 변환 방법\n",
        "\n",
        "___\n",
        "\n",
        "이번에는 pyproj 라이브러리를 이용해 좌표계를 변환해보겠습니다. 국립 현충원 주소 정보를 이용해 진행하겠습니다.\n",
        "\n",
        "먼저 SGIS access token을 가져온 후 주소를 입력해 주소의 데이터를 DataFrame로 반환하는 함수 `get_adress_info`을 정의하겠습니다.\n",
        "\n",
        "국립 현충원 주소 정보(서울특별시 동작구 동작동 271-18)를 이용해 DataFrame으로 가져오겠습니다."
      ],
      "metadata": {
        "id": "9EauHq_bPYwK"
      }
    },
    {
      "cell_type": "code",
      "source": [
        "# 예시) 국립 현충원 주소 정보 DataFrame으로 가지고 오기\n",
        "# 국립 현충원 주소: 서울특별시 동작구 동작동 271-18\n",
        "address_df = get_adress_info(access_token, \"서울특별시 동작구 동작동 271-18\")\n",
        "address_df[[\"sido_nm\", \"sgg_nm\", \"adm_nm\", \"jibun_main_no\", \"jibun_sub_no\", \"x\", \"y\"]]"
      ],
      "metadata": {
        "id": "A_R6zxNpPZ3L"
      },
      "execution_count": null,
      "outputs": []
    },
    {
      "cell_type": "markdown",
      "source": [
        "다음은 pyproj의 Proj, transform 메소드를 이용해서 UTM-K 좌표계를 WGS84(위/경도) 좌표계로 변환하는 함수 `utmk_to_wgs84`를 정의하겠습니다."
      ],
      "metadata": {
        "id": "IkBrIM91PbQa"
      }
    },
    {
      "cell_type": "code",
      "source": [
        "### UTM-K 좌표계를 WGS84 좌표계로 변환하는 함수\n",
        "# 좌표계별 EPSG CODE 종류: UTM-K 좌표계(EPSG:5179), WGS84(위/경도 좌표계, EPSG:4326)\n",
        "\n",
        "def utmk_to_wgs84(utmk_x, utmk_y) -> None:\n",
        "    utmk_proj = pyproj.Proj(init=\"EPSG:5179\") # UTM-K 좌표계 정의\n",
        "    wgs84_proj = pyproj.Proj(init=\"EPSG:4326\") # WGS84 좌표계 정의\n",
        "    \n",
        "    # 좌표 변환 수헹\n",
        "    wgs84_x, wgs84_y = pyproj.transform(utmk_proj, wgs84_proj, utmk_x, utmk_y)\n",
        "    # print(f\"UTM-K 위도: {utmk_y} -> WGS84 위도: {wgs84_y} \\nUTM-K 경도: {utmk_x} -> WGS84 경도: {wgs84_x}\")\n",
        "    \n",
        "    \n",
        "    return wgs84_x, wgs84_y\n",
        "\n",
        "print(\"슝~\")"
      ],
      "metadata": {
        "id": "9nU--29aPcIr"
      },
      "execution_count": null,
      "outputs": []
    },
    {
      "cell_type": "markdown",
      "source": [
        "마지막으로 변환된 좌푯값을 가져와 DataFrame 컬럼에 추가하면 끝입니다.\n",
        "\n"
      ],
      "metadata": {
        "id": "QMo_7mbEPdGj"
      }
    },
    {
      "cell_type": "code",
      "source": [
        "# 변환된 좌푯값을 가져와 데이터 프레임에 컬럼으로 추가하기\n",
        "address_df[[\"wgs84_x\", \"wgs84_y\"]] = utmk_to_wgs84(address_df.loc[0, \"x\"], address_df.loc[0, \"y\"])\n",
        "address_df[[\"sido_nm\", \"sgg_nm\", \"adm_nm\", \"jibun_main_no\", \"jibun_sub_no\", \"x\", \"y\", \"wgs84_x\", \"wgs84_y\"]]"
      ],
      "metadata": {
        "id": "a_4pdSJyPeO6"
      },
      "execution_count": null,
      "outputs": []
    },
    {
      "cell_type": "markdown",
      "source": [
        "### SGIS API를 활용한 좌표계 변환\n",
        "\n",
        "___\n",
        "\n",
        "이번에는 SGIS API에서 서울시청 주소 데이터를 DataFrame으로 가져와서 SGIS 좌표변환 API를 활용해 좌표계를 변환하겠습니다.\n",
        "\n",
        "-   [API 활용 정보 링크](https://sgis.kostat.go.kr/developer/html/openApi/api/data.html#3)\n",
        "-   [좌표계코드참고표 링크](https://sgis.kostat.go.kr/developer/html/openApi/api/dataCode/CoordCode.html)"
      ],
      "metadata": {
        "id": "P6C3nZjMPfeL"
      }
    },
    {
      "cell_type": "code",
      "source": [
        "# 예시) 서울시청 주소 정보 DataFrame으로 가지고 오기\n",
        "# 서울시청 주소: 서울 중구 세종대로 110 서울특별시청\n",
        "address_df = get_adress_info(access_token, \"서울 중구 세종대로 110 서울특별시청\")\n",
        "address_df[[\"sido_nm\", \"sgg_nm\", \"adm_nm\", \"jibun_main_no\", \"jibun_sub_no\", \"x\", \"y\"]]"
      ],
      "metadata": {
        "id": "s9kzHO9yPgiD"
      },
      "execution_count": null,
      "outputs": []
    },
    {
      "cell_type": "markdown",
      "source": [
        "SGIS 좌표변환 API를 활용해 좌표를 변환하는 함수 `get_transcoord`를 정의하겠습니다. 좌표 변환 후 DataFrame에 변환된 좌표 컬럼을 추가하겠습니다."
      ],
      "metadata": {
        "id": "faqyJW-uPh56"
      }
    },
    {
      "cell_type": "code",
      "source": [
        "## SGIS 좌표변환 API를 활용한 좌표변환 함수 정의\n",
        "def get_transcoord(access_token, src, dst, posX, posY) -> None:\n",
        "    url=\"https://sgisapi.kostat.go.kr/OpenAPI3/transformation/transcoord.json\"\n",
        "    params={\n",
        "        \"accessToken\": access_token,\n",
        "        \"src\": src, # 현재 좌표체계\n",
        "        \"dst\": dst, # 변환할 좌표체계\n",
        "        \"posX\": posX, # 변환할 좌표 X값\n",
        "        \"posY\":\tposY # 변환할 좌표 Y값\n",
        "    }\n",
        "\n",
        "    temp_dict = requests.get(\n",
        "        url=url,\n",
        "        params=params\n",
        "    ).json()[\"result\"]\n",
        "\n",
        "    return temp_dict[\"posX\"], temp_dict[\"posY\"] # 변환된 좌푯값 딕셔너리의 value 리턴\n",
        "\n",
        "print(\"슝~\")"
      ],
      "metadata": {
        "id": "kAScPXGHPi6T"
      },
      "execution_count": null,
      "outputs": []
    },
    {
      "cell_type": "code",
      "source": [
        "# 변환후 데이터 프레임에 변환된 좌표 컬럼 추가하기\n",
        "address_df[[\"transcoord_x\", \"transcoord_y\"]] = get_transcoord(access_token, \"EPSG:5179\", \"EPSG:4326\", address_df.loc[0, \"x\"], address_df.loc[0, \"y\"])\n",
        "address_df[[\"sido_nm\", \"sgg_nm\", \"adm_nm\", \"jibun_main_no\", \"jibun_sub_no\", \"x\", \"y\", \"transcoord_x\", \"transcoord_y\"]]"
      ],
      "metadata": {
        "id": "R6Bctve2PkIr"
      },
      "execution_count": null,
      "outputs": []
    },
    {
      "cell_type": "markdown",
      "source": [
        "**Q7.** SGIS 좌표변환 API를 이용해 제주공항 주소(**제주 제주시 공항로 2 제주국제공항**)로 좌표 정보를 가져와서 UTM-K 좌표계를 WGS84(위/경도) 좌표계로 변환해봅시다.\n",
        "\n",
        "  \n",
        "\n",
        "(hint)아래 코드 블럭 중 \"주소\" 부분을 채워야 합니다."
      ],
      "metadata": {
        "id": "EEI3O8KnPl0z"
      }
    },
    {
      "cell_type": "code",
      "source": [
        "# 예시) 제주공항 주소 정보 DataFrame으로 가지고 오기\n",
        "# 제주공항 주소: 제주 제주시 공항로 2 제주국제공항\n",
        "address_df = get_adress_info(access_token,  \"주소\") # 주소입력\n",
        "address_df[[\"sido_nm\", \"sgg_nm\", \"adm_nm\", \"jibun_main_no\", \"jibun_sub_no\", \"x\", \"y\"]]"
      ],
      "metadata": {
        "id": "yjWjsC-sPndM"
      },
      "execution_count": null,
      "outputs": []
    },
    {
      "cell_type": "code",
      "source": [
        "# 변환후 데이터 프레임에 변환된 좌표 컬럼 추가하기\n",
        "address_df[[\"transcoord_x\", \"transcoord_y\"]] =  ###YOUR CODE###\n",
        "\n",
        "###YOUR CODE###"
      ],
      "metadata": {
        "id": "YNiVHXukPoY7"
      },
      "execution_count": null,
      "outputs": []
    },
    {
      "cell_type": "markdown",
      "source": [
        "예시답안\n",
        "\n",
        "```\n",
        "\n",
        "# 변환후 데이터 프레임에 변환된 좌표 컬럼 추가하기\n",
        "address_df[[\"transcoord_x\", \"transcoord_y\"]] = get_transcoord(access_token, \"EPSG:5179\", \"EPSG:4326\", address_df.loc[0, \"x\"], address_df.loc[0, \"y\"])  \n",
        "address_df[[\"sido_nm\", \"sgg_nm\", \"adm_nm\", \"jibun_main_no\", \"jibun_sub_no\", \"x\", \"y\", \"transcoord_x\", \"transcoord_y\"]]\n",
        "\n",
        "```"
      ],
      "metadata": {
        "id": "LD4JEw6bPrDT"
      }
    },
    {
      "cell_type": "markdown",
      "source": [
        "## 3-8. Folium를 활용한 공간 데이터 시각화\n",
        "\n",
        "이번에는 Folium 라이브러리를 이용해 공간 데이터(점/선/면)를 시각화해보겠습니다.  \n",
        "Folium 라이브러리 사용법은 아래 링크를 참고해주시기 바랍니다.\n",
        "\n",
        "-   [Folium 라이브러리 사용법 링크](https://python-visualization.github.io/folium/quickstart.html#Getting-Started)\n",
        "-   [Folium 사용방법 참고 자료 링크](https://autogis-site.readthedocs.io/en/latest/notebooks/L5/02_interactive-map-folium.html)\n",
        "\n",
        "### 점(Point) 데이터 시각화\n",
        "\n",
        "___\n",
        "\n",
        "공공데이터에서 '전국 도시철도 역사정보 표준데이터'를 가져와서 시각화를 진행하겠습니다.\n",
        "\n",
        "로컬에서 사용하실 분들은 아래 링크에서 데이터를 다운받으시면 됩니다.\n",
        "\n",
        "-   [전국 도시철도 역사정보 표준데이터](https://www.data.go.kr/data/15013205/standard.do)"
      ],
      "metadata": {
        "id": "1nv9g2HWPv-C"
      }
    },
    {
      "cell_type": "code",
      "source": [
        "### 전국도시철도역사정보표준데이터 가져오기\n",
        "\n",
        "subway_station_info_df = pd.read_csv(os.getenv('HOME') + \"/aiffel/socar_gis/data/train_station_info.csv\", encoding=\"cp949\")\n",
        "subway_station_info_df.head()"
      ],
      "metadata": {
        "id": "AsEL9pj5Prdf"
      },
      "execution_count": null,
      "outputs": []
    },
    {
      "cell_type": "code",
      "source": [
        "## 위도(lat), 경도(lng)의 데이터 타입을 float으로 변경하기\n",
        "subway_station_info_df[\"역위도\"] = subway_station_info_df[\"역위도\"].astype(float)\n",
        "subway_station_info_df[\"역경도\"] = subway_station_info_df[\"역경도\"].astype(float)\n",
        "\n",
        "subway_station_info_df.info()"
      ],
      "metadata": {
        "id": "eUCxsocBPyK6"
      },
      "execution_count": null,
      "outputs": []
    },
    {
      "cell_type": "markdown",
      "source": [
        "Folium을 이용해 시각화를 하기 위해 초기 Map을 생성해야 합니다. 또한 초기 Map 메소드에는 초기 중심값 좌표가 들어가야 합니다. 그럼 초기 Map을 생성해 출력해보겠습니다.\n",
        "\n",
        "스크롤을 이용해 확대/축소가 가능함을 알 수 있습니다."
      ],
      "metadata": {
        "id": "zHgIGyD1P0Fa"
      }
    },
    {
      "cell_type": "code",
      "source": [
        "# Folium 초기 Map 객체 생성\n",
        "# 초기 Map 메소드에는 초기 중심값 좌표가 들어가야 합니다.  \n",
        "base_map = folium.Map(\n",
        "    location=[37.566345, 126.977893]\n",
        ")\n",
        "\n",
        "base_map"
      ],
      "metadata": {
        "id": "TaovixpnP1Ia"
      },
      "execution_count": null,
      "outputs": []
    },
    {
      "cell_type": "markdown",
      "source": [
        "점 데이터를 지도에 시각화해야 하기 때문에 지도에 circle을 찍어보도록 하겠습니다. Circle 메소드를 이용해 Folium Map에 점을 표시하겠습니다. 여기서는 앞서 생성한 전국도시철도 DataFrame을 이용합니다."
      ],
      "metadata": {
        "id": "dvlGs0LEP2Bj"
      }
    },
    {
      "cell_type": "code",
      "source": [
        "# 지도에 Circle 찍기\n",
        "for index_num in range(len(subway_station_info_df)):\n",
        "    folium.Circle(\n",
        "        location=[subway_station_info_df.loc[index_num, \"역위도\"], subway_station_info_df.loc[index_num, \"역경도\"]],\n",
        "        radius=200,\n",
        "        color=\"blue\",\n",
        "        popup=subway_station_info_df.loc[index_num, \"역번호\"]\n",
        "    ).add_to(base_map)\n",
        "\n",
        "base_map"
      ],
      "metadata": {
        "id": "euhZ0WAxP3Hb"
      },
      "execution_count": null,
      "outputs": []
    },
    {
      "cell_type": "markdown",
      "source": [
        "### 선(Line) 데이터 시각화\n",
        "\n",
        "___\n",
        "\n",
        "이번에는 서울시 버스 노선 정보를 가져와 시각화하겠습니다.\n",
        "\n",
        "로컬에서 사용하실 분들은 아래 링크에서 데이터를 다운받으면 됩니다.\n",
        "\n",
        "[20190124\\_seoul\\_bus.csv](https://d3s0tskafalll9.cloudfront.net/media/documents/20190124_seoul_bus.csv)"
      ],
      "metadata": {
        "id": "keQ_tGg0P9Ja"
      }
    },
    {
      "cell_type": "code",
      "source": [
        "# 버스노선 정보 csv 파일을 DataFrame으로 읽어오기\n",
        "path = os.getenv('HOME') + '/aiffel/socar_gis/data/20190124_seoul_bus.csv'\n",
        "\n",
        "bus_line_info_df = pd.read_csv(path)\n",
        "bus_line_info_df.tail()"
      ],
      "metadata": {
        "id": "91FJMq44P9pD"
      },
      "execution_count": null,
      "outputs": []
    },
    {
      "cell_type": "markdown",
      "source": [
        "모든 노선을 시각화하기에는 시간이 오래 걸리기 때문에 노선명이 '중랑02'인 버스노선만 시각화하겠습니다."
      ],
      "metadata": {
        "id": "QiVcvG4oP_t6"
      }
    },
    {
      "cell_type": "code",
      "source": [
        "# 노선명이 중랑02인 버스노선만 필터링\n",
        "sample_bus_line_info_df = bus_line_info_df[bus_line_info_df[\"노선명\"] == \"중랑02\"]\n",
        "\n",
        "# index 초기화\n",
        "sample_bus_line_info_df = sample_bus_line_info_df.reset_index()\n",
        "\n",
        "print(\"슝~\")"
      ],
      "metadata": {
        "id": "A320qTegQApy"
      },
      "execution_count": null,
      "outputs": []
    },
    {
      "cell_type": "code",
      "source": [
        "# 중랑02 노선 정류소 이름 리스트 만들기\n",
        "sample_point_name_list = sample_bus_line_info_df[\"정류소명\"].to_list()\n",
        "\n",
        "# 중랑02 노선 정류소별 좌표값 리스트로 만들기 \n",
        "sample_point_list = [[sample_bus_line_info_df.loc[index_num, \"Y좌표\"], sample_bus_line_info_df.loc[index_num, \"X좌표\"]] for index_num in range(len(sample_bus_line_info_df))]\n",
        "\n",
        "print(\"슝~\")"
      ],
      "metadata": {
        "id": "CJJOeq6nQBwa"
      },
      "execution_count": null,
      "outputs": []
    },
    {
      "cell_type": "markdown",
      "source": [
        "점 데이터 시각화할때와 마찬가지로 Folium 초기 Map 객체를 생성합니다. 물론 초기 중심값 좌표(여기에서는 서울시 중심부 위도, 경도 값 사용)를 넣어줘야합니다."
      ],
      "metadata": {
        "id": "90rFQEvLQKPa"
      }
    },
    {
      "cell_type": "code",
      "source": [
        "# Folium 초기 Map 객체를 생성 합니다.\n",
        "# 초기 Map 메소드에는 초기 중심값 좌표가 들어가야 합니다.\n",
        "\n",
        "# 서울시 중심부 위도, 경도\n",
        "center = [37.541, 126.986]\n",
        "\n",
        "# map이 서울 중심부에 위치하고, zoom 레벨은 10으로 시작 합니다.\n",
        "map = folium.Map(\n",
        "    location=center,\n",
        "    zoom_start=12\n",
        "\n",
        ")\n",
        "\n",
        "\n",
        "print(\"슝~\")"
      ],
      "metadata": {
        "id": "qYtUclKeQK7i"
      },
      "execution_count": null,
      "outputs": []
    },
    {
      "cell_type": "code",
      "source": [
        "# 중랑02 노선 정류소별 좌표값 리스트를 이용해 Line 시각화\n",
        "folium.PolyLine(\n",
        "    locations=sample_point_list,\n",
        "    color=\"red\",\n",
        "    weight=2.5,\n",
        "    opacity=1\n",
        ").add_to(map)"
      ],
      "metadata": {
        "id": "-WRTHKwVQMoi"
      },
      "execution_count": null,
      "outputs": []
    },
    {
      "cell_type": "code",
      "source": [
        "map # folium을 이용해 생성한 map 객체 실행"
      ],
      "metadata": {
        "id": "0S--spVcQOYK"
      },
      "execution_count": null,
      "outputs": []
    },
    {
      "cell_type": "markdown",
      "source": [
        "### 면(Shape) 데이터 시각화\n",
        "\n",
        "___\n",
        "\n",
        "이번에는 서울시 구단위 경계면을 시각화하겠습니다."
      ],
      "metadata": {
        "id": "TYzSZTX6QPCq"
      }
    },
    {
      "cell_type": "code",
      "source": [
        "# 서울시 구단위 경계 데이터 불러오기\n",
        "\n",
        "seoul_sig_geo_data_path = os.getenv(\"HOME\") + \"/aiffel/socar_gis/data/korea_seoul_sig.json\"\n",
        "seoul_sig_geo_data = json.load(\n",
        "    open(seoul_sig_geo_data_path, encoding=\"utf-8\")\n",
        ")\n",
        "\n",
        "\n",
        "print(\"슝~\")"
      ],
      "metadata": {
        "id": "qEEM0YfxQRaa"
      },
      "execution_count": null,
      "outputs": []
    },
    {
      "cell_type": "code",
      "source": [
        "# 서울시 중심부 위도, 경도\n",
        "center = [37.541, 126.986]\n",
        "\n",
        "# map이 서울 중심부에 위치하고, zoom 레벨은 10으로 시작 합니다.\n",
        "map = folium.Map(\n",
        "    location=center,\n",
        "    zoom_start=10,\n",
        "    )\n",
        "\n",
        "print(\"슝~\")"
      ],
      "metadata": {
        "id": "Av5C6IMWQS_L"
      },
      "execution_count": null,
      "outputs": []
    },
    {
      "cell_type": "code",
      "source": [
        "# map 객체에 서울시 구 단위 경계 데이터 올리기\n",
        "folium.GeoJson(\n",
        "    seoul_sig_geo_data,\n",
        "    name=\"seoul_gu\"\n",
        ").add_to(map)"
      ],
      "metadata": {
        "id": "EBQIFRIQQUNL"
      },
      "execution_count": null,
      "outputs": []
    },
    {
      "cell_type": "code",
      "source": [
        "map"
      ],
      "metadata": {
        "id": "ntfOTgL2QVbk"
      },
      "execution_count": null,
      "outputs": []
    },
    {
      "cell_type": "markdown",
      "source": [
        "지금까지 공간 데이터 시각화를 위해 개념부터 API활용방법, 데이터 전처리, 다양한 라이브러리를 학습했습니다. 한 번에 많은 내용이라 시간이 오래 걸렸을 것이라 생각합니다. 지금은 전체적인 흐름을 이해하시고 라이브러리 활용법만 익혀도 충분합니다.\n",
        "\n",
        "다음 프로젝트 노드에서는 시각화 응용을 한 후 쏘카존을 찾기 위한 공간 데이터 시각화를 직접 경험해 볼 수 있을것입니다."
      ],
      "metadata": {
        "id": "wu3irMC1QV7z"
      }
    }
  ]
}