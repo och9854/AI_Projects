{
 "cells": [
  {
   "cell_type": "markdown",
   "id": "7908caf5",
   "metadata": {},
   "source": [
    "## 4-1. 들어가며\n",
    "\n",
    "렉처 노드에서는 공간 데이터의 개념, API 활용, 데이터 전처리, 다양한 라이브러리를 이용해 시각화하는 방법을 학습했습니다.\n",
    "\n",
    "이번에는 배운 것을 응용해서 실제로 쏘카에서 진행하는 업무와 같이 아래 목록의 공간 데이터를 시각화해 보는 실습을 하도록 하겠습니다. 목록 아래에 시각화 결과 예시를 첨부하였습니다.\n",
    "\n",
    "1.  서울시 성동구 공시지가 데이터 수집 및 시각화\n",
    "\n",
    "![content img](https://d3s0tskafalll9.cloudfront.net/media/images/seoul_house_price_sujeong.max-800x600.jpg)\n",
    "\n",
    "2.  서울 소재 대학교 위치 데이터 수집 및 시각화\n",
    "\n",
    "![content img](https://d3s0tskafalll9.cloudfront.net/media/images/seoul_univ.max-800x600.png)\n",
    "\n",
    "3.  전국주차장 데이터 수집 및 시각화\n",
    "\n",
    "![content img](https://d3s0tskafalll9.cloudfront.net/media/images/parking_lot.max-800x600.png)\n",
    "\n",
    "4.  서울시 구별 인구수 데이터 수집 및 시각화\n",
    "\n",
    "![content img](https://d3s0tskafalll9.cloudfront.net/media/images/seoul_population_sujeong.max-800x600.jpg)\n",
    "\n",
    "### 학습목표\n",
    "\n",
    "___\n",
    "\n",
    "-   다양한 공간 데이터를 수집하고 시각화한다.\n",
    "-   쏘카존 데이터를 시각화한다.\n",
    "-   쏘카존 데이터를 시각화한 자료에 추가한다.\n",
    "\n",
    "### 목차\n",
    "\n",
    "___\n",
    "\n",
    "1.  서울시 성동구 공시지가 데이터 수집 및 시각화\n",
    "2.  서울시 대학교 데이터 수집 및 시각화\n",
    "3.  전국주차장 데이터 시각화\n",
    "4.  서울시 구별 인구수 데이터 수집 및 시각화\n",
    "5.  프로젝트\n",
    "\n",
    "### 준비물\n",
    "\n",
    "___\n",
    "\n",
    "클라우드에 있는 파일을 사용하기 위해 `cloud shell`에서 아래 명령어를 입력해주시기 바랍니다.\n",
    "\n",
    "```\n",
    "$ mkdir -p ~/aiffel/socar_gis/data\n",
    "$ ln -s ~/data/*  ~/aiffel/socar_gis/data/\n",
    "```"
   ]
  },
  {
   "cell_type": "markdown",
   "id": "792e12db",
   "metadata": {},
   "source": [
    "## 4-2. 서울시 성동구 공시지가 데이터 수집 및 시각화\n",
    "\n",
    "서울시 공시지가 API를 활용해서 성동구 공시지가를 시각화하겠습니다.\n",
    "\n",
    "### 라이브러리 불러오기\n",
    "\n",
    "___\n",
    "\n",
    "먼저 필요한 라이브러리를 불러옵니다."
   ]
  },
  {
   "cell_type": "code",
   "execution_count": null,
   "id": "b4f1b81f",
   "metadata": {},
   "outputs": [],
   "source": [
    "### SGIS ACCESS TOKEN을 리턴 해주는 함수\n",
    "def get_access_token(consumer_key, consumer_secret) -> None:\n",
    "    temp_res = requests.get(\n",
    "        url=\"https://sgisapi.kostat.go.kr/OpenAPI3/auth/authentication.json\",\n",
    "        params={\n",
    "            \"consumer_key\": consumer_key,\n",
    "            \"consumer_secret\": consumer_secret\n",
    "        }\n",
    "    )\n",
    "\n",
    "    access_token = temp_res.json()[\"result\"][\"accessToken\"]\n",
    "  \n",
    "    return access_token\n",
    "print('슝~')"
   ]
  },
  {
   "cell_type": "markdown",
   "id": "e0f22067",
   "metadata": {},
   "source": [
    "### 데이터 수집 및 전처리\n",
    "\n",
    "___\n",
    "\n",
    "Lecture 노드에서 SGIS API를 사용하기 전에 access token을 반환해주는 함수를 먼저 정의하고 진행했습니다. 기억을 상기시키기 위해 다시 한 번 정의해 보겠습니다."
   ]
  },
  {
   "cell_type": "code",
   "execution_count": null,
   "id": "e94e7adf",
   "metadata": {},
   "outputs": [],
   "source": [
    "### SGIS ACCESS TOKEN을 리턴 해주는 함수\n",
    "def get_access_token(consumer_key, consumer_secret) -> None:\n",
    "    temp_res = requests.get(\n",
    "        url=\"https://sgisapi.kostat.go.kr/OpenAPI3/auth/authentication.json\",\n",
    "        params={\n",
    "            \"consumer_key\": consumer_key,\n",
    "            \"consumer_secret\": consumer_secret\n",
    "        }\n",
    "    )\n",
    "\n",
    "    access_token = temp_res.json()[\"result\"][\"accessToken\"]\n",
    "  \n",
    "    return access_token\n",
    "print('슝~')"
   ]
  },
  {
   "cell_type": "markdown",
   "id": "f78443fb",
   "metadata": {},
   "source": [
    "다음에는 시에 속한 구이름을 리스트로 반환하는 함수 `get_si_info_list`를 정의하겠습니다."
   ]
  },
  {
   "cell_type": "code",
   "execution_count": null,
   "id": "9f9e5279",
   "metadata": {},
   "outputs": [],
   "source": [
    "# 시에 속한 구이름을 리스트로 리턴 받는 함수\n",
    "def get_si_info_list(consumer_key, consumer_secret, cd) -> None:\n",
    "    ACCESS_TOKEN=get_access_token(consumer_key, consumer_secret)\n",
    "    PARAMS={\n",
    "        \"accessToken\": ACCESS_TOKEN,\n",
    "        \"cd\": cd # 선택) 최대 5자리, non(default): 시도정보, 2자리: 시군구, 5자리: 읍면동\n",
    "        # \"pg_yn\": , # 선택) 경계 미포함(default): 0, 경계 포함: 1\n",
    "    }\n",
    "\n",
    "    temp_res = requests.get(\n",
    "        url=\"https://sgisapi.kostat.go.kr/OpenAPI3/addr/stage.json\",\n",
    "        params=PARAMS\n",
    "    )\n",
    "\n",
    "    temp_sido_info_list = temp_res.json()[\"result\"]\n",
    "    \n",
    "    return temp_sido_info_list\n",
    "print('슝~')"
   ]
  },
  {
   "cell_type": "markdown",
   "id": "d77d5f35",
   "metadata": {},
   "source": [
    "이제 서울시에 속하는 구들의 이름을 리스트로 가져오겠습니다.  \n",
    "서울시에 어떤 구들이 있는지 확인만 해보고 어떤 구를 선택할 지 결정해봅시다.  \n",
    "`consumer_key`, `consumer_secret` 변수에는 [SGIS API](https://sgis.kostat.go.kr/developer/html/home.html)에서 발급받은 본인 인증키 값을 입력하면 됩니다."
   ]
  },
  {
   "cell_type": "code",
   "execution_count": null,
   "id": "bf14e682",
   "metadata": {},
   "outputs": [],
   "source": [
    "# SGIS API 사이트의 본인의 consumer_key, consumer_secret를 입력합니다.\n",
    "consumer_key = '13c365600dd54f4f99a7'       # 서비스ID\n",
    "consumer_secret =  '4982fcdb06094e47b61b' # 보안Key\n",
    "\n",
    "temp_seoul_info_list = get_si_info_list(consumer_key, consumer_secret, 11)\n",
    "seoul_gu_name_list = [gu_name[\"addr_name\"] for gu_name in temp_seoul_info_list ]\n",
    "seoul_gu_name_list"
   ]
  },
  {
   "cell_type": "markdown",
   "id": "7467ff32",
   "metadata": {},
   "source": [
    "서울시의 많은 구 중에서 저희는 **성동구**를 선택하겠습니다.  \n",
    "다음은 서울 열린데이터 API를 활용해 서울시 성동구의 공시지가(원/㎡)를 리스트 형태로 받아온 후 DataFrame으로 생성하겠습니다.\n",
    "\n",
    "아래 링크로 이동해 회원가입 및 인증키 신청을 진행하시면 됩니다. (서울시 열린데이터 광장 접속 시 chrome이 안된다면 익스플로러나 Edge를 사용하여 접속해 보세요. )\n",
    "\n",
    "-   [서울시 공시지가 정보](http://data.seoul.go.kr/dataList/OA-1180/F/1/datasetView.do)\n",
    "\n",
    "![content img](https://d3s0tskafalll9.cloudfront.net/media/images/seoulgonggaedeiteo1_injeungkisinceong.max-800x600.jpg)\n",
    "\n",
    "회원가입 후 인증키 신청을 하면 아래와 같은 화면이 나옵니다.  \n",
    "각 항목에 맞게 입력해주시면 인증키를 얻을 수 있습니다.  \n",
    "사용 URL은 임의의 URL을 입력해주시면 됩니다 ex)[https://lms.aiffel.io/](https://lms.aiffel.io/)\n",
    "\n",
    "![content img](https://d3s0tskafalll9.cloudfront.net/media/images/seoulgonggaedeiteo2_injeungkisinceong.max-800x600.jpg)\n",
    "\n",
    "![content img](https://d3s0tskafalll9.cloudfront.net/media/images/seoulgonggaedeiteo3_injeungkihwagin.max-800x600.jpg)\n",
    "\n",
    "**아래 코드 중 `KEY`라는 변수에 서울 열린데이터 광장의 본인의 인증키를 입력해주시기 바랍니다.**"
   ]
  },
  {
   "cell_type": "code",
   "execution_count": null,
   "id": "1cb3009d",
   "metadata": {},
   "outputs": [],
   "source": [
    "# 반복문 초기값\n",
    "START_INDEX = 1\n",
    "END_INDEX = 1000\n",
    "request_code = \"INFO-000\"\n",
    "temp_result_list = []\n",
    "\n",
    "while True:\n",
    "    if(request_code!=\"INFO-000\"):\n",
    "        break\n",
    "    elif(request_code==\"INFO-000\"):\n",
    "        # API 조회간격 조절\n",
    "        time.sleep(0.2) # 0.2초 대기후 요청\n",
    "\n",
    "    # 요청 파라미터\n",
    "    \"\"\"\n",
    "    변수 KEY에는 서울 열린데이터 광장의 본인의 인증키를 적어주세요.\n",
    "    \"\"\"\n",
    "    KEY = \"5065425754706b6233305571467a54\" # 서울 열린데이터 광장의 본인의 인증키\n",
    "    TYPE = \"json\"\n",
    "    SERVICE = \"IndividuallyPostedLandPriceService\"\n",
    "    START_INDEX = START_INDEX + 1000\n",
    "    END_INDEX = END_INDEX + 1000\n",
    "    SIGUNGU_NM = \"성동구\"\n",
    "    YEAR = 2020\n",
    "\n",
    "    url = f\"http://openapi.seoul.go.kr:8088/{KEY}/{TYPE}/{SERVICE}/{START_INDEX}/{END_INDEX}/{SIGUNGU_NM}/ / / / /{YEAR}\"\n",
    "\n",
    "    try:\n",
    "        temp_res = requests.get(\n",
    "            url=url\n",
    "        )\n",
    "\n",
    "        request_code = temp_res.json()[\"IndividuallyPostedLandPriceService\"][\"RESULT\"][\"CODE\"]\n",
    "      \n",
    "        temp_res_list = temp_res.json()[\"IndividuallyPostedLandPriceService\"][\"row\"]\n",
    "        temp_result_list = temp_res_list + temp_result_list\n",
    "    \n",
    "    except:\n",
    "        request_code = \"INFO-200\"\n",
    "\n",
    "\n",
    "print(f\"총 데이터수: {len(temp_result_list)}\")"
   ]
  },
  {
   "cell_type": "code",
   "execution_count": null,
   "id": "bb070376",
   "metadata": {},
   "outputs": [],
   "source": [
    "sungdong_gu_giga_df = pd.DataFrame(temp_result_list)\n",
    "sungdong_gu_giga_df.head()"
   ]
  },
  {
   "cell_type": "markdown",
   "id": "115f4e5f",
   "metadata": {},
   "source": [
    "공시지가의 연산을 위해 데이터 타입을 object에서 int로 변경한 후, 성동구 동별 공시지가(원/㎡)를 집계하여 평균지가 컬럼에 추가합니다."
   ]
  },
  {
   "cell_type": "code",
   "execution_count": null,
   "id": "952be417",
   "metadata": {},
   "outputs": [],
   "source": [
    "sungdong_gu_giga_df[\"JIGA\"] = sungdong_gu_giga_df[\"JIGA\"].astype(int)\n",
    "sungdong_gu_giga_df.info()"
   ]
  },
  {
   "cell_type": "code",
   "execution_count": null,
   "id": "89e46298",
   "metadata": {},
   "outputs": [],
   "source": [
    "sungdong_gu_dong_giga_df = sungdong_gu_giga_df.groupby([\"BJDONG_NM\"])[\"JIGA\"].mean().to_frame().reset_index()\n",
    "sungdong_gu_dong_giga_df.head()"
   ]
  },
  {
   "cell_type": "markdown",
   "id": "97d30e43",
   "metadata": {},
   "source": [
    "이제 성동구 동별 평균 공시지가 데이터(`sungdong_gu_dong_giga_df`)를 얻었습니다. 이 데이터는 나중에 시각화를 위해 Folium에서 data로 사용될 예정입니다.\n",
    "\n",
    "다음은 성동구 정보를 SGIS에서 가져와서 GeoPandas를 이용해 GeoDataFrame을 생성하겠습니다. 생성한 `sungdong_gu_dong_gpd`는 나중에 Folium에서 geo\\_data로 사용될 예정입니다."
   ]
  },
  {
   "cell_type": "code",
   "execution_count": null,
   "id": "2e71707c",
   "metadata": {},
   "outputs": [],
   "source": [
    "accessToken = get_access_token(consumer_key , consumer_secret )\n",
    "params={\n",
    "    \"accessToken\": accessToken,\n",
    "    \"year\": 2019,\n",
    "    \"adm_cd\": 11040, # 성동구 코드\n",
    "    \"low_search\": 1\n",
    "}\n",
    "\n",
    "temp_res = requests.get(\n",
    "    url=\"https://sgisapi.kostat.go.kr/OpenAPI3/boundary/hadmarea.geojson\",\n",
    "    params=params\n",
    ")\n",
    "print('슝~')"
   ]
  },
  {
   "cell_type": "code",
   "execution_count": null,
   "id": "8cc702c1",
   "metadata": {},
   "outputs": [],
   "source": [
    "sungdong_gu_dong_gpd = gpd.GeoDataFrame().from_features(temp_res.json())\n",
    "sungdong_gu_dong_gpd.head()"
   ]
  },
  {
   "cell_type": "code",
   "execution_count": null,
   "id": "5b3f4aac",
   "metadata": {},
   "outputs": [],
   "source": [
    "# 생성한 dataframe의 정보 확인\n",
    "sungdong_gu_dong_gpd.info()"
   ]
  },
  {
   "cell_type": "markdown",
   "id": "5d7814de",
   "metadata": {},
   "source": [
    "공시지가는 법정동 정보를 알아야 매치가 가능한데, 위에서 생성한 `sungdong_gu_dong_gpd`에는 법정동 정보가 없습니다. 참고로 법정동이란 법률로 지정된 명칭과 영역을 지닌 구역으로, 전통적인 지역구분, 주소, 지적(地籍) 분야에서 사용됩니다. 반면 행정동이란 구나 시의 하부 행정구역으로, 우리가 일상에서 사용하는 '동(洞)'을 의미합니다. 예를들어 법정동 코드와 행정동 코드는 법정동과 행정동을 구분하기 위해 숫자로 만든 코드입니다.\n",
    "\n",
    "`sungdong_gu_dong_gpd` 데이터에 법정동 정보를 추가하기 위해 행정동 정보와 법정동 정보가 맵핑된 `administration_zone_20201001.csv`를 DataFrame로 변환한 후, 행정구역 경계 데이터와 `merge()`를 이용하여 JOIN할 것입니다.\n",
    "\n",
    "로컬에서 사용하실 분들은 아래 링크에서 데이터를 다운받아주시기 바랍니다.\n",
    "\n",
    "우선 행정동 정보와 법정동 정보가 맵핑된 csv 파일을 DataFrame으로 가져옵니다."
   ]
  },
  {
   "cell_type": "code",
   "execution_count": null,
   "id": "22dd049b",
   "metadata": {},
   "outputs": [],
   "source": [
    "path = os.getenv('HOME') + '/aiffel/socar_gis/data/administration_zone_20201001.csv'\n",
    "address_code_mappint_df = pd.read_csv(path)\n",
    "address_code_mappint_df.head()"
   ]
  },
  {
   "cell_type": "markdown",
   "id": "553448b3",
   "metadata": {},
   "source": [
    "행정구역코드의 데이터 타입을 float에서 object로 변경합니다."
   ]
  },
  {
   "cell_type": "code",
   "execution_count": null,
   "id": "6d5d7eab",
   "metadata": {},
   "outputs": [],
   "source": [
    "address_code_mappint_df[\"행정구역코드\"] = address_code_mappint_df[\"행정구역코드\"].fillna(0).astype(int).astype(str)\n",
    "address_code_mappint_df.head()"
   ]
  },
  {
   "cell_type": "markdown",
   "id": "b2936cb9",
   "metadata": {},
   "source": [
    "필요한 컬럼만 남기고, 컬럼명을 변경해 줍니다."
   ]
  },
  {
   "cell_type": "code",
   "execution_count": null,
   "id": "9c524371",
   "metadata": {},
   "outputs": [],
   "source": [
    "address_code_mappint_df = address_code_mappint_df[[\"시도\", \"시군구\", \"행정동(행정기관명)\", \"법정동\", \"행정구역코드\"]]\n",
    "address_code_mappint_df.head()"
   ]
  },
  {
   "cell_type": "code",
   "execution_count": null,
   "id": "410564f0",
   "metadata": {},
   "outputs": [],
   "source": [
    "address_code_mappint_df.rename(\n",
    "    columns={\n",
    "        \"시도\": \"si_do\",\n",
    "        \"시군구\": \"si_gun_gu\",\n",
    "        \"행정동(행정기관명)\": \"hj_nm\",\n",
    "        \"법정동\": \"bj_nm\",\n",
    "        \"행정구역코드\": \"adm_cd\"\n",
    "    },\n",
    "    inplace=True\n",
    ")\n",
    "\n",
    "address_code_mappint_df.head()"
   ]
  },
  {
   "cell_type": "markdown",
   "id": "262e5561",
   "metadata": {},
   "source": [
    "\n",
    "성동구 행정동&법정동 DataFrame과 행정구역 경계 DataFrame을 `merge()`를 이용해 합친 후, 컬럼의 순서를 보기 좋게 변경해 줍니다."
   ]
  },
  {
   "cell_type": "code",
   "execution_count": null,
   "id": "19159c95",
   "metadata": {},
   "outputs": [],
   "source": [
    "sungdong_gu_dong_gpd = pd.merge(sungdong_gu_dong_gpd, address_code_mappint_df, how=\"left\", on=\"adm_cd\")\n",
    "sungdong_gu_dong_gpd.head()"
   ]
  },
  {
   "cell_type": "code",
   "execution_count": null,
   "id": "a41b280c",
   "metadata": {},
   "outputs": [],
   "source": [
    "sungdong_gu_dong_gpd = sungdong_gu_dong_gpd[[\"adm_cd\", \"adm_nm\", \"si_do\", \"si_gun_gu\", \"hj_nm\", \"bj_nm\", \"x\", \"y\", \"geometry\"]]\n",
    "sungdong_gu_dong_gpd.head()"
   ]
  },
  {
   "cell_type": "markdown",
   "id": "f56df1a1",
   "metadata": {},
   "source": [
    "\n",
    "이제 법정동 이름이 추가된 형태의 데이터인 `sungdong_gu_dong_gpd`가 완성되었습니다. 이제 데이터에 좌표계를 정의하고 좌표계를 UTM-K → WSG84로 변경합니다.\n"
   ]
  },
  {
   "cell_type": "code",
   "execution_count": null,
   "id": "ca2016ea",
   "metadata": {},
   "outputs": [],
   "source": [
    "# 좌표계 정의: UTM-K(epsg:5179)\n",
    "sungdong_gu_dong_gpd.crs = {\"init\": \"epsg:5179\"}\n",
    "\n",
    "# 좌표계 변환: UTM-K(epsg:5179) -> WSG84(epsg:4326)\n",
    "sungdong_gu_dong_gpd = sungdong_gu_dong_gpd.to_crs({\"init\": \"epsg:4326\"})\n",
    "sungdong_gu_dong_gpd.head()"
   ]
  },
  {
   "cell_type": "markdown",
   "id": "bd8f92a6",
   "metadata": {},
   "source": [
    "GeoDataFrame의 인덱스를 동이름으로 변경합니다.\n"
   ]
  },
  {
   "cell_type": "code",
   "execution_count": null,
   "id": "0cb1ee18",
   "metadata": {},
   "outputs": [],
   "source": [
    "sungdong_gu_dong_gpd.set_index(\n",
    "    \"bj_nm\",\n",
    "    drop=False,\n",
    "    inplace=True\n",
    ")\n",
    "\n",
    "sungdong_gu_dong_gpd.head()"
   ]
  },
  {
   "cell_type": "code",
   "execution_count": null,
   "id": "188a77eb",
   "metadata": {},
   "outputs": [],
   "source": [
    "sungdong_gu_dong_gpd[sungdong_gu_dong_gpd[\"bj_nm\"] == \"금호동1가\"]"
   ]
  },
  {
   "cell_type": "markdown",
   "id": "924c2d65",
   "metadata": {},
   "source": [
    "### 시각화\n",
    "\n",
    "___\n",
    "\n",
    "마지막으로 Folium을 이용하기 위해 기본 맵을 생성합니다. 기본 맵을 생성할 때는 중심부 위도와 경도를 입력해줘야 합니다. 서울시 데이터를 이용하므로 서울시 중심부 위도와 경도인 37.541, 126.986을 입력해 줍니다.\n",
    "\n",
    "그 후 Folium의 `Choropleth` 메소드를 이용해 앞서 생성한 geo-data인 `sungdong_gu_dong_gpd`와 데이터`sungdong_gu_dong_giga_df`을 합쳐 우리가 원하는 데이터인 서울시 성동구 동별 평균 공시지가를 시각화합니다.\n",
    "\n",
    "자세한 설명은 아래의 자료를 참고하세요.\n",
    "\n",
    "-   [Folium documentation](https://python-visualization.github.io/folium/quickstart.html#Choropleth-maps)\n",
    "-   [\\[지도 데이터 시각화\\] Part 4. Folium 살펴보기](https://dailyheumsi.tistory.com/m/144?category=854906)"
   ]
  },
  {
   "cell_type": "code",
   "execution_count": null,
   "id": "539b078b",
   "metadata": {},
   "outputs": [],
   "source": [
    "# 서울시 중심부 위도, 경도\n",
    "center = [37.541, 126.986]\n",
    "\n",
    "# map이 서울 중심부에 위치하고, zoom 레벨은 10으로 시작합니다.\n",
    "map = folium.Map(\n",
    "    location=center,\n",
    "    zoom_start=10,\n",
    "    )\n",
    "print('슝~')"
   ]
  },
  {
   "cell_type": "code",
   "execution_count": null,
   "id": "3546f6aa",
   "metadata": {},
   "outputs": [],
   "source": [
    "folium.Choropleth(\n",
    "    geo_data=sungdong_gu_dong_gpd,\n",
    "    name=\"서울시 성동구 동별 평균 공시지가\",\n",
    "    data=sungdong_gu_dong_giga_df,\n",
    "    columns=[\"BJDONG_NM\", \"JIGA\"],\n",
    "    key_on=\"feature.id\",\n",
    "    fill_color='YlOrRd',\n",
    "    fill_opacity=0.7,\n",
    "    line_opacity=0.2,\n",
    "    line_color='white', \n",
    "    line_weight=0,\n",
    "    highlight=False, \n",
    "    smooth_factor=1.0,\n",
    "    legend_name=\"평균 공시지가\",\n",
    ").add_to(map)"
   ]
  },
  {
   "cell_type": "code",
   "execution_count": null,
   "id": "a9af4351",
   "metadata": {},
   "outputs": [],
   "source": [
    "map"
   ]
  },
  {
   "cell_type": "markdown",
   "id": "2e6b2c3f",
   "metadata": {},
   "source": [
    "## 4-3. 서울시 대학교 데이터 수집 및 시각화\n",
    "\n",
    "이번에는 서울 열린데이터광장에서 서울시 대학 및 전문대학 정보를 가져와서 시각화해보겠습니다.\n",
    "\n",
    "### 데이터 수집 및 전처리\n",
    "\n",
    "___\n",
    "\n",
    "-   [서울시 대학 및 전문대학 DB 정보 (한국어)](http://data.seoul.go.kr/dataList/OA-12974/S/1/datasetView.do)\n",
    "\n",
    "먼저 서울 열린데이터광장에서 가져온 서울시 대학교 데이터를 리스트 형태로 반환하는 함수인 `get_university_list`를 정의하겠습니다. 그 후 서울시 대학정보를 DataFrame으로 생성하겠습니다."
   ]
  },
  {
   "cell_type": "code",
   "execution_count": null,
   "id": "7c9d3804",
   "metadata": {},
   "outputs": [],
   "source": [
    "# 서울시 대학교 데이터 리스트 형태로 가지고 오는 함수\n",
    "def get_university_list() -> None:\n",
    "    url=\"http://openapi.seoul.go.kr:8088/5274694f4f6d6f6e33395743465a61/json/SebcCollegeInfoKor/1/1000/\"\n",
    "\n",
    "    temp_res = requests.get(\n",
    "        url=url,\n",
    "        headers={\n",
    "            \"Content-Type\": \"application/json; chearset=utf-8\"\n",
    "            },\n",
    "    )\n",
    "\n",
    "    temp_result_list = temp_res.json()[\"SebcCollegeInfoKor\"][\"row\"]\n",
    "\n",
    "    return temp_result_list\n",
    "\n",
    "print('슝~')"
   ]
  },
  {
   "cell_type": "code",
   "execution_count": null,
   "id": "36a718c7",
   "metadata": {},
   "outputs": [],
   "source": [
    "temp_seoul_university_list = get_university_list()\n",
    "seoul_university_df = pd.DataFrame(temp_seoul_university_list)\n",
    "seoul_university_df.head()"
   ]
  },
  {
   "cell_type": "code",
   "execution_count": null,
   "id": "2f916a12",
   "metadata": {},
   "outputs": [],
   "source": [
    "seoul_university_df.info()"
   ]
  },
  {
   "cell_type": "markdown",
   "id": "f6e22304",
   "metadata": {},
   "source": [
    "DataFrame 컬럼 중 `STATE`는 현재 학교의 운영상태를 알려줍니다. 폐교한 학교의 정보는 필요없으니 `STATE`컬럼이 폐교인 데이터는 제외합니다."
   ]
  },
  {
   "cell_type": "code",
   "execution_count": null,
   "id": "824638e4",
   "metadata": {},
   "outputs": [],
   "source": [
    "# 현재 학교 운영상태 확인\n",
    "set(seoul_university_df[\"STATE\"].tolist())"
   ]
  },
  {
   "cell_type": "code",
   "execution_count": null,
   "id": "54442c1b",
   "metadata": {},
   "outputs": [],
   "source": [
    "# 운영상태가 폐교가 아닌 학교 필터링\n",
    "seoul_university_df = seoul_university_df[seoul_university_df[\"STATE\"]!=\"폐교\"]\n",
    "seoul_university_df.head()"
   ]
  },
  {
   "cell_type": "markdown",
   "id": "5c33d7b0",
   "metadata": {},
   "source": [
    "혹시 모르니 `STATE`컬럼을 확인해 폐교된 대학교의 데이터가 남아있는지 다시 한 번 확인합니다."
   ]
  },
  {
   "cell_type": "code",
   "execution_count": null,
   "id": "3a0ba8c1",
   "metadata": {},
   "outputs": [],
   "source": [
    "set(seoul_university_df[\"STATE\"].tolist())"
   ]
  },
  {
   "cell_type": "markdown",
   "id": "fa943042",
   "metadata": {},
   "source": [
    "우리가 생성한 DataFrame을 살펴보면 지리정보가 없습니다. 학교주소를 이용해 위도와 경도 데이터를 새로운 컬럼으로 추가합시다.\n",
    "\n",
    "먼저 주소를 입력하면 주소의 위도와 경도를 반환해주는 함수인 `get_adress_x_y`을 정의합니다."
   ]
  },
  {
   "cell_type": "code",
   "execution_count": null,
   "id": "87a4bad6",
   "metadata": {},
   "outputs": [],
   "source": [
    "# 주소를 입력해 주소의 위도, 경도를 가지고 오는 함수\n",
    "def get_adress_x_y(address) -> None:\n",
    "    # SGIS access_token 가져오기\n",
    "    access_token = get_access_token(consumer_key , consumer_secret)\n",
    "    url=\"https://sgisapi.kostat.go.kr/OpenAPI3/addr/geocode.json\"\n",
    "    params={\n",
    "        \"accessToken\": access_token,\n",
    "        \"address\": address\n",
    "    }\n",
    "\n",
    "    temp_res = requests.get(\n",
    "        url=url,\n",
    "        params=params\n",
    "    ).json()[\"result\"][\"resultdata\"]\n",
    "\n",
    "    return temp_res[0][\"x\"], temp_res[0][\"y\"]\n",
    "\n",
    "print('슝~')"
   ]
  },
  {
   "cell_type": "markdown",
   "id": "8de32c04",
   "metadata": {},
   "source": [
    "주소를 조회해 위도와 경도 좌표값을 얻어 컬럼으로 추가합니다."
   ]
  },
  {
   "cell_type": "code",
   "execution_count": null,
   "id": "4c3a36cc",
   "metadata": {},
   "outputs": [],
   "source": [
    "for _, row in seoul_university_df.iterrows():\n",
    "    try:\n",
    "        x, y = get_adress_x_y(row[\"ADD_KOR\"])\n",
    "    \n",
    "        seoul_university_df.loc[_, \"x\"] = x\n",
    "        seoul_university_df.loc[_, \"y\"] = y\n",
    "    except:\n",
    "        pass\n",
    "seoul_university_df.head()"
   ]
  },
  {
   "cell_type": "markdown",
   "id": "008845c1",
   "metadata": {},
   "source": [
    "\n",
    "\n",
    "현재 좌표계가 UTM-K이므로 WSG84좌표계로 변환합니다."
   ]
  },
  {
   "cell_type": "code",
   "execution_count": null,
   "id": "4b794633",
   "metadata": {},
   "outputs": [],
   "source": [
    "# SGIS 좌표변환 API를 활용한 좌표변환 함수\n",
    "def get_transcoord(src, dst, posX, posY) -> None:\n",
    "    access_token = get_access_token(consumer_key, consumer_secret)\n",
    "    url=\"https://sgisapi.kostat.go.kr/OpenAPI3/transformation/transcoord.json\"\n",
    "    params={\n",
    "        \"accessToken\": access_token,\n",
    "        \"src\": src, # 현재 좌표체계\n",
    "        \"dst\": dst, # 변환할 좌표체계\n",
    "        \"posX\": posX, # 변환할 좌표 X값\n",
    "        \"posY\":\tposY # 변환할 좌표 Y값\n",
    "    }\n",
    "\n",
    "    temp_dict = requests.get(\n",
    "        url=url,\n",
    "        params=params\n",
    "    ).json()[\"result\"]\n",
    "\n",
    "    return temp_dict[\"posX\"], temp_dict[\"posY\"] # 변환된 좌표값 딕셔너리의 value 리턴\n",
    "\n",
    "print('슝~')"
   ]
  },
  {
   "cell_type": "code",
   "execution_count": null,
   "id": "c5e200f3",
   "metadata": {},
   "outputs": [],
   "source": [
    "for _, row in seoul_university_df.iterrows():\n",
    "    try:\n",
    "        x, y = get_transcoord(\"EPSG:5179\", \"EPSG:4326\", row[\"x\"], row[\"y\"])\n",
    "    \n",
    "        seoul_university_df.loc[_, \"lng\"] = x\n",
    "        seoul_university_df.loc[_, \"lat\"] = y\n",
    "\n",
    "    except:\n",
    "        pass\n",
    "seoul_university_df.head()"
   ]
  },
  {
   "cell_type": "markdown",
   "id": "994997cc",
   "metadata": {},
   "source": [
    "### 시각화\n",
    "\n",
    "___\n",
    "\n",
    "마지막으로 Folium 초기 Map을 생성하고 서울시 대학 정보를 시각화합니다."
   ]
  },
  {
   "cell_type": "code",
   "execution_count": null,
   "id": "cd96ab88",
   "metadata": {},
   "outputs": [],
   "source": [
    "# 초기 Map 메소드에는 초기 중심값 좌표가 들어가야 합니다.\n",
    "\n",
    "# 서울시 중심부 위도, 경도\n",
    "center = [37.541, 126.986]\n",
    "\n",
    "# map이 서울 중심부에 위치하고, zoom 레벨은 12로 시작합니다.\n",
    "map = folium.Map(\n",
    "    location=center,\n",
    "    zoom_start=12\n",
    "\n",
    ")\n",
    "\n",
    "print('슝~')"
   ]
  },
  {
   "cell_type": "code",
   "execution_count": null,
   "id": "68178cc1",
   "metadata": {},
   "outputs": [],
   "source": [
    "# 대학 이름, 위도, 경도를 가져와 시각화\n",
    "for _, row in seoul_university_df.iterrows():\n",
    "    try:\n",
    "        folium.Marker(\n",
    "            location=[row[\"lat\"], row[\"lng\"]], # 좌표\n",
    "            popup=row[\"NAME_KOR\"], # 클릭시 표시될 popup 내용\n",
    "            icon=folium.Icon(color=\"cadetblue\", icon=\"info-sign\") # 표시될 아이콘 설정\n",
    "        ).add_to(map)\n",
    "    except:\n",
    "        pass\n",
    "\n",
    "print('슝~')"
   ]
  },
  {
   "cell_type": "code",
   "execution_count": null,
   "id": "e081b1c5",
   "metadata": {},
   "outputs": [],
   "source": [
    "map"
   ]
  },
  {
   "cell_type": "markdown",
   "id": "8e03ed0a",
   "metadata": {},
   "source": [
    "## 4-4. 전국주차장 데이터 시각화\n",
    "\n",
    "다음은 전국주차장 정보 표준데이터를 이용해 시각화를 진행하겠습니다.\n",
    "\n",
    "### 데이터 전처리\n",
    "\n",
    "___\n",
    "\n",
    "로컬에서 사용하기 위해서는 아래에서 `전국주차장 정보 표준데이터`를 다운로드받기 바랍니다. 전국주차장 정보 표준데이터 관련 내용은 아래 링크를 참고해주세요.\n",
    "\n",
    "-   [전국주차장정보표준데이터](https://www.data.go.kr/data/15012896/standard.do)\n",
    "\n",
    "우선 전국 주차장 정보 표준 데이터를 불러와 위도와 경도의 데이터 타입을 확인합니다.\n"
   ]
  },
  {
   "cell_type": "code",
   "execution_count": null,
   "id": "badb50df",
   "metadata": {},
   "outputs": [],
   "source": [
    "paking_station_info_df = pd.read_csv(os.getenv('HOME') + \"/aiffel/socar_gis/data/parking_lot.csv\", encoding=\"cp949\")\n",
    "\n",
    "paking_station_info_df.info()"
   ]
  },
  {
   "cell_type": "markdown",
   "id": "1f09f5f4",
   "metadata": {},
   "source": [
    "\n",
    "만약 위도, 경도 데이터 타입이 문자형인 경우 실수형 데이터 타입으로 변경해줍니다.\n",
    "\n",
    "### 시각화\n",
    "\n",
    "___\n",
    "\n",
    "이제 Folium을 이용해서 초기 Map을 생성합니다. 이제까지 했던 것과 마찬가지로 서울시의 위도와 경도 좌표값을 중심값으로 설정합니다.\n",
    "\n",
    "주차장의 경우 좁은 지역에 밀집되어 있는 경우가 많기 때문에 그룹화해서 표현해야 합니다. 이를 위해 마커들을 그룹화해주는 MarkerCluster 객체를 만든 후, Folium을 이용해 시각화를 진행합니다."
   ]
  },
  {
   "cell_type": "code",
   "execution_count": null,
   "id": "0b8996f4",
   "metadata": {},
   "outputs": [],
   "source": [
    "# MarkerCluster 객체 만들기\n",
    "marker_cluster = MarkerCluster().add_to(map)\n",
    "\n",
    "# 주차장 이름, 위도, 경도를 가져와 maker 객체로 추가\n",
    "for index_num in range(len(paking_station_info_df)):\n",
    "    try:\n",
    "        folium.Marker(\n",
    "            location=[paking_station_info_df.loc[index_num, \"위도\"], paking_station_info_df.loc[index_num, \"경도\"]],\n",
    "            popup=paking_station_info_df.loc[index_num, \"소재지지번주소\"],\n",
    "            icon=folium.Icon(color=\"cadetblue\", icon=\"ok\")\n",
    "        ).add_to(marker_cluster)\n",
    "    except:\n",
    "        pass\n",
    "\n",
    "print('슝~')"
   ]
  },
  {
   "cell_type": "markdown",
   "id": "ca742e68",
   "metadata": {},
   "source": [
    "\n",
    "시간이 1분이상 소요될 수 있습니다. 코드 실행 후 잠시 기다려주세요."
   ]
  },
  {
   "cell_type": "code",
   "execution_count": null,
   "id": "b6806a82",
   "metadata": {},
   "outputs": [],
   "source": [
    "map"
   ]
  },
  {
   "cell_type": "markdown",
   "id": "6e318de1",
   "metadata": {},
   "source": [
    "1분이상 기다려도 map이 나오지 않는 분들은 `cloud jupyter`에서 아래 코드를 실행하고 결과를 확인 해 주세요"
   ]
  },
  {
   "cell_type": "code",
   "execution_count": null,
   "id": "4e598d2c",
   "metadata": {},
   "outputs": [],
   "source": [
    "import requests\n",
    "import json\n",
    "import os\n",
    "import math\n",
    "import time\n",
    "import pandas as pd\n",
    "import numpy as np\n",
    "import geopandas as gpd\n",
    "import folium\n",
    "import matplotlib.pyplot as plt\n",
    "\n",
    "from shapely.geometry import mapping, shape, Point, Polygon, LineString\n",
    "from folium import plugins\n",
    "from folium.plugins import MarkerCluster, HeatMap\n",
    "\n",
    "paking_station_info_df = pd.read_csv(os.getenv('HOME') + \"/aiffel/socar_gis/data/parking_lot.csv\", encoding=\"cp949\")\n",
    "\n",
    "paking_station_info_df.info()\n",
    "\n",
    "# 서울시 중심부 위도, 경도\n",
    "center = [37.541, 126.986]\n",
    "\n",
    "# map이 서울 중심부에 위치하고, zoom 레벨은 10으로 시작합니다.\n",
    "map = folium.Map(\n",
    "    location=center,\n",
    "    zoom_start=10,\n",
    "    )\n",
    "print('슝~')\n",
    "\n",
    "# MarkerCluster 객체 만들기\n",
    "marker_cluster = MarkerCluster().add_to(map)\n",
    "\n",
    "# 주차장 이름, 위도, 경도를 가져와 maker 객체로 추가\n",
    "for index_num in range(len(paking_station_info_df)):\n",
    "    try:\n",
    "        folium.Marker(\n",
    "            location=[paking_station_info_df.loc[index_num, \"위도\"], paking_station_info_df.loc[index_num, \"경도\"]],\n",
    "            popup=paking_station_info_df.loc[index_num, \"소재지지번주소\"],\n",
    "            icon=folium.Icon(color=\"cadetblue\", icon=\"ok\")\n",
    "        ).add_to(marker_cluster)\n",
    "    except:\n",
    "        pass\n",
    "\n",
    "print('슝~')\n",
    "\n",
    "map"
   ]
  },
  {
   "cell_type": "markdown",
   "id": "fcab5b0f",
   "metadata": {},
   "source": [
    "## 4-5. 서울시 구별 인구수 데이터 수집 및 시각화\n",
    "\n",
    "서울시에 거주하는 구별 인구수 데이터를 수집한 후 시각화하겠습니다.\n",
    "\n",
    "### 데이터 수집 및 전처리\n",
    "\n",
    "___\n",
    "\n",
    "먼저 서울시의 구단위 경계 데이터를 불러옵니다."
   ]
  },
  {
   "cell_type": "code",
   "execution_count": null,
   "id": "6acc0eb0",
   "metadata": {},
   "outputs": [],
   "source": [
    "seoul_sig_geo_data_path = os.getenv('HOME') + '/aiffel/socar_gis/data/korea_seoul_sig.json'\n",
    "seoul_sig_geo_data = json.load(\n",
    "    open(seoul_sig_geo_data_path, encoding=\"utf-8\")\n",
    ")\n",
    "\n",
    "print('슝~')"
   ]
  },
  {
   "cell_type": "markdown",
   "id": "fbcd58a4",
   "metadata": {},
   "source": [
    "SGIS API를 사용해야하기 때문에 access token을 리턴해주는 함수를 정의해줘야 합니다."
   ]
  },
  {
   "cell_type": "code",
   "execution_count": null,
   "id": "a7f18179",
   "metadata": {},
   "outputs": [],
   "source": [
    "### SGIS ACCESS TOKEN을 리턴 해주는 함수\n",
    "def get_access_token(consumer_key, consumer_secret) -> None:\n",
    "    temp_res = requests.get(\n",
    "        url=\"https://sgisapi.kostat.go.kr/OpenAPI3/auth/authentication.json\",\n",
    "        params={\n",
    "            \"consumer_key\": consumer_key,\n",
    "            \"consumer_secret\": consumer_secret\n",
    "        }\n",
    "    )\n",
    "\n",
    "    access_token = temp_res.json()[\"result\"][\"accessToken\"]\n",
    "  \n",
    "    return access_token\n",
    "\n",
    "print('슝~')"
   ]
  },
  {
   "cell_type": "markdown",
   "id": "07767a82",
   "metadata": {},
   "source": [
    "서울시에 거주하는 인구에 대한 데이터가 필요하기 때문에 서울시 구단위 인구주택총조사 정보를 가져오는 함수인 `get_population_json`을 정의합니다."
   ]
  },
  {
   "cell_type": "code",
   "execution_count": null,
   "id": "de9f5447",
   "metadata": {},
   "outputs": [],
   "source": [
    "### 서울시 구단위 인구주택총조사 정보 \n",
    "# 응답정보 컬럼 설명 링크: https://sgis.kostat.go.kr/developer/html/openApi/api/data.html#4\n",
    "def get_population_json(access_token, si_code) -> None:\n",
    "    url=\"https://sgisapi.kostat.go.kr/OpenAPI3/stats/population.json\"\n",
    "    params={\n",
    "        \"accessToken\": access_token,\n",
    "        \"year\": 2019, # 데이터 기준연도 범위: 2000 ~ 2019 / 2019가 가장 최근 데이터\n",
    "        \"adm_cd\": si_code, # 행정구역코드\n",
    "        \"low_search\": 1 # 행정구역코드에 해당하는 정보만 요청: 0, 1단계 하위 행정구역 정보 요청: 1, 2단계 하위 행정구역 정보 요청: 2\n",
    "    }\n",
    "\n",
    "    temp_population_json = requests.get(\n",
    "        url=url,\n",
    "        params=params\n",
    "    ).json()[\"result\"]\n",
    "\n",
    "    return temp_population_json\n",
    "\n",
    "print('슝~')"
   ]
  },
  {
   "cell_type": "markdown",
   "id": "07571c27",
   "metadata": {},
   "source": [
    "그 후 DataFrame을 생성하고 필요한 컬럼인 구코드(adm\\_cd), 구이름(adm\\_nm), 인구수(tot\\_ppltn)만 남깁니다. 마지막으로 알아보기 쉽게 하기 위해 컬럼 이름을 아래와 같이 변경합니다.\n",
    "\n",
    "-   adm\\_cd -> gu\\_cd\n",
    "-   adm\\_nm -> gu\\_nm"
   ]
  },
  {
   "cell_type": "code",
   "execution_count": null,
   "id": "945383bf",
   "metadata": {},
   "outputs": [],
   "source": [
    "# SGIS access_token 가져오기\n",
    "access_token = get_access_token(consumer_key, consumer_secret)\n",
    "\n",
    "\n",
    "# 서울시 구단위 행정구역 인구수 정보 데이터 프레임으로 읽어오기\n",
    "seoul_gu_pop_df = pd.DataFrame(get_population_json(access_token, 11)) # 서울 시코드: 11\n",
    "\n",
    "\n",
    "# 서울시 구코드(adm_cd), 구이름(adm_nm), 인구수(tot_ppltn) 컬럼만 남기기\n",
    "seoul_gu_pop_df = seoul_gu_pop_df[[\"adm_cd\", \"adm_nm\", \"tot_ppltn\"]]\n",
    "\n",
    "# 컬럼명 변경\n",
    "seoul_gu_pop_df.rename(\n",
    "    columns={\n",
    "        \"adm_cd\": \"gu_cd\",\n",
    "        \"adm_nm\": \"gu_nm\"\n",
    "    },\n",
    "    inplace=True\n",
    ")\n",
    "\n",
    "seoul_gu_pop_df.info()"
   ]
  },
  {
   "cell_type": "markdown",
   "id": "802979c7",
   "metadata": {},
   "source": [
    "인구수(tot\\_ppltn) 컬럼은 데이터 타입을 int로 변경합니다."
   ]
  },
  {
   "cell_type": "code",
   "execution_count": null,
   "id": "55b7a4c7",
   "metadata": {},
   "outputs": [],
   "source": [
    "seoul_gu_pop_df[\"tot_ppltn\"] = seoul_gu_pop_df[\"tot_ppltn\"].astype(int)\n",
    "seoul_gu_pop_df.info()"
   ]
  },
  {
   "cell_type": "markdown",
   "id": "b12fabf9",
   "metadata": {},
   "source": [
    "### 시각화\n",
    "\n",
    "___\n",
    "\n",
    "이제 Folium의 초기 Map을 생성하고 서울시 구단위 인구수를 시각화합시다."
   ]
  },
  {
   "cell_type": "code",
   "execution_count": null,
   "id": "cf2a7ff6",
   "metadata": {},
   "outputs": [],
   "source": [
    "# 서울시 중심부 위도, 경도\n",
    "center = [37.541, 126.986]\n",
    "\n",
    "# map이 서울 중심부에 위치하고, zoom 레벨은 10으로 시작 합니다.\n",
    "map = folium.Map(\n",
    "    location=center,\n",
    "    zoom_start=10,\n",
    "    )\n",
    "\n",
    "print('슝~')"
   ]
  },
  {
   "cell_type": "code",
   "execution_count": null,
   "id": "dfc356d4",
   "metadata": {},
   "outputs": [],
   "source": [
    "folium.Choropleth(\n",
    "    geo_data=seoul_sig_geo_data,\n",
    "    name=\"서울시 구단위 인구수\",\n",
    "    data=seoul_gu_pop_df,\n",
    "    columns=[\"gu_nm\", \"tot_ppltn\"],\n",
    "    key_on=\"feature.id\",\n",
    "    fill_color='YlOrRd',\n",
    "    fill_opacity=0.7,\n",
    "    line_opacity=0.2,\n",
    "    line_color='white', \n",
    "    line_weight=0,\n",
    "    highlight=False, \n",
    "    smooth_factor=1.0,\n",
    "    legend_name=\"인구수\",\n",
    ").add_to(map)\n",
    "\n",
    "map"
   ]
  },
  {
   "cell_type": "markdown",
   "id": "c7154d0b",
   "metadata": {},
   "source": [
    "## 4-6. 프로젝트(1) 서울시 쏘카존 데이터를 활용한 시각화\n",
    "\n",
    "지금까지 렉처에서 배운 내용을 기반으로 다양한 공간 데이터 시각화 응용을 진행했습니다. 이번에는 배운 내용을 이용해 다음의 프로젝트를 해결해봅시다.\n",
    "\n",
    "1.  서울시 쏘카존 데이터를 활용한 시각화\n",
    "2.  서울시 카페와 버스 정류장 밀도 데이터를 이용한 시각화\n",
    "3.  2번의 시각화 자료에 쏘카존 데이터 추가해 표현하기\n",
    "\n",
    "3번 프로젝트에서 추가 데이터로는 따릉이, 쏘카존 마커 등 원작자가 제공하는 데이터를 사용해도 되고, 여러분이 추가로 얻은 데이터를 활용해도 무관합니다.\n",
    "\n",
    "먼저 주요 라이브러리들의 버전을 살펴보겠습니다."
   ]
  },
  {
   "cell_type": "code",
   "execution_count": null,
   "id": "9a9bdf3d",
   "metadata": {},
   "outputs": [],
   "source": [
    "import pandas\n",
    "import geopandas\n",
    "import folium\n",
    "import requests\n",
    "import json\n",
    "import os\n",
    "import math\n",
    "import time\n",
    "import pandas as pd\n",
    "import numpy as np\n",
    "import geopandas as gpd\n",
    "import folium\n",
    "import matplotlib.pyplot as plt\n",
    "\n",
    "from shapely.geometry import mapping, shape, Point, Polygon, LineString\n",
    "from folium import plugins\n",
    "from folium.plugins import MarkerCluster, HeatMap\n",
    "print(pandas.__version__)\n",
    "print(geopandas.__version__)\n",
    "print(folium.__version__)"
   ]
  },
  {
   "cell_type": "markdown",
   "id": "8f1010d7",
   "metadata": {},
   "source": [
    "### 공간 데이터를 활용한 시각화 방법\n",
    "\n",
    "___\n",
    "\n",
    "공간 데이터를 활용해 시각화하는 방법에는 다양한 내용이 포함되어 있었지만 시각화의 기능적인 순서는 아래와 같이 정리할 수 있습니다.\n",
    "\n",
    "1.  csv/API 등을 이용해 DataFrame으로 만들기 위한 전처리\n",
    "2.  DataFrame 생성 후 데이터 전처리\n",
    "3.  위도 경도 데이터 타입 확인\n",
    "4.  좌표계 확인(WSG84)\n",
    "5.  Folium을 이용해 시각화\n",
    "\n",
    "학습한 내용을 바탕으로 프로젝트를 진행하겠습니다.\n",
    "\n",
    "## 서울시 쏘카존 데이터를 활용한 시각화\n",
    "\n",
    "___\n",
    "\n",
    "로컬에서 진행하기 위해서는 아래 링크를 통해 파일을 다운로드하시기 바랍니다.\n",
    "\n",
    "먼저 쏘카존 정보가 담긴 CSV 파일을 DataFrame으로 읽어옵니다."
   ]
  },
  {
   "cell_type": "code",
   "execution_count": null,
   "id": "28dcf5ae",
   "metadata": {},
   "outputs": [],
   "source": [
    "path = os.getenv('HOME') + '/aiffel/socar_gis/data/20210823_socar_zone.csv'\n",
    "\n",
    "socar_zone_info_df = pd.read_csv(path)\n",
    "socar_zone_info_df.head()"
   ]
  },
  {
   "cell_type": "markdown",
   "id": "e6c6ceb2",
   "metadata": {},
   "source": [
    "Folium 초기 Map 객체를 생성 합니다. 초기 Map 메소드에는 초기 중심값 좌표가 들어가야 합니다. map의 위치는 center에 위치하고, zoom 레벨은 12로 시작합니다."
   ]
  },
  {
   "cell_type": "code",
   "execution_count": null,
   "id": "973c26da",
   "metadata": {},
   "outputs": [],
   "source": [
    "# 서울시 중심부 위도, 경도\n",
    "center = [37.541, 126.986]\n",
    "\n",
    "map = folium.Map(\n",
    "    location=center,\n",
    "    zoom_start=12,\n",
    ")\n",
    "\n",
    "print('슝~')"
   ]
  },
  {
   "cell_type": "markdown",
   "id": "5657ab4f",
   "metadata": {},
   "source": [
    "마커들을 그룹화해주는 MarkerCluster 객체를 만들고, 쏘카존 이름, 위도, 경도를 가져와 Marker 객체로 추가해 줍니다."
   ]
  },
  {
   "cell_type": "code",
   "execution_count": null,
   "id": "bb4bf3cd",
   "metadata": {},
   "outputs": [],
   "source": [
    "# MarkerCluster 객체 만들기\n",
    "marker_cluster = MarkerCluster().add_to(map)\n",
    "\n",
    "#maker 객체 추가\n",
    "for _, row in socar_zone_info_df.iterrows():\n",
    "    try:\n",
    "    folium.Marker(\n",
    "        location=[row[\"lat\"], row[\"lng\"]],# 좌표\n",
    "        popup = row[\"zone_name\"],# 클릭시 표시될 popup 내용\n",
    "        icon=folium.Icon(color=\"cadetblue\", icon=\"car\", prefix=\"fa\")\n",
    "    ).add_to(marker_cluster)\n",
    "    except:\n",
    "        pass\n",
    "\n",
    "print('슝~')"
   ]
  },
  {
   "cell_type": "code",
   "execution_count": null,
   "id": "bbd6b3c1",
   "metadata": {},
   "outputs": [],
   "source": [
    "# 생성한 맵을 확인\n",
    "map"
   ]
  },
  {
   "cell_type": "markdown",
   "id": "eba59299",
   "metadata": {},
   "source": [
    "**시각화 결과 예시**\n",
    "\n",
    "![content img](https://d3s0tskafalll9.cloudfront.net/media/images/seoul_socar_zone.max-800x600.jpg)"
   ]
  },
  {
   "cell_type": "markdown",
   "id": "26c52119",
   "metadata": {},
   "source": [
    "## 4-7. 프로젝트(2) 서울시 카페와 버스 정류장 밀도 데이터를 이용한 시각화\n",
    "\n",
    "2번째 프로젝트는 서울시 카페 밀도 데이터와 버스 정류장 밀도 데이터를 이용한 시각화입니다. 서울시 상가 데이터는 [소상공인시장진흥공단\\_상가(상권)정보](https://www.data.go.kr/data/15083033/fileData.do)에서 다운로드 받으면 됩니다. 로컬에서 사용하기 위해서는 데이터를 다운로드 받아 압축을 해제한 후 `소상공인시장진흥공단_상가(상권)정보_서울_202106.csv` 형식의 파일을 이용하세요.\n",
    "\n",
    "## 서울시 카페와 버스 정류장 밀도 데이터를 이용한 시각화\n",
    "\n",
    "___\n",
    "\n",
    "먼저 서울시 카페 밀도를 시각화하기 위해 상가 정보 데이터를 불러옵니다."
   ]
  },
  {
   "cell_type": "code",
   "execution_count": null,
   "id": "dd0d92bd",
   "metadata": {},
   "outputs": [],
   "source": [
    "temp_seoul_store_df = pd.read_csv(os. getenv('HOME') + '/aiffel/socar_gis/data/seoul_store_info_202106.csv'\n",
    ")\n",
    "\n",
    "temp_seoul_store_df.head()"
   ]
  },
  {
   "cell_type": "markdown",
   "id": "7fa15515",
   "metadata": {},
   "source": [
    "우리는 카페 정보를 알고 싶기 때문에 데이터 프레임에서 `상권업종소분류코드` 컬럼에서 'Q12A01'만 필터링합니다. 참고로 Q12A01는 커피점/카페 분류코드입니다. 상가정보업종 코드는 [소상공인시장진흥공단\\_상가(상권)정보 업종코드](https://www.data.go.kr/data/15067631/fileData.do) 을 참고하세요."
   ]
  },
  {
   "cell_type": "code",
   "execution_count": null,
   "id": "cea4706b",
   "metadata": {},
   "outputs": [],
   "source": [
    "seoul_cafe_store_df = temp_seoul_store_df[temp_seoul_store_df[\"상권업종소분류코드\"] == \"Q12A01\"]\n",
    "\n",
    "seoul_cafe_store_df.head()"
   ]
  },
  {
   "cell_type": "markdown",
   "id": "45d17ffc",
   "metadata": {},
   "source": [
    "위도와 경도의 데이터 타입을 확인합니다. 데이터 타입이 `float`여야합니다."
   ]
  },
  {
   "cell_type": "code",
   "execution_count": null,
   "id": "b857c9f2",
   "metadata": {},
   "outputs": [],
   "source": [
    "seoul_cafe_store_df.info()"
   ]
  },
  {
   "cell_type": "markdown",
   "id": "99adf91d",
   "metadata": {},
   "source": [
    "카페 밀도를 표현하기 위해 위치데이터 리스트를 생성합니다."
   ]
  },
  {
   "cell_type": "code",
   "execution_count": null,
   "id": "4e602d76",
   "metadata": {},
   "outputs": [],
   "source": [
    "seoul_cafe_location_data = [[row[\"위도\"], row[\"경도\"]] for _, row in seoul_cafe_store_df.iterrows()]\n",
    "\n",
    "print(\"슝~\")"
   ]
  },
  {
   "cell_type": "markdown",
   "id": "2fb3a046",
   "metadata": {},
   "source": [
    "이제 서울시 버스 정류장 밀도 데이터 리스트를 생성합니다.\n",
    "\n",
    "로컬에서 진행할 경우 아래 링크를 통해 데이터를 다운로드 받기 바랍니다.\n",
    "\n",
    "서울공공데이터 홈페이지에서 다운로드 받은 버스노선 정보 csv 파일을 DataFrame으로 읽어옵니다."
   ]
  },
  {
   "cell_type": "code",
   "execution_count": null,
   "id": "4e13c2fa",
   "metadata": {},
   "outputs": [],
   "source": [
    "path = os.getenv('HOME') + '/aiffel/socar_gis/data/seoul_bus_line_info.csv'\n",
    "bus_line_info_df = pd.read_csv(path)\n",
    "bus_line_info_df.head()"
   ]
  },
  {
   "cell_type": "markdown",
   "id": "63fcf548",
   "metadata": {},
   "source": [
    "컬럼 명을 'X좌표와 Y좌표'에서 '경도와 위도'로 변경하고, 버스 정류장의 밀도를 표현해주는 위치데이터 리스트를 만듭니다."
   ]
  },
  {
   "cell_type": "code",
   "execution_count": null,
   "id": "3d494c75",
   "metadata": {},
   "outputs": [],
   "source": [
    "# 컬럼명 변경\n",
    "bus_line_info_df.rename(\n",
    "    columns={\n",
    "        \"Y좌표\": \"lat\",\n",
    "        \"X좌표\": \"lng\",\n",
    "    },\n",
    "    inplace=True\n",
    ")\n",
    "\n",
    "bus_line_info_df.info()"
   ]
  },
  {
   "cell_type": "code",
   "execution_count": null,
   "id": "6e4d08f2",
   "metadata": {},
   "outputs": [],
   "source": [
    "# 버스 정류장 밀도를 표현해주기 위한 위치데이터 리스트 만들기\n",
    "bus_station_location_data =[[row['lat'], row['lng']] for _, row in bus_line_info_df.iterrows()] ### YOUR CODE ###\n",
    "print('슝~')"
   ]
  },
  {
   "cell_type": "markdown",
   "id": "26deb435",
   "metadata": {},
   "source": [
    "\n",
    "### Heatmap 형태로 시각화하기\n",
    "\n",
    "___\n",
    "\n",
    "시각화를 위해 Heatmap을 사용하는 이유는 유동성과 집객효과가 큰 곳을 확인해 쏘카존이 입지하기 유리한 조건을 확인하기 위해서입니다. 상업시설의 대표격인 카페가 많이 모여 있거나 대중교통이 잘 발달된 곳이 유동성과 집객효과가 큰 곳이므로 Heatmap을 통해 카페와 버스 정류장의 밀도를 시각적으로 확인해 보도록 하겠습니다.\n",
    "\n",
    "Heatmap을 사용하는 방법을 크게 3 단계로 본다면 아래와 같습니다.\n",
    "\n",
    "1.  Folium 초기 Map 객체를 생성합니다. 초기 Map 메소드에는 초기 중심값 좌표가 들어가야 합니다.\n",
    "2.  tiles 파라미터를 \"Stamen Terrain\"로 바꿔줍니다.\n",
    "3.  zoom\\_start를 15로 설정합니다."
   ]
  },
  {
   "cell_type": "code",
   "execution_count": null,
   "id": "a9e11626",
   "metadata": {},
   "outputs": [],
   "source": [
    "# Folium 초기 Map 객체 생성 \n",
    "\n",
    "# 서울시 중심부 위도, 경도\n",
    "center = [37.541, 126.986]\n",
    "\n",
    "map = folium.Map(\n",
    "    location=center,\n",
    "    tiles=\"Stamen Terrain\", ### YOUR CODE ###\n",
    "    zoom_start=15 ### YOUR CODE ###\n",
    ")\n",
    "print('슝~')"
   ]
  },
  {
   "cell_type": "markdown",
   "id": "ac2341b8",
   "metadata": {},
   "source": [
    "이제 Folium의 plugins 메소드를 이용해 다양한 인자를 하나의 Map에 시각화해 봅니다. Folium의 plugins 메소드에 대해 더 알고 싶다면 아래의 자료를 참고하세요.\n",
    "\n",
    "-   [Folium documentation - plugins](https://python-visualization.github.io/folium/plugins.html)\n",
    "\n",
    "우선 레이어 적용을 위해 그룹을 만들고, 레이어 콘트롤 박스를 만듭니다.\n"
   ]
  },
  {
   "cell_type": "code",
   "execution_count": null,
   "id": "8039d5da",
   "metadata": {},
   "outputs": [],
   "source": [
    "# 레이어 적용을 위한 그룹 만들기\n",
    "# 대표 그룹 만들기\n",
    "fg = folium.FeatureGroup(name=\"groups\")\n",
    "map.add_child(fg)\n",
    "\n",
    "# 카페 그룹 만들기\n",
    "cafe = plugins.FeatureGroupSubGroup(fg, \"cafe_density\")\n",
    "map.add_child(cafe)\n",
    "\n",
    "# 버스정류장 그룹 만들기\n",
    "bus = plugins.FeatureGroupSubGroup(fg, 'bus_density')\n",
    "map.add_child(bus)\n",
    "### YOUR CODE ###\n",
    "\n",
    "# 레이어 콘트롤 박스 만들기\n",
    "folium.LayerControl(collapsed=False).add_to(map)"
   ]
  },
  {
   "cell_type": "markdown",
   "id": "edd36f6a",
   "metadata": {},
   "source": [
    "카페와 버스 정류장의 밀도를 Heatmap에 추가한 후 시각화합니다."
   ]
  },
  {
   "cell_type": "code",
   "execution_count": null,
   "id": "5808f878",
   "metadata": {},
   "outputs": [],
   "source": [
    "# 카페 밀도\n",
    "plugins.HeatMap(seoul_cafe_location_data).add_to(cafe)"
   ]
  },
  {
   "cell_type": "code",
   "execution_count": null,
   "id": "81fec29d",
   "metadata": {},
   "outputs": [],
   "source": [
    "# 버스정류장 밀도\n",
    "plugins.HeatMap(bus_station_location_data).add_to(bus)\n",
    "### YOUR CODE ###"
   ]
  },
  {
   "cell_type": "code",
   "execution_count": null,
   "id": "ae92c6ed",
   "metadata": {},
   "outputs": [],
   "source": [
    "# 생성한 맵 확인\n",
    "map"
   ]
  },
  {
   "cell_type": "markdown",
   "id": "5ba7d4de",
   "metadata": {},
   "source": [
    "\n",
    "\n",
    "\n",
    "\n",
    "\n",
    "\n",
    "\n",
    "\n",
    "\n",
    "\n",
    "**시각화 결과 예시**\n",
    "\n",
    "![content img](https://d3s0tskafalll9.cloudfront.net/media/images/seoul_cafe_bus_heatmap.max-800x600.jpg)"
   ]
  },
  {
   "cell_type": "markdown",
   "id": "869c7401",
   "metadata": {},
   "source": [
    "## 4-8. 프로젝트(3) 시각화 자료에 쏘카존 데이터 추가하기\n",
    "\n",
    "프로젝트 (1)에서 진행한 쏘카존 데이터를 프로젝트 (2)에서 진행한 시각화 자료에 추가해보겠습니다.\n",
    "\n",
    "**시각화가 모두 완료된 후에는 쏘카존에 대한 평가 및 선정을 진행합니다.**\n",
    "\n",
    "## 쏘카존 데이터를 시각화 자료에 추가하기\n",
    "\n",
    "___\n",
    "\n",
    "쏘카존 데이터를 프로젝트 (2)의 시각화 자료에 추가하는 방법은 아래와 같습니다.\n",
    "\n",
    "1.  Folium 사용을 위해 초기 맵 생성(프로젝트 (2) 참고)\n",
    "2.  Heatmap 형식으로 생성할 레이어 적용을 위한 그룹만들기\n",
    "3.  쏘카존 마커 클러스터 만들기\n",
    "4.  카페 그룹, 버스 정류장 그룹, 쏘카존 그룹, 레이어 컨트롤 박스 만들기\n",
    "5.  카페 밀도 맵에 추가하기\n",
    "6.  버스 정류장 밀도 맵에 추가하기\n",
    "7.  쏘카존 마커 맵에 추가하기(프로젝트 (1) 참고)\n",
    "8.  생성한 맵 확인\n",
    "\n",
    "### 1\\. Folium 사용을 위해 초기 맵 생성(프로젝트 (2) 참고)"
   ]
  },
  {
   "cell_type": "code",
   "execution_count": null,
   "id": "f07cce47",
   "metadata": {},
   "outputs": [],
   "source": [
    "# Folium 초기 Map 객체를 생성 합니다.\n",
    "# 초기 Map 메소드에는 초기 중심값 좌표가 들어가야 합니다.\n",
    "map = folium.Map(\n",
    "    location = center,\n",
    "    zoom_start = 15)\n",
    "\n",
    "# 서울시 중심부 위도, 경도\n",
    "center = [37.541, 126.986]\n",
    "\n",
    "map = folium.Map(\n",
    "    location = center,\n",
    "    zoom_start = 15)\n",
    "print(\"슝~\")"
   ]
  },
  {
   "cell_type": "markdown",
   "id": "9a722d21",
   "metadata": {},
   "source": [
    "### 2\\. Heatmap 형식으로 생성할 레이어 적용을 위한 그룹만들기"
   ]
  },
  {
   "cell_type": "code",
   "execution_count": null,
   "id": "0f611127",
   "metadata": {},
   "outputs": [],
   "source": [
    "# 레이어 적용을 위한 그룹 만들기\n",
    "# 대표 그룹 만들기\n",
    "fg = folium.FeatureGroup(name='groups')\n",
    "map.add_child(fg)"
   ]
  },
  {
   "cell_type": "markdown",
   "id": "85dbef49",
   "metadata": {},
   "source": [
    "### 3\\. 쏘카존 마커 클러스터 만들기"
   ]
  },
  {
   "cell_type": "code",
   "execution_count": null,
   "id": "571b855c",
   "metadata": {},
   "outputs": [],
   "source": [
    "# 쏘카존 마커 클러스터 만들기\n",
    "mg = plugins.MarkerCluster(\n",
    "    control=False\n",
    "    )\n",
    "\n",
    "map.add_child(mg)"
   ]
  },
  {
   "cell_type": "markdown",
   "id": "04dc2727",
   "metadata": {},
   "source": [
    "\n",
    "### 4\\. 카페 그룹, 버스 정류장 그룹, 쏘카존 그룹, 레이어 컨트롤 박스 만들기"
   ]
  },
  {
   "cell_type": "code",
   "execution_count": null,
   "id": "6286becd",
   "metadata": {},
   "outputs": [],
   "source": [
    "# 카페 그룹 만들기\n",
    "cafe = plugins.FeatureGroupSubGroup(fg, 'cafe_density')\n",
    "map.add_child(cafe)\n",
    "\n",
    "# 버스 정류장 그룹\n",
    "bus_station = plugins.FeatureGroupSubGroup(fg, 'bus_station_density')\n",
    "map.add_child(bus_station)\n",
    "\n",
    "# 쏘카존 마커 그룹\n",
    "socar_zone = plugins.FeatureGroupSubGroup(fg, 'socar_zone_density')\n",
    "map.add_child(socar_zone)\n",
    "\n",
    "# 레이어 컨트롤 박스\n",
    "folium.LayerControl(collapsed=False).add_to(map)"
   ]
  },
  {
   "cell_type": "markdown",
   "id": "618761b2",
   "metadata": {},
   "source": [
    "### 5\\. 카페 밀도 맵에 추가하기"
   ]
  },
  {
   "cell_type": "code",
   "execution_count": null,
   "id": "9e34cb5e",
   "metadata": {},
   "outputs": [],
   "source": [
    "# 카페 밀도\n",
    "### YOUR CODE ###\n",
    "plugins.HeatMap(seoul_cafe_location_data).add_to(cafe)"
   ]
  },
  {
   "cell_type": "markdown",
   "id": "da96138d",
   "metadata": {},
   "source": [
    "### 6\\. 버스 정류장 밀도 맵에 추가하기"
   ]
  },
  {
   "cell_type": "code",
   "execution_count": null,
   "id": "89e88200",
   "metadata": {},
   "outputs": [],
   "source": [
    "# 버스정류장 밀도\n",
    "### YOUR CODE ###\n",
    "plugins.HeatMap(bus_station_location_data).add_to(bus_station)"
   ]
  },
  {
   "cell_type": "markdown",
   "id": "d57d8d67",
   "metadata": {},
   "source": [
    "### 7\\. 쏘카존 마커 맵에 추가하기(프로젝트 (1) 참고)"
   ]
  },
  {
   "cell_type": "code",
   "execution_count": null,
   "id": "1921d10e",
   "metadata": {},
   "outputs": [],
   "source": [
    "# 쏘카존 마커\n",
    "# MarkerCluster 객체 만들기\n",
    "marker_cluster = MarkerCluster().add_to(map)\n",
    "\n",
    "# maker 객체 추가\n",
    "for _, row in socar_zone_info_df.iterrows():\n",
    "    try:\n",
    "        folium.Marker(\n",
    "            location=[row[\"lat\"], row[\"lng\"]], # 좌표\n",
    "            popup = row[\"zone_name\"], # 클릭시 표시될 popup 내용\n",
    "            icon = folium.Icon(color='cadetblue', icon='car', prefix = 'fa')\n",
    "        ).add_to(marker_cluster)\n",
    "    except:\n",
    "        pass\n",
    "\n",
    "print(\"슝~\")"
   ]
  },
  {
   "cell_type": "markdown",
   "id": "e11972e7",
   "metadata": {},
   "source": [
    "### 8\\. 생성한 맵 확인"
   ]
  },
  {
   "cell_type": "code",
   "execution_count": null,
   "id": "a3065498",
   "metadata": {},
   "outputs": [],
   "source": [
    "map"
   ]
  },
  {
   "cell_type": "markdown",
   "id": "9e7dc2ff",
   "metadata": {},
   "source": [
    "**시각화 결과 예시**\n",
    "\n",
    "![content img](https://d3s0tskafalll9.cloudfront.net/media/images/seoul_cafe_bus_socarzone.max-800x600.jpg)\n",
    "\n",
    "## 쏘카존에 대한 평가 및 선정\n",
    "\n",
    "___\n",
    "\n",
    "완성된 시각화 자료를 토대로 자신만의 분석을 진행해주시길 바랍니다. 만약 여러분이 쏘카존 담당자라고 가정하고 현재 쏘카존의 위치가 적절한 지 판단해봅시다. 여러 장소를 확인해보세요! 신규 쏘카존의 적절한 위치는 어디가 좋을지 고민하여 이미지로 표시하고 그 이유를 적어봅시다.\n",
    "\n",
    "#### Q. 여러분이 쏘카존 담당이라고 할 때 완성된 시각화 자료를 토대로 현존 쏘카존에 대한 타당성 평가를 진행하고 신규 쏘카존 선정 및 선정 이유를 설명하시오. (github에 업로드할 ipynb파일에 질문과 답변을 작성하세요.)\n",
    "\n",
    "현재 쏘카존의 위치가 적절한 지 그렇지 않은지 판단해서 서술하고, 신규 쏘카존으로 적절한 곳을 표시해 이미지로 첨부 및 선정 이유를 서술하시오."
   ]
  },
  {
   "cell_type": "code",
   "execution_count": null,
   "id": "7a2b960b",
   "metadata": {},
   "outputs": [],
   "source": []
  }
 ],
 "metadata": {
  "kernelspec": {
   "display_name": "Python 3 (ipykernel)",
   "language": "python",
   "name": "python3"
  },
  "language_info": {
   "codemirror_mode": {
    "name": "ipython",
    "version": 3
   },
   "file_extension": ".py",
   "mimetype": "text/x-python",
   "name": "python",
   "nbconvert_exporter": "python",
   "pygments_lexer": "ipython3",
   "version": "3.9.7"
  }
 },
 "nbformat": 4,
 "nbformat_minor": 5
}
