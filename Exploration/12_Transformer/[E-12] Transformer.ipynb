{
 "cells": [
  {
   "cell_type": "code",
   "execution_count": 2,
   "id": "5f4c24a9",
   "metadata": {},
   "outputs": [
    {
     "name": "stdout",
     "output_type": "stream",
     "text": [
      "슝=3\n"
     ]
    }
   ],
   "source": [
    "import tensorflow as tf\n",
    "import tensorflow_datasets as tfds\n",
    "import os\n",
    "import re\n",
    "import numpy as np\n",
    "import matplotlib.pyplot as plt\n",
    "print(\"슝=3\")"
   ]
  },
  {
   "cell_type": "markdown",
   "id": "b9d32b2d",
   "metadata": {},
   "source": [
    "# 들어가며\n",
    "\n",
    "우리가 떠올리는 인공지능은 무엇인가? 인간 언어를 이해하고 인간과 자연어로 대화할 수 있는 기계를 우리는 자연스럽게 떠올리게 된다. 하지만 우리가 주변에서 흔히 보는 챗봇들이 모두 대화형인 것은 아니다.\n",
    "\n",
    "[챗봇의 5가지 대표 유형](https://tonyaround.com/%ec%b1%97%eb%b4%87-%ea%b8%b0%ed%9a%8d-%eb%8b%a8%ea%b3%84-%ec%b1%97%eb%b4%87%ec%9d%98-5%ea%b0%80%ec%a7%80-%eb%8c%80%ed%91%9c-%ec%9c%a0%ed%98%95-%ec%a2%85%eb%a5%98/)\n",
    "\n",
    "링크를 보면 여러 챗봇들이 있다. 하지만 대화형 챗봇이 아니면 가지는 한계는 명확하다. 바로 사용자가 어떤 말을 하더라도 알아듣고 적절히 대응할 수 없다는 점이다.\n",
    "\n",
    "## 챗봇과 딥러닝\n",
    "\n",
    "[챗봇 역사의 모든 것](https://blog.performars.com/%EC%9D%B8%EA%B3%B5%EC%A7%80%EB%8A%A5-%EC%B1%97%EB%B4%87chatbot-%EC%B1%97%EB%B4%87-%EC%97%AD%EC%82%AC%EC%9D%98-%EB%AA%A8%EB%93%A0-%EA%B2%83)\n",
    "\n",
    "간략한 챗봇의 역사를 확인해 보면, 트랜스포머는 LSTM에 훨씬 뛰어난 처리 속도를 보이면서도 LSTM 등 RNN 모델이 가지는 장기 의존성에 robust한 특징 때문에 매우 긴 길이의 문장을 처리하는 데 유리하다는 좋은 특징을 보였고, 이후 자연어처리 분야의 혁신을 가져온 발판이 되어 주었다.\n",
    "\n",
    "그래서 오늘은 트랜스포머 모델을 기반으로 한 인코더-디코더 구조를 바탕으로 챗봇을 제작해 보자. \n",
    "\n",
    "## 학습 목표\n",
    "\n",
    "- 트랜스포머의 인코더 디코더 구조 이해하기\n",
    "- 내부 단어 토크나이저 사용하기\n",
    "- 셀프 어텐션 이해하기\n",
    "- 한국어에도 적용해보기\n",
    "\n",
    "## 준비물: 디렉토리 생성\n",
    "\n",
    "```python\n",
    "$ mkdir -p ~/aiffel/songys_chatbot\n",
    "```\n",
    "\n",
    "# 트랜스포머의 입력 이해하기\n",
    "\n",
    "![](https://images.velog.io/images/och9854/post/cc75ad38-d760-4891-a5a3-875b14e394c7/image.png)\n",
    "\n",
    "많은 자연어 처리 모델들은 텍스트 문장을 입력으로 받기 위해 단어를 임베딩 벡터로 변환하는 벡터화 과정을 거친다. 트랜스포머 또한 그 점에서는 다른 모델들과 다르지 않다. 하지만 트랜스포머 모델의 입력 데이터 처리에는 RNN 계열의 모델들과 다른 점이 하나 있다. **바로 임베팅 벡터에 어떤 값을 더해준 후 입력으로 사용한다는 점이다. 그 값은 positional Encoding에 해당하는 부분이다.**\n",
    "\n",
    "인코더 입력부분을 조금 확대해보자.\n",
    "\n",
    "![](https://images.velog.io/images/och9854/post/8b2e47d0-cbda-46b1-8470-742f2367bad2/image.png)\n",
    "\n",
    "이렇게 하는 이유는 트랜스포머는 입력을 받을 때, 문장 내에 있는 단어들을 1개씩 순차적으로 받는 게 아니라, **문장이 있는 모든 단어를 한꺼번에 입력으로 받기 때문이다.** 이 부분이 RNN과 결정적으로 다른 부분이다. \n",
    "\n",
    "RNN은 단어들이 어순대로 모델에 입력되므로 모델에게 어순 정보를 알려줄 필요가 없다. 하지만 **트랜스포머는 모든 단어를 한꺼번에 입력받기 때문에 어순을 알려줘야 한다.**\n",
    "\n",
    "![](https://images.velog.io/images/och9854/post/af6fb342-3bc0-416e-94e3-89a8b24d1b56/image.png)\n",
    "\n",
    "positional Encoding의 값은 수식에 의해 정해진다. 트랜스포머는 사인, 코사인 함수의 값을 임베딩 벡터에 더해줌으로써 단어의 순서 정보를 더해준다.\n",
    "\n",
    "위 함수를 이해하기 위해서는 임베딩 벡터와 positional Encoding의 덧셈은 사실 임베딩 벡터가 모여 만들어진 문장 벡터 행렬과 positional Encoding 행렬의 덧셈 연산을 통해 이뤄진다는 점을 이해해야 한다.\n",
    "\n",
    "![](https://images.velog.io/images/och9854/post/7e421387-fe13-4cb8-bb56-ad353160a729/image.png)\n",
    "\n",
    "\n",
    "$d_model$은 임베딩 벡터 차원을 의미하고, pos는 입력 문장에서의 임베딩 벡터의 위치를 나타내며, i는 임베딩 벡터 내의 차원의 인덱스를 의미한다.\n",
    "\n",
    "positional matrix를 직접 구현해 눈으로 확인해보자!"
   ]
  },
  {
   "cell_type": "code",
   "execution_count": 3,
   "id": "96355ab4",
   "metadata": {},
   "outputs": [
    {
     "name": "stdout",
     "output_type": "stream",
     "text": [
      "슝=3\n"
     ]
    }
   ],
   "source": [
    "# 포지셔널 인코딩 레이어\n",
    "class PositionalEncoding(tf.keras.layers.Layer):\n",
    "\n",
    "  def __init__(self, position, d_model):\n",
    "    super(PositionalEncoding, self).__init__()\n",
    "    self.pos_encoding = self.positional_encoding(position, d_model)\n",
    "\n",
    "  def get_angles(self, position, i, d_model):\n",
    "    angles = 1 / tf.pow(10000, (2 * (i // 2)) / tf.cast(d_model, tf.float32))\n",
    "    return position * angles\n",
    "\n",
    "  def positional_encoding(self, position, d_model):\n",
    "    # 각도 배열 생성\n",
    "    angle_rads = self.get_angles(\n",
    "        position=tf.range(position, dtype=tf.float32)[:, tf.newaxis],\n",
    "        i=tf.range(d_model, dtype=tf.float32)[tf.newaxis, :],\n",
    "        d_model=d_model)\n",
    "\n",
    "    # 배열의 짝수 인덱스에는 sin 함수 적용\n",
    "    sines = tf.math.sin(angle_rads[:, 0::2])\n",
    "    # 배열의 홀수 인덱스에는 cosine 함수 적용\n",
    "    cosines = tf.math.cos(angle_rads[:, 1::2])\n",
    "\n",
    "    # sin과 cosine이 교차되도록 재배열\n",
    "    pos_encoding = tf.stack([sines, cosines], axis=0)\n",
    "    pos_encoding = tf.transpose(pos_encoding,[1, 2, 0]) \n",
    "    pos_encoding = tf.reshape(pos_encoding, [position, d_model])\n",
    "\n",
    "    pos_encoding = pos_encoding[tf.newaxis, ...]\n",
    "    return tf.cast(pos_encoding, tf.float32)\n",
    "\n",
    "  def call(self, inputs):\n",
    "    return inputs + self.pos_encoding[:, :tf.shape(inputs)[1], :]\n",
    "\n",
    "print(\"슝=3\")"
   ]
  },
  {
   "cell_type": "markdown",
   "id": "022dfeac",
   "metadata": {},
   "source": [
    "행 크기 50, 열 크기 512인 행렬을 그려보자. 이는 최대 문장 길이 50, 워드 임베팅 차원 512로 하는 모델의 입력 벡터 모양이 이와 같을 것이다. "
   ]
  },
  {
   "cell_type": "code",
   "execution_count": 4,
   "id": "c0edf8a4",
   "metadata": {},
   "outputs": [
    {
     "data": {
      "image/png": "[encoded data removed]",
      "text/plain": [
       "<Figure size 432x288 with 2 Axes>"
      ]
     },
     "metadata": {
      "needs_background": "light"
     },
     "output_type": "display_data"
    }
   ],
   "source": [
    "sample_pos_encoding = PositionalEncoding(50, 512)\n",
    "\n",
    "plt.pcolormesh(sample_pos_encoding.pos_encoding.numpy()[0], cmap='RdBu')\n",
    "plt.xlabel('Depth')\n",
    "plt.xlim((0, 512))\n",
    "plt.ylabel('Position')\n",
    "plt.colorbar()\n",
    "plt.show()"
   ]
  },
  {
   "cell_type": "markdown",
   "id": "2c55c889",
   "metadata": {},
   "source": [
    "실제 논문에서는 다음과 같이 포지셔널 인코딩을 표현했다.\n",
    "\n",
    "![](https://images.velog.io/images/och9854/post/ec1c31d4-ae03-4617-8884-eac682d04a63/image.png)"
   ]
  },
  {
   "cell_type": "markdown",
   "id": "15b4b9bc",
   "metadata": {},
   "source": [
    "# 어텐션\n",
    "\n",
    "어텐션 메커니즘은 아래 그림과 같이 표현 가능하다.\n",
    "\n",
    "![](https://images.velog.io/images/och9854/post/c6a6e107-8202-4f04-b0e4-d16b307f5997/image.png)\n",
    "\n",
    "어텐션 함수는 주어진 `Query`에 대해 모든 `key`와의 유사도를 구한다. 그리고 이 유사도를 key와 맵핑되어 있는 각각의 `값`에 반영해준다. 그리고 유사도가 반영된 `값`을 모두 더해 뭉쳐주면 최종 결과인 **어텐션 값(Attention Value)**가 된다.\n",
    "\n",
    "## 트랜스포머에서 사용된 어텐션\n",
    "\n",
    "![](https://images.velog.io/images/och9854/post/c068613b-de24-48c1-94ce-33b6d5109b98/image.png)\n",
    "\n",
    "총 3가지 어텐션을 사용한다.\n",
    "\n",
    "1. 인코더 셀프 어텐션: 인코더에서 이뤄짐    \n",
    "2. 디코더 셀프 어텐션: 디코더에서 이뤄짐    \n",
    "3. 인코더-디코더 어텐션: 디코더에서 이뤄짐    \n",
    "\n",
    "![](https://images.velog.io/images/och9854/post/347b8d84-23b4-450f-bd93-0929056ea553/image.png)\n",
    "\n",
    "**쿼리, 키, 벨류**는 기본적으로 **단어(정보를 함축한) 벡터**이다.\n",
    "\n",
    "> 단어 벡터란 초기 입력으로 사용된 임베딩 벡터가 아니라, **트랜스포머의 여러 연산을 거친 후의 단어 벡터**이다.\n",
    "\n",
    "**세 어텐션이 하는 일**\n",
    "\n",
    "1. 인코더 셀프 어텐션: 인코더 입력으로 들어간 문자 내 단어들의 유사도를 구함\n",
    "2. 디코더 셀프 어텐션: 단어를 1개씩 생성하는 디코더가 이미 생성된 앞 단어와의 유사도를 구함\n",
    "3. 인코더-디코더 어텐션: 디코더가 잘 예측하기 위해 인코더에 입력된 단어들과 유사도를 구한다.\n",
    "\n",
    "이 중 2가지가 `셀프 어텐션`이다. 셀프 어텐션은 **어떤 의미를 지니는지, 왜 중요한지 알아보자.**\n",
    "\n",
    "## 셀프 어텐션\n",
    "\n",
    "- 유사도를 구하는 대상이 다른 문장의 단어가 아니라 현재 문장 내의 단어들의 유사도를 구하는 것을 의미한다.\n",
    "\n",
    "![](https://images.velog.io/images/och9854/post/e1c54212-744f-4fbd-9216-7b8a28f19d36/image.png)\n",
    "\n",
    "출처: <https://ai.googleblog.com/2017/08/transformer-novel-neural-network.html>\n",
    "\n",
    "> 유사도는 어떻게 구할까?\n",
    "\n",
    "# Scaled Dot Product Attention\n",
    "\n",
    "트랜스포머에서는 다음과 같이 어텐션 값을 구한다.\n",
    "\n",
    "![](https://images.velog.io/images/och9854/post/522de332-86fa-4c7e-a001-add003a24ed4/image.png)\n",
    "\n",
    "> Q = Query, K = key, V = value\n",
    "\n",
    "앞서 말한 정의를 다시 보자.\n",
    "\n",
    "어텐션 함수는 주어진 `Query`에 대해 모든 `key`와의 유사도를 구한다. 그리고 이 유사도를 key와 맵핑되어 있는 각각의 `값`에 반영해준다. 그리고 유사도가 반영된 `값`을 모두 더해 뭉쳐주면 최종 결과인 **어텐션 값(Attention Value)**가 된다.\n",
    "\n",
    "이 정의와 아래 세 가지 내용만 기억하면 수식을 그림으로 정리할 수 있다.\n",
    "\n",
    "1. Q, K, V는 단어 벡터를 행으로 하는 문장 행렬이다.\n",
    "2. 벡터의 내적(dot product) 은 벡터의 유사도를 의미한다.\n",
    "3. 특정 값을 분모로 사용하는 것은 값의 크기를 조절하는 스케일링(Scaling)을 위함이다.\n",
    "\n",
    "Q, K의 전치 행렬을 곱하는 것은 다음과 같이 표현된다\n",
    "\n",
    "![](https://images.velog.io/images/och9854/post/4e556c4e-a649-41c0-ac55-1bd5d93d2402/image.png)\n",
    "\n",
    "이렇게 각 단어 벡터의 유사도가 기록된 유사도 행렬이 생성된다.\n",
    "\n",
    "이 유사도 값을 스케일링 하기 위해 행렬 전체를 특정 값으로 나누고, 유사도를 0과 1사이의 값으로 Normalize하기 위해서 소프트맥스 함수를 사용한다. 여기서 문장 행렬 V를 곱하면 Attention Value를 얻는다.\n",
    "\n",
    "![](https://images.velog.io/images/och9854/post/c5ad543d-656f-4513-806a-c775f21168fb/image.png)\n",
    "\n",
    "이 식은 dot product를 통해 단어벡터 간 유사도를 구한 후에 특정 값을 분모로 나눠주는 방식으로 Q, K의 유사도를 구했다고 하여 **Scaled dot product Attention**이라고 한다.\n",
    "\n",
    "Scaled dot product Attention 함수를 구현해 보자."
   ]
  },
  {
   "cell_type": "code",
   "execution_count": 5,
   "id": "284d6135",
   "metadata": {},
   "outputs": [
    {
     "name": "stdout",
     "output_type": "stream",
     "text": [
      "슝=3\n"
     ]
    }
   ],
   "source": [
    "# 스케일드 닷 프로덕트 어텐션 함수\n",
    "def scaled_dot_product_attention(query, key, value, mask):\n",
    "  # 어텐션 가중치는 Q와 K의 닷 프로덕트\n",
    "  matmul_qk = tf.matmul(query, key, transpose_b=True)\n",
    "\n",
    "  # 가중치를 정규화\n",
    "  depth = tf.cast(tf.shape(key)[-1], tf.float32)\n",
    "  logits = matmul_qk / tf.math.sqrt(depth)\n",
    "\n",
    "  # 패딩에 마스크 추가\n",
    "  if mask is not None:\n",
    "    logits += (mask * -1e9)\n",
    "\n",
    "  # softmax적용\n",
    "  attention_weights = tf.nn.softmax(logits, axis=-1)\n",
    "\n",
    "  # 최종 어텐션은 가중치와 V의 닷 프로덕트\n",
    "  output = tf.matmul(attention_weights, value)\n",
    "  return output\n",
    "\n",
    "print(\"슝=3\")"
   ]
  },
  {
   "cell_type": "markdown",
   "id": "6448f7a1",
   "metadata": {},
   "source": [
    "# 머리가 여러 개인 어텐션\n",
    "\n",
    "## 병렬로 어텐션 수행하기\n",
    "\n",
    "`num_heads`라는 변수는 기계가 병렬적으로 몇 개의 어텐션 연산을 수행할지를 결정하는 하이퍼파라미터이다.\n",
    "\n",
    "![](https://images.velog.io/images/och9854/post/e663b18f-81e7-4306-9adb-9f5a53ad9657/image.png)\n",
    "\n",
    "앞서 `d_model`은 임베딩 차원의 벡터라고 언급하였다. 결국 트랜스포머의 초기 입력인 문장 행렬의 크기는 문장의 길이를 행으로, d_model을 열의 크기로 가진다. \n",
    "\n",
    "트랜스포머는 이렇게 문장 행렬을 `num_heads` 수만큼 쪼개 어텐션을 수행하고, 이렇게 얻은 `num_heads`수만큼 어텐션 값 행렬을 하나로 concatenate한다.\n",
    "\n",
    "위 그림은 num_heads가 8개인 경우고, 다시 concatenate하면서 열 크기가 d_model이 된다.\n",
    "\n",
    "## 멀티-헤드 어텐션\n",
    "\n",
    "![](https://images.velog.io/images/och9854/post/e3f73bae-e173-4736-89ac-e6150ae13be2/image.png)\n",
    "\n",
    "[출처 : http://jalammar.github.io/illustrated-transformer/]\n",
    "\n",
    "위 그림은 `num_heads`값이 8일 때, 병렬로 수행되는 어텐션이 서로 다른 셀프 어텐션 결과를 얻을 수 있음을 보여준다. 이와 같이 어텐션을 병렬로 수행하는 것은 **멀티 헤드 어텐션**이라고 부른다.\n",
    "\n",
    "## 구현하기\n",
    "\n",
    "다음과 같다. 내부적으로는 Scaled dot product Attention함수를 호출한다.\n"
   ]
  },
  {
   "cell_type": "code",
   "execution_count": 6,
   "id": "ccb439e2",
   "metadata": {},
   "outputs": [
    {
     "name": "stdout",
     "output_type": "stream",
     "text": [
      "슝=3\n"
     ]
    }
   ],
   "source": [
    "# searched: assert \n",
    "class MultiHeadAttention(tf.keras.layers.Layer):\n",
    "\n",
    "  def __init__(self, d_model, num_heads, name=\"multi_head_attention\"):\n",
    "    super(MultiHeadAttention, self).__init__(name=name)\n",
    "    self.num_heads = num_heads\n",
    "    self.d_model = d_model\n",
    "\n",
    "    assert d_model % self.num_heads == 0\n",
    "\n",
    "    self.depth = d_model // self.num_heads\n",
    "\n",
    "    self.query_dense = tf.keras.layers.Dense(units=d_model)\n",
    "    self.key_dense = tf.keras.layers.Dense(units=d_model)\n",
    "    self.value_dense = tf.keras.layers.Dense(units=d_model)\n",
    "\n",
    "    self.dense = tf.keras.layers.Dense(units=d_model)\n",
    "\n",
    "  def split_heads(self, inputs, batch_size):\n",
    "    inputs = tf.reshape(\n",
    "        inputs, shape=(batch_size, -1, self.num_heads, self.depth))\n",
    "    return tf.transpose(inputs, perm=[0, 2, 1, 3])\n",
    "\n",
    "  def call(self, inputs):\n",
    "    query, key, value, mask = inputs['query'], inputs['key'], inputs[\n",
    "        'value'], inputs['mask']\n",
    "    batch_size = tf.shape(query)[0]\n",
    "\n",
    "    # Q, K, V에 각각 Dense를 적용합니다\n",
    "    query = self.query_dense(query)\n",
    "    key = self.key_dense(key)\n",
    "    value = self.value_dense(value)\n",
    "\n",
    "    # 병렬 연산을 위한 머리를 여러 개 만듭니다\n",
    "    query = self.split_heads(query, batch_size)\n",
    "    key = self.split_heads(key, batch_size)\n",
    "    value = self.split_heads(value, batch_size)\n",
    "\n",
    "    # 스케일드 닷 프로덕트 어텐션 함수\n",
    "    scaled_attention = scaled_dot_product_attention(query, key, value, mask)\n",
    "\n",
    "    scaled_attention = tf.transpose(scaled_attention, perm=[0, 2, 1, 3])\n",
    "\n",
    "    # 어텐션 연산 후에 각 결과를 다시 연결(concatenate)합니다\n",
    "    concat_attention = tf.reshape(scaled_attention,\n",
    "                                  (batch_size, -1, self.d_model))\n",
    "\n",
    "    # 최종 결과에도 Dense를 한 번 더 적용합니다\n",
    "    outputs = self.dense(concat_attention)\n",
    "\n",
    "    return outputs\n",
    "print(\"슝=3\")"
   ]
  },
  {
   "cell_type": "markdown",
   "id": "011c3eea",
   "metadata": {},
   "source": [
    "# 마스킹\n",
    "\n",
    "- 특정 값을 가려 실제 연산에 방해가 되지 않도록 하는 기법\n",
    "- 트랜스포머에서는 어텐션을 위해 크게 두 가지 마스킹을 사용한다.\n",
    "\n",
    "## 패딩 마스킹\n",
    "\n",
    "![](https://images.velog.io/images/och9854/post/b3a6c73c-6715-4798-b604-88c818993865/image.png)\n",
    "\n",
    "위 그림은 `pad_sequences()`를 사용해 패딩 과정을 시각화한 것이다.\n",
    "\n"
   ]
  },
  {
   "cell_type": "code",
   "execution_count": 9,
   "id": "3017f7f4",
   "metadata": {},
   "outputs": [
    {
     "name": "stdout",
     "output_type": "stream",
     "text": [
      "슝=3\n"
     ]
    }
   ],
   "source": [
    "def create_padding_mask(x):\n",
    "  mask = tf.cast(tf.math.equal(x, 0), tf.float32)\n",
    "  # (batch_size, 1, 1, sequence length)\n",
    "  return mask[:, tf.newaxis, tf.newaxis, :]\n",
    "print(\"슝=3\")\n",
    "\n",
    "# 이 함수에 정수 시퀀스를 입력으로 하면, 숫자가 0인 부분을 체크한 벡터를 리턴한다."
   ]
  },
  {
   "cell_type": "code",
   "execution_count": 10,
   "id": "6bbab0ee",
   "metadata": {},
   "outputs": [
    {
     "name": "stdout",
     "output_type": "stream",
     "text": [
      "tf.Tensor(\n",
      "[[[[0. 0. 1. 0. 1.]]]\n",
      "\n",
      "\n",
      " [[[1. 1. 1. 0. 0.]]]], shape=(2, 1, 1, 5), dtype=float32)\n"
     ]
    }
   ],
   "source": [
    "print(create_padding_mask(tf.constant([[1, 2, 0, 3, 0], [0, 0, 0, 4, 5]])))"
   ]
  },
  {
   "cell_type": "markdown",
   "id": "593cbc33",
   "metadata": {},
   "source": [
    "어텐션 연산 시에 패딩 마스킹을 이용하면 불필요하게 숫자 0을 참고하지 않을 수 있다!"
   ]
  },
  {
   "cell_type": "markdown",
   "id": "e823421f",
   "metadata": {},
   "source": [
    "## 룩 어헤드 마스킹(Look-ahead masking, 다음 단어 가리기)\n",
    "\n",
    "RNN과 트랜스포머는 문장을 입력받는 방법이 전혀 다르다.\n",
    "\n",
    "RNN은 **step**이라는 개념이 존재해서 각 **step**마다 단어가 순서대로 입력으로 들어가는 구조인 반면, 트랜스포머의 경우에는 문장 행렬을 만들어 한 번에 행렬 형태로 입력으로 들어간다는 특징이 있다. 이 특징 때문에 추가적인 **Masking**이 필요하다.\n",
    "\n",
    "우리가 원하는 것은 **이전 단어들로부터 다음 단어를 예측하는 훈련을 제대로 하는 것이다.** 따라서 이런 문제를 해결하기 위해 자신보다 다음에 나올 단어를 참고하지 않도록 가리는 기법이 룩 어헤드 마스킹 기법이다.\n",
    "\n",
    "- 어텐션을 수행할 때, Query 단어 뒤에 나오는 Key 단어들에 대해서는 마스킹한다.\n",
    "\n",
    "![](https://images.velog.io/images/och9854/post/b3f8149b-1847-4411-ab2c-8cf6435e167b/image.png)\n",
    "\n",
    "<https://www.youtube.com/watch?v=xhY7m8QVKjo>\n",
    "\n",
    "빨간 부분이 마스킹을 표현하고 있다. 빨간 부분을 마스킹 함수로 구현하면 다음과 같다.\n",
    "\n"
   ]
  },
  {
   "cell_type": "code",
   "execution_count": 36,
   "id": "63ee4fb3",
   "metadata": {},
   "outputs": [
    {
     "name": "stdout",
     "output_type": "stream",
     "text": [
      "슝=3\n"
     ]
    }
   ],
   "source": [
    "#searched: band_part\n",
    "def create_look_ahead_mask(x):\n",
    "  seq_len = tf.shape(x)[1]\n",
    "  look_ahead_mask = 1 - tf.linalg.band_part(tf.ones((seq_len, seq_len)), -1, 0)\n",
    "  padding_mask = create_padding_mask(x)\n",
    "  return tf.maximum(look_ahead_mask, padding_mask)\n",
    "print(\"슝=3\")"
   ]
  },
  {
   "cell_type": "code",
   "execution_count": 37,
   "id": "1addb3c2",
   "metadata": {},
   "outputs": [
    {
     "name": "stdout",
     "output_type": "stream",
     "text": [
      "tf.Tensor(\n",
      "[[[[0. 1. 1. 1. 1.]\n",
      "   [0. 0. 1. 1. 1.]\n",
      "   [0. 0. 0. 1. 1.]\n",
      "   [0. 0. 0. 0. 1.]\n",
      "   [0. 0. 0. 0. 0.]]]], shape=(1, 1, 5, 5), dtype=float32)\n"
     ]
    }
   ],
   "source": [
    "print(create_look_ahead_mask(tf.constant([[1, 2, 3, 4, 5]])))"
   ]
  },
  {
   "cell_type": "markdown",
   "id": "0f05f9e8",
   "metadata": {},
   "source": [
    "\n",
    "이 마스킹과 패딩 마스킹은 별개이므로, 이 마스킹을 수행할 때 숫자 0인 단어가 있다면 이 또한 패딩해야 한다. 그래서 create_look_ahead_mask() 함수는 내부적으로 앞서 구현한 패딩 마스크 함수도 호출하고 있다.\n",
    "\n",
    "숫자 0이 포함된 경우도 테스트 해보자.\n"
   ]
  },
  {
   "cell_type": "code",
   "execution_count": 13,
   "id": "268aa873",
   "metadata": {},
   "outputs": [
    {
     "name": "stdout",
     "output_type": "stream",
     "text": [
      "tf.Tensor(\n",
      "[[[[1. 1. 1. 1. 1.]\n",
      "   [1. 0. 1. 1. 1.]\n",
      "   [1. 0. 0. 1. 1.]\n",
      "   [1. 0. 0. 0. 1.]\n",
      "   [1. 0. 0. 0. 0.]]]], shape=(1, 1, 5, 5), dtype=float32)\n"
     ]
    }
   ],
   "source": [
    "print(create_look_ahead_mask(tf.constant([[0, 5, 1, 5, 5]])))"
   ]
  },
  {
   "cell_type": "markdown",
   "id": "7d887316",
   "metadata": {},
   "source": [
    "# 인코더\n",
    "\n",
    "![](https://images.velog.io/images/och9854/post/b3a5523f-e9c1-4e6e-94ea-2cb781d6d5dc/image.png)\n",
    "\n",
    "하나의 인코더 층은 크게 총 2개의 sublayer로 나뉜다. 인코더 층을 구현하는 함수는 다음과 같다.\n",
    "\n",
    "\n"
   ]
  },
  {
   "cell_type": "code",
   "execution_count": 38,
   "id": "c38af4c3",
   "metadata": {},
   "outputs": [
    {
     "name": "stdout",
     "output_type": "stream",
     "text": [
      "슝=3\n"
     ]
    }
   ],
   "source": [
    "# 인코더 하나의 레이어를 함수로 구현.\n",
    "# 이 하나의 레이어 안에는 두 개의 서브 레이어가 존재합니다.\n",
    "def encoder_layer(units, d_model, num_heads, dropout, name=\"encoder_layer\"):\n",
    "  inputs = tf.keras.Input(shape=(None, d_model), name=\"inputs\")\n",
    "\n",
    "  # 패딩 마스크 사용\n",
    "  padding_mask = tf.keras.Input(shape=(1, 1, None), name=\"padding_mask\")\n",
    "\n",
    "  # 첫 번째 서브 레이어 : 멀티 헤드 어텐션 수행 (셀프 어텐션)\n",
    "  attention = MultiHeadAttention(\n",
    "      d_model, num_heads, name=\"attention\")({\n",
    "          'query': inputs,\n",
    "          'key': inputs,\n",
    "          'value': inputs,\n",
    "          'mask': padding_mask\n",
    "      })\n",
    "\n",
    "  # 어텐션의 결과는 Dropout과 Layer Normalization이라는 훈련을 돕는 테크닉을 수행\n",
    "  attention = tf.keras.layers.Dropout(rate=dropout)(attention)\n",
    "  attention = tf.keras.layers.LayerNormalization(\n",
    "      epsilon=1e-6)(inputs + attention)\n",
    "\n",
    "  # 두 번째 서브 레이어 : 2개의 완전연결층\n",
    "  outputs = tf.keras.layers.Dense(units=units, activation='relu')(attention)\n",
    "  outputs = tf.keras.layers.Dense(units=d_model)(outputs)\n",
    "\n",
    "  # 완전연결층의 결과는 Dropout과 LayerNormalization이라는 훈련을 돕는 테크닉을 수행\n",
    "  outputs = tf.keras.layers.Dropout(rate=dropout)(outputs)\n",
    "  outputs = tf.keras.layers.LayerNormalization(\n",
    "      epsilon=1e-6)(attention + outputs)\n",
    "\n",
    "  return tf.keras.Model(\n",
    "      inputs=[inputs, padding_mask], outputs=outputs, name=name)\n",
    "print(\"슝=3\")"
   ]
  },
  {
   "cell_type": "markdown",
   "id": "013126e0",
   "metadata": {},
   "source": [
    "![](https://images.velog.io/images/och9854/post/c7621a4f-8757-408f-b8ef-32e52020ff07/image.png)\n",
    "\n",
    "[출처 : http://jalammar.github.io/illustrated-transformer/]\n",
    "\n",
    "# 인코더 층을 쌓아 인코더 만들기\n",
    "\n",
    "이렇게 구현한 인코더 층을 임베팅 층과 포지셔널 인코딩을 연결하고, 사용자가 원하는 만큼 인코더 층을 쌓음으로써 트랜스포머의 인코더가 완성된다.\n",
    "\n",
    "인코더/디코더 내부에서는 각 서브 층 이후 훈련을 돕는 Layer Normalization이라는 테크닉이 사용되었다.\n",
    "\n",
    "트랜스포머는 하이퍼파라미터인 num_layer 개수의 인코더 층을 쌓는다."
   ]
  },
  {
   "cell_type": "code",
   "execution_count": 39,
   "id": "d2407877",
   "metadata": {},
   "outputs": [
    {
     "name": "stdout",
     "output_type": "stream",
     "text": [
      "슝=3\n"
     ]
    }
   ],
   "source": [
    "def encoder(vocab_size,\n",
    "            num_layers,\n",
    "            units,\n",
    "            d_model,\n",
    "            num_heads,\n",
    "            dropout,\n",
    "            name=\"encoder\"):\n",
    "  inputs = tf.keras.Input(shape=(None,), name=\"inputs\")\n",
    "\n",
    "  # 패딩 마스크 사용\n",
    "  padding_mask = tf.keras.Input(shape=(1, 1, None), name=\"padding_mask\")\n",
    "\n",
    "  # 임베딩 레이어\n",
    "  embeddings = tf.keras.layers.Embedding(vocab_size, d_model)(inputs)\n",
    "  embeddings *= tf.math.sqrt(tf.cast(d_model, tf.float32))\n",
    "\n",
    "  # 포지셔널 인코딩\n",
    "  embeddings = PositionalEncoding(vocab_size, d_model)(embeddings)\n",
    "\n",
    "  outputs = tf.keras.layers.Dropout(rate=dropout)(embeddings)\n",
    "\n",
    "  # num_layers만큼 쌓아올린 인코더의 층.\n",
    "  for i in range(num_layers):\n",
    "    outputs = encoder_layer(\n",
    "        units=units,\n",
    "        d_model=d_model,\n",
    "        num_heads=num_heads,\n",
    "        dropout=dropout,\n",
    "        name=\"encoder_layer_{}\".format(i),\n",
    "    )([outputs, padding_mask])\n",
    "\n",
    "  return tf.keras.Model(\n",
    "      inputs=[inputs, padding_mask], outputs=outputs, name=name)\n",
    "print(\"슝=3\")"
   ]
  },
  {
   "cell_type": "markdown",
   "id": "a97e8698",
   "metadata": {},
   "source": [
    "# 디코더\n",
    "\n",
    "-3개의 서브 층으로 구성됨: 셀프 어텐션 - 인코더/디코더 어텐션 - 피드 포워드 신경망\n",
    "- **인코더 디코더 어텐션은** 셀프 어텐션과 달리 Query가 디코더의 벡터인 반면에 Key, Value가 인코더의 벡터라는 특징이 있다.\n",
    "\n",
    "## 디코더 층\n",
    "\n",
    "![](https://images.velog.io/images/och9854/post/c492ed8b-36a7-427e-9dd6-531c2fb3328e/image.png)\n",
    "\n",
    "[출처 : http://jalammar.github.io/illustrated-transformer/]\n",
    "\n",
    "![](https://images.velog.io/images/och9854/post/0a3aec22-ed8c-4654-882f-ac2e35525c1b/image.png)\n",
    "\n",
    "[출처 : https://medium.com/@shreyasikalra25/predict-movie-reviews-with-bert-88d8b79f5718]\n",
    "\n",
    "디코더를 구현한 함수는 다음과 같다."
   ]
  },
  {
   "cell_type": "code",
   "execution_count": 40,
   "id": "2b9b71e3",
   "metadata": {},
   "outputs": [
    {
     "name": "stdout",
     "output_type": "stream",
     "text": [
      "슝=3\n"
     ]
    }
   ],
   "source": [
    "# 디코더 하나의 레이어를 함수로 구현.\n",
    "# 이 하나의 레이어 안에는 세 개의 서브 레이어가 존재합니다.\n",
    "def decoder_layer(units, d_model, num_heads, dropout, name=\"decoder_layer\"):\n",
    "  inputs = tf.keras.Input(shape=(None, d_model), name=\"inputs\")\n",
    "  enc_outputs = tf.keras.Input(shape=(None, d_model), name=\"encoder_outputs\")\n",
    "  look_ahead_mask = tf.keras.Input(\n",
    "      shape=(1, None, None), name=\"look_ahead_mask\")\n",
    "  padding_mask = tf.keras.Input(shape=(1, 1, None), name='padding_mask')\n",
    "\n",
    "  # 첫 번째 서브 레이어 : 멀티 헤드 어텐션 수행 (셀프 어텐션)\n",
    "  attention1 = MultiHeadAttention(\n",
    "      d_model, num_heads, name=\"attention_1\")(inputs={\n",
    "          'query': inputs,\n",
    "          'key': inputs,\n",
    "          'value': inputs,\n",
    "          'mask': look_ahead_mask\n",
    "      })\n",
    "\n",
    "  # 멀티 헤드 어텐션의 결과는 LayerNormalization이라는 훈련을 돕는 테크닉을 수행\n",
    "  attention1 = tf.keras.layers.LayerNormalization(\n",
    "      epsilon=1e-6)(attention1 + inputs)\n",
    "\n",
    "  # 두 번째 서브 레이어 : 마스크드 멀티 헤드 어텐션 수행 (인코더-디코더 어텐션)\n",
    "  attention2 = MultiHeadAttention(\n",
    "      d_model, num_heads, name=\"attention_2\")(inputs={\n",
    "          'query': attention1,\n",
    "          'key': enc_outputs,\n",
    "          'value': enc_outputs,\n",
    "          'mask': padding_mask\n",
    "      })\n",
    "\n",
    "  # 마스크드 멀티 헤드 어텐션의 결과는\n",
    "  # Dropout과 LayerNormalization이라는 훈련을 돕는 테크닉을 수행\n",
    "  attention2 = tf.keras.layers.Dropout(rate=dropout)(attention2)\n",
    "  attention2 = tf.keras.layers.LayerNormalization(\n",
    "      epsilon=1e-6)(attention2 + attention1)\n",
    "\n",
    "  # 세 번째 서브 레이어 : 2개의 완전연결층\n",
    "  outputs = tf.keras.layers.Dense(units=units, activation='relu')(attention2)\n",
    "  outputs = tf.keras.layers.Dense(units=d_model)(outputs)\n",
    "\n",
    "  # 완전연결층의 결과는 Dropout과 LayerNormalization 수행\n",
    "  outputs = tf.keras.layers.Dropout(rate=dropout)(outputs)\n",
    "  outputs = tf.keras.layers.LayerNormalization(\n",
    "      epsilon=1e-6)(outputs + attention2)\n",
    "\n",
    "  return tf.keras.Model(\n",
    "      inputs=[inputs, enc_outputs, look_ahead_mask, padding_mask],\n",
    "      outputs=outputs,\n",
    "      name=name)\n",
    "print(\"슝=3\")"
   ]
  },
  {
   "cell_type": "markdown",
   "id": "2a0ae6a0",
   "metadata": {},
   "source": [
    "## 디코더 층 쌓아 디코더 만들기\n",
    "이렇게 구현한 디코더 츠은 임베팅과 포지셔널 인코딩을 연결하고, 인코더와 동일하게 num_layer 개수의 디코더 층을 쌓아 디코더가 완성된다."
   ]
  },
  {
   "cell_type": "code",
   "execution_count": 41,
   "id": "3491e4fc",
   "metadata": {},
   "outputs": [
    {
     "name": "stdout",
     "output_type": "stream",
     "text": [
      "슝=3\n"
     ]
    }
   ],
   "source": [
    "def decoder(vocab_size,\n",
    "            num_layers,\n",
    "            units,\n",
    "            d_model,\n",
    "            num_heads,\n",
    "            dropout,\n",
    "            name='decoder'):\n",
    "  inputs = tf.keras.Input(shape=(None,), name='inputs')\n",
    "  enc_outputs = tf.keras.Input(shape=(None, d_model), name='encoder_outputs')\n",
    "  look_ahead_mask = tf.keras.Input(\n",
    "      shape=(1, None, None), name='look_ahead_mask')\n",
    "\n",
    "  # 패딩 마스크\n",
    "  padding_mask = tf.keras.Input(shape=(1, 1, None), name='padding_mask')\n",
    "  \n",
    "  # 임베딩 레이어\n",
    "  embeddings = tf.keras.layers.Embedding(vocab_size, d_model)(inputs)\n",
    "  embeddings *= tf.math.sqrt(tf.cast(d_model, tf.float32))\n",
    "\n",
    "  # 포지셔널 인코딩\n",
    "  embeddings = PositionalEncoding(vocab_size, d_model)(embeddings)\n",
    "\n",
    "  # Dropout이라는 훈련을 돕는 테크닉을 수행\n",
    "  outputs = tf.keras.layers.Dropout(rate=dropout)(embeddings)\n",
    "\n",
    "  for i in range(num_layers):\n",
    "    outputs = decoder_layer(\n",
    "        units=units,\n",
    "        d_model=d_model,\n",
    "        num_heads=num_heads,\n",
    "        dropout=dropout,\n",
    "        name='decoder_layer_{}'.format(i),\n",
    "    )(inputs=[outputs, enc_outputs, look_ahead_mask, padding_mask])\n",
    "\n",
    "  return tf.keras.Model(\n",
    "      inputs=[inputs, enc_outputs, look_ahead_mask, padding_mask],\n",
    "      outputs=outputs,\n",
    "      name=name)\n",
    "print(\"슝=3\")"
   ]
  },
  {
   "cell_type": "markdown",
   "id": "465208df",
   "metadata": {},
   "source": [
    "챗봇 데이터를 로드하고, 전처리한 후 인코더/디코더를 조합하여 모델을 만들자."
   ]
  },
  {
   "cell_type": "markdown",
   "id": "3a93d0b1",
   "metadata": {},
   "source": [
    "# 챗봇 병렬 데이터 받아오기\n",
    "\n",
    "Cornell Movie-Dialogs Corpus라는 영화 및 TV 프로그램에서 사용되었던 대화의 쌍으로 구성된 데이터셋을 사용한다.\n",
    "\n",
    "**이번 스텝 목표**\n",
    "- 정해진 개수인 50,000개의 질문과 답변의 쌍을 추출한다.\n",
    "- 문장에서 단어와 구두점 사이에 공백을 추가한다.\n",
    "- 알파벳과 ! ? , . 이 4개의 구두점을 제외하고 다른 특수문자는 모두 제거한다.\n",
    "\n"
   ]
  },
  {
   "cell_type": "code",
   "execution_count": 42,
   "id": "7531ad64",
   "metadata": {},
   "outputs": [
    {
     "name": "stdout",
     "output_type": "stream",
     "text": [
      "Downloading data from http://www.cs.cornell.edu/~cristian/data/cornell_movie_dialogs_corpus.zip\n",
      "9920512/9916637 [==============================] - 1s 0us/step\n",
      "9928704/9916637 [==============================] - 1s 0us/step\n",
      "슝=3\n"
     ]
    }
   ],
   "source": [
    "path_to_zip = tf.keras.utils.get_file(\n",
    "    'cornell_movie_dialogs.zip',\n",
    "    origin='http://www.cs.cornell.edu/~cristian/data/cornell_movie_dialogs_corpus.zip',\n",
    "    extract=True)\n",
    "\n",
    "path_to_dataset = os.path.join(\n",
    "    os.path.dirname(path_to_zip), \"cornell movie-dialogs corpus\")\n",
    "\n",
    "path_to_movie_lines = os.path.join(path_to_dataset, 'movie_lines.txt')\n",
    "path_to_movie_conversations = os.path.join(path_to_dataset,'movie_conversations.txt')\n",
    "print(\"슝=3\")"
   ]
  },
  {
   "cell_type": "code",
   "execution_count": 43,
   "id": "82a9dd74",
   "metadata": {},
   "outputs": [
    {
     "name": "stdout",
     "output_type": "stream",
     "text": [
      "50000\n"
     ]
    }
   ],
   "source": [
    "# 사용할 샘플의 최대 개수\n",
    "MAX_SAMPLES = 50000\n",
    "print(MAX_SAMPLES)"
   ]
  },
  {
   "cell_type": "markdown",
   "id": "f4326496",
   "metadata": {},
   "source": [
    "전처리는 정규 표현식을 사용해 구두점을 제거하여 단어를 토크나이징하는 일에 방해가 되지 않게 정제하자"
   ]
  },
  {
   "cell_type": "code",
   "execution_count": 44,
   "id": "a40c1e53",
   "metadata": {},
   "outputs": [
    {
     "name": "stdout",
     "output_type": "stream",
     "text": [
      "슝=3\n"
     ]
    }
   ],
   "source": [
    "# 전처리 함수\n",
    "def preprocess_sentence(sentence):\n",
    "  sentence = sentence.lower().strip()\n",
    "\n",
    "  # 단어와 구두점(punctuation) 사이의 거리를 만듭니다.\n",
    "  # 예를 들어서 \"I am a student.\" => \"I am a student .\"와 같이\n",
    "  # student와 온점 사이에 거리를 만듭니다.\n",
    "  sentence = re.sub(r\"([?.!,])\", r\" \\1 \", sentence)\n",
    "  sentence = re.sub(r'[\" \"]+', \" \", sentence)\n",
    "\n",
    "  # (a-z, A-Z, \".\", \"?\", \"!\", \",\")를 제외한 모든 문자를 공백인 ' '로 대체합니다.\n",
    "  sentence = re.sub(r\"[^a-zA-Z?.!,]+\", \" \", sentence)\n",
    "  sentence = sentence.strip()\n",
    "  return sentence\n",
    "print(\"슝=3\")"
   ]
  },
  {
   "cell_type": "code",
   "execution_count": 45,
   "id": "bb5aee77",
   "metadata": {},
   "outputs": [
    {
     "name": "stdout",
     "output_type": "stream",
     "text": [
      "슝=3\n"
     ]
    }
   ],
   "source": [
    "# 데이터 로드 + 전처리 함수를 호출해 질문/답변의 쌍을 전처리함\n",
    "\n",
    "# 질문과 답변의 쌍인 데이터셋을 구성하기 위한 데이터 로드 함수\n",
    "def load_conversations():\n",
    "  id2line = {}\n",
    "  with open(path_to_movie_lines, errors='ignore') as file:\n",
    "    lines = file.readlines()\n",
    "  for line in lines:\n",
    "    parts = line.replace('\\n', '').split(' +++$+++ ')\n",
    "    id2line[parts[0]] = parts[4]\n",
    "\n",
    "  inputs, outputs = [], []\n",
    "  with open(path_to_movie_conversations, 'r') as file:\n",
    "    lines = file.readlines()\n",
    "\n",
    "  for line in lines:\n",
    "    parts = line.replace('\\n', '').split(' +++$+++ ')\n",
    "    conversation = [line[1:-1] for line in parts[3][1:-1].split(', ')]\n",
    "\n",
    "    for i in range(len(conversation) - 1):\n",
    "      # 전처리 함수를 질문에 해당되는 inputs와 답변에 해당되는 outputs에 적용.\n",
    "      inputs.append(preprocess_sentence(id2line[conversation[i]]))\n",
    "      outputs.append(preprocess_sentence(id2line[conversation[i + 1]]))\n",
    "\n",
    "      if len(inputs) >= MAX_SAMPLES:\n",
    "        return inputs, outputs\n",
    "  return inputs, outputs\n",
    "print(\"슝=3\")"
   ]
  },
  {
   "cell_type": "code",
   "execution_count": 46,
   "id": "2a2a0ab9",
   "metadata": {},
   "outputs": [
    {
     "name": "stdout",
     "output_type": "stream",
     "text": [
      "전체 샘플 수 : 50000\n",
      "전체 샘플 수 : 50000\n"
     ]
    }
   ],
   "source": [
    "# 샘플 수 확인\n",
    "\n",
    "# 데이터를 로드하고 전처리하여 질문을 questions, 답변을 answers에 저장합니다.\n",
    "questions, answers = load_conversations()\n",
    "print('전체 샘플 수 :', len(questions))\n",
    "print('전체 샘플 수 :', len(answers))"
   ]
  },
  {
   "cell_type": "code",
   "execution_count": 47,
   "id": "d718a1dc",
   "metadata": {},
   "outputs": [
    {
     "name": "stdout",
     "output_type": "stream",
     "text": [
      "전처리 후의 22번째 질문 샘플: she s not a . . .\n",
      "전처리 후의 22번째 답변 샘플: lesbian ? no . i found a picture of jared leto in one of her drawers , so i m pretty sure she s not harboring same sex tendencies .\n"
     ]
    }
   ],
   "source": [
    "# check\n",
    "print('전처리 후의 22번째 질문 샘플: {}'.format(questions[21]))\n",
    "print('전처리 후의 22번째 답변 샘플: {}'.format(answers[21]))"
   ]
  },
  {
   "cell_type": "markdown",
   "id": "ed264da7",
   "metadata": {},
   "source": [
    "# 병렬 데이터 전처리\n",
    "\n",
    "**이번 스텝 요약**\n",
    "\n",
    "- TensorFlow Datasets SubwordTextEncoder를 토크나이저로 사용한다.  단어보다 더 작은 단위인 Subword를 기준으로 토크나이징하고,  각 토큰을 고유한 정수로 인코딩한다.\n",
    "- 각 문장을 토큰화하고 각 문장의 시작과 끝을 나타내는 START_TOKEN 및 END_TOKEN을 추가한다.\n",
    "- 최대 길이 MAX_LENGTH인 40을 넘는 문장들은 필터링한다.\n",
    "- MAX_LENGTH보다 길이가 짧은 문장들은 40에 맞도록 패딩 한다.\n",
    "\n",
    "## 1. 단어장 만들기\n",
    "\n",
    "각 단어에 고유한 정수 인덱스를 부여하기 위해 질문, 답변 데이터셋 모두 사용하여 만든다."
   ]
  },
  {
   "cell_type": "code",
   "execution_count": 48,
   "id": "a2bc61c6",
   "metadata": {},
   "outputs": [
    {
     "name": "stdout",
     "output_type": "stream",
     "text": [
      "살짝 오래 걸릴 수 있어요. 스트레칭 한 번 해볼까요? 👐\n",
      "슝=3 \n"
     ]
    }
   ],
   "source": [
    "import tensorflow_datasets as tfds\n",
    "print(\"살짝 오래 걸릴 수 있어요. 스트레칭 한 번 해볼까요? 👐\")\n",
    "\n",
    "# 질문과 답변 데이터셋에 대해서 Vocabulary 생성. (Tensorflow 2.3.0 이상) (클라우드는 2.4 입니다)\n",
    "tokenizer = tfds.deprecated.text.SubwordTextEncoder.build_from_corpus(questions + answers, target_vocab_size=2**13)\n",
    "print(\"슝=3 \")"
   ]
  },
  {
   "cell_type": "code",
   "execution_count": 49,
   "id": "1aed4d99",
   "metadata": {},
   "outputs": [
    {
     "name": "stdout",
     "output_type": "stream",
     "text": [
      "슝=3 \n"
     ]
    }
   ],
   "source": [
    "import tensorflow_datasets as tfds\n",
    "print(\"슝=3 \")"
   ]
  },
  {
   "cell_type": "markdown",
   "id": "979f2db6",
   "metadata": {},
   "source": [
    "시작, 종료 토큰에 대해서도 단어장에 추가해서 정수를 부여하자. 이미 생성된 단어와 겹치지 않게 단어장의 크기보다 1이 큰 수를 번호로 부여하자."
   ]
  },
  {
   "cell_type": "code",
   "execution_count": 50,
   "id": "d8f65673",
   "metadata": {},
   "outputs": [
    {
     "name": "stdout",
     "output_type": "stream",
     "text": [
      "슝=3\n"
     ]
    }
   ],
   "source": [
    "# 시작 토큰과 종료 토큰에 고유한 정수를 부여합니다.\n",
    "START_TOKEN, END_TOKEN = [tokenizer.vocab_size], [tokenizer.vocab_size + 1]\n",
    "print(\"슝=3\")"
   ]
  },
  {
   "cell_type": "code",
   "execution_count": 51,
   "id": "a36a5926",
   "metadata": {},
   "outputs": [
    {
     "name": "stdout",
     "output_type": "stream",
     "text": [
      "START_TOKEN의 번호 : [8331]\n",
      "END_TOKEN의 번호 : [8332]\n"
     ]
    }
   ],
   "source": [
    "print('START_TOKEN의 번호 :' ,[tokenizer.vocab_size])\n",
    "print('END_TOKEN의 번호 :' ,[tokenizer.vocab_size + 1])"
   ]
  },
  {
   "cell_type": "code",
   "execution_count": 52,
   "id": "c58014d2",
   "metadata": {},
   "outputs": [
    {
     "name": "stdout",
     "output_type": "stream",
     "text": [
      "8333\n"
     ]
    }
   ],
   "source": [
    "# 시작 토큰과 종료 토큰을 고려하여 +2를 하여 단어장의 크기를 산정합니다.\n",
    "VOCAB_SIZE = tokenizer.vocab_size + 2\n",
    "print(VOCAB_SIZE)"
   ]
  },
  {
   "cell_type": "markdown",
   "id": "d3958aa6",
   "metadata": {},
   "source": [
    "## 2.각 단어를 고유한 정수로 인코딩(Integer encoding) & 패딩(padding)\n",
    "\n",
    "위에서 tensorflow_datasets의 SubwordTextEncoder를 사용해서 tokenizer를 정의하고 Vocabulary를 만들었다면, tokenizer.encode()로 각 단어를 정수로 변환할 수 있고 또는 tokenizer.decode()를 통해 정수 시퀀스를 단어 시퀀스로 변환할 수 있다.\n",
    "\n"
   ]
  },
  {
   "cell_type": "code",
   "execution_count": 53,
   "id": "b0f34d09",
   "metadata": {},
   "outputs": [
    {
     "name": "stdout",
     "output_type": "stream",
     "text": [
      "정수 인코딩 후의 21번째 질문 샘플: [60, 8, 37, 8172, 49]\n",
      "정수 인코딩 후의 21번째 답변 샘플: [7824, 1223, 19, 61, 2, 4, 336, 10, 1595, 14, 1104, 698, 3263, 263, 16, 71, 14, 107, 2133, 900, 3, 59, 4, 23, 355, 204, 60, 8, 37, 885, 2289, 8107, 344, 1001, 5179, 4214, 342, 1]\n"
     ]
    }
   ],
   "source": [
    "# 임의의 22번째 샘플에 대해서 정수 인코딩 작업을 수행.\n",
    "# 각 토큰을 고유한 정수로 변환\n",
    "print('정수 인코딩 후의 21번째 질문 샘플: {}'.format(tokenizer.encode(questions[21])))\n",
    "print('정수 인코딩 후의 21번째 답변 샘플: {}'.format(tokenizer.encode(answers[21])))"
   ]
  },
  {
   "cell_type": "code",
   "execution_count": 54,
   "id": "e26c9c05",
   "metadata": {},
   "outputs": [
    {
     "name": "stdout",
     "output_type": "stream",
     "text": [
      "40\n"
     ]
    }
   ],
   "source": [
    "# 샘플의 최대 허용 길이 또는 패딩 후의 최종 길이\n",
    "MAX_LENGTH = 40\n",
    "print(MAX_LENGTH)"
   ]
  },
  {
   "cell_type": "code",
   "execution_count": 55,
   "id": "8c3eaf61",
   "metadata": {},
   "outputs": [
    {
     "name": "stdout",
     "output_type": "stream",
     "text": [
      "슝=3\n"
     ]
    }
   ],
   "source": [
    "# 정수 인코딩, 최대 길이를 초과하는 샘플 제거, 패딩\n",
    "def tokenize_and_filter(inputs, outputs):\n",
    "  tokenized_inputs, tokenized_outputs = [], []\n",
    "  \n",
    "  for (sentence1, sentence2) in zip(inputs, outputs):\n",
    "    # 정수 인코딩 과정에서 시작 토큰과 종료 토큰을 추가\n",
    "    sentence1 = START_TOKEN + tokenizer.encode(sentence1) + END_TOKEN\n",
    "    sentence2 = START_TOKEN + tokenizer.encode(sentence2) + END_TOKEN\n",
    "\n",
    "    # 최대 길이 40 이하인 경우에만 데이터셋으로 허용\n",
    "    if len(sentence1) <= MAX_LENGTH and len(sentence2) <= MAX_LENGTH:\n",
    "      tokenized_inputs.append(sentence1)\n",
    "      tokenized_outputs.append(sentence2)\n",
    "  \n",
    "  # 최대 길이 40으로 모든 데이터셋을 패딩\n",
    "  tokenized_inputs = tf.keras.preprocessing.sequence.pad_sequences(\n",
    "      tokenized_inputs, maxlen=MAX_LENGTH, padding='post')\n",
    "  tokenized_outputs = tf.keras.preprocessing.sequence.pad_sequences(\n",
    "      tokenized_outputs, maxlen=MAX_LENGTH, padding='post')\n",
    "  \n",
    "  return tokenized_inputs, tokenized_outputs\n",
    "print(\"슝=3\")"
   ]
  },
  {
   "cell_type": "code",
   "execution_count": 56,
   "id": "39ea0519",
   "metadata": {},
   "outputs": [
    {
     "name": "stdout",
     "output_type": "stream",
     "text": [
      "단어장의 크기 : 8333\n",
      "필터링 후의 질문 샘플 개수: 44095\n",
      "필터링 후의 답변 샘플 개수: 44095\n"
     ]
    }
   ],
   "source": [
    "questions, answers = tokenize_and_filter(questions, answers)\n",
    "print('단어장의 크기 :',(VOCAB_SIZE))\n",
    "print('필터링 후의 질문 샘플 개수: {}'.format(len(questions)))\n",
    "print('필터링 후의 답변 샘플 개수: {}'.format(len(answers)))"
   ]
  },
  {
   "cell_type": "markdown",
   "id": "644c8525",
   "metadata": {},
   "source": [
    "## 3. Teacher Forcing 사용하기\n",
    "\n",
    "tf.data.Dataset API는 훈련 프로세스의 속도가 빨라지도록 입력 파이프라인을 구축하는 API이다.\n",
    "\n",
    "이를 적극 사용하기 위해서 질문과 답변의 쌍을 tf.data.Dataset의 입력으로 넣어주는 작업을 한다.\n",
    "\n",
    "이때, 디코더의 입력과 실제값(레이블)을 정의해 주기 위해서는 교사 강요(Teacher Forcing) 이라는 언어 모델의 훈련 기법을 이해해야만 한다. 아래의 글을 통해 교사 강요에 대해 알아보자.\n",
    "\n",
    "[위키독스: RNN 언어 모델](https://wikidocs.net/46496)\n",
    "\n",
    "- 자기회귀 모델(auto-regressive model, AR): 이전 자신의 출력이 현재 자신의 상태를 결정하는 모델. RNN, 트랜스포머의 디코더 또한 자기회귀 모델이다.\n",
    "\n",
    "질문/답변 쌍을 **tf.data.Dataset API**의 입력으로 사용하여 파이프라인을 구성한다. 이때 Teacher Force를 위해 `answers[:, :-1]`를 디코더 입력값, `answers[, 1:]`를 디코더의 레이블로 사용한다.\n",
    "\n"
   ]
  },
  {
   "cell_type": "code",
   "execution_count": 57,
   "id": "38207a6f",
   "metadata": {},
   "outputs": [
    {
     "name": "stdout",
     "output_type": "stream",
     "text": [
      "슝=3\n"
     ]
    }
   ],
   "source": [
    "BATCH_SIZE = 64\n",
    "BUFFER_SIZE = 20000\n",
    "\n",
    "# 디코더는 이전의 target을 다음의 input으로 사용합니다.\n",
    "# 이에 따라 outputs에서는 START_TOKEN을 제거하겠습니다.\n",
    "dataset = tf.data.Dataset.from_tensor_slices((\n",
    "    {\n",
    "        'inputs': questions,\n",
    "        'dec_inputs': answers[:, :-1]\n",
    "    },\n",
    "    {\n",
    "        'outputs': answers[:, 1:]\n",
    "    },\n",
    "))\n",
    "\n",
    "dataset = dataset.cache()\n",
    "dataset = dataset.shuffle(BUFFER_SIZE)\n",
    "dataset = dataset.batch(BATCH_SIZE)\n",
    "dataset = dataset.prefetch(tf.data.experimental.AUTOTUNE)\n",
    "print(\"슝=3\")"
   ]
  },
  {
   "cell_type": "markdown",
   "id": "d00478a6",
   "metadata": {},
   "source": [
    "# 모델 정의/학습"
   ]
  },
  {
   "cell_type": "code",
   "execution_count": 58,
   "id": "3daf3619",
   "metadata": {},
   "outputs": [
    {
     "name": "stdout",
     "output_type": "stream",
     "text": [
      "슝=3\n"
     ]
    }
   ],
   "source": [
    "def transformer(vocab_size,\n",
    "                num_layers,\n",
    "                units,\n",
    "                d_model,\n",
    "                num_heads,\n",
    "                dropout,\n",
    "                name=\"transformer\"):\n",
    "  inputs = tf.keras.Input(shape=(None,), name=\"inputs\")\n",
    "  dec_inputs = tf.keras.Input(shape=(None,), name=\"dec_inputs\")\n",
    "\n",
    "  # 인코더에서 패딩을 위한 마스크\n",
    "  enc_padding_mask = tf.keras.layers.Lambda(\n",
    "      create_padding_mask, output_shape=(1, 1, None),\n",
    "      name='enc_padding_mask')(inputs)\n",
    "\n",
    "  # 디코더에서 미래의 토큰을 마스크 하기 위해서 사용합니다.\n",
    "  # 내부적으로 패딩 마스크도 포함되어져 있습니다.\n",
    "  look_ahead_mask = tf.keras.layers.Lambda(\n",
    "      create_look_ahead_mask,\n",
    "      output_shape=(1, None, None),\n",
    "      name='look_ahead_mask')(dec_inputs)\n",
    "\n",
    "  # 두 번째 어텐션 블록에서 인코더의 벡터들을 마스킹\n",
    "  # 디코더에서 패딩을 위한 마스크\n",
    "  dec_padding_mask = tf.keras.layers.Lambda(\n",
    "      create_padding_mask, output_shape=(1, 1, None),\n",
    "      name='dec_padding_mask')(inputs)\n",
    "\n",
    "  # 인코더\n",
    "  enc_outputs = encoder(\n",
    "      vocab_size=vocab_size,\n",
    "      num_layers=num_layers,\n",
    "      units=units,\n",
    "      d_model=d_model,\n",
    "      num_heads=num_heads,\n",
    "      dropout=dropout,\n",
    "  )(inputs=[inputs, enc_padding_mask])\n",
    "\n",
    "  # 디코더\n",
    "  dec_outputs = decoder(\n",
    "      vocab_size=vocab_size,\n",
    "      num_layers=num_layers,\n",
    "      units=units,\n",
    "      d_model=d_model,\n",
    "      num_heads=num_heads,\n",
    "      dropout=dropout,\n",
    "  )(inputs=[dec_inputs, enc_outputs, look_ahead_mask, dec_padding_mask])\n",
    "\n",
    "  # 완전연결층\n",
    "  outputs = tf.keras.layers.Dense(units=vocab_size, name=\"outputs\")(dec_outputs)\n",
    "\n",
    "  return tf.keras.Model(inputs=[inputs, dec_inputs], outputs=outputs, name=name)\n",
    "print(\"슝=3\")"
   ]
  },
  {
   "cell_type": "markdown",
   "id": "4e91fce1",
   "metadata": {},
   "source": [
    "## 1. 모델 생성"
   ]
  },
  {
   "cell_type": "code",
   "execution_count": 59,
   "id": "dc9a2bef",
   "metadata": {},
   "outputs": [
    {
     "name": "stdout",
     "output_type": "stream",
     "text": [
      "Model: \"transformer\"\n",
      "__________________________________________________________________________________________________\n",
      "Layer (type)                    Output Shape         Param #     Connected to                     \n",
      "==================================================================================================\n",
      "inputs (InputLayer)             [(None, None)]       0                                            \n",
      "__________________________________________________________________________________________________\n",
      "dec_inputs (InputLayer)         [(None, None)]       0                                            \n",
      "__________________________________________________________________________________________________\n",
      "enc_padding_mask (Lambda)       (None, 1, 1, None)   0           inputs[0][0]                     \n",
      "__________________________________________________________________________________________________\n",
      "encoder (Functional)            (None, None, 256)    3187456     inputs[0][0]                     \n",
      "                                                                 enc_padding_mask[0][0]           \n",
      "__________________________________________________________________________________________________\n",
      "look_ahead_mask (Lambda)        (None, 1, None, None 0           dec_inputs[0][0]                 \n",
      "__________________________________________________________________________________________________\n",
      "dec_padding_mask (Lambda)       (None, 1, 1, None)   0           inputs[0][0]                     \n",
      "__________________________________________________________________________________________________\n",
      "decoder (Functional)            (None, None, 256)    3714816     dec_inputs[0][0]                 \n",
      "                                                                 encoder[0][0]                    \n",
      "                                                                 look_ahead_mask[0][0]            \n",
      "                                                                 dec_padding_mask[0][0]           \n",
      "__________________________________________________________________________________________________\n",
      "outputs (Dense)                 (None, None, 8333)   2141581     decoder[0][0]                    \n",
      "==================================================================================================\n",
      "Total params: 9,043,853\n",
      "Trainable params: 9,043,853\n",
      "Non-trainable params: 0\n",
      "__________________________________________________________________________________________________\n"
     ]
    }
   ],
   "source": [
    "tf.keras.backend.clear_session()\n",
    "\n",
    "# 하이퍼파라미터\n",
    "NUM_LAYERS = 2 # 인코더와 디코더의 층의 개수\n",
    "D_MODEL = 256 # 인코더와 디코더 내부의 입, 출력의 고정 차원\n",
    "NUM_HEADS = 8 # 멀티 헤드 어텐션에서의 헤드 수 \n",
    "UNITS = 512 # 피드 포워드 신경망의 은닉층의 크기\n",
    "DROPOUT = 0.1 # 드롭아웃의 비율\n",
    "\n",
    "model = transformer(\n",
    "    vocab_size=VOCAB_SIZE,\n",
    "    num_layers=NUM_LAYERS,\n",
    "    units=UNITS,\n",
    "    d_model=D_MODEL,\n",
    "    num_heads=NUM_HEADS,\n",
    "    dropout=DROPOUT)\n",
    "\n",
    "model.summary()"
   ]
  },
  {
   "cell_type": "markdown",
   "id": "6d0c64e0",
   "metadata": {},
   "source": [
    "## 2. 손실함수"
   ]
  },
  {
   "cell_type": "code",
   "execution_count": 60,
   "id": "818acb1a",
   "metadata": {},
   "outputs": [
    {
     "name": "stdout",
     "output_type": "stream",
     "text": [
      "슝=3\n"
     ]
    }
   ],
   "source": [
    "def loss_function(y_true, y_pred):\n",
    "  y_true = tf.reshape(y_true, shape=(-1, MAX_LENGTH - 1))\n",
    "  \n",
    "  loss = tf.keras.losses.SparseCategoricalCrossentropy(\n",
    "      from_logits=True, reduction='none')(y_true, y_pred)\n",
    "\n",
    "  mask = tf.cast(tf.not_equal(y_true, 0), tf.float32)\n",
    "  loss = tf.multiply(loss, mask)\n",
    "\n",
    "  return tf.reduce_mean(loss)\n",
    "print(\"슝=3\")"
   ]
  },
  {
   "cell_type": "markdown",
   "id": "6fc326d9",
   "metadata": {},
   "source": [
    "## 3. 커스텀된 학습률\n",
    "\n",
    "Custom Learning rate Scheduling: 초기에 lr를 급격히 높였다가 이후 train step이 진행됨에 따라 서서히 낮춰 안정적으로 수렴하게 하는 학습 기법\n",
    "\n",
    "아담 옴티마이저를 쓰자\n",
    "\n",
    "![](https://images.velog.io/images/och9854/post/81fdfe61-1476-462e-ab6d-1375ce324099/image.png)\n",
    "\n",
    "학습 초기에는 lr이 step_num에 비례해서 증가하다가 이후로는 감소하는 것을 확인할 수 있다."
   ]
  },
  {
   "cell_type": "code",
   "execution_count": 61,
   "id": "c40aaf21",
   "metadata": {},
   "outputs": [
    {
     "name": "stdout",
     "output_type": "stream",
     "text": [
      "슝=3\n"
     ]
    }
   ],
   "source": [
    "class CustomSchedule(tf.keras.optimizers.schedules.LearningRateSchedule):\n",
    "\n",
    "  def __init__(self, d_model, warmup_steps=4000):\n",
    "    super(CustomSchedule, self).__init__()\n",
    "\n",
    "    self.d_model = d_model\n",
    "    self.d_model = tf.cast(self.d_model, tf.float32)\n",
    "\n",
    "    self.warmup_steps = warmup_steps\n",
    "\n",
    "  def __call__(self, step):\n",
    "    arg1 = tf.math.rsqrt(step)\n",
    "    arg2 = step * (self.warmup_steps**-1.5)\n",
    "\n",
    "    return tf.math.rsqrt(self.d_model) * tf.math.minimum(arg1, arg2)\n",
    "print(\"슝=3\")"
   ]
  },
  {
   "cell_type": "code",
   "execution_count": 62,
   "id": "f3eefb6b",
   "metadata": {},
   "outputs": [
    {
     "data": {
      "text/plain": [
       "Text(0.5, 0, 'Train Step')"
      ]
     },
     "execution_count": 62,
     "metadata": {},
     "output_type": "execute_result"
    },
    {
     "data": {
      "image/png": "[encoded data removed]",
      "text/plain": [
       "<Figure size 432x288 with 1 Axes>"
      ]
     },
     "metadata": {
      "needs_background": "light"
     },
     "output_type": "display_data"
    }
   ],
   "source": [
    "sample_learning_rate = CustomSchedule(d_model=128)\n",
    "\n",
    "plt.plot(sample_learning_rate(tf.range(200000, dtype=tf.float32)))\n",
    "plt.ylabel(\"Learning Rate\")\n",
    "plt.xlabel(\"Train Step\")"
   ]
  },
  {
   "cell_type": "markdown",
   "id": "aebfd1bc",
   "metadata": {},
   "source": [
    "## 4. 모델 컴파일\n",
    "\n",
    "손실 함수와 커스텀 된 학습률을 사용하여 모델을 컴파일한다."
   ]
  },
  {
   "cell_type": "code",
   "execution_count": 63,
   "id": "23717149",
   "metadata": {},
   "outputs": [
    {
     "name": "stdout",
     "output_type": "stream",
     "text": [
      "슝=3\n"
     ]
    }
   ],
   "source": [
    "learning_rate = CustomSchedule(D_MODEL)\n",
    "\n",
    "optimizer = tf.keras.optimizers.Adam(\n",
    "    learning_rate, beta_1=0.9, beta_2=0.98, epsilon=1e-9)\n",
    "\n",
    "def accuracy(y_true, y_pred):\n",
    "  y_true = tf.reshape(y_true, shape=(-1, MAX_LENGTH - 1))\n",
    "  return tf.keras.metrics.sparse_categorical_accuracy(y_true, y_pred)\n",
    "\n",
    "model.compile(optimizer=optimizer, loss=loss_function, metrics=[accuracy])\n",
    "print(\"슝=3\")"
   ]
  },
  {
   "cell_type": "markdown",
   "id": "dfddeca9",
   "metadata": {},
   "source": [
    "## 5. 훈련"
   ]
  },
  {
   "cell_type": "code",
   "execution_count": 64,
   "id": "10822cdd",
   "metadata": {},
   "outputs": [
    {
     "name": "stdout",
     "output_type": "stream",
     "text": [
      "ERROR! Session/line number was not unique in database. History logging moved to new session 3\n",
      "Epoch 1/20\n",
      "689/689 [==============================] - 37s 54ms/step - loss: 2.1137 - accuracy: 0.0425\n",
      "Epoch 2/20\n",
      "689/689 [==============================] - 37s 54ms/step - loss: 1.4957 - accuracy: 0.0794\n",
      "Epoch 3/20\n",
      "689/689 [==============================] - 37s 54ms/step - loss: 1.3942 - accuracy: 0.0860\n",
      "Epoch 4/20\n",
      "689/689 [==============================] - 37s 54ms/step - loss: 1.3356 - accuracy: 0.0901\n",
      "Epoch 5/20\n",
      "689/689 [==============================] - 37s 54ms/step - loss: 1.2852 - accuracy: 0.0944\n",
      "Epoch 6/20\n",
      "689/689 [==============================] - 37s 54ms/step - loss: 1.2384 - accuracy: 0.0978\n",
      "Epoch 7/20\n",
      "689/689 [==============================] - 37s 54ms/step - loss: 1.1845 - accuracy: 0.1019\n",
      "Epoch 8/20\n",
      "689/689 [==============================] - 37s 54ms/step - loss: 1.1236 - accuracy: 0.1073\n",
      "Epoch 9/20\n",
      "689/689 [==============================] - 37s 54ms/step - loss: 1.0658 - accuracy: 0.1129\n",
      "Epoch 10/20\n",
      "689/689 [==============================] - 37s 54ms/step - loss: 1.0134 - accuracy: 0.1186\n",
      "Epoch 11/20\n",
      "689/689 [==============================] - 37s 54ms/step - loss: 0.9645 - accuracy: 0.1243\n",
      "Epoch 12/20\n",
      "689/689 [==============================] - 37s 54ms/step - loss: 0.9196 - accuracy: 0.1300\n",
      "Epoch 13/20\n",
      "689/689 [==============================] - 37s 54ms/step - loss: 0.8795 - accuracy: 0.1357\n",
      "Epoch 14/20\n",
      "689/689 [==============================] - 37s 54ms/step - loss: 0.8410 - accuracy: 0.1413\n",
      "Epoch 15/20\n",
      "689/689 [==============================] - 37s 54ms/step - loss: 0.8068 - accuracy: 0.1466\n",
      "Epoch 16/20\n",
      "689/689 [==============================] - 37s 54ms/step - loss: 0.7754 - accuracy: 0.1516\n",
      "Epoch 17/20\n",
      "689/689 [==============================] - 37s 54ms/step - loss: 0.7477 - accuracy: 0.1557\n",
      "Epoch 18/20\n",
      "689/689 [==============================] - 37s 54ms/step - loss: 0.7208 - accuracy: 0.1604\n",
      "Epoch 19/20\n",
      "689/689 [==============================] - 37s 54ms/step - loss: 0.6970 - accuracy: 0.1646\n",
      "Epoch 20/20\n",
      "689/689 [==============================] - 37s 54ms/step - loss: 0.6756 - accuracy: 0.1683\n"
     ]
    },
    {
     "data": {
      "text/plain": [
       "<keras.callbacks.History at 0x7fef282a4e20>"
      ]
     },
     "execution_count": 64,
     "metadata": {},
     "output_type": "execute_result"
    }
   ],
   "source": [
    "EPOCHS = 20\n",
    "model.fit(dataset, epochs=EPOCHS, verbose=1)"
   ]
  },
  {
   "cell_type": "markdown",
   "id": "0ac598ca",
   "metadata": {},
   "source": [
    "# 챗봇 테스트\n",
    "\n",
    "- 새로운 입력 문장에 대해서는 훈련 때와 동일한 전처리를 거친다.\n",
    "- 입력 문장을 토크나이징하고, START_TOKEN과 END_TOKEN을 추가한다.\n",
    "- 패딩 마스킹과 룩 어헤드 마스킹을 계산한다.\n",
    "- 디코더는 입력 시퀀스로부터 다음 단어를 예측한다.\n",
    "- 디코더는 예측된 다음 단어를 기존의 입력 시퀀스에 추가하여 새로운 입력으로 사용한다.\n",
    "- END_TOKEN이 예측되거나 문장의 최대 길이에 도달하면 디코더는 동작을 멈춘다.\n",
    "\n",
    "위 과정을 모두 담은 `decoder_inference()`함수를 만든다"
   ]
  },
  {
   "cell_type": "code",
   "execution_count": 65,
   "id": "f54fefda",
   "metadata": {},
   "outputs": [
    {
     "name": "stdout",
     "output_type": "stream",
     "text": [
      "슝=3\n"
     ]
    }
   ],
   "source": [
    "def decoder_inference(sentence):\n",
    "  sentence = preprocess_sentence(sentence)\n",
    "\n",
    "  # 입력된 문장을 정수 인코딩 후, 시작 토큰과 종료 토큰을 앞뒤로 추가.\n",
    "  # ex) Where have you been? → [[8331   86   30    5 1059    7 8332]]\n",
    "  sentence = tf.expand_dims(\n",
    "      START_TOKEN + tokenizer.encode(sentence) + END_TOKEN, axis=0)\n",
    "\n",
    "  # 디코더의 현재까지의 예측한 출력 시퀀스가 지속적으로 저장되는 변수.\n",
    "  # 처음에는 예측한 내용이 없음으로 시작 토큰만 별도 저장. ex) 8331\n",
    "  output_sequence = tf.expand_dims(START_TOKEN, 0)\n",
    "\n",
    "  # 디코더의 인퍼런스 단계\n",
    "  for i in range(MAX_LENGTH):\n",
    "    # 디코더는 최대 MAX_LENGTH의 길이만큼 다음 단어 예측을 반복합니다.\n",
    "    predictions = model(inputs=[sentence, output_sequence], training=False)\n",
    "    predictions = predictions[:, -1:, :]\n",
    "\n",
    "    # 현재 예측한 단어의 정수\n",
    "    predicted_id = tf.cast(tf.argmax(predictions, axis=-1), tf.int32)\n",
    "\n",
    "    # 만약 현재 예측한 단어가 종료 토큰이라면 for문을 종료\n",
    "    if tf.equal(predicted_id, END_TOKEN[0]):\n",
    "      break\n",
    "\n",
    "    # 예측한 단어들은 지속적으로 output_sequence에 추가됩니다.\n",
    "    # 이 output_sequence는 다시 디코더의 입력이 됩니다.\n",
    "    output_sequence = tf.concat([output_sequence, predicted_id], axis=-1)\n",
    "\n",
    "  return tf.squeeze(output_sequence, axis=0)\n",
    "print(\"슝=3\")"
   ]
  },
  {
   "cell_type": "markdown",
   "id": "a4985b34",
   "metadata": {},
   "source": [
    "임의의 입력 문장에 대해 decoder_inference()함수를 호출해 챗봇의 대답을 얻는 sentence_generation()함수를 만든다."
   ]
  },
  {
   "cell_type": "code",
   "execution_count": 66,
   "id": "1afef3a1",
   "metadata": {},
   "outputs": [
    {
     "name": "stdout",
     "output_type": "stream",
     "text": [
      "슝=3\n"
     ]
    }
   ],
   "source": [
    "def sentence_generation(sentence):\n",
    "  # 입력 문장에 대해서 디코더를 동작 시켜 예측된 정수 시퀀스를 리턴받습니다.\n",
    "  prediction = decoder_inference(sentence)\n",
    "\n",
    "  # 정수 시퀀스를 다시 텍스트 시퀀스로 변환합니다.\n",
    "  predicted_sentence = tokenizer.decode(\n",
    "      [i for i in prediction if i < tokenizer.vocab_size])\n",
    "\n",
    "  print('입력 : {}'.format(sentence))\n",
    "  print('출력 : {}'.format(predicted_sentence))\n",
    "\n",
    "  return predicted_sentence\n",
    "print(\"슝=3\")"
   ]
  },
  {
   "cell_type": "code",
   "execution_count": 67,
   "id": "eea6e194",
   "metadata": {},
   "outputs": [
    {
     "name": "stdout",
     "output_type": "stream",
     "text": [
      "입력 : Where have you been?\n",
      "출력 : i m not working on it .\n"
     ]
    },
    {
     "data": {
      "text/plain": [
       "'i m not working on it .'"
      ]
     },
     "execution_count": 67,
     "metadata": {},
     "output_type": "execute_result"
    }
   ],
   "source": [
    "sentence_generation('Where have you been?')"
   ]
  },
  {
   "cell_type": "code",
   "execution_count": 68,
   "id": "d434bed1",
   "metadata": {},
   "outputs": [
    {
     "name": "stdout",
     "output_type": "stream",
     "text": [
      "입력 : It's a trap\n",
      "출력 : we ll get it back .\n"
     ]
    },
    {
     "data": {
      "text/plain": [
       "'we ll get it back .'"
      ]
     },
     "execution_count": 68,
     "metadata": {},
     "output_type": "execute_result"
    }
   ],
   "source": [
    "sentence_generation(\"It's a trap\")"
   ]
  },
  {
   "cell_type": "code",
   "execution_count": 69,
   "id": "8607ca00",
   "metadata": {},
   "outputs": [],
   "source": [
    "# 프로젝트: 한국어 데이터로 챗봇 만들기"
   ]
  },
  {
   "cell_type": "code",
   "execution_count": null,
   "id": "4ee5c366",
   "metadata": {},
   "outputs": [],
   "source": []
  }
 ],
 "metadata": {
  "kernelspec": {
   "display_name": "Python 3 (ipykernel)",
   "language": "python",
   "name": "python3"
  },
  "language_info": {
   "codemirror_mode": {
    "name": "ipython",
    "version": 3
   },
   "file_extension": ".py",
   "mimetype": "text/x-python",
   "name": "python",
   "nbconvert_exporter": "python",
   "pygments_lexer": "ipython3",
   "version": "3.9.7"
  }
 },
 "nbformat": 4,
 "nbformat_minor": 5
}
