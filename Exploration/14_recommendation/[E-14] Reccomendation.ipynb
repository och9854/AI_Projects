{
 "cells": [
  {
   "cell_type": "markdown",
   "id": "71bcd896",
   "metadata": {},
   "source": [
    "# 들어가며\n",
    "\n",
    "**실습 목표**\n",
    "\n",
    "- 추천 시스템의 개념과 목적 이해\n",
    "- Implicit library를 활용하여 Matrix Factorization 기반의 추천 모델을 만들어본다.\n",
    "- 음악 감상 기록을 활용하여 비슷한 아티스트를 찾고 아티스트를 추천해 본다.\n",
    "- 추천 시스템에서 자주 사용되는 데이터 구조인 CSR Matrix을 익힌다\n",
    "- 유저의 행위 데이터 중 Explicit data와 Implicit data의 차이점을 익힌다.\n",
    "- 새로운 데이터셋으로 직접 추천 모델을 만들어 본다.\n",
    "\n",
    "**목차**\n",
    "\n",
    "- 추천 시스템이란 게 뭔가요?\n",
    "- 데이터 탐색하기와 전처리\n",
    "- 사용자의 명시적/암묵적 평가\n",
    "- Matrix Factorization(MF)\n",
    "- CSR(Compressed Sparse Row) Matrix\n",
    "- MF 모델 학습하기\n",
    "- 비슷한 아티스트 찾기 + 유저에게 추천하기\n",
    "- 프로젝트 - MovieLens 영화 추천 실습\n",
    "\n",
    "# 추천 시스템이란?\n",
    "\n",
    "[추천의 원리](http://www.kocca.kr/insight/vol05/vol05_04.pdf)를 알아보자.\n",
    "\n",
    "## 협업 필터링 vs 콘텐츠 기반 필터링\n",
    "\n",
    "협업 필터링은 다수의 사용자의 아이템 구매 이력 정보만으로 사용자간 유사성 및 아이템 간 유사성을 파악하지만,\n",
    "\n",
    "콘텐츠 기반 필터링은 아이템의 고유의 정보를 바탕으로 아이템 간 유사성을 파악합니다.\n",
    "\n",
    "다시 말해, 협업 필터링에서는 아이템과 사용자 간의 행동 또는 관계에만 주목할 뿐 아이템 자체의 고유한 속성에 주목하지 않습니다.\n",
    "\n",
    "콘텐츠 기반 필터링에서는 아이템 자체의 속성에만 주목하고 사용자와 아이템 간의 관련성 에는 주목하지 않습니다.\n",
    "\n",
    "## 추천시스템의 핵심 근간은 협업 필터링이다. 이를 바로 사용할 수 없는 제약 조건 3가지\n",
    "\n",
    "- 시스템이 충분한 정보를 모으지 못한 사용자나 아이템에 대한 추론을 할 수 없는 상태인 콜드 스타트(Cold Start) 상황\n",
    "\n",
    "- 계산량이 너무 많아 추천의 효율이 떨어지는 상황\n",
    "\n",
    "- 롱테일의 꼬리 부분, 즉 사용자의 관심이 저조한 항목의 정보가 부족하여 추천에서 배제되는 상황\n",
    "\n",
    "이렇게 추천 시스템은 `아이템이 매우 많고`, `유저의 취향이 다양할 때` 유저가 소비할 만한 아이템을 예측하는 모델이다.\n",
    "```python\n",
    "$ mkdir -p ~/aiffel/recommendata_iu/data/lastfm-dataset-360K\n",
    "$ ln -s ~/data/lastfm-dataset-360K/* ~/aiffel/recommendata_iu/data/lastfm-dataset-360K\n",
    "\n",
    "```\n",
    "\n",
    "# 데이터 탐색하기와 전처리\n",
    "\n",
    "## 데이터 준비\n",
    "\n",
    "항목을 열어보면, `user-mboxsha1 \\t musicbrainz-artist-id \\t artist-name \\t plays` 이렇게 4가지가 보일 것이다. 이들은 각각, `User ID, Artist MBID, Artist Name, Play횟수`로 보인다.\n",
    "\n",
    "Pandas를 이용해 데이터를 열어보자. 컬럼명을 적절히 지정해주자."
   ]
  },
  {
   "cell_type": "code",
   "execution_count": 44,
   "id": "5e76ee09",
   "metadata": {},
   "outputs": [
    {
     "data": {
      "text/html": [
       "<div>\n",
       "<style scoped>\n",
       "    .dataframe tbody tr th:only-of-type {\n",
       "        vertical-align: middle;\n",
       "    }\n",
       "\n",
       "    .dataframe tbody tr th {\n",
       "        vertical-align: top;\n",
       "    }\n",
       "\n",
       "    .dataframe thead th {\n",
       "        text-align: right;\n",
       "    }\n",
       "</style>\n",
       "<table border=\"1\" class=\"dataframe\">\n",
       "  <thead>\n",
       "    <tr style=\"text-align: right;\">\n",
       "      <th></th>\n",
       "      <th>user_id</th>\n",
       "      <th>artist_MBID</th>\n",
       "      <th>artist</th>\n",
       "      <th>play</th>\n",
       "    </tr>\n",
       "  </thead>\n",
       "  <tbody>\n",
       "    <tr>\n",
       "      <th>0</th>\n",
       "      <td>00000c289a1829a808ac09c00daf10bc3c4e223b</td>\n",
       "      <td>3bd73256-3905-4f3a-97e2-8b341527f805</td>\n",
       "      <td>betty blowtorch</td>\n",
       "      <td>2137</td>\n",
       "    </tr>\n",
       "    <tr>\n",
       "      <th>1</th>\n",
       "      <td>00000c289a1829a808ac09c00daf10bc3c4e223b</td>\n",
       "      <td>f2fb0ff0-5679-42ec-a55c-15109ce6e320</td>\n",
       "      <td>die Ärzte</td>\n",
       "      <td>1099</td>\n",
       "    </tr>\n",
       "    <tr>\n",
       "      <th>2</th>\n",
       "      <td>00000c289a1829a808ac09c00daf10bc3c4e223b</td>\n",
       "      <td>b3ae82c2-e60b-4551-a76d-6620f1b456aa</td>\n",
       "      <td>melissa etheridge</td>\n",
       "      <td>897</td>\n",
       "    </tr>\n",
       "    <tr>\n",
       "      <th>3</th>\n",
       "      <td>00000c289a1829a808ac09c00daf10bc3c4e223b</td>\n",
       "      <td>3d6bbeb7-f90e-4d10-b440-e153c0d10b53</td>\n",
       "      <td>elvenking</td>\n",
       "      <td>717</td>\n",
       "    </tr>\n",
       "    <tr>\n",
       "      <th>4</th>\n",
       "      <td>00000c289a1829a808ac09c00daf10bc3c4e223b</td>\n",
       "      <td>bbd2ffd7-17f4-4506-8572-c1ea58c3f9a8</td>\n",
       "      <td>juliette &amp; the licks</td>\n",
       "      <td>706</td>\n",
       "    </tr>\n",
       "    <tr>\n",
       "      <th>5</th>\n",
       "      <td>00000c289a1829a808ac09c00daf10bc3c4e223b</td>\n",
       "      <td>8bfac288-ccc5-448d-9573-c33ea2aa5c30</td>\n",
       "      <td>red hot chili peppers</td>\n",
       "      <td>691</td>\n",
       "    </tr>\n",
       "    <tr>\n",
       "      <th>6</th>\n",
       "      <td>00000c289a1829a808ac09c00daf10bc3c4e223b</td>\n",
       "      <td>6531c8b1-76ea-4141-b270-eb1ac5b41375</td>\n",
       "      <td>magica</td>\n",
       "      <td>545</td>\n",
       "    </tr>\n",
       "    <tr>\n",
       "      <th>7</th>\n",
       "      <td>00000c289a1829a808ac09c00daf10bc3c4e223b</td>\n",
       "      <td>21f3573f-10cf-44b3-aeaa-26cccd8448b5</td>\n",
       "      <td>the black dahlia murder</td>\n",
       "      <td>507</td>\n",
       "    </tr>\n",
       "    <tr>\n",
       "      <th>8</th>\n",
       "      <td>00000c289a1829a808ac09c00daf10bc3c4e223b</td>\n",
       "      <td>c5db90c4-580d-4f33-b364-fbaa5a3a58b5</td>\n",
       "      <td>the murmurs</td>\n",
       "      <td>424</td>\n",
       "    </tr>\n",
       "    <tr>\n",
       "      <th>9</th>\n",
       "      <td>00000c289a1829a808ac09c00daf10bc3c4e223b</td>\n",
       "      <td>0639533a-0402-40ba-b6e0-18b067198b73</td>\n",
       "      <td>lunachicks</td>\n",
       "      <td>403</td>\n",
       "    </tr>\n",
       "  </tbody>\n",
       "</table>\n",
       "</div>"
      ],
      "text/plain": [
       "                                    user_id  \\\n",
       "0  00000c289a1829a808ac09c00daf10bc3c4e223b   \n",
       "1  00000c289a1829a808ac09c00daf10bc3c4e223b   \n",
       "2  00000c289a1829a808ac09c00daf10bc3c4e223b   \n",
       "3  00000c289a1829a808ac09c00daf10bc3c4e223b   \n",
       "4  00000c289a1829a808ac09c00daf10bc3c4e223b   \n",
       "5  00000c289a1829a808ac09c00daf10bc3c4e223b   \n",
       "6  00000c289a1829a808ac09c00daf10bc3c4e223b   \n",
       "7  00000c289a1829a808ac09c00daf10bc3c4e223b   \n",
       "8  00000c289a1829a808ac09c00daf10bc3c4e223b   \n",
       "9  00000c289a1829a808ac09c00daf10bc3c4e223b   \n",
       "\n",
       "                            artist_MBID                   artist  play  \n",
       "0  3bd73256-3905-4f3a-97e2-8b341527f805          betty blowtorch  2137  \n",
       "1  f2fb0ff0-5679-42ec-a55c-15109ce6e320                die Ärzte  1099  \n",
       "2  b3ae82c2-e60b-4551-a76d-6620f1b456aa        melissa etheridge   897  \n",
       "3  3d6bbeb7-f90e-4d10-b440-e153c0d10b53                elvenking   717  \n",
       "4  bbd2ffd7-17f4-4506-8572-c1ea58c3f9a8     juliette & the licks   706  \n",
       "5  8bfac288-ccc5-448d-9573-c33ea2aa5c30    red hot chili peppers   691  \n",
       "6  6531c8b1-76ea-4141-b270-eb1ac5b41375                   magica   545  \n",
       "7  21f3573f-10cf-44b3-aeaa-26cccd8448b5  the black dahlia murder   507  \n",
       "8  c5db90c4-580d-4f33-b364-fbaa5a3a58b5              the murmurs   424  \n",
       "9  0639533a-0402-40ba-b6e0-18b067198b73               lunachicks   403  "
      ]
     },
     "execution_count": 44,
     "metadata": {},
     "output_type": "execute_result"
    }
   ],
   "source": [
    "import pandas as pd\n",
    "import os\n",
    "\n",
    "fname = os.getenv('HOME') + '/aiffel/recommendata_iu/data/lastfm-dataset-360K/usersha1-artmbid-artname-plays.tsv'\n",
    "col_names = ['user_id', 'artist_MBID', 'artist', 'play']   # 임의로 지정한 컬럼명\n",
    "data = pd.read_csv(fname, sep='\\t', names= col_names)      # sep='\\t'로 주어야 tsv를 열 수 있습니다.  \n",
    "data.head(10)"
   ]
  },
  {
   "cell_type": "markdown",
   "id": "0444e34f",
   "metadata": {},
   "source": [
    "artist_MBID 항목은 우리의 관심사가 아니다. 사용하는 컬럼만 남기고 제거하도록 하자."
   ]
  },
  {
   "cell_type": "code",
   "execution_count": 45,
   "id": "1472031e",
   "metadata": {},
   "outputs": [
    {
     "data": {
      "text/html": [
       "<div>\n",
       "<style scoped>\n",
       "    .dataframe tbody tr th:only-of-type {\n",
       "        vertical-align: middle;\n",
       "    }\n",
       "\n",
       "    .dataframe tbody tr th {\n",
       "        vertical-align: top;\n",
       "    }\n",
       "\n",
       "    .dataframe thead th {\n",
       "        text-align: right;\n",
       "    }\n",
       "</style>\n",
       "<table border=\"1\" class=\"dataframe\">\n",
       "  <thead>\n",
       "    <tr style=\"text-align: right;\">\n",
       "      <th></th>\n",
       "      <th>user_id</th>\n",
       "      <th>artist</th>\n",
       "      <th>play</th>\n",
       "    </tr>\n",
       "  </thead>\n",
       "  <tbody>\n",
       "    <tr>\n",
       "      <th>0</th>\n",
       "      <td>00000c289a1829a808ac09c00daf10bc3c4e223b</td>\n",
       "      <td>betty blowtorch</td>\n",
       "      <td>2137</td>\n",
       "    </tr>\n",
       "    <tr>\n",
       "      <th>1</th>\n",
       "      <td>00000c289a1829a808ac09c00daf10bc3c4e223b</td>\n",
       "      <td>die Ärzte</td>\n",
       "      <td>1099</td>\n",
       "    </tr>\n",
       "    <tr>\n",
       "      <th>2</th>\n",
       "      <td>00000c289a1829a808ac09c00daf10bc3c4e223b</td>\n",
       "      <td>melissa etheridge</td>\n",
       "      <td>897</td>\n",
       "    </tr>\n",
       "    <tr>\n",
       "      <th>3</th>\n",
       "      <td>00000c289a1829a808ac09c00daf10bc3c4e223b</td>\n",
       "      <td>elvenking</td>\n",
       "      <td>717</td>\n",
       "    </tr>\n",
       "    <tr>\n",
       "      <th>4</th>\n",
       "      <td>00000c289a1829a808ac09c00daf10bc3c4e223b</td>\n",
       "      <td>juliette &amp; the licks</td>\n",
       "      <td>706</td>\n",
       "    </tr>\n",
       "    <tr>\n",
       "      <th>5</th>\n",
       "      <td>00000c289a1829a808ac09c00daf10bc3c4e223b</td>\n",
       "      <td>red hot chili peppers</td>\n",
       "      <td>691</td>\n",
       "    </tr>\n",
       "    <tr>\n",
       "      <th>6</th>\n",
       "      <td>00000c289a1829a808ac09c00daf10bc3c4e223b</td>\n",
       "      <td>magica</td>\n",
       "      <td>545</td>\n",
       "    </tr>\n",
       "    <tr>\n",
       "      <th>7</th>\n",
       "      <td>00000c289a1829a808ac09c00daf10bc3c4e223b</td>\n",
       "      <td>the black dahlia murder</td>\n",
       "      <td>507</td>\n",
       "    </tr>\n",
       "    <tr>\n",
       "      <th>8</th>\n",
       "      <td>00000c289a1829a808ac09c00daf10bc3c4e223b</td>\n",
       "      <td>the murmurs</td>\n",
       "      <td>424</td>\n",
       "    </tr>\n",
       "    <tr>\n",
       "      <th>9</th>\n",
       "      <td>00000c289a1829a808ac09c00daf10bc3c4e223b</td>\n",
       "      <td>lunachicks</td>\n",
       "      <td>403</td>\n",
       "    </tr>\n",
       "  </tbody>\n",
       "</table>\n",
       "</div>"
      ],
      "text/plain": [
       "                                    user_id                   artist  play\n",
       "0  00000c289a1829a808ac09c00daf10bc3c4e223b          betty blowtorch  2137\n",
       "1  00000c289a1829a808ac09c00daf10bc3c4e223b                die Ärzte  1099\n",
       "2  00000c289a1829a808ac09c00daf10bc3c4e223b        melissa etheridge   897\n",
       "3  00000c289a1829a808ac09c00daf10bc3c4e223b                elvenking   717\n",
       "4  00000c289a1829a808ac09c00daf10bc3c4e223b     juliette & the licks   706\n",
       "5  00000c289a1829a808ac09c00daf10bc3c4e223b    red hot chili peppers   691\n",
       "6  00000c289a1829a808ac09c00daf10bc3c4e223b                   magica   545\n",
       "7  00000c289a1829a808ac09c00daf10bc3c4e223b  the black dahlia murder   507\n",
       "8  00000c289a1829a808ac09c00daf10bc3c4e223b              the murmurs   424\n",
       "9  00000c289a1829a808ac09c00daf10bc3c4e223b               lunachicks   403"
      ]
     },
     "execution_count": 45,
     "metadata": {},
     "output_type": "execute_result"
    }
   ],
   "source": [
    "# 사용하는 컬럼만 남겨줍니다.\n",
    "using_cols = ['user_id', 'artist', 'play']\n",
    "data = data[using_cols]\n",
    "data.head(10)"
   ]
  },
  {
   "cell_type": "code",
   "execution_count": 46,
   "id": "f4855939",
   "metadata": {},
   "outputs": [
    {
     "data": {
      "text/html": [
       "<div>\n",
       "<style scoped>\n",
       "    .dataframe tbody tr th:only-of-type {\n",
       "        vertical-align: middle;\n",
       "    }\n",
       "\n",
       "    .dataframe tbody tr th {\n",
       "        vertical-align: top;\n",
       "    }\n",
       "\n",
       "    .dataframe thead th {\n",
       "        text-align: right;\n",
       "    }\n",
       "</style>\n",
       "<table border=\"1\" class=\"dataframe\">\n",
       "  <thead>\n",
       "    <tr style=\"text-align: right;\">\n",
       "      <th></th>\n",
       "      <th>user_id</th>\n",
       "      <th>artist</th>\n",
       "      <th>play</th>\n",
       "    </tr>\n",
       "  </thead>\n",
       "  <tbody>\n",
       "    <tr>\n",
       "      <th>0</th>\n",
       "      <td>00000c289a1829a808ac09c00daf10bc3c4e223b</td>\n",
       "      <td>betty blowtorch</td>\n",
       "      <td>2137</td>\n",
       "    </tr>\n",
       "    <tr>\n",
       "      <th>1</th>\n",
       "      <td>00000c289a1829a808ac09c00daf10bc3c4e223b</td>\n",
       "      <td>die ärzte</td>\n",
       "      <td>1099</td>\n",
       "    </tr>\n",
       "    <tr>\n",
       "      <th>2</th>\n",
       "      <td>00000c289a1829a808ac09c00daf10bc3c4e223b</td>\n",
       "      <td>melissa etheridge</td>\n",
       "      <td>897</td>\n",
       "    </tr>\n",
       "    <tr>\n",
       "      <th>3</th>\n",
       "      <td>00000c289a1829a808ac09c00daf10bc3c4e223b</td>\n",
       "      <td>elvenking</td>\n",
       "      <td>717</td>\n",
       "    </tr>\n",
       "    <tr>\n",
       "      <th>4</th>\n",
       "      <td>00000c289a1829a808ac09c00daf10bc3c4e223b</td>\n",
       "      <td>juliette &amp; the licks</td>\n",
       "      <td>706</td>\n",
       "    </tr>\n",
       "    <tr>\n",
       "      <th>5</th>\n",
       "      <td>00000c289a1829a808ac09c00daf10bc3c4e223b</td>\n",
       "      <td>red hot chili peppers</td>\n",
       "      <td>691</td>\n",
       "    </tr>\n",
       "    <tr>\n",
       "      <th>6</th>\n",
       "      <td>00000c289a1829a808ac09c00daf10bc3c4e223b</td>\n",
       "      <td>magica</td>\n",
       "      <td>545</td>\n",
       "    </tr>\n",
       "    <tr>\n",
       "      <th>7</th>\n",
       "      <td>00000c289a1829a808ac09c00daf10bc3c4e223b</td>\n",
       "      <td>the black dahlia murder</td>\n",
       "      <td>507</td>\n",
       "    </tr>\n",
       "    <tr>\n",
       "      <th>8</th>\n",
       "      <td>00000c289a1829a808ac09c00daf10bc3c4e223b</td>\n",
       "      <td>the murmurs</td>\n",
       "      <td>424</td>\n",
       "    </tr>\n",
       "    <tr>\n",
       "      <th>9</th>\n",
       "      <td>00000c289a1829a808ac09c00daf10bc3c4e223b</td>\n",
       "      <td>lunachicks</td>\n",
       "      <td>403</td>\n",
       "    </tr>\n",
       "  </tbody>\n",
       "</table>\n",
       "</div>"
      ],
      "text/plain": [
       "                                    user_id                   artist  play\n",
       "0  00000c289a1829a808ac09c00daf10bc3c4e223b          betty blowtorch  2137\n",
       "1  00000c289a1829a808ac09c00daf10bc3c4e223b                die ärzte  1099\n",
       "2  00000c289a1829a808ac09c00daf10bc3c4e223b        melissa etheridge   897\n",
       "3  00000c289a1829a808ac09c00daf10bc3c4e223b                elvenking   717\n",
       "4  00000c289a1829a808ac09c00daf10bc3c4e223b     juliette & the licks   706\n",
       "5  00000c289a1829a808ac09c00daf10bc3c4e223b    red hot chili peppers   691\n",
       "6  00000c289a1829a808ac09c00daf10bc3c4e223b                   magica   545\n",
       "7  00000c289a1829a808ac09c00daf10bc3c4e223b  the black dahlia murder   507\n",
       "8  00000c289a1829a808ac09c00daf10bc3c4e223b              the murmurs   424\n",
       "9  00000c289a1829a808ac09c00daf10bc3c4e223b               lunachicks   403"
      ]
     },
     "execution_count": 46,
     "metadata": {},
     "output_type": "execute_result"
    }
   ],
   "source": [
    " # 검색을 쉽게 하기 위해 아티스트 문자열을 소문자로 바꿔줍시다.\n",
    "data['artist'] = data['artist'].str.lower()\n",
    "data.head(10)"
   ]
  },
  {
   "cell_type": "markdown",
   "id": "f4700e72",
   "metadata": {},
   "source": [
    "첫 번째 유저가 어떤 아티스트의 노래를 듣는지 확인해보자."
   ]
  },
  {
   "cell_type": "code",
   "execution_count": 5,
   "id": "0c4494ac",
   "metadata": {},
   "outputs": [
    {
     "data": {
      "text/html": [
       "<div>\n",
       "<style scoped>\n",
       "    .dataframe tbody tr th:only-of-type {\n",
       "        vertical-align: middle;\n",
       "    }\n",
       "\n",
       "    .dataframe tbody tr th {\n",
       "        vertical-align: top;\n",
       "    }\n",
       "\n",
       "    .dataframe thead th {\n",
       "        text-align: right;\n",
       "    }\n",
       "</style>\n",
       "<table border=\"1\" class=\"dataframe\">\n",
       "  <thead>\n",
       "    <tr style=\"text-align: right;\">\n",
       "      <th></th>\n",
       "      <th>user_id</th>\n",
       "      <th>artist</th>\n",
       "      <th>play</th>\n",
       "    </tr>\n",
       "  </thead>\n",
       "  <tbody>\n",
       "    <tr>\n",
       "      <th>0</th>\n",
       "      <td>00000c289a1829a808ac09c00daf10bc3c4e223b</td>\n",
       "      <td>betty blowtorch</td>\n",
       "      <td>2137</td>\n",
       "    </tr>\n",
       "    <tr>\n",
       "      <th>1</th>\n",
       "      <td>00000c289a1829a808ac09c00daf10bc3c4e223b</td>\n",
       "      <td>die ärzte</td>\n",
       "      <td>1099</td>\n",
       "    </tr>\n",
       "    <tr>\n",
       "      <th>2</th>\n",
       "      <td>00000c289a1829a808ac09c00daf10bc3c4e223b</td>\n",
       "      <td>melissa etheridge</td>\n",
       "      <td>897</td>\n",
       "    </tr>\n",
       "    <tr>\n",
       "      <th>3</th>\n",
       "      <td>00000c289a1829a808ac09c00daf10bc3c4e223b</td>\n",
       "      <td>elvenking</td>\n",
       "      <td>717</td>\n",
       "    </tr>\n",
       "    <tr>\n",
       "      <th>4</th>\n",
       "      <td>00000c289a1829a808ac09c00daf10bc3c4e223b</td>\n",
       "      <td>juliette &amp; the licks</td>\n",
       "      <td>706</td>\n",
       "    </tr>\n",
       "    <tr>\n",
       "      <th>5</th>\n",
       "      <td>00000c289a1829a808ac09c00daf10bc3c4e223b</td>\n",
       "      <td>red hot chili peppers</td>\n",
       "      <td>691</td>\n",
       "    </tr>\n",
       "    <tr>\n",
       "      <th>6</th>\n",
       "      <td>00000c289a1829a808ac09c00daf10bc3c4e223b</td>\n",
       "      <td>magica</td>\n",
       "      <td>545</td>\n",
       "    </tr>\n",
       "    <tr>\n",
       "      <th>7</th>\n",
       "      <td>00000c289a1829a808ac09c00daf10bc3c4e223b</td>\n",
       "      <td>the black dahlia murder</td>\n",
       "      <td>507</td>\n",
       "    </tr>\n",
       "    <tr>\n",
       "      <th>8</th>\n",
       "      <td>00000c289a1829a808ac09c00daf10bc3c4e223b</td>\n",
       "      <td>the murmurs</td>\n",
       "      <td>424</td>\n",
       "    </tr>\n",
       "    <tr>\n",
       "      <th>9</th>\n",
       "      <td>00000c289a1829a808ac09c00daf10bc3c4e223b</td>\n",
       "      <td>lunachicks</td>\n",
       "      <td>403</td>\n",
       "    </tr>\n",
       "    <tr>\n",
       "      <th>10</th>\n",
       "      <td>00000c289a1829a808ac09c00daf10bc3c4e223b</td>\n",
       "      <td>walls of jericho</td>\n",
       "      <td>393</td>\n",
       "    </tr>\n",
       "    <tr>\n",
       "      <th>11</th>\n",
       "      <td>00000c289a1829a808ac09c00daf10bc3c4e223b</td>\n",
       "      <td>letzte instanz</td>\n",
       "      <td>387</td>\n",
       "    </tr>\n",
       "    <tr>\n",
       "      <th>12</th>\n",
       "      <td>00000c289a1829a808ac09c00daf10bc3c4e223b</td>\n",
       "      <td>goldfrapp</td>\n",
       "      <td>361</td>\n",
       "    </tr>\n",
       "    <tr>\n",
       "      <th>13</th>\n",
       "      <td>00000c289a1829a808ac09c00daf10bc3c4e223b</td>\n",
       "      <td>horrorpops</td>\n",
       "      <td>358</td>\n",
       "    </tr>\n",
       "    <tr>\n",
       "      <th>14</th>\n",
       "      <td>00000c289a1829a808ac09c00daf10bc3c4e223b</td>\n",
       "      <td>the butchies</td>\n",
       "      <td>329</td>\n",
       "    </tr>\n",
       "    <tr>\n",
       "      <th>15</th>\n",
       "      <td>00000c289a1829a808ac09c00daf10bc3c4e223b</td>\n",
       "      <td>jack off jill</td>\n",
       "      <td>316</td>\n",
       "    </tr>\n",
       "    <tr>\n",
       "      <th>16</th>\n",
       "      <td>00000c289a1829a808ac09c00daf10bc3c4e223b</td>\n",
       "      <td>babes in toyland</td>\n",
       "      <td>310</td>\n",
       "    </tr>\n",
       "    <tr>\n",
       "      <th>17</th>\n",
       "      <td>00000c289a1829a808ac09c00daf10bc3c4e223b</td>\n",
       "      <td>dropkick murphys</td>\n",
       "      <td>302</td>\n",
       "    </tr>\n",
       "    <tr>\n",
       "      <th>18</th>\n",
       "      <td>00000c289a1829a808ac09c00daf10bc3c4e223b</td>\n",
       "      <td>all:my:faults</td>\n",
       "      <td>288</td>\n",
       "    </tr>\n",
       "    <tr>\n",
       "      <th>19</th>\n",
       "      <td>00000c289a1829a808ac09c00daf10bc3c4e223b</td>\n",
       "      <td>le tigre</td>\n",
       "      <td>281</td>\n",
       "    </tr>\n",
       "    <tr>\n",
       "      <th>20</th>\n",
       "      <td>00000c289a1829a808ac09c00daf10bc3c4e223b</td>\n",
       "      <td>schandmaul</td>\n",
       "      <td>244</td>\n",
       "    </tr>\n",
       "    <tr>\n",
       "      <th>21</th>\n",
       "      <td>00000c289a1829a808ac09c00daf10bc3c4e223b</td>\n",
       "      <td>edguy</td>\n",
       "      <td>232</td>\n",
       "    </tr>\n",
       "    <tr>\n",
       "      <th>22</th>\n",
       "      <td>00000c289a1829a808ac09c00daf10bc3c4e223b</td>\n",
       "      <td>maximum the hormone</td>\n",
       "      <td>231</td>\n",
       "    </tr>\n",
       "    <tr>\n",
       "      <th>23</th>\n",
       "      <td>00000c289a1829a808ac09c00daf10bc3c4e223b</td>\n",
       "      <td>all ends</td>\n",
       "      <td>229</td>\n",
       "    </tr>\n",
       "    <tr>\n",
       "      <th>24</th>\n",
       "      <td>00000c289a1829a808ac09c00daf10bc3c4e223b</td>\n",
       "      <td>jack johnson</td>\n",
       "      <td>227</td>\n",
       "    </tr>\n",
       "    <tr>\n",
       "      <th>25</th>\n",
       "      <td>00000c289a1829a808ac09c00daf10bc3c4e223b</td>\n",
       "      <td>eluveitie</td>\n",
       "      <td>222</td>\n",
       "    </tr>\n",
       "    <tr>\n",
       "      <th>26</th>\n",
       "      <td>00000c289a1829a808ac09c00daf10bc3c4e223b</td>\n",
       "      <td>rasputina</td>\n",
       "      <td>220</td>\n",
       "    </tr>\n",
       "    <tr>\n",
       "      <th>27</th>\n",
       "      <td>00000c289a1829a808ac09c00daf10bc3c4e223b</td>\n",
       "      <td>london after midnight</td>\n",
       "      <td>210</td>\n",
       "    </tr>\n",
       "    <tr>\n",
       "      <th>28</th>\n",
       "      <td>00000c289a1829a808ac09c00daf10bc3c4e223b</td>\n",
       "      <td>the killers</td>\n",
       "      <td>208</td>\n",
       "    </tr>\n",
       "    <tr>\n",
       "      <th>29</th>\n",
       "      <td>00000c289a1829a808ac09c00daf10bc3c4e223b</td>\n",
       "      <td>mutyumu</td>\n",
       "      <td>205</td>\n",
       "    </tr>\n",
       "    <tr>\n",
       "      <th>30</th>\n",
       "      <td>00000c289a1829a808ac09c00daf10bc3c4e223b</td>\n",
       "      <td>judas priest</td>\n",
       "      <td>198</td>\n",
       "    </tr>\n",
       "    <tr>\n",
       "      <th>31</th>\n",
       "      <td>00000c289a1829a808ac09c00daf10bc3c4e223b</td>\n",
       "      <td>rob zombie</td>\n",
       "      <td>198</td>\n",
       "    </tr>\n",
       "    <tr>\n",
       "      <th>32</th>\n",
       "      <td>00000c289a1829a808ac09c00daf10bc3c4e223b</td>\n",
       "      <td>the bosshoss</td>\n",
       "      <td>189</td>\n",
       "    </tr>\n",
       "    <tr>\n",
       "      <th>33</th>\n",
       "      <td>00000c289a1829a808ac09c00daf10bc3c4e223b</td>\n",
       "      <td>blue öyster cult</td>\n",
       "      <td>185</td>\n",
       "    </tr>\n",
       "    <tr>\n",
       "      <th>34</th>\n",
       "      <td>00000c289a1829a808ac09c00daf10bc3c4e223b</td>\n",
       "      <td>sandra nasic</td>\n",
       "      <td>183</td>\n",
       "    </tr>\n",
       "    <tr>\n",
       "      <th>35</th>\n",
       "      <td>00000c289a1829a808ac09c00daf10bc3c4e223b</td>\n",
       "      <td>john mayer</td>\n",
       "      <td>182</td>\n",
       "    </tr>\n",
       "    <tr>\n",
       "      <th>36</th>\n",
       "      <td>00000c289a1829a808ac09c00daf10bc3c4e223b</td>\n",
       "      <td>sleater-kinney</td>\n",
       "      <td>175</td>\n",
       "    </tr>\n",
       "    <tr>\n",
       "      <th>37</th>\n",
       "      <td>00000c289a1829a808ac09c00daf10bc3c4e223b</td>\n",
       "      <td>the who</td>\n",
       "      <td>168</td>\n",
       "    </tr>\n",
       "    <tr>\n",
       "      <th>38</th>\n",
       "      <td>00000c289a1829a808ac09c00daf10bc3c4e223b</td>\n",
       "      <td>disciple</td>\n",
       "      <td>154</td>\n",
       "    </tr>\n",
       "    <tr>\n",
       "      <th>39</th>\n",
       "      <td>00000c289a1829a808ac09c00daf10bc3c4e223b</td>\n",
       "      <td>tanzwut</td>\n",
       "      <td>153</td>\n",
       "    </tr>\n",
       "    <tr>\n",
       "      <th>40</th>\n",
       "      <td>00000c289a1829a808ac09c00daf10bc3c4e223b</td>\n",
       "      <td>guano apes</td>\n",
       "      <td>151</td>\n",
       "    </tr>\n",
       "    <tr>\n",
       "      <th>41</th>\n",
       "      <td>00000c289a1829a808ac09c00daf10bc3c4e223b</td>\n",
       "      <td>the rolling stones</td>\n",
       "      <td>150</td>\n",
       "    </tr>\n",
       "    <tr>\n",
       "      <th>42</th>\n",
       "      <td>00000c289a1829a808ac09c00daf10bc3c4e223b</td>\n",
       "      <td>little big town</td>\n",
       "      <td>145</td>\n",
       "    </tr>\n",
       "    <tr>\n",
       "      <th>43</th>\n",
       "      <td>00000c289a1829a808ac09c00daf10bc3c4e223b</td>\n",
       "      <td>team dresch</td>\n",
       "      <td>137</td>\n",
       "    </tr>\n",
       "    <tr>\n",
       "      <th>44</th>\n",
       "      <td>00000c289a1829a808ac09c00daf10bc3c4e223b</td>\n",
       "      <td>betty</td>\n",
       "      <td>135</td>\n",
       "    </tr>\n",
       "    <tr>\n",
       "      <th>45</th>\n",
       "      <td>00000c289a1829a808ac09c00daf10bc3c4e223b</td>\n",
       "      <td>l7</td>\n",
       "      <td>135</td>\n",
       "    </tr>\n",
       "    <tr>\n",
       "      <th>46</th>\n",
       "      <td>00000c289a1829a808ac09c00daf10bc3c4e223b</td>\n",
       "      <td>bif naked</td>\n",
       "      <td>134</td>\n",
       "    </tr>\n",
       "    <tr>\n",
       "      <th>47</th>\n",
       "      <td>00000c289a1829a808ac09c00daf10bc3c4e223b</td>\n",
       "      <td>girlschool</td>\n",
       "      <td>134</td>\n",
       "    </tr>\n",
       "    <tr>\n",
       "      <th>48</th>\n",
       "      <td>00000c289a1829a808ac09c00daf10bc3c4e223b</td>\n",
       "      <td>the wallflowers</td>\n",
       "      <td>131</td>\n",
       "    </tr>\n",
       "  </tbody>\n",
       "</table>\n",
       "</div>"
      ],
      "text/plain": [
       "                                     user_id                   artist  play\n",
       "0   00000c289a1829a808ac09c00daf10bc3c4e223b          betty blowtorch  2137\n",
       "1   00000c289a1829a808ac09c00daf10bc3c4e223b                die ärzte  1099\n",
       "2   00000c289a1829a808ac09c00daf10bc3c4e223b        melissa etheridge   897\n",
       "3   00000c289a1829a808ac09c00daf10bc3c4e223b                elvenking   717\n",
       "4   00000c289a1829a808ac09c00daf10bc3c4e223b     juliette & the licks   706\n",
       "5   00000c289a1829a808ac09c00daf10bc3c4e223b    red hot chili peppers   691\n",
       "6   00000c289a1829a808ac09c00daf10bc3c4e223b                   magica   545\n",
       "7   00000c289a1829a808ac09c00daf10bc3c4e223b  the black dahlia murder   507\n",
       "8   00000c289a1829a808ac09c00daf10bc3c4e223b              the murmurs   424\n",
       "9   00000c289a1829a808ac09c00daf10bc3c4e223b               lunachicks   403\n",
       "10  00000c289a1829a808ac09c00daf10bc3c4e223b         walls of jericho   393\n",
       "11  00000c289a1829a808ac09c00daf10bc3c4e223b           letzte instanz   387\n",
       "12  00000c289a1829a808ac09c00daf10bc3c4e223b                goldfrapp   361\n",
       "13  00000c289a1829a808ac09c00daf10bc3c4e223b               horrorpops   358\n",
       "14  00000c289a1829a808ac09c00daf10bc3c4e223b             the butchies   329\n",
       "15  00000c289a1829a808ac09c00daf10bc3c4e223b            jack off jill   316\n",
       "16  00000c289a1829a808ac09c00daf10bc3c4e223b         babes in toyland   310\n",
       "17  00000c289a1829a808ac09c00daf10bc3c4e223b         dropkick murphys   302\n",
       "18  00000c289a1829a808ac09c00daf10bc3c4e223b            all:my:faults   288\n",
       "19  00000c289a1829a808ac09c00daf10bc3c4e223b                 le tigre   281\n",
       "20  00000c289a1829a808ac09c00daf10bc3c4e223b               schandmaul   244\n",
       "21  00000c289a1829a808ac09c00daf10bc3c4e223b                    edguy   232\n",
       "22  00000c289a1829a808ac09c00daf10bc3c4e223b      maximum the hormone   231\n",
       "23  00000c289a1829a808ac09c00daf10bc3c4e223b                 all ends   229\n",
       "24  00000c289a1829a808ac09c00daf10bc3c4e223b             jack johnson   227\n",
       "25  00000c289a1829a808ac09c00daf10bc3c4e223b                eluveitie   222\n",
       "26  00000c289a1829a808ac09c00daf10bc3c4e223b                rasputina   220\n",
       "27  00000c289a1829a808ac09c00daf10bc3c4e223b    london after midnight   210\n",
       "28  00000c289a1829a808ac09c00daf10bc3c4e223b              the killers   208\n",
       "29  00000c289a1829a808ac09c00daf10bc3c4e223b                  mutyumu   205\n",
       "30  00000c289a1829a808ac09c00daf10bc3c4e223b             judas priest   198\n",
       "31  00000c289a1829a808ac09c00daf10bc3c4e223b               rob zombie   198\n",
       "32  00000c289a1829a808ac09c00daf10bc3c4e223b             the bosshoss   189\n",
       "33  00000c289a1829a808ac09c00daf10bc3c4e223b         blue öyster cult   185\n",
       "34  00000c289a1829a808ac09c00daf10bc3c4e223b             sandra nasic   183\n",
       "35  00000c289a1829a808ac09c00daf10bc3c4e223b               john mayer   182\n",
       "36  00000c289a1829a808ac09c00daf10bc3c4e223b           sleater-kinney   175\n",
       "37  00000c289a1829a808ac09c00daf10bc3c4e223b                  the who   168\n",
       "38  00000c289a1829a808ac09c00daf10bc3c4e223b                 disciple   154\n",
       "39  00000c289a1829a808ac09c00daf10bc3c4e223b                  tanzwut   153\n",
       "40  00000c289a1829a808ac09c00daf10bc3c4e223b               guano apes   151\n",
       "41  00000c289a1829a808ac09c00daf10bc3c4e223b       the rolling stones   150\n",
       "42  00000c289a1829a808ac09c00daf10bc3c4e223b          little big town   145\n",
       "43  00000c289a1829a808ac09c00daf10bc3c4e223b              team dresch   137\n",
       "44  00000c289a1829a808ac09c00daf10bc3c4e223b                    betty   135\n",
       "45  00000c289a1829a808ac09c00daf10bc3c4e223b                       l7   135\n",
       "46  00000c289a1829a808ac09c00daf10bc3c4e223b                bif naked   134\n",
       "47  00000c289a1829a808ac09c00daf10bc3c4e223b               girlschool   134\n",
       "48  00000c289a1829a808ac09c00daf10bc3c4e223b          the wallflowers   131"
      ]
     },
     "execution_count": 5,
     "metadata": {},
     "output_type": "execute_result"
    }
   ],
   "source": [
    "condition = (data['user_id']== data.loc[0, 'user_id'])\n",
    "data.loc[condition]"
   ]
  },
  {
   "cell_type": "markdown",
   "id": "7e6f12b4",
   "metadata": {},
   "source": [
    "모르는 아티스트가 많다. 추천 시스템에서는 적용 분야에 대한 지식이 특히 더 중요한데, 모르면 검증을 못 하기 때문이다.\n",
    "\n",
    "## 데이터 탐색\n",
    "\n",
    "추천모델을 만들기 전에 데이터의 기본적인 정보를 보고 가자.\n",
    "\n",
    "- 유저 수, 아티스트 수, 인기 많은 아티스트\n",
    "- 유저들이 몇 명의 아티스트를 듣고 있는지에 대한 통계\n",
    "- 유저 play 횟수 중앙값에 대한 통계\n",
    "\n",
    "(참고) pandas.DataFrame.nunique()은 특정 컬럼에 포함된 유니크한 데이터의 개수를 알아보는데 유용하다."
   ]
  },
  {
   "cell_type": "code",
   "execution_count": 58,
   "id": "02e00be1",
   "metadata": {},
   "outputs": [
    {
     "data": {
      "text/plain": [
       "358869"
      ]
     },
     "execution_count": 58,
     "metadata": {},
     "output_type": "execute_result"
    }
   ],
   "source": [
    "# 유저 수\n",
    "data['user_id'].nunique()"
   ]
  },
  {
   "cell_type": "code",
   "execution_count": 59,
   "id": "98b3e8f0",
   "metadata": {},
   "outputs": [
    {
     "data": {
      "text/plain": [
       "291347"
      ]
     },
     "execution_count": 59,
     "metadata": {},
     "output_type": "execute_result"
    }
   ],
   "source": [
    "# 아티스트 수\n",
    "data['artist'].nunique()"
   ]
  },
  {
   "cell_type": "code",
   "execution_count": 60,
   "id": "10dd8273",
   "metadata": {},
   "outputs": [
    {
     "data": {
      "text/plain": [
       "artist\n",
       "217     77254\n",
       "247     76245\n",
       "62      66659\n",
       "5       48924\n",
       "277     46954\n",
       "283     45233\n",
       "268     44443\n",
       "28      41229\n",
       "352     39773\n",
       "910     39479\n",
       "193     37267\n",
       "75      34174\n",
       "418     33206\n",
       "1170    33001\n",
       "776     32624\n",
       "279     32295\n",
       "473     32072\n",
       "531     31916\n",
       "780     31862\n",
       "1092    31799\n",
       "96      31482\n",
       "55      30348\n",
       "694     30144\n",
       "201     29795\n",
       "41      29754\n",
       "773     28946\n",
       "243     28901\n",
       "503     28732\n",
       "203     28691\n",
       "615     28232\n",
       "Name: user_id, dtype: int64"
      ]
     },
     "execution_count": 60,
     "metadata": {},
     "output_type": "execute_result"
    }
   ],
   "source": [
    "# 인기 많은 아티스트\n",
    "artist_count = data.groupby('artist')['user_id'].count()\n",
    "artist_count.sort_values(ascending=False).head(30)"
   ]
  },
  {
   "cell_type": "code",
   "execution_count": 61,
   "id": "e218ad76",
   "metadata": {},
   "outputs": [
    {
     "data": {
      "text/plain": [
       "count    358869.000000\n",
       "mean         48.863680\n",
       "std           8.524494\n",
       "min           1.000000\n",
       "25%          46.000000\n",
       "50%          49.000000\n",
       "75%          51.000000\n",
       "max         166.000000\n",
       "Name: artist, dtype: float64"
      ]
     },
     "execution_count": 61,
     "metadata": {},
     "output_type": "execute_result"
    }
   ],
   "source": [
    "# 유저별 몇 명의 아티스트를 듣고 있는지에 대한 통계\n",
    "user_count = data.groupby('user_id')['artist'].count()\n",
    "user_count.describe()"
   ]
  },
  {
   "cell_type": "code",
   "execution_count": 62,
   "id": "e0c3e1e2",
   "metadata": {},
   "outputs": [
    {
     "data": {
      "text/plain": [
       "count    358869.000000\n",
       "mean        142.187364\n",
       "std         213.089688\n",
       "min           1.000000\n",
       "25%          32.000000\n",
       "50%          83.000000\n",
       "75%         180.000000\n",
       "max       50142.000000\n",
       "Name: play, dtype: float64"
      ]
     },
     "execution_count": 62,
     "metadata": {},
     "output_type": "execute_result"
    }
   ],
   "source": [
    "# 유저별 play횟수 중앙값에 대한 통계\n",
    "user_median = data.groupby('user_id')['play'].median()\n",
    "user_median.describe()"
   ]
  },
  {
   "cell_type": "markdown",
   "id": "62200bc2",
   "metadata": {},
   "source": [
    "## 모델 검증을 위한 사용자 초기 정보 세팅\n",
    "\n",
    "우리가 만든 추천 시스템의 추후 검증을 위해, 내가 무엇을 좋아하는지 위 데이터셋에 5개 이상 추가해주어야 한다."
   ]
  },
  {
   "cell_type": "code",
   "execution_count": 63,
   "id": "35291280",
   "metadata": {},
   "outputs": [
    {
     "data": {
      "text/html": [
       "<div>\n",
       "<style scoped>\n",
       "    .dataframe tbody tr th:only-of-type {\n",
       "        vertical-align: middle;\n",
       "    }\n",
       "\n",
       "    .dataframe tbody tr th {\n",
       "        vertical-align: top;\n",
       "    }\n",
       "\n",
       "    .dataframe thead th {\n",
       "        text-align: right;\n",
       "    }\n",
       "</style>\n",
       "<table border=\"1\" class=\"dataframe\">\n",
       "  <thead>\n",
       "    <tr style=\"text-align: right;\">\n",
       "      <th></th>\n",
       "      <th>user_id</th>\n",
       "      <th>artist</th>\n",
       "      <th>play</th>\n",
       "    </tr>\n",
       "  </thead>\n",
       "  <tbody>\n",
       "    <tr>\n",
       "      <th>0</th>\n",
       "      <td>358868</td>\n",
       "      <td>376</td>\n",
       "      <td>30</td>\n",
       "    </tr>\n",
       "    <tr>\n",
       "      <th>1</th>\n",
       "      <td>358868</td>\n",
       "      <td>270115</td>\n",
       "      <td>30</td>\n",
       "    </tr>\n",
       "    <tr>\n",
       "      <th>2</th>\n",
       "      <td>358868</td>\n",
       "      <td>3746</td>\n",
       "      <td>30</td>\n",
       "    </tr>\n",
       "    <tr>\n",
       "      <th>3</th>\n",
       "      <td>358868</td>\n",
       "      <td>62</td>\n",
       "      <td>30</td>\n",
       "    </tr>\n",
       "    <tr>\n",
       "      <th>4</th>\n",
       "      <td>358868</td>\n",
       "      <td>396</td>\n",
       "      <td>30</td>\n",
       "    </tr>\n",
       "    <tr>\n",
       "      <th>0</th>\n",
       "      <td>zimin</td>\n",
       "      <td>black eyed peas</td>\n",
       "      <td>30</td>\n",
       "    </tr>\n",
       "    <tr>\n",
       "      <th>1</th>\n",
       "      <td>zimin</td>\n",
       "      <td>maroon5</td>\n",
       "      <td>30</td>\n",
       "    </tr>\n",
       "    <tr>\n",
       "      <th>2</th>\n",
       "      <td>zimin</td>\n",
       "      <td>jason mraz</td>\n",
       "      <td>30</td>\n",
       "    </tr>\n",
       "    <tr>\n",
       "      <th>3</th>\n",
       "      <td>zimin</td>\n",
       "      <td>coldplay</td>\n",
       "      <td>30</td>\n",
       "    </tr>\n",
       "    <tr>\n",
       "      <th>4</th>\n",
       "      <td>zimin</td>\n",
       "      <td>beyoncé</td>\n",
       "      <td>30</td>\n",
       "    </tr>\n",
       "  </tbody>\n",
       "</table>\n",
       "</div>"
      ],
      "text/plain": [
       "  user_id           artist  play\n",
       "0  358868              376    30\n",
       "1  358868           270115    30\n",
       "2  358868             3746    30\n",
       "3  358868               62    30\n",
       "4  358868              396    30\n",
       "0   zimin  black eyed peas    30\n",
       "1   zimin          maroon5    30\n",
       "2   zimin       jason mraz    30\n",
       "3   zimin         coldplay    30\n",
       "4   zimin          beyoncé    30"
      ]
     },
     "execution_count": 63,
     "metadata": {},
     "output_type": "execute_result"
    }
   ],
   "source": [
    "# 본인이 좋아하시는 아티스트 데이터로 바꿔서 추가하셔도 됩니다! 단, 이름은 꼭 데이터셋에 있는 것과 동일하게 맞춰주세요. \n",
    "my_favorite = ['black eyed peas' , 'maroon5' ,'jason mraz' ,'coldplay' ,'beyoncé']\n",
    "\n",
    "# 'zimin'이라는 user_id가 위 아티스트의 노래를 30회씩 들었다고 가정하겠습니다.\n",
    "my_playlist = pd.DataFrame({'user_id': ['zimin']*5, 'artist': my_favorite, 'play':[30]*5})\n",
    "\n",
    "if not data.isin({'user_id':['zimin']})['user_id'].any():  # user_id에 'zimin'이라는 데이터가 없다면\n",
    "    data = data.append(my_playlist)                           # 위에 임의로 만든 my_favorite 데이터를 추가해 줍니다. \n",
    "\n",
    "data.tail(10)       # 잘 추가되었는지 확인해 봅시다."
   ]
  },
  {
   "cell_type": "markdown",
   "id": "c524f8d5",
   "metadata": {},
   "source": [
    "## 모델을 활용하기 위한 전처리(실습)\n",
    "\n",
    "데이터 관리를 용이하게 하기 위해 번호를 붙여주자.(indexing 작업)\n",
    "\n",
    "(참고) pandas.DataFrame.unique()은 특정 컬럼에 포함된 유니크한 데이터만 모아 줍니다. indexing 작업을 위해 매우 유용하다."
   ]
  },
  {
   "cell_type": "code",
   "execution_count": 64,
   "id": "84e4ad2b",
   "metadata": {},
   "outputs": [],
   "source": [
    "# 고유한 유저, 아티스트를 찾아내는 코드\n",
    "user_unique = data['user_id'].unique()\n",
    "artist_unique = data['artist'].unique()\n",
    "\n",
    "# 유저, 아티스트 indexing 하는 코드 idx는 index의 약자입니다.\n",
    "user_to_idx = {v:k for k,v in enumerate(user_unique)}\n",
    "artist_to_idx = {v:k for k,v in enumerate(artist_unique)}"
   ]
  },
  {
   "cell_type": "code",
   "execution_count": 65,
   "id": "69188d90",
   "metadata": {},
   "outputs": [
    {
     "name": "stdout",
     "output_type": "stream",
     "text": [
      "358869\n",
      "291347\n"
     ]
    }
   ],
   "source": [
    "# 인덱싱이 잘 되었는지 확인해 봅니다. \n",
    "print(user_to_idx['zimin'])    # 358869명의 유저 중 마지막으로 추가된 유저이니 358868이 나와야 합니다. \n",
    "print(artist_to_idx['black eyed peas'])"
   ]
  },
  {
   "cell_type": "code",
   "execution_count": 66,
   "id": "7449fe64",
   "metadata": {},
   "outputs": [
    {
     "name": "stdout",
     "output_type": "stream",
     "text": [
      "user_id column indexing OK!!\n",
      "artist column indexing OK!!\n"
     ]
    },
    {
     "data": {
      "text/html": [
       "<div>\n",
       "<style scoped>\n",
       "    .dataframe tbody tr th:only-of-type {\n",
       "        vertical-align: middle;\n",
       "    }\n",
       "\n",
       "    .dataframe tbody tr th {\n",
       "        vertical-align: top;\n",
       "    }\n",
       "\n",
       "    .dataframe thead th {\n",
       "        text-align: right;\n",
       "    }\n",
       "</style>\n",
       "<table border=\"1\" class=\"dataframe\">\n",
       "  <thead>\n",
       "    <tr style=\"text-align: right;\">\n",
       "      <th></th>\n",
       "      <th>user_id</th>\n",
       "      <th>artist</th>\n",
       "      <th>play</th>\n",
       "    </tr>\n",
       "  </thead>\n",
       "  <tbody>\n",
       "    <tr>\n",
       "      <th>0</th>\n",
       "      <td>0</td>\n",
       "      <td>0</td>\n",
       "      <td>2137</td>\n",
       "    </tr>\n",
       "    <tr>\n",
       "      <th>1</th>\n",
       "      <td>0</td>\n",
       "      <td>1</td>\n",
       "      <td>1099</td>\n",
       "    </tr>\n",
       "    <tr>\n",
       "      <th>2</th>\n",
       "      <td>0</td>\n",
       "      <td>2</td>\n",
       "      <td>897</td>\n",
       "    </tr>\n",
       "    <tr>\n",
       "      <th>3</th>\n",
       "      <td>0</td>\n",
       "      <td>3</td>\n",
       "      <td>717</td>\n",
       "    </tr>\n",
       "    <tr>\n",
       "      <th>4</th>\n",
       "      <td>0</td>\n",
       "      <td>4</td>\n",
       "      <td>706</td>\n",
       "    </tr>\n",
       "    <tr>\n",
       "      <th>...</th>\n",
       "      <td>...</td>\n",
       "      <td>...</td>\n",
       "      <td>...</td>\n",
       "    </tr>\n",
       "    <tr>\n",
       "      <th>0</th>\n",
       "      <td>358869</td>\n",
       "      <td>291347</td>\n",
       "      <td>30</td>\n",
       "    </tr>\n",
       "    <tr>\n",
       "      <th>1</th>\n",
       "      <td>358869</td>\n",
       "      <td>291348</td>\n",
       "      <td>30</td>\n",
       "    </tr>\n",
       "    <tr>\n",
       "      <th>2</th>\n",
       "      <td>358869</td>\n",
       "      <td>291349</td>\n",
       "      <td>30</td>\n",
       "    </tr>\n",
       "    <tr>\n",
       "      <th>3</th>\n",
       "      <td>358869</td>\n",
       "      <td>291350</td>\n",
       "      <td>30</td>\n",
       "    </tr>\n",
       "    <tr>\n",
       "      <th>4</th>\n",
       "      <td>358869</td>\n",
       "      <td>291351</td>\n",
       "      <td>30</td>\n",
       "    </tr>\n",
       "  </tbody>\n",
       "</table>\n",
       "<p>17535665 rows × 3 columns</p>\n",
       "</div>"
      ],
      "text/plain": [
       "    user_id  artist  play\n",
       "0         0       0  2137\n",
       "1         0       1  1099\n",
       "2         0       2   897\n",
       "3         0       3   717\n",
       "4         0       4   706\n",
       "..      ...     ...   ...\n",
       "0    358869  291347    30\n",
       "1    358869  291348    30\n",
       "2    358869  291349    30\n",
       "3    358869  291350    30\n",
       "4    358869  291351    30\n",
       "\n",
       "[17535665 rows x 3 columns]"
      ]
     },
     "execution_count": 66,
     "metadata": {},
     "output_type": "execute_result"
    }
   ],
   "source": [
    "# indexing을 통해 데이터 컬럼 내 값을 바꾸는 코드\n",
    "# dictionary 자료형의 get 함수는 https://wikidocs.net/16 을 참고하세요.\n",
    "\n",
    "# user_to_idx.get을 통해 user_id 컬럼의 모든 값을 인덱싱한 Series를 구해 봅시다. \n",
    "# 혹시 정상적으로 인덱싱되지 않은 row가 있다면 인덱스가 NaN이 될 테니 dropna()로 제거합니다. \n",
    "temp_user_data = data['user_id'].map(user_to_idx.get).dropna()\n",
    "if len(temp_user_data) == len(data):   # 모든 row가 정상적으로 인덱싱되었다면\n",
    "    print('user_id column indexing OK!!')\n",
    "    data['user_id'] = temp_user_data   # data['user_id']을 인덱싱된 Series로 교체해 줍니다. \n",
    "else:\n",
    "    print('user_id column indexing Fail!!')\n",
    "\n",
    "# artist_to_idx을 통해 artist 컬럼도 동일한 방식으로 인덱싱해 줍니다. \n",
    "temp_artist_data = data['artist'].map(artist_to_idx.get).dropna()\n",
    "if len(temp_artist_data) == len(data):\n",
    "    print('artist column indexing OK!!')\n",
    "    data['artist'] = temp_artist_data\n",
    "else:\n",
    "    print('artist column indexing Fail!!')\n",
    "\n",
    "data"
   ]
  },
  {
   "cell_type": "markdown",
   "id": "fe76a5b8",
   "metadata": {},
   "source": [
    "전처리가 완료되었다.\n",
    "\n",
    "# 사용자의 명시적/암묵적 평가\n",
    "\n",
    "이 추천 시스템은 사용자들이 얼마나 아이템을 선호하는지를 모델링하기를 원한다. 그러기 위해서는 `사용자의 아이템 선호도를 말해주는 유저 행동 데이터셋`이 필요하다. 서비스를 이용하면서 자연스럽게 발생하는 implicit한 피드백도 사용자의 아이템에 대한 평가를 알 수 있는 단서가 된다.\n",
    "\n",
    "암묵적 피드백 데이터셋의 특징은 다음과 같다.\n",
    "\n",
    "- 부정적인 피드백이 없다.(No Negative Feedback)\n",
    "- 애초에 잡음이 많다.(Inherently Noisy)\n",
    "- 수치는 신뢰도를 의미한다.(The numerical value of implicit feedback indicates confidence)\n",
    "- Implicit-feedback Recommender System의 평가는 적절한 방법을 고민해봐야 한다.(Evaluation of implicit-feedback recommender requires appropriate measures)\n",
    "\n",
    "암묵적 평가 예시: 플레이 수/시간, 클릭 수, 구매 여부, 스킵 여부 등"
   ]
  },
  {
   "cell_type": "code",
   "execution_count": 67,
   "id": "c2092987",
   "metadata": {},
   "outputs": [
    {
     "name": "stdout",
     "output_type": "stream",
     "text": [
      "147740,17535665\n",
      "Ratio of only_one over all data is 0.84%\n"
     ]
    }
   ],
   "source": [
    "# 1회만 play한 데이터의 비율을 보는 코드\n",
    "only_one = data[data['play']<2]\n",
    "one, all_data = len(only_one), len(data)\n",
    "print(f'{one},{all_data}')\n",
    "print(f'Ratio of only_one over all data is {one/all_data:.2%}')  # f-format에 대한 설명은 https://bit.ly/2DTLqYU"
   ]
  },
  {
   "cell_type": "markdown",
   "id": "bb124f1e",
   "metadata": {},
   "source": [
    "암묵적 데이터 해석을 위해 다음과 같이 규칙을 적용하자.\n",
    "\n",
    "- 한 번이라도 들었으면 선호한다고 판단\n",
    "- 많이 재생한 아티스트에 가중치를 주어 더 좋아한다고 판단"
   ]
  },
  {
   "attachments": {},
   "cell_type": "markdown",
   "id": "47a82527",
   "metadata": {},
   "source": [
    "# Matirx Factorization(MF)\n",
    "\n",
    "데이터는 준비가 되었고, 이제 모델을 만들자.\n",
    "\n",
    "추천 시스템 모델들 중 `Matrix Factorization(MF, 행렬 분해)` 모델을 사용하자.\n",
    "\n",
    "(m,n) size의 행렬 R을 (m,k) size행렬 P와 (k,n) size의 행렬 Q로 분해한다면 R이란 그저 P와 Q의 행렬곱으로 표현가능할 것이다. MF 모델은 성능이 준수하고 Scalability가 좋아서 많이 사용되는 모델이다.\n",
    "\n",
    "![image](https://user-images.githubusercontent.com/78291267/155494575-734e32b1-9ad2-4ad3-8d44-6c8c03cc6829.png)\n",
    "\n",
    "[출처: CuMF_SGD: Fast and Scalable Matrix Factorization(https://arxiv.org/pdf/1610.05838.pdf)]\n",
    "\n",
    "모델 목표는 모든 유저와 아이템에 대해 k-dimensional의 벡터를 만드는 것이다. 벡터를 잘 만드는 기준은 **유저 i의 벡터 ($U_i$)와 아이템 j의 벡터($I_j$)를 내적했을 때 유저 i가 아이템 j에 대해 평가한 수치($M_ij$)와 비슷한지**이다.\n",
    "\n",
    "![image](https://user-images.githubusercontent.com/78291267/155497667-b479ada6-6f14-46eb-a145-2ffda98b7f9d.png)\n",
    "\n",
    "# CSR(Compressd Sparse Row) Matrix\n",
    "\n",
    "유저 x 아이템 평가행렬을 다시 생각해보자. 유저는 36만, 아티스트는 29만이다. 이를 행렬로 표현하고 행렬의 각 원소에 정수 1byte가 들어간다면 36만x29만x1byte = 97GB가 필요하다. 이들 중 대부분은 0으로 채워진다. 이는 메모리 낭비이며, 낭비를 최소화하기 위해서는 유저가 들어본 아티스트에 대해서만 정보만을 저장하면서 전체 행렬 형태를 유추할 수 있는 데이터 구조가 필요하다.\n",
    "\n",
    "그에 대한 대안이 **CSR matrix**이다. 이는 sparse한 matrix에서 0이 아닌 유효한 데이터로 채워지는 데이터 값과 좌표 정보만으로 구성하여 메모리 사용량을 최소화하면서 Sparse한 matrix와 동일한 행렬을 표현하게 하는 데이터 구조이다.\n",
    "\n",
    "CSR matrix는 data, indices, indptr로 행렬을 압축하여 표현한다.\n",
    "\n",
    "![image](https://user-images.githubusercontent.com/78291267/155498262-66621c5f-b5cb-4b20-b282-1d5dd877d958.png)\n",
    "\n",
    "- data는 0이 아닌 원소를 차례로 기입한 값이다.\n",
    "> data = [1, 2, 3, 4, 5, 6]\n",
    "\n",
    "- indices는 data 각 요소가 어느 열에 있는지를 표현한 index이다.\n",
    "> indices = [0, 4, 1, 3, 0, 3]\n",
    "\n",
    "- indptr은 각 행에서 0이 아닌 첫 번째 원소가 `data list에서 몇 번째에 해당하는지`와 마지막에 data 벡터의 길이를 추가한 값이다! 세 번째 행처럼 0이 아닌 원소가 없는 경우는 그 다음 행의 값과 동일한 값을 넣는다.\n",
    "> indptr = [0, 2, 4, 4, 6]\n",
    "\n",
    "이제 data를 CSR matrix로 바꿔보자.\n",
    "\n",
    "csr_matrix를 [만드는 방법](https://docs.scipy.org/doc/scipy/reference/generated/scipy.sparse.csr_matrix.html)은 다양하다.\n",
    "\n",
    "![image](https://user-images.githubusercontent.com/78291267/155498711-2e246d36-8564-450e-b142-d2549167ee71.png)\n",
    "\n",
    "출처: https://docs.scipy.org/doc/scipy/reference/generated/scipy.sparse.csr_matrix.html\n",
    "\n"
   ]
  },
  {
   "cell_type": "code",
   "execution_count": 68,
   "id": "05c10995",
   "metadata": {},
   "outputs": [
    {
     "data": {
      "text/plain": [
       "<358870x291352 sparse matrix of type '<class 'numpy.int64'>'\n",
       "\twith 17535583 stored elements in Compressed Sparse Row format>"
      ]
     },
     "execution_count": 68,
     "metadata": {},
     "output_type": "execute_result"
    }
   ],
   "source": [
    "# 실습 위에 설명보고 이해해서 만들어보기\n",
    "from scipy.sparse import csr_matrix\n",
    "\n",
    "num_user = data['user_id'].nunique()\n",
    "num_artist = data['artist'].nunique()\n",
    "\n",
    "csr_data = csr_matrix((data.play, (data.user_id, data.artist)), shape= (num_user, num_artist))\n",
    "csr_data"
   ]
  },
  {
   "cell_type": "markdown",
   "id": "c234d6d1",
   "metadata": {},
   "source": [
    "# MF model 학습하기\n",
    "\n",
    "MF모델을 `implicit` 패키지를 사용해 학습해보자.\n",
    "\n",
    "- `implicit` 패키지는 implicit dataset을 사용하는 다양한 모델을 매우 빠르게 학습시키는 패키지이다.\n",
    "- 패키지에 구현된 `als(AlternatingLeastSquares)` 모델을 사용하자. MF에서 쪼개진 두 feature matrix를 동시에 훈련하는 것보다 더욱 빨리 수렴하여 효과적이라고 알려져있다."
   ]
  },
  {
   "cell_type": "code",
   "execution_count": 69,
   "id": "19360e26",
   "metadata": {},
   "outputs": [],
   "source": [
    "from implicit.als import AlternatingLeastSquares\n",
    "import os\n",
    "import numpy as np\n",
    "\n",
    "# implicit 라이브러리에서 권장하고 있는 부분입니다. 학습 내용과는 무관합니다.\n",
    "os.environ['OPENBLAS_NUM_THREADS']='1'\n",
    "os.environ['KMP_DUPLICATE_LIB_OK']='True'\n",
    "os.environ['MKL_NUM_THREADS']='1'"
   ]
  },
  {
   "cell_type": "markdown",
   "id": "e6fc6dd3",
   "metadata": {},
   "source": [
    "AlternatingLeastSquares 클래스의 __init__ 파라미터를 살펴보자.\n",
    "\n",
    "- factors : 유저와 아이템의 벡터를 몇 차원으로 할 것인지\n",
    "- regularization : 과적합을 방지하기 위해 정규화 값을 얼마나 사용할 것인지\n",
    "- use_gpu : GPU를 사용할 것인지\n",
    "- iterations : epochs와 같은 의미입니다. 데이터를 몇 번 반복해서 학습할 것인지\n",
    "\n",
    "1과 4를 늘릴수록 학습 데이터를 잘 학습하지만, overfitting을 조심하자."
   ]
  },
  {
   "cell_type": "code",
   "execution_count": 70,
   "id": "948b1dac",
   "metadata": {},
   "outputs": [],
   "source": [
    "# Implicit AlternatingLeastSquares 모델의 선언\n",
    "als_model = AlternatingLeastSquares(factors=100, regularization=0.01, use_gpu=False, iterations=15, dtype=np.float32)"
   ]
  },
  {
   "cell_type": "code",
   "execution_count": 71,
   "id": "49c273a2",
   "metadata": {},
   "outputs": [
    {
     "data": {
      "text/plain": [
       "<291352x358870 sparse matrix of type '<class 'numpy.int64'>'\n",
       "\twith 17535583 stored elements in Compressed Sparse Column format>"
      ]
     },
     "execution_count": 71,
     "metadata": {},
     "output_type": "execute_result"
    }
   ],
   "source": [
    "# als 모델은 input으로 (item X user 꼴의 matrix를 받기 때문에 Transpose해줍니다.)\n",
    "csr_data_transpose = csr_data.T\n",
    "csr_data_transpose"
   ]
  },
  {
   "cell_type": "code",
   "execution_count": 72,
   "id": "30b8b05d",
   "metadata": {},
   "outputs": [
    {
     "data": {
      "application/vnd.jupyter.widget-view+json": {
       "model_id": "1cd6207d196b481f9de9798b0df70a2f",
       "version_major": 2,
       "version_minor": 0
      },
      "text/plain": [
       "  0%|          | 0/15 [00:00<?, ?it/s]"
      ]
     },
     "metadata": {},
     "output_type": "display_data"
    }
   ],
   "source": [
    "# 모델 훈련\n",
    "als_model.fit(csr_data_transpose)"
   ]
  },
  {
   "cell_type": "markdown",
   "id": "025cd896",
   "metadata": {},
   "source": [
    "이제 2가지 사항을 살펴보자.\n",
    "\n",
    "1. zimin 벡터와 black eyed peas의 벡터를 어떻게 만들고 있는지\n",
    "2. 두 벡터를 곱하면 어떤 값이 나오는지"
   ]
  },
  {
   "cell_type": "code",
   "execution_count": 73,
   "id": "ca718400",
   "metadata": {},
   "outputs": [
    {
     "name": "stdout",
     "output_type": "stream",
     "text": [
      "슝=3\n"
     ]
    }
   ],
   "source": [
    "zimin, black_eyed_peas = user_to_idx['zimin'], artist_to_idx['black eyed peas']\n",
    "zimin_vector, black_eyed_peas_vector = als_model.user_factors[zimin], als_model.item_factors[black_eyed_peas]\n",
    "\n",
    "print('슝=3')"
   ]
  },
  {
   "cell_type": "code",
   "execution_count": 74,
   "id": "6bb3400c",
   "metadata": {},
   "outputs": [
    {
     "data": {
      "text/plain": [
       "array([-0.00063334,  0.00192642,  0.00453873, -0.00098727,  0.00591053,\n",
       "       -0.00526884, -0.0004744 ,  0.01345678,  0.01203798,  0.01179077,\n",
       "       -0.00383176, -0.01278549, -0.02120865, -0.00253777,  0.00729255,\n",
       "       -0.01060826, -0.01639587, -0.00364366,  0.01616966,  0.01778094,\n",
       "       -0.00960981,  0.00053605, -0.0242309 , -0.01237026, -0.01710715,\n",
       "        0.02617447,  0.00301509, -0.01147097,  0.01217436,  0.01010843,\n",
       "        0.00623398,  0.01295614, -0.00346757,  0.00490132, -0.01090054,\n",
       "        0.01172428,  0.00490648,  0.00382358, -0.01462624, -0.01302529,\n",
       "       -0.00342637, -0.00374796, -0.00605203, -0.00209778, -0.01278877,\n",
       "       -0.01485959, -0.00185056, -0.02337673,  0.02433301,  0.01203286,\n",
       "        0.00947518,  0.00880573,  0.00095233, -0.00241017, -0.01966149,\n",
       "       -0.00555366,  0.02116205, -0.00932224, -0.00693795, -0.01239852,\n",
       "        0.00420673,  0.00713461,  0.00394419,  0.01633045,  0.01448909,\n",
       "        0.01861091,  0.0072172 , -0.00402183,  0.00264846,  0.00671749,\n",
       "        0.00346969,  0.00251347, -0.02013172, -0.00046677,  0.01248993,\n",
       "        0.0009399 , -0.00095685,  0.00694175, -0.0084632 ,  0.01077261,\n",
       "        0.00140172,  0.01220554, -0.01377176, -0.00146397,  0.00484889,\n",
       "        0.00842849,  0.00141971,  0.0058502 , -0.01114579,  0.01822758,\n",
       "       -0.01908236, -0.00896715,  0.00077255, -0.00170172, -0.00500479,\n",
       "        0.00684493,  0.00098241, -0.00591149,  0.01040074,  0.01011114],\n",
       "      dtype=float32)"
      ]
     },
     "execution_count": 74,
     "metadata": {},
     "output_type": "execute_result"
    }
   ],
   "source": [
    "zimin_vector"
   ]
  },
  {
   "cell_type": "code",
   "execution_count": 30,
   "id": "afd86d83",
   "metadata": {},
   "outputs": [
    {
     "data": {
      "text/plain": [
       "array([ 1.84955075e-02,  3.12648085e-03,  2.73260754e-02,  1.13091385e-02,\n",
       "        1.30027216e-02,  7.12492270e-03, -1.05624497e-02,  1.99825671e-02,\n",
       "       -5.08196605e-03, -1.23252897e-02,  1.30540943e-02, -7.23074772e-05,\n",
       "        1.41553693e-02,  2.26158239e-02, -3.25573928e-04,  1.07180502e-03,\n",
       "       -1.40532537e-03,  8.83621629e-03,  3.70181329e-03,  2.03704052e-02,\n",
       "        1.27853388e-02,  1.31191574e-02,  2.23001484e-02, -2.63541471e-03,\n",
       "       -1.35505386e-02,  3.53613906e-02,  1.68826263e-02,  8.14550556e-03,\n",
       "       -9.94398631e-03,  3.83757148e-03,  4.09717532e-03,  2.29453086e-03,\n",
       "        1.07086515e-02,  1.10192066e-02,  3.70370131e-03,  4.91675083e-03,\n",
       "        2.05083285e-02, -1.26654850e-02,  1.43576358e-02,  8.80754739e-03,\n",
       "        8.76171142e-03, -1.63480770e-02, -5.93769643e-03,  2.57273484e-03,\n",
       "        3.07619832e-02,  1.19472984e-02, -9.45035648e-03,  1.37791382e-02,\n",
       "        2.94578541e-03,  6.51798025e-03,  2.35960842e-03,  9.94806085e-03,\n",
       "        2.02198662e-02, -7.30344187e-03,  7.55541213e-03,  1.91564206e-02,\n",
       "        2.12366674e-02,  3.63464165e-03, -5.58858458e-03,  1.20594632e-02,\n",
       "        1.73738450e-02,  2.07411014e-02,  1.79225635e-02,  5.18441340e-03,\n",
       "       -2.72314381e-02,  1.95040461e-03, -2.16548331e-03,  1.27882278e-02,\n",
       "        2.18157331e-03, -9.68825072e-03,  9.39695723e-03,  1.08454295e-03,\n",
       "       -1.13498084e-02,  2.50969548e-02,  1.43998908e-03,  2.68599279e-02,\n",
       "        1.02109211e-02,  1.50131509e-02,  1.19618485e-02,  1.39194401e-02,\n",
       "        2.04474609e-02,  7.15282978e-03, -4.63017495e-03, -1.98030984e-03,\n",
       "        1.87525656e-02,  1.03000635e-02,  1.68708395e-02,  8.60676449e-03,\n",
       "        1.26077561e-02,  2.54569342e-03,  1.70822460e-02,  1.54243328e-03,\n",
       "        2.78498582e-03, -4.36118245e-03,  1.29431225e-02,  9.14802495e-03,\n",
       "        4.56131747e-05,  9.72313527e-03,  1.19166048e-02,  2.47687008e-02],\n",
       "      dtype=float32)"
      ]
     },
     "execution_count": 30,
     "metadata": {},
     "output_type": "execute_result"
    }
   ],
   "source": [
    "black_eyed_peas_vector"
   ]
  },
  {
   "cell_type": "code",
   "execution_count": 31,
   "id": "e48a5543",
   "metadata": {},
   "outputs": [
    {
     "data": {
      "text/plain": [
       "0.50302196"
      ]
     },
     "execution_count": 31,
     "metadata": {},
     "output_type": "execute_result"
    }
   ],
   "source": [
    "# zimin과 black_eyed_peas를 내적하는 코드\n",
    "np.dot(zimin_vector, black_eyed_peas_vector)"
   ]
  },
  {
   "cell_type": "markdown",
   "id": "d4ef4dcd",
   "metadata": {},
   "source": [
    "1이 나와야 하는데, 한참 낮은 수치가 나왔다. factors/iterations를 늘려보자.\n",
    "\n",
    "이제, 모델이 queen에 대한 선호도를 어떻게 예측하는지 살펴보자."
   ]
  },
  {
   "cell_type": "code",
   "execution_count": 32,
   "id": "f668be42",
   "metadata": {},
   "outputs": [
    {
     "data": {
      "text/plain": [
       "0.32252192"
      ]
     },
     "execution_count": 32,
     "metadata": {},
     "output_type": "execute_result"
    }
   ],
   "source": [
    "queen = artist_to_idx['queen']\n",
    "queen_vector = als_model.item_factors[queen]\n",
    "np.dot(zimin_vector, queen_vector)"
   ]
  },
  {
   "cell_type": "markdown",
   "id": "7643c5f6",
   "metadata": {},
   "source": [
    "# 비슷한 아티스트 찾기 + 유저에게 추천하기\n",
    "\n",
    "## 비슷한 아티스트 찾기\n",
    "\n",
    "`similar_items` 메서드를 통해 비슷한 아티스트를 찾아보자."
   ]
  },
  {
   "cell_type": "code",
   "execution_count": 33,
   "id": "725df85e",
   "metadata": {},
   "outputs": [
    {
     "data": {
      "text/plain": [
       "[(62, 0.9999999),\n",
       " (277, 0.99044037),\n",
       " (28, 0.98205984),\n",
       " (5, 0.97932976),\n",
       " (217, 0.9717016),\n",
       " (490, 0.97122943),\n",
       " (473, 0.9710707),\n",
       " (418, 0.96607286),\n",
       " (247, 0.96601087),\n",
       " (694, 0.95595264),\n",
       " (910, 0.95325226),\n",
       " (55, 0.95286906),\n",
       " (1018, 0.9461631),\n",
       " (268, 0.94124097),\n",
       " (782, 0.9389919)]"
      ]
     },
     "execution_count": 33,
     "metadata": {},
     "output_type": "execute_result"
    }
   ],
   "source": [
    "#coldplay와 비슷한 artist 찾아보기\n",
    "favorite_artist = 'coldplay'\n",
    "artist_id = artist_to_idx[favorite_artist]\n",
    "similar_artist = als_model.similar_items(artist_id, N=15)\n",
    "similar_artist"
   ]
  },
  {
   "cell_type": "markdown",
   "id": "bbbfc996",
   "metadata": {},
   "source": [
    "(아티스트id, 유사도)를 튜플로 반환하고 있다. 아티스트의 id를 다시 아티스트의 이름으로 매핑하자."
   ]
  },
  {
   "cell_type": "code",
   "execution_count": 34,
   "id": "1d406430",
   "metadata": {},
   "outputs": [
    {
     "data": {
      "text/plain": [
       "['coldplay',\n",
       " 'muse',\n",
       " 'the killers',\n",
       " 'red hot chili peppers',\n",
       " 'radiohead',\n",
       " 'oasis',\n",
       " 'placebo',\n",
       " 'u2',\n",
       " 'the beatles',\n",
       " 'foo fighters',\n",
       " 'nirvana',\n",
       " 'arctic monkeys',\n",
       " 'the smashing pumpkins',\n",
       " 'pink floyd',\n",
       " 'the white stripes']"
      ]
     },
     "execution_count": 34,
     "metadata": {},
     "output_type": "execute_result"
    }
   ],
   "source": [
    "#artist_to_idx 를 뒤집어, index로부터 artist 이름을 얻는 dict를 생성합니다. \n",
    "idx_to_artist = {v:k for k,v in artist_to_idx.items()}\n",
    "[idx_to_artist[i[0]] for i in similar_artist]"
   ]
  },
  {
   "cell_type": "markdown",
   "id": "cbc9d374",
   "metadata": {},
   "source": [
    "이를 함수로 만들고 확인하자."
   ]
  },
  {
   "cell_type": "code",
   "execution_count": 35,
   "id": "9169c77b",
   "metadata": {},
   "outputs": [
    {
     "name": "stdout",
     "output_type": "stream",
     "text": [
      "슝=3\n"
     ]
    }
   ],
   "source": [
    "def get_similar_artist(artist_name: str):\n",
    "    artist_id = artist_to_idx[artist_name]\n",
    "    similar_artist = als_model.similar_items(artist_id)\n",
    "    similar_artist = [idx_to_artist[i[0]] for i in similar_artist]\n",
    "    return similar_artist\n",
    "\n",
    "print(\"슝=3\")"
   ]
  },
  {
   "cell_type": "markdown",
   "id": "949c3c00",
   "metadata": {},
   "source": [
    "## 유저에게 아티스트 추천하기 \n",
    "\n",
    "`recommend` 메서드를 통해 좋아할 아티스트를 추천받자. `filter_already_liked_items`는 유저가 이미 평가한 아이템을 제외하는 Argument이다."
   ]
  },
  {
   "cell_type": "code",
   "execution_count": 41,
   "id": "21bfc6a0",
   "metadata": {},
   "outputs": [
    {
     "data": {
      "text/plain": [
       "['rihanna',\n",
       " 'britney spears',\n",
       " 'justin timberlake',\n",
       " 'maroon 5',\n",
       " 'lady gaga',\n",
       " 'nelly furtado',\n",
       " 'amy winehouse',\n",
       " 'madonna',\n",
       " 'michael jackson',\n",
       " 'kanye west',\n",
       " 'mika',\n",
       " 'lily allen',\n",
       " 'christina aguilera',\n",
       " 'timbaland',\n",
       " 'jack johnson',\n",
       " 'katy perry',\n",
       " 'pink',\n",
       " 'the killers',\n",
       " 'red hot chili peppers',\n",
       " 'muse']"
      ]
     },
     "execution_count": 41,
     "metadata": {},
     "output_type": "execute_result"
    }
   ],
   "source": [
    "user = user_to_idx['zimin']\n",
    "# recommend에서는 user*item CSR Matrix를 받습니다.\n",
    "artist_recommended = als_model.recommend(user, csr_data, N=20, filter_already_liked_items=True)\n",
    "[idx_to_artist[i[0]] for i in artist_recommended]"
   ]
  },
  {
   "cell_type": "markdown",
   "id": "f7f3c02a",
   "metadata": {},
   "source": [
    "왜 rihanna를 추천해줄까? ALS 클래스에 구현된 `explain` 메서드를 사용하면 기록을 남긴 데이터 중 **이 추천에 기여한 정도**를 확인할 수 있다."
   ]
  },
  {
   "cell_type": "code",
   "execution_count": 40,
   "id": "7acd256f",
   "metadata": {},
   "outputs": [],
   "source": [
    "rihanna = artist_to_idx['rihanna']\n",
    "explain = als_model.explain(user, csr_data, itemid=rihanna)"
   ]
  },
  {
   "cell_type": "code",
   "execution_count": null,
   "id": "72d757b3",
   "metadata": {},
   "outputs": [],
   "source": []
  },
  {
   "cell_type": "code",
   "execution_count": 42,
   "id": "97d37c42",
   "metadata": {},
   "outputs": [
    {
     "data": {
      "text/plain": [
       "[('beyoncé', 0.2256409607588373),\n",
       " ('black eyed peas', 0.14442788520524902),\n",
       " ('coldplay', 0.04388536532175796),\n",
       " ('jason mraz', 0.039566288926108834),\n",
       " ('maroon5', -0.00024309868724310384)]"
      ]
     },
     "execution_count": 42,
     "metadata": {},
     "output_type": "execute_result"
    }
   ],
   "source": [
    "[(idx_to_artist[i[0]], i[1]) for i in explain[1]]"
   ]
  },
  {
   "cell_type": "markdown",
   "id": "1d023d62",
   "metadata": {},
   "source": [
    "`filter_already_liked_items = True`를 했지만 이미 평가한 maroon5가 나왔다. 이는 implicit 0.4.2 버전에서 생긴 버그이다. 이렇게 유명한 패키지의 오류를 고쳐 Pull Request하여 contribute하면 좋은 이력이 되기도 한다."
   ]
  },
  {
   "cell_type": "markdown",
   "id": "c7d26ead",
   "metadata": {},
   "source": [
    "## 마무리\n",
    "\n",
    "몇가지 아쉬운 점이 있다.\n",
    "\n",
    "1. 유저, 아티스트에 대한 Meta 정보를 반영하기 쉽지 않다. 연령대별로 음악 취향이 다를 수도 있다.\n",
    "2. 유저가 언제 play 했는지에 반영하기 쉽지 않다. 10년 전에 들은 아티스트와 지금 듣는 아티스트를 비교해보자."
   ]
  },
  {
   "cell_type": "code",
   "execution_count": null,
   "id": "88fb96e7",
   "metadata": {},
   "outputs": [],
   "source": []
  },
  {
   "cell_type": "markdown",
   "id": "40bc9ed9",
   "metadata": {},
   "source": [
    "# 프로젝트 - Movielens 영화 추천 실습\n",
    "\n",
    "Movielens data를 활용해 내가 좋아할 영화 추천 시스템을 제작해보자. \n",
    "\n",
    "- 유저가 영화에 대해 평점을 매긴 데이터가 데이터 크기 별로 있습니다. MovieLens 1M Dataset 사용을 권장합니다.\n",
    "- 별점 데이터는 대표적인 explicit 데이터입니다. 하지만 implicit 데이터로 간주하고 테스트해 볼 수 있습니다.\n",
    "- 별점을 시청횟수로 해석해서 생각하겠습니다.\n",
    "- 또한 유저가 3점 미만으로 준 데이터는 선호하지 않는다고 가정하고 제외하겠습니다.\n",
    "- Cloud Storage에 미리 업로드된 ml-1m폴더 내 파일을 심볼릭 링크로 개인 storage에 연결해 줍니다.\n",
    "\n",
    "Cloud shell에서 아래 명령어를 입력해 주세요.\n",
    "```python\n",
    "$ mkdir -p ~/aiffel/recommendata_iu/data/ml-1m\n",
    "$ ln -s ~/data/ml-1m/* ~/aiffel/recommendata_iu/data/ml-1m\n",
    "```\n",
    "\n",
    "## 1) 데이터 준비와 전처리\n",
    "\n",
    "Movielens 데이터는 rating.dat 안에 이미 인덱싱까지 완료된 사용자-영화-평점 데이터가 깔끔하게 정리되어 있습니다."
   ]
  },
  {
   "cell_type": "code",
   "execution_count": 265,
   "id": "6e769ea4",
   "metadata": {},
   "outputs": [
    {
     "data": {
      "text/html": [
       "<div>\n",
       "<style scoped>\n",
       "    .dataframe tbody tr th:only-of-type {\n",
       "        vertical-align: middle;\n",
       "    }\n",
       "\n",
       "    .dataframe tbody tr th {\n",
       "        vertical-align: top;\n",
       "    }\n",
       "\n",
       "    .dataframe thead th {\n",
       "        text-align: right;\n",
       "    }\n",
       "</style>\n",
       "<table border=\"1\" class=\"dataframe\">\n",
       "  <thead>\n",
       "    <tr style=\"text-align: right;\">\n",
       "      <th></th>\n",
       "      <th>user_id</th>\n",
       "      <th>movie_id</th>\n",
       "      <th>ratings</th>\n",
       "      <th>timestamp</th>\n",
       "    </tr>\n",
       "  </thead>\n",
       "  <tbody>\n",
       "    <tr>\n",
       "      <th>0</th>\n",
       "      <td>1</td>\n",
       "      <td>1193</td>\n",
       "      <td>5</td>\n",
       "      <td>978300760</td>\n",
       "    </tr>\n",
       "    <tr>\n",
       "      <th>1</th>\n",
       "      <td>1</td>\n",
       "      <td>661</td>\n",
       "      <td>3</td>\n",
       "      <td>978302109</td>\n",
       "    </tr>\n",
       "    <tr>\n",
       "      <th>2</th>\n",
       "      <td>1</td>\n",
       "      <td>914</td>\n",
       "      <td>3</td>\n",
       "      <td>978301968</td>\n",
       "    </tr>\n",
       "    <tr>\n",
       "      <th>3</th>\n",
       "      <td>1</td>\n",
       "      <td>3408</td>\n",
       "      <td>4</td>\n",
       "      <td>978300275</td>\n",
       "    </tr>\n",
       "    <tr>\n",
       "      <th>4</th>\n",
       "      <td>1</td>\n",
       "      <td>2355</td>\n",
       "      <td>5</td>\n",
       "      <td>978824291</td>\n",
       "    </tr>\n",
       "  </tbody>\n",
       "</table>\n",
       "</div>"
      ],
      "text/plain": [
       "   user_id  movie_id  ratings  timestamp\n",
       "0        1      1193        5  978300760\n",
       "1        1       661        3  978302109\n",
       "2        1       914        3  978301968\n",
       "3        1      3408        4  978300275\n",
       "4        1      2355        5  978824291"
      ]
     },
     "execution_count": 265,
     "metadata": {},
     "output_type": "execute_result"
    }
   ],
   "source": [
    "import os\n",
    "rating_file_path=os.getenv('HOME') + '/aiffel/recommendata_iu/data/ml-1m/ratings.dat'\n",
    "ratings_cols = ['user_id', 'movie_id', 'ratings', 'timestamp']\n",
    "ratings = pd.read_csv(rating_file_path, sep='::', names=ratings_cols, engine='python', encoding = \"ISO-8859-1\")\n",
    "orginal_data_size = len(ratings)\n",
    "ratings.head()"
   ]
  },
  {
   "cell_type": "code",
   "execution_count": 266,
   "id": "c84f5488",
   "metadata": {},
   "outputs": [
    {
     "name": "stdout",
     "output_type": "stream",
     "text": [
      "orginal_data_size: 1000209, filtered_data_size: 836478\n",
      "Ratio of Remaining Data is 83.63%\n"
     ]
    }
   ],
   "source": [
    "# 3점 이상만 남깁니다.\n",
    "ratings = ratings[ratings['ratings']>=3]\n",
    "filtered_data_size = len(ratings)\n",
    "\n",
    "print(f'orginal_data_size: {orginal_data_size}, filtered_data_size: {filtered_data_size}')\n",
    "print(f'Ratio of Remaining Data is {filtered_data_size / orginal_data_size:.2%}')"
   ]
  },
  {
   "cell_type": "code",
   "execution_count": 267,
   "id": "d54890ac",
   "metadata": {},
   "outputs": [],
   "source": [
    "# ratings 컬럼의 이름을 counts로 바꿉니다.\n",
    "ratings.rename(columns={'ratings':'counts'}, inplace=True)"
   ]
  },
  {
   "cell_type": "code",
   "execution_count": 268,
   "id": "3c024868",
   "metadata": {},
   "outputs": [
    {
     "data": {
      "text/html": [
       "<div>\n",
       "<style scoped>\n",
       "    .dataframe tbody tr th:only-of-type {\n",
       "        vertical-align: middle;\n",
       "    }\n",
       "\n",
       "    .dataframe tbody tr th {\n",
       "        vertical-align: top;\n",
       "    }\n",
       "\n",
       "    .dataframe thead th {\n",
       "        text-align: right;\n",
       "    }\n",
       "</style>\n",
       "<table border=\"1\" class=\"dataframe\">\n",
       "  <thead>\n",
       "    <tr style=\"text-align: right;\">\n",
       "      <th></th>\n",
       "      <th>movie_id</th>\n",
       "      <th>title</th>\n",
       "      <th>genre</th>\n",
       "    </tr>\n",
       "  </thead>\n",
       "  <tbody>\n",
       "    <tr>\n",
       "      <th>0</th>\n",
       "      <td>1</td>\n",
       "      <td>Toy Story (1995)</td>\n",
       "      <td>Animation|Children's|Comedy</td>\n",
       "    </tr>\n",
       "    <tr>\n",
       "      <th>1</th>\n",
       "      <td>2</td>\n",
       "      <td>Jumanji (1995)</td>\n",
       "      <td>Adventure|Children's|Fantasy</td>\n",
       "    </tr>\n",
       "    <tr>\n",
       "      <th>2</th>\n",
       "      <td>3</td>\n",
       "      <td>Grumpier Old Men (1995)</td>\n",
       "      <td>Comedy|Romance</td>\n",
       "    </tr>\n",
       "    <tr>\n",
       "      <th>3</th>\n",
       "      <td>4</td>\n",
       "      <td>Waiting to Exhale (1995)</td>\n",
       "      <td>Comedy|Drama</td>\n",
       "    </tr>\n",
       "    <tr>\n",
       "      <th>4</th>\n",
       "      <td>5</td>\n",
       "      <td>Father of the Bride Part II (1995)</td>\n",
       "      <td>Comedy</td>\n",
       "    </tr>\n",
       "  </tbody>\n",
       "</table>\n",
       "</div>"
      ],
      "text/plain": [
       "   movie_id                               title                         genre\n",
       "0         1                    Toy Story (1995)   Animation|Children's|Comedy\n",
       "1         2                      Jumanji (1995)  Adventure|Children's|Fantasy\n",
       "2         3             Grumpier Old Men (1995)                Comedy|Romance\n",
       "3         4            Waiting to Exhale (1995)                  Comedy|Drama\n",
       "4         5  Father of the Bride Part II (1995)                        Comedy"
      ]
     },
     "execution_count": 268,
     "metadata": {},
     "output_type": "execute_result"
    }
   ],
   "source": [
    "# 영화 제목을 보기 위해 메타 데이터를 읽어옵니다.\n",
    "movie_file_path=os.getenv('HOME') + '/aiffel/recommendata_iu/data/ml-1m/movies.dat'\n",
    "cols = ['movie_id', 'title', 'genre'] \n",
    "movies = pd.read_csv(movie_file_path, sep='::', names=cols, engine='python', encoding='ISO-8859-1')\n",
    "movies.head()"
   ]
  },
  {
   "cell_type": "code",
   "execution_count": 269,
   "id": "8f56069e",
   "metadata": {
    "scrolled": true
   },
   "outputs": [
    {
     "data": {
      "text/html": [
       "<div>\n",
       "<style scoped>\n",
       "    .dataframe tbody tr th:only-of-type {\n",
       "        vertical-align: middle;\n",
       "    }\n",
       "\n",
       "    .dataframe tbody tr th {\n",
       "        vertical-align: top;\n",
       "    }\n",
       "\n",
       "    .dataframe thead th {\n",
       "        text-align: right;\n",
       "    }\n",
       "</style>\n",
       "<table border=\"1\" class=\"dataframe\">\n",
       "  <thead>\n",
       "    <tr style=\"text-align: right;\">\n",
       "      <th></th>\n",
       "      <th>user_id</th>\n",
       "      <th>movie_id</th>\n",
       "      <th>counts</th>\n",
       "      <th>timestamp</th>\n",
       "      <th>title</th>\n",
       "      <th>genre</th>\n",
       "    </tr>\n",
       "  </thead>\n",
       "  <tbody>\n",
       "    <tr>\n",
       "      <th>0</th>\n",
       "      <td>1</td>\n",
       "      <td>1193</td>\n",
       "      <td>5</td>\n",
       "      <td>978300760</td>\n",
       "      <td>One Flew Over the Cuckoo's Nest (1975)</td>\n",
       "      <td>Drama</td>\n",
       "    </tr>\n",
       "    <tr>\n",
       "      <th>1</th>\n",
       "      <td>1</td>\n",
       "      <td>661</td>\n",
       "      <td>3</td>\n",
       "      <td>978302109</td>\n",
       "      <td>James and the Giant Peach (1996)</td>\n",
       "      <td>Animation|Children's|Musical</td>\n",
       "    </tr>\n",
       "    <tr>\n",
       "      <th>2</th>\n",
       "      <td>1</td>\n",
       "      <td>914</td>\n",
       "      <td>3</td>\n",
       "      <td>978301968</td>\n",
       "      <td>My Fair Lady (1964)</td>\n",
       "      <td>Musical|Romance</td>\n",
       "    </tr>\n",
       "    <tr>\n",
       "      <th>3</th>\n",
       "      <td>1</td>\n",
       "      <td>3408</td>\n",
       "      <td>4</td>\n",
       "      <td>978300275</td>\n",
       "      <td>Erin Brockovich (2000)</td>\n",
       "      <td>Drama</td>\n",
       "    </tr>\n",
       "    <tr>\n",
       "      <th>4</th>\n",
       "      <td>1</td>\n",
       "      <td>2355</td>\n",
       "      <td>5</td>\n",
       "      <td>978824291</td>\n",
       "      <td>Bug's Life, A (1998)</td>\n",
       "      <td>Animation|Children's|Comedy</td>\n",
       "    </tr>\n",
       "    <tr>\n",
       "      <th>5</th>\n",
       "      <td>1</td>\n",
       "      <td>1197</td>\n",
       "      <td>3</td>\n",
       "      <td>978302268</td>\n",
       "      <td>Princess Bride, The (1987)</td>\n",
       "      <td>Action|Adventure|Comedy|Romance</td>\n",
       "    </tr>\n",
       "    <tr>\n",
       "      <th>6</th>\n",
       "      <td>1</td>\n",
       "      <td>1287</td>\n",
       "      <td>5</td>\n",
       "      <td>978302039</td>\n",
       "      <td>Ben-Hur (1959)</td>\n",
       "      <td>Action|Adventure|Drama</td>\n",
       "    </tr>\n",
       "    <tr>\n",
       "      <th>7</th>\n",
       "      <td>1</td>\n",
       "      <td>2804</td>\n",
       "      <td>5</td>\n",
       "      <td>978300719</td>\n",
       "      <td>Christmas Story, A (1983)</td>\n",
       "      <td>Comedy|Drama</td>\n",
       "    </tr>\n",
       "    <tr>\n",
       "      <th>8</th>\n",
       "      <td>1</td>\n",
       "      <td>594</td>\n",
       "      <td>4</td>\n",
       "      <td>978302268</td>\n",
       "      <td>Snow White and the Seven Dwarfs (1937)</td>\n",
       "      <td>Animation|Children's|Musical</td>\n",
       "    </tr>\n",
       "    <tr>\n",
       "      <th>9</th>\n",
       "      <td>1</td>\n",
       "      <td>919</td>\n",
       "      <td>4</td>\n",
       "      <td>978301368</td>\n",
       "      <td>Wizard of Oz, The (1939)</td>\n",
       "      <td>Adventure|Children's|Drama|Musical</td>\n",
       "    </tr>\n",
       "  </tbody>\n",
       "</table>\n",
       "</div>"
      ],
      "text/plain": [
       "   user_id  movie_id  counts  timestamp  \\\n",
       "0        1      1193       5  978300760   \n",
       "1        1       661       3  978302109   \n",
       "2        1       914       3  978301968   \n",
       "3        1      3408       4  978300275   \n",
       "4        1      2355       5  978824291   \n",
       "5        1      1197       3  978302268   \n",
       "6        1      1287       5  978302039   \n",
       "7        1      2804       5  978300719   \n",
       "8        1       594       4  978302268   \n",
       "9        1       919       4  978301368   \n",
       "\n",
       "                                    title                               genre  \n",
       "0  One Flew Over the Cuckoo's Nest (1975)                               Drama  \n",
       "1        James and the Giant Peach (1996)        Animation|Children's|Musical  \n",
       "2                     My Fair Lady (1964)                     Musical|Romance  \n",
       "3                  Erin Brockovich (2000)                               Drama  \n",
       "4                    Bug's Life, A (1998)         Animation|Children's|Comedy  \n",
       "5              Princess Bride, The (1987)     Action|Adventure|Comedy|Romance  \n",
       "6                          Ben-Hur (1959)              Action|Adventure|Drama  \n",
       "7               Christmas Story, A (1983)                        Comedy|Drama  \n",
       "8  Snow White and the Seven Dwarfs (1937)        Animation|Children's|Musical  \n",
       "9                Wizard of Oz, The (1939)  Adventure|Children's|Drama|Musical  "
      ]
     },
     "execution_count": 269,
     "metadata": {},
     "output_type": "execute_result"
    }
   ],
   "source": [
    "data = pd.merge(ratings, movies, how='left', on =['movie_id'])\n",
    "data.head(10)"
   ]
  },
  {
   "cell_type": "code",
   "execution_count": 270,
   "id": "073f90c7",
   "metadata": {},
   "outputs": [
    {
     "data": {
      "text/html": [
       "<div>\n",
       "<style scoped>\n",
       "    .dataframe tbody tr th:only-of-type {\n",
       "        vertical-align: middle;\n",
       "    }\n",
       "\n",
       "    .dataframe tbody tr th {\n",
       "        vertical-align: top;\n",
       "    }\n",
       "\n",
       "    .dataframe thead th {\n",
       "        text-align: right;\n",
       "    }\n",
       "</style>\n",
       "<table border=\"1\" class=\"dataframe\">\n",
       "  <thead>\n",
       "    <tr style=\"text-align: right;\">\n",
       "      <th></th>\n",
       "      <th>user_id</th>\n",
       "      <th>movie_id</th>\n",
       "      <th>counts</th>\n",
       "      <th>timestamp</th>\n",
       "      <th>title</th>\n",
       "      <th>genre</th>\n",
       "    </tr>\n",
       "  </thead>\n",
       "  <tbody>\n",
       "    <tr>\n",
       "      <th>0</th>\n",
       "      <td>1</td>\n",
       "      <td>1193</td>\n",
       "      <td>5</td>\n",
       "      <td>978300760</td>\n",
       "      <td>one flew over the cuckoo's nest (1975)</td>\n",
       "      <td>Drama</td>\n",
       "    </tr>\n",
       "    <tr>\n",
       "      <th>1</th>\n",
       "      <td>1</td>\n",
       "      <td>661</td>\n",
       "      <td>3</td>\n",
       "      <td>978302109</td>\n",
       "      <td>james and the giant peach (1996)</td>\n",
       "      <td>Animation|Children's|Musical</td>\n",
       "    </tr>\n",
       "    <tr>\n",
       "      <th>2</th>\n",
       "      <td>1</td>\n",
       "      <td>914</td>\n",
       "      <td>3</td>\n",
       "      <td>978301968</td>\n",
       "      <td>my fair lady (1964)</td>\n",
       "      <td>Musical|Romance</td>\n",
       "    </tr>\n",
       "    <tr>\n",
       "      <th>3</th>\n",
       "      <td>1</td>\n",
       "      <td>3408</td>\n",
       "      <td>4</td>\n",
       "      <td>978300275</td>\n",
       "      <td>erin brockovich (2000)</td>\n",
       "      <td>Drama</td>\n",
       "    </tr>\n",
       "    <tr>\n",
       "      <th>4</th>\n",
       "      <td>1</td>\n",
       "      <td>2355</td>\n",
       "      <td>5</td>\n",
       "      <td>978824291</td>\n",
       "      <td>bug's life, a (1998)</td>\n",
       "      <td>Animation|Children's|Comedy</td>\n",
       "    </tr>\n",
       "  </tbody>\n",
       "</table>\n",
       "</div>"
      ],
      "text/plain": [
       "   user_id  movie_id  counts  timestamp  \\\n",
       "0        1      1193       5  978300760   \n",
       "1        1       661       3  978302109   \n",
       "2        1       914       3  978301968   \n",
       "3        1      3408       4  978300275   \n",
       "4        1      2355       5  978824291   \n",
       "\n",
       "                                    title                         genre  \n",
       "0  one flew over the cuckoo's nest (1975)                         Drama  \n",
       "1        james and the giant peach (1996)  Animation|Children's|Musical  \n",
       "2                     my fair lady (1964)               Musical|Romance  \n",
       "3                  erin brockovich (2000)                         Drama  \n",
       "4                    bug's life, a (1998)   Animation|Children's|Comedy  "
      ]
     },
     "execution_count": 270,
     "metadata": {},
     "output_type": "execute_result"
    }
   ],
   "source": [
    "data['title'] = data['title'].str.lower()\n",
    "data.head()"
   ]
  },
  {
   "cell_type": "markdown",
   "id": "f8d27894",
   "metadata": {},
   "source": [
    "여기까지가 전처리입니다. 이후에는 이전 스텝에 소개했던 것과 동일한 방식으로 MF model을 구성하여 내가 좋아할 만한 영화를 추천해 볼 수 있습니다."
   ]
  },
  {
   "cell_type": "markdown",
   "id": "79820c38",
   "metadata": {},
   "source": [
    "## 2) 분석해 봅시다.\n",
    "ratings에 있는 유니크한 영화 개수\n",
    "ratings에 있는 유니크한 사용자 수\n",
    "가장 인기 있는 영화 30개(인기순)\n"
   ]
  },
  {
   "cell_type": "code",
   "execution_count": 271,
   "id": "51b751e9",
   "metadata": {},
   "outputs": [
    {
     "name": "stdout",
     "output_type": "stream",
     "text": [
      "유니크 영화수: 3628\n",
      "유니크 사용자: 6039\n"
     ]
    }
   ],
   "source": [
    "print(f\"유니크 영화수: {data['movie_id'].nunique()}\")\n",
    "print(f\"유니크 사용자: {data['user_id'].nunique()}\")"
   ]
  },
  {
   "cell_type": "code",
   "execution_count": 276,
   "id": "1faaca64",
   "metadata": {
    "scrolled": false
   },
   "outputs": [
    {
     "data": {
      "text/plain": [
       "title\n",
       "american beauty (1999)                                   3211\n",
       "star wars: episode iv - a new hope (1977)                2910\n",
       "star wars: episode v - the empire strikes back (1980)    2885\n",
       "star wars: episode vi - return of the jedi (1983)        2716\n",
       "saving private ryan (1998)                               2561\n",
       "terminator 2: judgment day (1991)                        2509\n",
       "silence of the lambs, the (1991)                         2498\n",
       "raiders of the lost ark (1981)                           2473\n",
       "back to the future (1985)                                2460\n",
       "matrix, the (1999)                                       2434\n",
       "jurassic park (1993)                                     2413\n",
       "sixth sense, the (1999)                                  2385\n",
       "fargo (1996)                                             2371\n",
       "braveheart (1995)                                        2314\n",
       "men in black (1997)                                      2297\n",
       "schindler's list (1993)                                  2257\n",
       "princess bride, the (1987)                               2252\n",
       "shakespeare in love (1998)                               2213\n",
       "l.a. confidential (1997)                                 2210\n",
       "shawshank redemption, the (1994)                         2194\n",
       "godfather, the (1972)                                    2167\n",
       "groundhog day (1993)                                     2121\n",
       "e.t. the extra-terrestrial (1982)                        2102\n",
       "being john malkovich (1999)                              2066\n",
       "ghostbusters (1984)                                      2051\n",
       "pulp fiction (1994)                                      2030\n",
       "forrest gump (1994)                                      2022\n",
       "terminator, the (1984)                                   2019\n",
       "toy story (1995)                                         2000\n",
       "fugitive, the (1993)                                     1941\n",
       "Name: user_id, dtype: int64"
      ]
     },
     "execution_count": 276,
     "metadata": {},
     "output_type": "execute_result"
    }
   ],
   "source": [
    "pop_movie = data.groupby('title')['user_id'].count()\n",
    "pop_movie.sort_values(ascending=False).head(30)"
   ]
  },
  {
   "cell_type": "markdown",
   "id": "fc7530e7",
   "metadata": {},
   "source": [
    "## 3) 내가 선호하는 영화를 5가지 골라서 ratings에 추가해 줍시다"
   ]
  },
  {
   "cell_type": "code",
   "execution_count": 301,
   "id": "8837fd7d",
   "metadata": {},
   "outputs": [
    {
     "data": {
      "text/html": [
       "<div>\n",
       "<style scoped>\n",
       "    .dataframe tbody tr th:only-of-type {\n",
       "        vertical-align: middle;\n",
       "    }\n",
       "\n",
       "    .dataframe tbody tr th {\n",
       "        vertical-align: top;\n",
       "    }\n",
       "\n",
       "    .dataframe thead th {\n",
       "        text-align: right;\n",
       "    }\n",
       "</style>\n",
       "<table border=\"1\" class=\"dataframe\">\n",
       "  <thead>\n",
       "    <tr style=\"text-align: right;\">\n",
       "      <th></th>\n",
       "      <th>user_id</th>\n",
       "      <th>title</th>\n",
       "      <th>counts</th>\n",
       "    </tr>\n",
       "  </thead>\n",
       "  <tbody>\n",
       "    <tr>\n",
       "      <th>0</th>\n",
       "      <td>0</td>\n",
       "      <td>one flew over the cuckoo's nest (1975)</td>\n",
       "      <td>5</td>\n",
       "    </tr>\n",
       "    <tr>\n",
       "      <th>1</th>\n",
       "      <td>0</td>\n",
       "      <td>james and the giant peach (1996)</td>\n",
       "      <td>3</td>\n",
       "    </tr>\n",
       "    <tr>\n",
       "      <th>2</th>\n",
       "      <td>0</td>\n",
       "      <td>my fair lady (1964)</td>\n",
       "      <td>3</td>\n",
       "    </tr>\n",
       "    <tr>\n",
       "      <th>3</th>\n",
       "      <td>0</td>\n",
       "      <td>erin brockovich (2000)</td>\n",
       "      <td>4</td>\n",
       "    </tr>\n",
       "    <tr>\n",
       "      <th>4</th>\n",
       "      <td>0</td>\n",
       "      <td>bug's life, a (1998)</td>\n",
       "      <td>5</td>\n",
       "    </tr>\n",
       "  </tbody>\n",
       "</table>\n",
       "</div>"
      ],
      "text/plain": [
       "   user_id                                   title  counts\n",
       "0        0  one flew over the cuckoo's nest (1975)       5\n",
       "1        0        james and the giant peach (1996)       3\n",
       "2        0                     my fair lady (1964)       3\n",
       "3        0                  erin brockovich (2000)       4\n",
       "4        0                    bug's life, a (1998)       5"
      ]
     },
     "execution_count": 301,
     "metadata": {},
     "output_type": "execute_result"
    }
   ],
   "source": [
    "df = data.copy()[['user_id','title','counts']]\n",
    "df.head()"
   ]
  },
  {
   "cell_type": "code",
   "execution_count": 302,
   "id": "0c801119",
   "metadata": {},
   "outputs": [
    {
     "data": {
      "text/html": [
       "<div>\n",
       "<style scoped>\n",
       "    .dataframe tbody tr th:only-of-type {\n",
       "        vertical-align: middle;\n",
       "    }\n",
       "\n",
       "    .dataframe tbody tr th {\n",
       "        vertical-align: top;\n",
       "    }\n",
       "\n",
       "    .dataframe thead th {\n",
       "        text-align: right;\n",
       "    }\n",
       "</style>\n",
       "<table border=\"1\" class=\"dataframe\">\n",
       "  <thead>\n",
       "    <tr style=\"text-align: right;\">\n",
       "      <th></th>\n",
       "      <th>user_id</th>\n",
       "      <th>title</th>\n",
       "      <th>counts</th>\n",
       "    </tr>\n",
       "  </thead>\n",
       "  <tbody>\n",
       "    <tr>\n",
       "      <th>836473</th>\n",
       "      <td>6038</td>\n",
       "      <td>platoon (1986)</td>\n",
       "      <td>3</td>\n",
       "    </tr>\n",
       "    <tr>\n",
       "      <th>836474</th>\n",
       "      <td>6038</td>\n",
       "      <td>crying game, the (1992)</td>\n",
       "      <td>5</td>\n",
       "    </tr>\n",
       "    <tr>\n",
       "      <th>836475</th>\n",
       "      <td>6038</td>\n",
       "      <td>welcome to the dollhouse (1995)</td>\n",
       "      <td>5</td>\n",
       "    </tr>\n",
       "    <tr>\n",
       "      <th>836476</th>\n",
       "      <td>6038</td>\n",
       "      <td>sophie's choice (1982)</td>\n",
       "      <td>4</td>\n",
       "    </tr>\n",
       "    <tr>\n",
       "      <th>836477</th>\n",
       "      <td>6038</td>\n",
       "      <td>e.t. the extra-terrestrial (1982)</td>\n",
       "      <td>4</td>\n",
       "    </tr>\n",
       "    <tr>\n",
       "      <th>0</th>\n",
       "      <td>jake</td>\n",
       "      <td>american beauty (1999)</td>\n",
       "      <td>4</td>\n",
       "    </tr>\n",
       "    <tr>\n",
       "      <th>1</th>\n",
       "      <td>jake</td>\n",
       "      <td>star wars: episode iv - a new hope (1977)</td>\n",
       "      <td>4</td>\n",
       "    </tr>\n",
       "    <tr>\n",
       "      <th>2</th>\n",
       "      <td>jake</td>\n",
       "      <td>star wars: episode v - the empire strikes back...</td>\n",
       "      <td>4</td>\n",
       "    </tr>\n",
       "    <tr>\n",
       "      <th>3</th>\n",
       "      <td>jake</td>\n",
       "      <td>terminator 2: judgment day (1991)</td>\n",
       "      <td>4</td>\n",
       "    </tr>\n",
       "    <tr>\n",
       "      <th>4</th>\n",
       "      <td>jake</td>\n",
       "      <td>men in black (1997)</td>\n",
       "      <td>4</td>\n",
       "    </tr>\n",
       "  </tbody>\n",
       "</table>\n",
       "</div>"
      ],
      "text/plain": [
       "       user_id                                              title  counts\n",
       "836473    6038                                     platoon (1986)       3\n",
       "836474    6038                            crying game, the (1992)       5\n",
       "836475    6038                    welcome to the dollhouse (1995)       5\n",
       "836476    6038                             sophie's choice (1982)       4\n",
       "836477    6038                  e.t. the extra-terrestrial (1982)       4\n",
       "0         jake                             american beauty (1999)       4\n",
       "1         jake          star wars: episode iv - a new hope (1977)       4\n",
       "2         jake  star wars: episode v - the empire strikes back...       4\n",
       "3         jake                  terminator 2: judgment day (1991)       4\n",
       "4         jake                                men in black (1997)       4"
      ]
     },
     "execution_count": 302,
     "metadata": {},
     "output_type": "execute_result"
    }
   ],
   "source": [
    "# 본인이 좋아하시는 아티스트 데이터로 바꿔서 추가하셔도 됩니다! 단, 이름은 꼭 데이터셋에 있는 것과 동일하게 맞춰주세요. \n",
    "my_favorite = ['american beauty (1999)' , \n",
    "               'star wars: episode iv - a new hope (1977)' ,\n",
    "               'star wars: episode v - the empire strikes back (1980)' ,\n",
    "               'terminator 2: judgment day (1991)' ,\n",
    "               'men in black (1997)']\n",
    "\n",
    "# 'jake'이라는 user_id가 위 영화를 4회씩 봤다고 가정.\n",
    "my_playlist = pd.DataFrame({'user_id': ['jake']*5, 'title': my_favorite, 'counts':[4]*5})\n",
    "\n",
    "if not df.isin({'user_id':['jake']})['user_id'].any():  # user_id에 'jake'이라는 데이터가 없다면\n",
    "    df = df.append(my_playlist)                           # 위에 임의로 만든 my_favorite 데이터를 추가해 줍니다. \n",
    "\n",
    "df.tail(10)       # 잘 추가되었는지 확인해 봅시다."
   ]
  },
  {
   "cell_type": "markdown",
   "id": "9ee6be5f",
   "metadata": {},
   "source": [
    "## 4) CSR matrix를 직접 만들어 봅시다.\n",
    "\n",
    "### 모델 전처리(실습): indexing"
   ]
  },
  {
   "cell_type": "code",
   "execution_count": 303,
   "id": "cc8aa533",
   "metadata": {},
   "outputs": [],
   "source": [
    "# 고유한 유저, 아티스트를 찾아내는 코드\n",
    "user_unique = df['user_id'].unique()\n",
    "title_unique = df['title'].unique()\n",
    "\n",
    "# 유저, 아티스트 indexing 하는 코드 idx는 index의 약자입니다.\n",
    "user_to_idx = {v:k for k,v in enumerate(user_unique)}\n",
    "title_to_idx = {v:k for k,v in enumerate(title_unique)}"
   ]
  },
  {
   "cell_type": "code",
   "execution_count": 304,
   "id": "98d31ef4",
   "metadata": {},
   "outputs": [
    {
     "name": "stdout",
     "output_type": "stream",
     "text": [
      "6039\n"
     ]
    }
   ],
   "source": [
    "# 인덱싱이 잘 되었는지 확인해 봅니다. \n",
    "print(user_to_idx['jake'])   "
   ]
  },
  {
   "cell_type": "code",
   "execution_count": 305,
   "id": "f909cc61",
   "metadata": {},
   "outputs": [
    {
     "name": "stdout",
     "output_type": "stream",
     "text": [
      "user_id column indexing OK!!\n",
      "title column indexing OK!!\n"
     ]
    },
    {
     "data": {
      "text/html": [
       "<div>\n",
       "<style scoped>\n",
       "    .dataframe tbody tr th:only-of-type {\n",
       "        vertical-align: middle;\n",
       "    }\n",
       "\n",
       "    .dataframe tbody tr th {\n",
       "        vertical-align: top;\n",
       "    }\n",
       "\n",
       "    .dataframe thead th {\n",
       "        text-align: right;\n",
       "    }\n",
       "</style>\n",
       "<table border=\"1\" class=\"dataframe\">\n",
       "  <thead>\n",
       "    <tr style=\"text-align: right;\">\n",
       "      <th></th>\n",
       "      <th>user_id</th>\n",
       "      <th>title</th>\n",
       "      <th>counts</th>\n",
       "    </tr>\n",
       "  </thead>\n",
       "  <tbody>\n",
       "    <tr>\n",
       "      <th>0</th>\n",
       "      <td>0</td>\n",
       "      <td>0</td>\n",
       "      <td>5</td>\n",
       "    </tr>\n",
       "    <tr>\n",
       "      <th>1</th>\n",
       "      <td>0</td>\n",
       "      <td>1</td>\n",
       "      <td>3</td>\n",
       "    </tr>\n",
       "    <tr>\n",
       "      <th>2</th>\n",
       "      <td>0</td>\n",
       "      <td>2</td>\n",
       "      <td>3</td>\n",
       "    </tr>\n",
       "    <tr>\n",
       "      <th>3</th>\n",
       "      <td>0</td>\n",
       "      <td>3</td>\n",
       "      <td>4</td>\n",
       "    </tr>\n",
       "    <tr>\n",
       "      <th>4</th>\n",
       "      <td>0</td>\n",
       "      <td>4</td>\n",
       "      <td>5</td>\n",
       "    </tr>\n",
       "    <tr>\n",
       "      <th>...</th>\n",
       "      <td>...</td>\n",
       "      <td>...</td>\n",
       "      <td>...</td>\n",
       "    </tr>\n",
       "    <tr>\n",
       "      <th>0</th>\n",
       "      <td>6039</td>\n",
       "      <td>99</td>\n",
       "      <td>4</td>\n",
       "    </tr>\n",
       "    <tr>\n",
       "      <th>1</th>\n",
       "      <td>6039</td>\n",
       "      <td>44</td>\n",
       "      <td>4</td>\n",
       "    </tr>\n",
       "    <tr>\n",
       "      <th>2</th>\n",
       "      <td>6039</td>\n",
       "      <td>117</td>\n",
       "      <td>4</td>\n",
       "    </tr>\n",
       "    <tr>\n",
       "      <th>3</th>\n",
       "      <td>6039</td>\n",
       "      <td>92</td>\n",
       "      <td>4</td>\n",
       "    </tr>\n",
       "    <tr>\n",
       "      <th>4</th>\n",
       "      <td>6039</td>\n",
       "      <td>175</td>\n",
       "      <td>4</td>\n",
       "    </tr>\n",
       "  </tbody>\n",
       "</table>\n",
       "<p>836483 rows × 3 columns</p>\n",
       "</div>"
      ],
      "text/plain": [
       "    user_id  title  counts\n",
       "0         0      0       5\n",
       "1         0      1       3\n",
       "2         0      2       3\n",
       "3         0      3       4\n",
       "4         0      4       5\n",
       "..      ...    ...     ...\n",
       "0      6039     99       4\n",
       "1      6039     44       4\n",
       "2      6039    117       4\n",
       "3      6039     92       4\n",
       "4      6039    175       4\n",
       "\n",
       "[836483 rows x 3 columns]"
      ]
     },
     "execution_count": 305,
     "metadata": {},
     "output_type": "execute_result"
    }
   ],
   "source": [
    "# indexing을 통해 데이터 컬럼 내 값을 바꾸는 코드\n",
    "\n",
    "# user_to_idx.get을 통해 user_id 컬럼의 모든 값을 인덱싱한 Series를 구해 봅시다. \n",
    "# 혹시 정상적으로 인덱싱되지 않은 row가 있다면 인덱스가 NaN이 될 테니 dropna()로 제거합니다. \n",
    "temp_user_data = df['user_id'].map(user_to_idx.get).dropna()\n",
    "if len(temp_user_data) == len(df):   # 모든 row가 정상적으로 인덱싱되었다면\n",
    "    print('user_id column indexing OK!!')\n",
    "    df['user_id'] = temp_user_data   # data['user_id']을 인덱싱된 Series로 교체해 줍니다. \n",
    "else:\n",
    "    print('user_id column indexing Fail!!')\n",
    "    \n",
    "# temp_title_data을 통해 title 컬럼도 동일한 방식으로 인덱싱해 줍니다. \n",
    "temp_title_data = df['title'].map(title_to_idx.get).dropna()\n",
    "if len(temp_title_data) == len(df):\n",
    "    print('title column indexing OK!!')\n",
    "    df['title'] = temp_title_data\n",
    "else:\n",
    "    print('title column indexing Fail!!')\n",
    "\n",
    "\n",
    "df"
   ]
  },
  {
   "cell_type": "markdown",
   "id": "c605353a",
   "metadata": {},
   "source": [
    "### CSR Matrix"
   ]
  },
  {
   "cell_type": "code",
   "execution_count": 307,
   "id": "4bafc12a",
   "metadata": {},
   "outputs": [
    {
     "data": {
      "text/plain": [
       "<6040x3628 sparse matrix of type '<class 'numpy.int64'>'\n",
       "\twith 836483 stored elements in Compressed Sparse Row format>"
      ]
     },
     "execution_count": 307,
     "metadata": {},
     "output_type": "execute_result"
    }
   ],
   "source": [
    "# 실습 위에 설명보고 이해해서 만들어보기\n",
    "from scipy.sparse import csr_matrix\n",
    "\n",
    "num_user = df['user_id'].nunique()\n",
    "num_title =df['title'].nunique()\n",
    "\n",
    "csr_data = csr_matrix((df.counts, (df.user_id, df.title)), shape= (num_user, num_title))\n",
    "csr_data"
   ]
  },
  {
   "cell_type": "markdown",
   "id": "4bc58666",
   "metadata": {},
   "source": [
    "## 5) als_model = AlternatingLeastSquares 모델을 직접 구성하여 훈련시켜 봅시다.\n"
   ]
  },
  {
   "cell_type": "code",
   "execution_count": 308,
   "id": "2263b873",
   "metadata": {},
   "outputs": [],
   "source": [
    "from implicit.als import AlternatingLeastSquares\n",
    "import os\n",
    "import numpy as np\n",
    "\n",
    "# implicit 라이브러리에서 권장하고 있는 부분입니다. 학습 내용과는 무관합니다.\n",
    "os.environ['OPENBLAS_NUM_THREADS']='1'\n",
    "os.environ['KMP_DUPLICATE_LIB_OK']='True'\n",
    "os.environ['MKL_NUM_THREADS']='1'"
   ]
  },
  {
   "cell_type": "markdown",
   "id": "722fb477",
   "metadata": {},
   "source": [
    "AlternatingLeastSquares 클래스의 __init__ 파라미터를 살펴보자.\n",
    "\n",
    "- factors : 유저와 아이템의 벡터를 몇 차원으로 할 것인지\n",
    "- regularization : 과적합을 방지하기 위해 정규화 값을 얼마나 사용할 것인지\n",
    "- use_gpu : GPU를 사용할 것인지\n",
    "- iterations : epochs와 같은 의미입니다. 데이터를 몇 번 반복해서 학습할 것인지\n",
    "\n",
    "1과 4를 늘릴수록 학습 데이터를 잘 학습하지만, overfitting을 조심하자."
   ]
  },
  {
   "cell_type": "code",
   "execution_count": 309,
   "id": "37e11f8f",
   "metadata": {},
   "outputs": [],
   "source": [
    "# Implicit AlternatingLeastSquares 모델의 선언\n",
    "als_model = AlternatingLeastSquares(factors=100, regularization=0.01, use_gpu=False, iterations=15, dtype=np.float32)"
   ]
  },
  {
   "cell_type": "code",
   "execution_count": 310,
   "id": "8a711121",
   "metadata": {},
   "outputs": [
    {
     "data": {
      "text/plain": [
       "<3628x6040 sparse matrix of type '<class 'numpy.int64'>'\n",
       "\twith 836483 stored elements in Compressed Sparse Column format>"
      ]
     },
     "execution_count": 310,
     "metadata": {},
     "output_type": "execute_result"
    }
   ],
   "source": [
    "# als 모델은 input으로 (item X user 꼴의 matrix를 받기 때문에 Transpose해줍니다.)\n",
    "csr_data_transpose = csr_data.T\n",
    "csr_data_transpose"
   ]
  },
  {
   "cell_type": "code",
   "execution_count": 311,
   "id": "c1324936",
   "metadata": {},
   "outputs": [
    {
     "data": {
      "application/vnd.jupyter.widget-view+json": {
       "model_id": "e2c67f0bc41549f6b7309fe5294ec4a5",
       "version_major": 2,
       "version_minor": 0
      },
      "text/plain": [
       "  0%|          | 0/15 [00:00<?, ?it/s]"
      ]
     },
     "metadata": {},
     "output_type": "display_data"
    }
   ],
   "source": [
    "# 모델 훈련\n",
    "als_model.fit(csr_data_transpose)"
   ]
  },
  {
   "cell_type": "markdown",
   "id": "fb66b872",
   "metadata": {},
   "source": [
    "## 6) 내가 선호하는 5가지 영화 중 하나와 그 외의 영화 하나를 골라 훈련된 모델이 예측한 나의 선호도를 파악해 보세요.\n"
   ]
  },
  {
   "cell_type": "code",
   "execution_count": 313,
   "id": "15c96fbb",
   "metadata": {},
   "outputs": [
    {
     "name": "stdout",
     "output_type": "stream",
     "text": [
      "슝=3\n"
     ]
    }
   ],
   "source": [
    "jake,  american_beauty = user_to_idx['jake'], title_to_idx['american beauty (1999)']\n",
    "jake_vector, american_beauty_vector = als_model.user_factors[jake], als_model.item_factors[american_beauty]\n",
    "\n",
    "print('슝=3')"
   ]
  },
  {
   "cell_type": "code",
   "execution_count": 314,
   "id": "30c55659",
   "metadata": {},
   "outputs": [
    {
     "data": {
      "text/plain": [
       "array([ 0.04767463, -0.09099906, -0.17156015,  0.44594616,  0.19142492,\n",
       "        0.35669237,  0.56333035,  0.3996603 , -0.38409188, -0.52733433,\n",
       "       -0.7562242 ,  0.34714344, -0.3277481 ,  0.32031104,  0.2096031 ,\n",
       "       -0.32437786,  0.7452351 , -0.47147062, -0.57953286, -1.0580949 ,\n",
       "       -0.22311969, -0.4311018 ,  0.71715343,  0.83898264, -0.80892265,\n",
       "        0.38103044, -0.25882572, -0.10284158,  0.33220226,  0.3905974 ,\n",
       "        0.11405578, -0.20808208,  0.14333111,  0.32550648,  0.2357938 ,\n",
       "        0.36650795,  0.40886924, -0.27789873, -0.3256296 ,  0.26347604,\n",
       "        0.35326496, -0.0512872 ,  0.15942673,  0.33970508,  1.3725023 ,\n",
       "       -0.7501907 ,  0.04019758,  0.14243686,  0.2208367 ,  0.31870154,\n",
       "       -0.715209  , -0.10717603, -0.44257286, -0.23696648,  0.4521519 ,\n",
       "        0.22850755,  0.12594637, -0.7245357 , -0.03954086, -0.81991315,\n",
       "       -0.9069118 , -0.7711387 , -0.4384246 , -0.4800996 ,  1.2472607 ,\n",
       "        0.05503876,  0.00511755,  0.34952608, -0.1480706 ,  0.13787596,\n",
       "        0.19228579,  0.3765128 , -0.8291222 , -0.5927659 ,  0.13282962,\n",
       "        0.7120337 ,  1.0055082 , -0.20230742, -0.18235208, -0.39538074,\n",
       "        0.38425094,  0.9083575 , -0.3151987 , -0.05873202,  0.28560302,\n",
       "       -0.18377374,  0.18694556, -0.23969547, -0.70503753, -0.43721798,\n",
       "        0.46171358, -0.05751998, -0.11127892, -1.338694  ,  0.7932609 ,\n",
       "       -0.14179094, -0.05794481,  1.311974  ,  0.14800014,  0.40140033],\n",
       "      dtype=float32)"
      ]
     },
     "execution_count": 314,
     "metadata": {},
     "output_type": "execute_result"
    }
   ],
   "source": [
    "jake_vector"
   ]
  },
  {
   "cell_type": "code",
   "execution_count": 315,
   "id": "4f8b4050",
   "metadata": {},
   "outputs": [
    {
     "data": {
      "text/plain": [
       "array([-0.00897133, -0.01026362, -0.02186788,  0.02377756,  0.0065444 ,\n",
       "        0.000265  ,  0.03933184,  0.04688817,  0.02204518,  0.0250566 ,\n",
       "       -0.01696938, -0.00133218, -0.01346714,  0.01534186, -0.01525215,\n",
       "        0.01159519,  0.02926874,  0.01333259, -0.00708197,  0.01320098,\n",
       "       -0.03184105,  0.01235645,  0.01693583,  0.03120414, -0.00466452,\n",
       "        0.05015436, -0.01570124,  0.02310083, -0.00620966, -0.00075374,\n",
       "        0.01680883,  0.01287751, -0.00111364,  0.00030361,  0.01584003,\n",
       "        0.03650259,  0.04889123,  0.01469941, -0.02501211, -0.01419799,\n",
       "        0.04763526, -0.0168309 , -0.00726822,  0.0109931 ,  0.00603801,\n",
       "       -0.0213167 , -0.02157962,  0.02200472,  0.01081256,  0.01297669,\n",
       "       -0.01602189, -0.03623079, -0.01932415, -0.01789535, -0.01238784,\n",
       "        0.00694902,  0.02801331, -0.01118152, -0.00734942, -0.0081246 ,\n",
       "       -0.0199893 , -0.05042491, -0.02236347, -0.00621588,  0.03782761,\n",
       "        0.00598117,  0.00476851, -0.01150021,  0.01034258,  0.00268251,\n",
       "        0.04179012, -0.03218723,  0.00972968, -0.01582338, -0.00726518,\n",
       "        0.04815903,  0.04015164,  0.02251022, -0.00199831, -0.01413747,\n",
       "        0.03588458,  0.01894435, -0.02345535, -0.03385956,  0.02724647,\n",
       "       -0.01368082,  0.01143447,  0.03757585, -0.02434662, -0.01349457,\n",
       "        0.02182633, -0.01382634, -0.00260996, -0.02931985,  0.03800702,\n",
       "       -0.00666556,  0.03682621,  0.03940186,  0.01016953,  0.03610188],\n",
       "      dtype=float32)"
      ]
     },
     "execution_count": 315,
     "metadata": {},
     "output_type": "execute_result"
    }
   ],
   "source": [
    "american_beauty_vector"
   ]
  },
  {
   "cell_type": "code",
   "execution_count": 316,
   "id": "6f73f427",
   "metadata": {},
   "outputs": [
    {
     "data": {
      "text/plain": [
       "0.64920145"
      ]
     },
     "execution_count": 316,
     "metadata": {},
     "output_type": "execute_result"
    }
   ],
   "source": [
    "# 내적하는 코드\n",
    "np.dot(jake_vector, american_beauty_vector)"
   ]
  },
  {
   "cell_type": "code",
   "execution_count": 318,
   "id": "63aab2e8",
   "metadata": {},
   "outputs": [
    {
     "data": {
      "text/plain": [
       "0.02157521"
      ]
     },
     "execution_count": 318,
     "metadata": {},
     "output_type": "execute_result"
    }
   ],
   "source": [
    "sophie = title_to_idx[\"sophie's choice (1982)\"]\n",
    "sophie_vector = als_model.item_factors[sophie]\n",
    "np.dot(jake_vector, sophie_vector)"
   ]
  },
  {
   "cell_type": "markdown",
   "id": "643a2016",
   "metadata": {},
   "source": [
    "## 7) 내가 좋아하는 영화와 비슷한 영화를 추천받아 봅시다.\n"
   ]
  },
  {
   "cell_type": "code",
   "execution_count": 319,
   "id": "c7449a24",
   "metadata": {},
   "outputs": [],
   "source": [
    "idx_to_title = {v:k for k,v in title_to_idx.items()}"
   ]
  },
  {
   "cell_type": "code",
   "execution_count": 320,
   "id": "29f0caa2",
   "metadata": {},
   "outputs": [],
   "source": [
    "def get_similar_movie(movie_name: str):\n",
    "    movie_id = title_to_idx[movie_name]\n",
    "    similar_movie = als_model.similar_items(movie_id)\n",
    "    similar_movie = [idx_to_title[i[0]] for i in similar_movie]\n",
    "    return similar_movie"
   ]
  },
  {
   "cell_type": "code",
   "execution_count": 322,
   "id": "f02416a2",
   "metadata": {},
   "outputs": [
    {
     "data": {
      "text/plain": [
       "['american beauty (1999)',\n",
       " 'being john malkovich (1999)',\n",
       " 'election (1999)',\n",
       " 'shakespeare in love (1998)',\n",
       " 'fargo (1996)',\n",
       " 'silence of the lambs, the (1991)',\n",
       " 'braveheart (1995)',\n",
       " 'pulp fiction (1994)',\n",
       " 'sixth sense, the (1999)',\n",
       " 'american pie (1999)']"
      ]
     },
     "execution_count": 322,
     "metadata": {},
     "output_type": "execute_result"
    }
   ],
   "source": [
    "get_similar_movie(\"american beauty (1999)\")"
   ]
  },
  {
   "cell_type": "markdown",
   "id": "5704e86e",
   "metadata": {},
   "source": [
    "## 8) 내가 가장 좋아할 만한 영화들을 추천받아 봅시다.\n"
   ]
  },
  {
   "cell_type": "code",
   "execution_count": 323,
   "id": "fc135e32",
   "metadata": {},
   "outputs": [
    {
     "data": {
      "text/plain": [
       "[(64, 0.7249372),\n",
       " (107, 0.57905865),\n",
       " (60, 0.49900705),\n",
       " (124, 0.43203312),\n",
       " (87, 0.39945018),\n",
       " (120, 0.35428178),\n",
       " (170, 0.29972565),\n",
       " (48, 0.2772036),\n",
       " (62, 0.2735989),\n",
       " (200, 0.25350034),\n",
       " (22, 0.24331833),\n",
       " (0, 0.23365653),\n",
       " (26, 0.23023136),\n",
       " (82, 0.22337766),\n",
       " (193, 0.22169238),\n",
       " (372, 0.2135035),\n",
       " (670, 0.20803288),\n",
       " (5, 0.18338759),\n",
       " (542, 0.1640989),\n",
       " (121, 0.16055864)]"
      ]
     },
     "execution_count": 323,
     "metadata": {},
     "output_type": "execute_result"
    }
   ],
   "source": [
    "user = user_to_idx['jake']\n",
    "\n",
    "movie_recommended = als_model.recommend(user, csr_data, N=20, filter_already_liked_items=True)\n",
    "movie_recommended"
   ]
  },
  {
   "cell_type": "code",
   "execution_count": 327,
   "id": "89ff55a5",
   "metadata": {},
   "outputs": [
    {
     "data": {
      "text/plain": [
       "['star wars: episode vi - return of the jedi (1983)',\n",
       " 'jurassic park (1993)',\n",
       " 'star wars: episode i - the phantom menace (1999)',\n",
       " 'matrix, the (1999)',\n",
       " 'braveheart (1995)',\n",
       " 'raiders of the lost ark (1981)',\n",
       " 'being john malkovich (1999)',\n",
       " 'saving private ryan (1998)',\n",
       " 'total recall (1990)',\n",
       " 'terminator, the (1984)',\n",
       " 'back to the future (1985)',\n",
       " \"one flew over the cuckoo's nest (1975)\",\n",
       " 'e.t. the extra-terrestrial (1982)',\n",
       " 'lost world: jurassic park, the (1997)',\n",
       " 'alien (1979)',\n",
       " 'x-men (2000)',\n",
       " 'galaxy quest (1999)',\n",
       " 'princess bride, the (1987)',\n",
       " 'rocky horror picture show, the (1975)',\n",
       " 'silence of the lambs, the (1991)']"
      ]
     },
     "execution_count": 327,
     "metadata": {},
     "output_type": "execute_result"
    }
   ],
   "source": [
    "_list = [idx_to_title[i[0]] for i in movie_recommended]\n",
    "_list"
   ]
  },
  {
   "cell_type": "markdown",
   "id": "e9b49062",
   "metadata": {},
   "source": [
    "### `explain` 메서드를 사용하면 기록을 남긴 데이터 중 **이 추천에 기여한 정도**를 확인하기"
   ]
  },
  {
   "cell_type": "code",
   "execution_count": 325,
   "id": "1c54fe5c",
   "metadata": {},
   "outputs": [],
   "source": [
    "def explain(title):\n",
    "    movie_id = title_to_idx[title]\n",
    "    explain = als_model.explain(user, csr_data, itemid=movie_id)\n",
    "    return [(idx_to_title[i[0]], i[1]) for i in explain[1]]"
   ]
  },
  {
   "cell_type": "code",
   "execution_count": 332,
   "id": "d99ab8b4",
   "metadata": {},
   "outputs": [
    {
     "name": "stdout",
     "output_type": "stream",
     "text": [
      "\n",
      "\n",
      "star wars: episode vi - return of the jedi (1983)\n",
      "('star wars: episode v - the empire strikes back (1980)', 0.3354323147186961)\n",
      "('star wars: episode iv - a new hope (1977)', 0.2622492555322932)\n",
      "('american beauty (1999)', 0.05718691500061676)\n",
      "('men in black (1997)', 0.031331250966274864)\n",
      "('terminator 2: judgment day (1991)', 0.026758176275322645)\n",
      "\n",
      "\n",
      "jurassic park (1993)\n",
      "('men in black (1997)', 0.2661815390370066)\n",
      "('terminator 2: judgment day (1991)', 0.216320665669373)\n",
      "('american beauty (1999)', 0.06755223345252441)\n",
      "('star wars: episode iv - a new hope (1977)', 0.02863292842543981)\n",
      "('star wars: episode v - the empire strikes back (1980)', -0.008129958829245276)\n",
      "\n",
      "\n",
      "star wars: episode i - the phantom menace (1999)\n",
      "('star wars: episode iv - a new hope (1977)', 0.17040611824313615)\n",
      "('star wars: episode v - the empire strikes back (1980)', 0.12517148213218926)\n",
      "('men in black (1997)', 0.10329647782102658)\n",
      "('american beauty (1999)', 0.0562650953202274)\n",
      "('terminator 2: judgment day (1991)', 0.03474630685703684)\n",
      "\n",
      "\n",
      "matrix, the (1999)\n",
      "('terminator 2: judgment day (1991)', 0.23087672475409124)\n",
      "('men in black (1997)', 0.10438531626221907)\n",
      "('star wars: episode iv - a new hope (1977)', 0.05598887317136088)\n",
      "('star wars: episode v - the empire strikes back (1980)', 0.04619133820391238)\n",
      "('american beauty (1999)', -0.012314095754256144)\n",
      "\n",
      "\n",
      "braveheart (1995)\n",
      "('terminator 2: judgment day (1991)', 0.1490661014375138)\n",
      "('american beauty (1999)', 0.09490644171027297)\n",
      "('men in black (1997)', 0.08025817677537807)\n",
      "('star wars: episode v - the empire strikes back (1980)', 0.05222325475894117)\n",
      "('star wars: episode iv - a new hope (1977)', 0.01571991711416034)\n",
      "\n",
      "\n",
      "raiders of the lost ark (1981)\n",
      "('star wars: episode v - the empire strikes back (1980)', 0.2011774090787127)\n",
      "('star wars: episode iv - a new hope (1977)', 0.1949080801966662)\n",
      "('american beauty (1999)', 0.00998728456703337)\n",
      "('terminator 2: judgment day (1991)', -0.027605994998035392)\n",
      "('men in black (1997)', -0.03000087793857018)\n",
      "\n",
      "\n",
      "being john malkovich (1999)\n",
      "('american beauty (1999)', 0.3147997852868093)\n",
      "('star wars: episode v - the empire strikes back (1980)', 0.032163512017434316)\n",
      "('star wars: episode iv - a new hope (1977)', 0.022309782015149285)\n",
      "('men in black (1997)', -0.031078019868089543)\n",
      "('terminator 2: judgment day (1991)', -0.042761407962244605)\n",
      "\n",
      "\n",
      "saving private ryan (1998)\n",
      "('american beauty (1999)', 0.09179320523938021)\n",
      "('star wars: episode v - the empire strikes back (1980)', 0.07085643480612772)\n",
      "('star wars: episode iv - a new hope (1977)', 0.058931197302829204)\n",
      "('terminator 2: judgment day (1991)', 0.04765247076213662)\n",
      "('men in black (1997)', 0.0030872483263297557)\n",
      "\n",
      "\n",
      "total recall (1990)\n",
      "('terminator 2: judgment day (1991)', 0.20552235471872654)\n",
      "('men in black (1997)', 0.13301748458303336)\n",
      "('star wars: episode v - the empire strikes back (1980)', -0.01292960756116009)\n",
      "('star wars: episode iv - a new hope (1977)', -0.01386384477185893)\n",
      "('american beauty (1999)', -0.0430256547118481)\n",
      "\n",
      "\n",
      "terminator, the (1984)\n",
      "('terminator 2: judgment day (1991)', 0.1791470809443408)\n",
      "('star wars: episode v - the empire strikes back (1980)', 0.08058103891629513)\n",
      "('star wars: episode iv - a new hope (1977)', 0.05862931315243954)\n",
      "('men in black (1997)', -0.014327021911159659)\n",
      "('american beauty (1999)', -0.055136494229465455)\n",
      "\n",
      "\n",
      "back to the future (1985)\n",
      "('star wars: episode v - the empire strikes back (1980)', 0.07466117343668918)\n",
      "('star wars: episode iv - a new hope (1977)', 0.0655673225907773)\n",
      "('american beauty (1999)', 0.03564972433025751)\n",
      "('men in black (1997)', 0.033515448816491475)\n",
      "('terminator 2: judgment day (1991)', 0.02868008645962557)\n",
      "\n",
      "\n",
      "one flew over the cuckoo's nest (1975)\n",
      "('american beauty (1999)', 0.05910791019440021)\n",
      "('terminator 2: judgment day (1991)', 0.05375528693986332)\n",
      "('star wars: episode iv - a new hope (1977)', 0.05167898114669664)\n",
      "('men in black (1997)', 0.04100921078422811)\n",
      "('star wars: episode v - the empire strikes back (1980)', 0.02416715293992741)\n",
      "\n",
      "\n",
      "e.t. the extra-terrestrial (1982)\n",
      "('star wars: episode iv - a new hope (1977)', 0.08233944233742804)\n",
      "('star wars: episode v - the empire strikes back (1980)', 0.07537699072257771)\n",
      "('american beauty (1999)', 0.05611879439411044)\n",
      "('men in black (1997)', 0.007523992286149486)\n",
      "('terminator 2: judgment day (1991)', 0.005487880772554771)\n",
      "\n",
      "\n",
      "lost world: jurassic park, the (1997)\n",
      "('men in black (1997)', 0.10774176516123715)\n",
      "('terminator 2: judgment day (1991)', 0.06999925645900876)\n",
      "('star wars: episode iv - a new hope (1977)', 0.02189348187884867)\n",
      "('star wars: episode v - the empire strikes back (1980)', 0.013953695922921294)\n",
      "('american beauty (1999)', 0.0070291346525631175)\n",
      "\n",
      "\n",
      "alien (1979)\n",
      "('star wars: episode iv - a new hope (1977)', 0.11655883514699805)\n",
      "('terminator 2: judgment day (1991)', 0.09109046803619036)\n",
      "('star wars: episode v - the empire strikes back (1980)', 0.06147791945602101)\n",
      "('american beauty (1999)', -0.007728698512368606)\n",
      "('men in black (1997)', -0.04289060515904507)\n",
      "\n",
      "\n",
      "x-men (2000)\n",
      "('men in black (1997)', 0.06276307196934097)\n",
      "('terminator 2: judgment day (1991)', 0.04977850660016036)\n",
      "('star wars: episode iv - a new hope (1977)', 0.04047892332778853)\n",
      "('star wars: episode v - the empire strikes back (1980)', 0.033526083898352745)\n",
      "('american beauty (1999)', 0.023220009816052836)\n",
      "\n",
      "\n",
      "galaxy quest (1999)\n",
      "('men in black (1997)', 0.143086868591836)\n",
      "('american beauty (1999)', 0.041096849650080536)\n",
      "('star wars: episode v - the empire strikes back (1980)', 0.013725614274948202)\n",
      "('terminator 2: judgment day (1991)', 0.008856977453739244)\n",
      "('star wars: episode iv - a new hope (1977)', -0.0008274401493245723)\n",
      "\n",
      "\n",
      "princess bride, the (1987)\n",
      "('star wars: episode iv - a new hope (1977)', 0.08387019027643176)\n",
      "('star wars: episode v - the empire strikes back (1980)', 0.0730596075119389)\n",
      "('men in black (1997)', 0.04575143649558279)\n",
      "('terminator 2: judgment day (1991)', -0.0079271392496018)\n",
      "('american beauty (1999)', -0.014208976423520241)\n",
      "\n",
      "\n",
      "rocky horror picture show, the (1975)\n",
      "('men in black (1997)', 0.08626619413791595)\n",
      "('american beauty (1999)', 0.05883523907801308)\n",
      "('terminator 2: judgment day (1991)', 0.05062925587447164)\n",
      "('star wars: episode iv - a new hope (1977)', 0.00831484990734325)\n",
      "('star wars: episode v - the empire strikes back (1980)', -0.04418142223054636)\n",
      "\n",
      "\n",
      "silence of the lambs, the (1991)\n",
      "('american beauty (1999)', 0.08492354773093741)\n",
      "('terminator 2: judgment day (1991)', 0.08429732779292709)\n",
      "('star wars: episode v - the empire strikes back (1980)', 0.0020133156114215643)\n",
      "('star wars: episode iv - a new hope (1977)', -0.0050031888832187885)\n",
      "('men in black (1997)', -0.00670609646413899)\n"
     ]
    }
   ],
   "source": [
    "for title in _list:\n",
    "    print('\\n')\n",
    "    \n",
    "    print(title)\n",
    "    \n",
    "    explain_movie = explain(title)\n",
    "    for movie in explain_movie:\n",
    "        print(movie)"
   ]
  },
  {
   "cell_type": "code",
   "execution_count": null,
   "id": "c3ec333e",
   "metadata": {},
   "outputs": [],
   "source": [
    "회고\n",
    "1. 이번 프로젝트에서 어려웠던 점\n",
    "\n",
    "프로젝트 실습 부분에서 코드를 짜는 데 시간이 조금 걸렸다. 영화를 인덱싱하는 게 어려웠다.\n",
    "\n",
    "2. 루브릭 평가 지표를 맞추기 위해 시도한 것들\n",
    "\n",
    "- 정상적으로 CSR matrix를 만들었고, 벡터 연산 또한 잘 진행되었다.\n",
    "- 유사도, 기여도가 잘 측정되었다.\n"
   ]
  },
  {
   "attachments": {
    "image.png": {
     "image/png": "[encoded data removed]"
    }
   },
   "cell_type": "markdown",
   "id": "541648ec",
   "metadata": {},
   "source": [
    "![image.png](attachment:image.png)"
   ]
  },
  {
   "cell_type": "code",
   "execution_count": null,
   "id": "39721780",
   "metadata": {},
   "outputs": [],
   "source": []
  }
 ],
 "metadata": {
  "kernelspec": {
   "display_name": "Python 3 (ipykernel)",
   "language": "python",
   "name": "python3"
  },
  "language_info": {
   "codemirror_mode": {
    "name": "ipython",
    "version": 3
   },
   "file_extension": ".py",
   "mimetype": "text/x-python",
   "name": "python",
   "nbconvert_exporter": "python",
   "pygments_lexer": "ipython3",
   "version": "3.9.7"
  }
 },
 "nbformat": 4,
 "nbformat_minor": 5
}
