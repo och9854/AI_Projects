{
 "cells": [
  {
   "cell_type": "markdown",
   "id": "0f51302a",
   "metadata": {},
   "source": [
    "# 미니 프로젝트: 가위바위보 분류기를 만들자.\n",
    " ##  모듈 import"
   ]
  },
  {
   "cell_type": "code",
   "execution_count": 152,
   "id": "6e1645d8",
   "metadata": {},
   "outputs": [],
   "source": [
    "import os\n",
    "import numpy as np\n",
    "import matplotlib.pyplot as plt\n",
    "import tensorflow as tf\n",
    "from tensorflow import keras\n",
    "from PIL import Image\n",
    "import glob"
   ]
  },
  {
   "cell_type": "markdown",
   "id": "f39cf395",
   "metadata": {},
   "source": [
    " ## data load하기"
   ]
  },
  {
   "cell_type": "code",
   "execution_count": 153,
   "id": "3cd4ca78",
   "metadata": {},
   "outputs": [],
   "source": [
    "# data load하기\n",
    "def load_data(img_path, number_of_data=300):  # 가위바위보 이미지 개수 총합에 주의하세요.\n",
    "    # 가위 : 0, 바위 : 1, 보 : 2\n",
    "    img_size = 28\n",
    "    color = 3\n",
    "    \n",
    "    #이미지 데이터와 라벨(가위 : 0, 바위 : 1, 보 : 2) 데이터를 담을 행렬(matrix) 영역을 생성합니다.\n",
    "    imgs = np.zeros(number_of_data*img_size*img_size*color,\n",
    "                    dtype=np.int32).reshape(number_of_data, img_size, img_size, color)\n",
    "    # (300, 28, 28, 3)\n",
    "    labels = np.zeros(number_of_data, dtype=np.int32)\n",
    "\n",
    "    idx = 0\n",
    "    for file in glob.iglob(img_path+'/scissor/*.jpg'):\n",
    "        img = np.array(Image.open(file), dtype=np.int32)\n",
    "        imgs[idx, :, :, :] = img    # 데이터 영역에 이미지 행렬을 복사\n",
    "        labels[idx] = 0   # 가위 : 0\n",
    "        idx = idx+1\n",
    "\n",
    "    for file in glob.iglob(img_path+'/rock/*.jpg'):\n",
    "        img = np.array(Image.open(file), dtype=np.int32)\n",
    "        imgs[idx, :, :, :] = img    # 데이터 영역에 이미지 행렬을 복사\n",
    "        labels[idx] = 1   # 바위 : 1\n",
    "        idx = idx+1\n",
    "\n",
    "    for file in glob.iglob(img_path+'/paper/*.jpg'):\n",
    "        img = np.array(Image.open(file), dtype=np.int32)\n",
    "        imgs[idx, :, :, :] = img    # 데이터 영역에 이미지 행렬을 복사\n",
    "        labels[idx] = 2   # 보 : 2\n",
    "        idx = idx+1\n",
    "\n",
    "    print(\"학습데이터(x_train)의 이미지 개수는\", idx, \"입니다.\")\n",
    "    return imgs, labels\n"
   ]
  },
  {
   "cell_type": "markdown",
   "id": "318bffb1",
   "metadata": {},
   "source": [
    " ## image를 28 x 28 사이즈로 변경하기"
   ]
  },
  {
   "cell_type": "code",
   "execution_count": 154,
   "id": "6c787bcd",
   "metadata": {},
   "outputs": [
    {
     "name": "stdout",
     "output_type": "stream",
     "text": [
      "100 images to be resized\n",
      "100 images resized.\n",
      "100 images to be resized\n",
      "100 images resized.\n",
      "100 images to be resized\n",
      "100 images resized.\n",
      "가위바위보 이미지 모두 resize 완료!\n"
     ]
    }
   ],
   "source": [
    "# image를 resize하는 함수\n",
    "def resize_images(img_path):\n",
    "    images = glob.glob(img_path+ \"/*.jpg\")\n",
    "    print(len(images), \"images to be resized\")\n",
    "    \n",
    "    # file 모두 28 28 사이즈로\n",
    "    target_size = (28, 28)\n",
    "    for img in images:\n",
    "        old_img = Image.open(img)\n",
    "        new_img = old_img.resize(target_size, Image.ANTIALIAS)\n",
    "        new_img.save(img, \"JPEG\")\n",
    "        \n",
    "    print(len(images), \"images resized.\")\n",
    "    \n",
    "# 가위 바위 보 이미지가 저장된 디렉토리 아래의 모든 jpg 파일을 읽어들여서 resize하기\n",
    "image_dir_path = os.getenv(\"HOME\") + \"/aiffel/rock_scissor_paper/scissor\"\n",
    "resize_images(image_dir_path)\n",
    "\n",
    "image_dir_path = os.getenv(\"HOME\") + \"/aiffel/rock_scissor_paper/rock\"\n",
    "resize_images(image_dir_path)\n",
    "\n",
    "image_dir_path = os.getenv(\"HOME\") + \"/aiffel/rock_scissor_paper/paper\"\n",
    "resize_images(image_dir_path)\n",
    "\n",
    "print(\"가위바위보 이미지 모두 resize 완료!\")"
   ]
  },
  {
   "cell_type": "markdown",
   "id": "a7aabb0b",
   "metadata": {},
   "source": [
    " ## 변경한 이미지를 정규화, reshape 하기"
   ]
  },
  {
   "cell_type": "code",
   "execution_count": 155,
   "id": "186e8357",
   "metadata": {},
   "outputs": [
    {
     "name": "stdout",
     "output_type": "stream",
     "text": [
      "학습데이터(x_train)의 이미지 개수는 300 입니다.\n",
      "x_train shape: (300, 28, 28, 3)\n",
      "y_train shape: (300,)\n"
     ]
    }
   ],
   "source": [
    "# loading train dataset\n",
    "\n",
    "image_dir_path = os.getenv(\"HOME\") + \"/aiffel/rock_scissor_paper\"\n",
    "(x_train, y_train) = load_data(image_dir_path)\n",
    "\n",
    "x_train_norm = x_train/255.0   # 입력은 0~1 사이의 값으로 정규화\n",
    "x_train_reshaped = x_train_norm.reshape(-1, 28, 28, 3) #reshape\n",
    "\n",
    "print(\"x_train shape: {}\".format(x_train.shape))\n",
    "print(\"y_train shape: {}\".format(y_train.shape))"
   ]
  },
  {
   "cell_type": "markdown",
   "id": "93abcca8",
   "metadata": {},
   "source": [
    " ## building model"
   ]
  },
  {
   "cell_type": "code",
   "execution_count": 165,
   "id": "ea3d11b4",
   "metadata": {},
   "outputs": [
    {
     "name": "stdout",
     "output_type": "stream",
     "text": [
      "Model: \"sequential_16\"\n",
      "_________________________________________________________________\n",
      "Layer (type)                 Output Shape              Param #   \n",
      "=================================================================\n",
      "conv2d_46 (Conv2D)           (None, 26, 26, 32)        896       \n",
      "_________________________________________________________________\n",
      "max_pooling2d_43 (MaxPooling (None, 13, 13, 32)        0         \n",
      "_________________________________________________________________\n",
      "conv2d_47 (Conv2D)           (None, 11, 11, 32)        9248      \n",
      "_________________________________________________________________\n",
      "max_pooling2d_44 (MaxPooling (None, 5, 5, 32)          0         \n",
      "_________________________________________________________________\n",
      "conv2d_48 (Conv2D)           (None, 3, 3, 32)          9248      \n",
      "_________________________________________________________________\n",
      "max_pooling2d_45 (MaxPooling (None, 1, 1, 32)          0         \n",
      "_________________________________________________________________\n",
      "flatten_13 (Flatten)         (None, 32)                0         \n",
      "_________________________________________________________________\n",
      "dense_26 (Dense)             (None, 9)                 297       \n",
      "_________________________________________________________________\n",
      "dense_27 (Dense)             (None, 3)                 30        \n",
      "=================================================================\n",
      "Total params: 19,719\n",
      "Trainable params: 19,719\n",
      "Non-trainable params: 0\n",
      "_________________________________________________________________\n"
     ]
    }
   ],
   "source": [
    "n_channel_1 = 32\n",
    "n_channel_2 = 32\n",
    "n_dense = 9\n",
    "n_train_epoch = 30\n",
    "\n",
    "model = keras.models.Sequential()\n",
    "model.add(keras.layers.Conv2D(n_channel_1, (3, 3),\n",
    "          activation='relu', input_shape=(28, 28, 3)))\n",
    "model.add(keras.layers.MaxPool2D(2, 2))\n",
    "model.add(keras.layers.Conv2D(n_channel_2, (3, 3), activation='relu'))\n",
    "model.add(keras.layers.MaxPooling2D((2, 2)))\n",
    "model.add(keras.layers.Conv2D(n_channel_2, (3, 3), activation='relu'))\n",
    "model.add(keras.layers.MaxPooling2D((2, 2)))\n",
    "\n",
    "model.add(keras.layers.Flatten())\n",
    "model.add(keras.layers.Dense(n_dense, activation='relu'))\n",
    "model.add(keras.layers.Dense(3, activation='softmax'))\n",
    "\n",
    "model.compile(optimizer='adam',\n",
    "              loss='sparse_categorical_crossentropy',\n",
    "              metrics=['accuracy'])\n",
    "\n",
    "model.summary()"
   ]
  },
  {
   "cell_type": "markdown",
   "id": "4500b250",
   "metadata": {},
   "source": [
    " ## training model"
   ]
  },
  {
   "cell_type": "code",
   "execution_count": 166,
   "id": "cb6fce0d",
   "metadata": {},
   "outputs": [
    {
     "name": "stdout",
     "output_type": "stream",
     "text": [
      "Epoch 1/30\n",
      "10/10 [==============================] - 1s 13ms/step - loss: 1.1013 - accuracy: 0.2967\n",
      "Epoch 2/30\n",
      "10/10 [==============================] - 0s 3ms/step - loss: 1.0967 - accuracy: 0.3467\n",
      "Epoch 3/30\n",
      "10/10 [==============================] - 0s 3ms/step - loss: 1.0970 - accuracy: 0.3333\n",
      "Epoch 4/30\n",
      "10/10 [==============================] - 0s 3ms/step - loss: 1.0951 - accuracy: 0.3467\n",
      "Epoch 5/30\n",
      "10/10 [==============================] - 0s 3ms/step - loss: 1.0963 - accuracy: 0.3533\n",
      "Epoch 6/30\n",
      "10/10 [==============================] - 0s 3ms/step - loss: 1.0915 - accuracy: 0.4767\n",
      "Epoch 7/30\n",
      "10/10 [==============================] - 0s 3ms/step - loss: 1.0920 - accuracy: 0.3700\n",
      "Epoch 8/30\n",
      "10/10 [==============================] - 0s 3ms/step - loss: 1.0894 - accuracy: 0.4433\n",
      "Epoch 9/30\n",
      "10/10 [==============================] - 0s 3ms/step - loss: 1.0860 - accuracy: 0.4400\n",
      "Epoch 10/30\n",
      "10/10 [==============================] - 0s 3ms/step - loss: 1.0805 - accuracy: 0.5333\n",
      "Epoch 11/30\n",
      "10/10 [==============================] - 0s 3ms/step - loss: 1.0774 - accuracy: 0.3833\n",
      "Epoch 12/30\n",
      "10/10 [==============================] - 0s 3ms/step - loss: 1.0701 - accuracy: 0.6033\n",
      "Epoch 13/30\n",
      "10/10 [==============================] - 0s 3ms/step - loss: 1.0727 - accuracy: 0.4467\n",
      "Epoch 14/30\n",
      "10/10 [==============================] - 0s 3ms/step - loss: 1.0603 - accuracy: 0.5500\n",
      "Epoch 15/30\n",
      "10/10 [==============================] - 0s 3ms/step - loss: 1.0458 - accuracy: 0.5233\n",
      "Epoch 16/30\n",
      "10/10 [==============================] - 0s 5ms/step - loss: 1.0279 - accuracy: 0.4833\n",
      "Epoch 17/30\n",
      "10/10 [==============================] - 0s 4ms/step - loss: 1.0174 - accuracy: 0.5200\n",
      "Epoch 18/30\n",
      "10/10 [==============================] - 0s 3ms/step - loss: 0.9879 - accuracy: 0.7033\n",
      "Epoch 19/30\n",
      "10/10 [==============================] - 0s 3ms/step - loss: 0.9553 - accuracy: 0.6967\n",
      "Epoch 20/30\n",
      "10/10 [==============================] - 0s 3ms/step - loss: 0.9135 - accuracy: 0.6633\n",
      "Epoch 21/30\n",
      "10/10 [==============================] - 0s 3ms/step - loss: 0.9173 - accuracy: 0.5367\n",
      "Epoch 22/30\n",
      "10/10 [==============================] - 0s 3ms/step - loss: 0.8301 - accuracy: 0.7333\n",
      "Epoch 23/30\n",
      "10/10 [==============================] - 0s 3ms/step - loss: 0.8114 - accuracy: 0.7500\n",
      "Epoch 24/30\n",
      "10/10 [==============================] - 0s 3ms/step - loss: 0.7811 - accuracy: 0.7333\n",
      "Epoch 25/30\n",
      "10/10 [==============================] - 0s 3ms/step - loss: 0.7913 - accuracy: 0.6767\n",
      "Epoch 26/30\n",
      "10/10 [==============================] - 0s 3ms/step - loss: 0.7455 - accuracy: 0.7300\n",
      "Epoch 27/30\n",
      "10/10 [==============================] - 0s 3ms/step - loss: 0.6553 - accuracy: 0.8533\n",
      "Epoch 28/30\n",
      "10/10 [==============================] - 0s 3ms/step - loss: 0.6334 - accuracy: 0.8000\n",
      "Epoch 29/30\n",
      "10/10 [==============================] - 0s 3ms/step - loss: 0.6063 - accuracy: 0.8300\n",
      "Epoch 30/30\n",
      "10/10 [==============================] - 0s 3ms/step - loss: 0.5728 - accuracy: 0.8300\n"
     ]
    },
    {
     "data": {
      "text/plain": [
       "<keras.callbacks.History at 0x7f55ac1fca00>"
      ]
     },
     "execution_count": 166,
     "metadata": {},
     "output_type": "execute_result"
    }
   ],
   "source": [
    "## 모델을 훈련시킨다\n",
    "model.fit(x_train_reshaped, y_train, epochs=n_train_epoch)\n"
   ]
  },
  {
   "cell_type": "markdown",
   "id": "3d57cb67",
   "metadata": {},
   "source": [
    "## test data를 load하기"
   ]
  },
  {
   "cell_type": "code",
   "execution_count": 158,
   "id": "61967845",
   "metadata": {},
   "outputs": [],
   "source": [
    "## test data\n",
    "\n",
    "def load_test_data(img_path, number_of_data=90):  # 가위바위보 이미지 개수 총합에 주의하세요.\n",
    "    # 가위 : 0, 바위 : 1, 보 : 2\n",
    "    img_size = 28\n",
    "    color = 3\n",
    "    #이미지 데이터와 라벨(가위 : 0, 바위 : 1, 보 : 2) 데이터를 담을 행렬(matrix) 영역을 생성합니다.\n",
    "    imgs = np.zeros(number_of_data*img_size*img_size*color,\n",
    "                    dtype=np.int32).reshape(number_of_data, img_size, img_size, color)\n",
    "    # (300, 28, 28, 3)\n",
    "    labels = np.zeros(number_of_data, dtype=np.int32)\n",
    "\n",
    "### test를 앞에 붙였음\n",
    "    idx = 0 \n",
    "    for file in glob.iglob(img_path+'/test/scissor/*.jpg'):\n",
    "        img = np.array(Image.open(file), dtype=np.int32)\n",
    "        imgs[idx, :, :, :] = img    # 데이터 영역에 이미지 행렬을 복사\n",
    "        labels[idx] = 0   # 가위 : 0\n",
    "        idx = idx+1\n",
    "\n",
    "    for file in glob.iglob(img_path+'/test/rock/*.jpg'):\n",
    "        img = np.array(Image.open(file), dtype=np.int32)\n",
    "        imgs[idx, :, :, :] = img    # 데이터 영역에 이미지 행렬을 복사\n",
    "        labels[idx] = 1   # 바위 : 1\n",
    "        idx = idx+1\n",
    "\n",
    "    for file in glob.iglob(img_path+'/test/paper/*.jpg'):\n",
    "        img = np.array(Image.open(file), dtype=np.int32)\n",
    "        imgs[idx, :, :, :] = img    # 데이터 영역에 이미지 행렬을 복사\n",
    "        labels[idx] = 2   # 보 : 2\n",
    "        idx = idx+1\n",
    "\n",
    "    print(\"학습데이터(x_test)의 이미지 개수는\", idx, \"입니다.\")\n",
    "    return imgs, labels\n",
    "\n",
    "\n",
    "## resize test data\n",
    "def resize_test_images(img_path):\n",
    "    images = glob.glob(img_path+ \"/*.jpg\")\n",
    "    print(len(images), \"images to be resized\")\n",
    "    \n",
    "    # file 모두 28 28 사이즈로\n",
    "    target_size = (28, 28)\n",
    "    for img in images:\n",
    "        old_img = Image.open(img)\n",
    "        new_img = old_img.resize(target_size, Image.ANTIALIAS)\n",
    "        new_img.save(img, \"JPEG\")\n",
    "        \n",
    "    print(len(images), \"images resized.\")"
   ]
  },
  {
   "cell_type": "markdown",
   "id": "37d99681",
   "metadata": {},
   "source": [
    "## 이미지를 불러서, 정규화하고 reshape하기"
   ]
  },
  {
   "cell_type": "code",
   "execution_count": 159,
   "id": "09fdefa8",
   "metadata": {},
   "outputs": [
    {
     "name": "stdout",
     "output_type": "stream",
     "text": [
      "30 images to be resized\n",
      "30 images resized.\n",
      "30 images to be resized\n",
      "30 images resized.\n",
      "30 images to be resized\n",
      "30 images resized.\n",
      "학습데이터(x_test)의 이미지 개수는 90 입니다.\n",
      "x_test_reshaped shape: (90, 28, 28, 3)\n",
      "y_test shape: (90,)\n"
     ]
    }
   ],
   "source": [
    "# x_test, y_test를 만드는 방법은 x_train, y_train을 만드는 방법과 아주 유사합니다.\n",
    "# [[YOUR CODE]]\n",
    "import numpy as np\n",
    "\n",
    "def load_test_data(img_path, number_of_data=90):  # 가위바위보 이미지 개수 총합에 주의하세요.\n",
    "    # 가위 : 0, 바위 : 1, 보 : 2\n",
    "    img_size=28\n",
    "    color=3\n",
    "    #이미지 데이터와 라벨(가위 : 0, 바위 : 1, 보 : 2) 데이터를 담을 행렬(matrix) 영역을 생성합니다.\n",
    "    imgs=np.zeros(number_of_data*img_size*img_size*color,dtype=np.int32).reshape(number_of_data,img_size,img_size,color)\n",
    "    # (300, 28, 28, 3)\n",
    "    labels=np.zeros(number_of_data,dtype=np.int32)\n",
    "\t\n",
    "    idx=0\n",
    "    for file in glob.iglob(img_path+'/scissor/*.jpg'):\n",
    "        img = np.array(Image.open(file),dtype=np.int32)\n",
    "        imgs[idx,:,:,:]=img    # 데이터 영역에 이미지 행렬을 복사\n",
    "        labels[idx]=0   # 가위 : 0\n",
    "        idx=idx+1\n",
    "    # int(imgs.shape)\n",
    "    for file in glob.iglob(img_path+'/rock/*.jpg'):\n",
    "        img = np.array(Image.open(file),dtype=np.int32)\n",
    "        imgs[idx,:,:,:]=img    # 데이터 영역에 이미지 행렬을 복사\n",
    "        labels[idx]=1   # 바위 : 1\n",
    "        idx=idx+1  \n",
    "    \n",
    "    for file in glob.iglob(img_path+'/paper/*.jpg'):\n",
    "        img = np.array(Image.open(file),dtype=np.int32)\n",
    "        imgs[idx,:,:,:]=img    # 데이터 영역에 이미지 행렬을 복사\n",
    "        labels[idx]=2   # 보 : 2\n",
    "        idx=idx+1\n",
    "        \n",
    "    print(\"학습데이터(x_test)의 이미지 개수는\", idx,\"입니다.\")\n",
    "    return imgs, labels\n",
    "\n",
    "def resize_images(img_path):\n",
    "\timages=glob.glob(img_path + \"/*.jpg\")  \n",
    "    \n",
    "\tprint(len(images), \" images to be resized.\")\n",
    "\n",
    "    # 파일마다 모두 28x28 사이즈로 바꾸어 저장합니다.\n",
    "\ttarget_size=(28,28)\n",
    "\tfor img in images:\n",
    "\t\told_img=Image.open(img)\n",
    "\t\tnew_img=old_img.resize(target_size,Image.ANTIALIAS)\n",
    "\t\tnew_img.save(img, \"JPEG\")\n",
    "    \n",
    "\tprint(len(images), \" images resized.\")\n",
    "\tplt.imshow(new_img)\n",
    "\tprint(new_img.size)\n",
    "\n",
    "# 가위 바위 보 이미지가 저장된 디렉토리 아래의 모든 jpg 파일을 읽어들여서\n",
    "image_dir_path = os.getenv(\"HOME\") + \"/aiffel/rock_scissor_paper/test/scissor\"\n",
    "resize_test_images(image_dir_path)\n",
    "\n",
    "image_dir_path = os.getenv(\"HOME\") + \"/aiffel/rock_scissor_paper/test/rock\"\n",
    "resize_test_images(image_dir_path)\n",
    "\n",
    "image_dir_path = os.getenv(\"HOME\") + \"/aiffel/rock_scissor_paper/test/paper\"\n",
    "resize_test_images(image_dir_path)\n",
    "\n",
    "# 데이터\n",
    "image_dir_path = os.getenv(\"HOME\") + \"/aiffel/rock_scissor_paper/test\" # 내 이미지\n",
    "(x_test, y_test)=load_test_data(image_dir_path)\n",
    "\n",
    "x_test_norm = x_test/255.0\n",
    "x_test_reshaped=x_test_norm.reshape( -1, 28, 28, 3)\n",
    "\n",
    "print(f\"x_test_reshaped shape: {x_test_reshaped.shape}\")\n",
    "print(f\"y_test shape: {y_test.shape}\")"
   ]
  },
  {
   "cell_type": "markdown",
   "id": "0416ff6a",
   "metadata": {},
   "source": [
    "## 모델 평가하기"
   ]
  },
  {
   "cell_type": "code",
   "execution_count": 167,
   "id": "3348ab6d",
   "metadata": {},
   "outputs": [
    {
     "name": "stdout",
     "output_type": "stream",
     "text": [
      "test_loss: 0.4908536374568939 \n",
      "test_accuracy: 0.7555555701255798\n"
     ]
    }
   ],
   "source": [
    "# 모델 시험\n",
    "test_loss, test_accuracy = model.evaluate(x_test_reshaped, y_test, verbose=13)\n",
    "print(\"test_loss: {} \".format(test_loss))\n",
    "print(\"test_accuracy: {}\".format(test_accuracy))"
   ]
  },
  {
   "cell_type": "markdown",
   "id": "16e7953e",
   "metadata": {},
   "source": [
    "## 회고"
   ]
  },
  {
   "cell_type": "markdown",
   "id": "5fd0e7a3",
   "metadata": {},
   "source": [
    " \n",
    "- 이번 프로젝트에서 **어려웠던 점,**\n",
    "   - 정확도가 0.6을 넘지 않아 이를 올리기 위해 애를 썼다.\n",
    "   - 사이즈를 알맞은 형식에 지정하는 게 조금 어려웠다.\n",
    "   - 깃헙에 올리려는데, 처음에 push하는 건 잘 됐으나 그 이후에 오류가 나서 고치기 힘들었다 ㅠㅠ\n",
    "   - test data를 마련하고 있는데, 이를 분류하는 게 조금 어려웠다.   \n",
    "\n",
    "\n",
    "- 프로젝트를 진행하면서 **알아낸 점** 혹은 **아직 모호한 점**.\n",
    "   \n",
    " 1. 알아낸 점   \n",
    "    - 데이터 reshape를 할 때 (-1)을 넣어주면 남은 숫자를 자동으로 채워준다는 걸 처음 알았다.   \n",
    "    - model 공부를 하다가, layer를 더 쌓아서 maxpooling을 하였다. 이렇게 되면 more `abstract feature`를 추출할 수 있게 되고, 가위 바위 보 이미지를 더 잘 추출할 수 있게 됨을 알게 되었다. \n",
    "  \n",
    " 2. 모호한 점   \n",
    "     - 아직 클라우드 서버에서 github로 올리는 게 잘 안되는데, 아직도 이를 해결하지 못했다.\n",
    "     - train data, test data의 size를 56x56, 112x112로 바꿔보려 했는데, 오류가 뜨면서 학습이 진행되지 않았고, 학습이 잘 진행된다고 하더라도 정확도가 더욱 낮아졌기 때문에 다시 28x28 사이즈로 데이터를 사용했다.\n",
    "     - layer를 더 쌓게 되면 왜 더욱 abstract한 feature들을 추출할 수 있게 되는지 해답을 얻지 못했다.\n",
    "\n",
    "\n",
    "- 루브릭 평가 지표를 맞추기 위해 **시도한 것들**.\n",
    "\n",
    "   - convolution layer와 maxpooling layer를 하나 더 추가하니 정확도가 아주 높게 상승하였다.\n",
    "   - 그리고, dense parameter와 epoch 또한 여러 번 바꿔주어서 정확도를 높였다.\n",
    "   - dataset의 size를 56x56, 128x128로 바꾸어 보았다.\n",
    "\n",
    "\n",
    "- 만약에 루브릭 평가 관련 지표를 **달성 하지 못했을 때, 이유에 관한 추정**.\n",
    "\n",
    "   1. 이미지 분류기 모델이 성공적으로 만들어지고, 트레이닝이 정상적으로 수행되었다.(이상 x)   \n",
    "\n",
    "   2. 데이터셋에서 여러 각도를 바꾸고, 모양도 바꾸고 손등, 손바닥 등을 보여주면서 데이터셋을 다양하게 설정하고, 0~1까지 정규화를 진행하였다. 만약 달성하지 못할 확률이 큰 루브릭 기준을 고르라고 하면 2번일 것 같다. 그 이유는, 데이터셋이 내 손만 존재하고, 타인들의 데이터셋을 사용하진 않았기 때문이라고 생각한다.   \n",
    "\n",
    "   3. 분류모델의 test accuarcy가 0.75가 나와서 60% 이상 도달하였다.   \n",
    "\n",
    "\n",
    "- **자기 다짐**\n",
    "\n",
    "이것저것 모델들을 둘러보고, 데이터를 직접 찍어서 학습을 시켜보는 게 참 좋은 과정이었다. 아이펠에 오기 전에는 모델들의 architecture나 이론적인 부분만 학습하고 지나갔기 때문에, 이것이 코드로써 어떻게 구현되는지는 잘 몰랐었다. 하지만 이번 exploration을 통해서 데이터를 직접 수집하고 어떻게 다루는지에 대해 알게 되어서 좋았다.\n",
    "\n",
    "그리고 주피터노트북을 처음 써봐서 애를 썼는데, 이제 조금은 익숙해진 것 같아 좋았고, 이를 토대로 블로그를 더 열심히 꾸며야겠다는 생각이 들었다.\n",
    "\n"
   ]
  },
  {
   "cell_type": "code",
   "execution_count": null,
   "id": "05bdfabc",
   "metadata": {},
   "outputs": [],
   "source": []
  }
 ],
 "metadata": {
  "kernelspec": {
   "display_name": "Python 3 (ipykernel)",
   "language": "python",
   "name": "python3"
  },
  "language_info": {
   "codemirror_mode": {
    "name": "ipython",
    "version": 3
   },
   "file_extension": ".py",
   "mimetype": "text/x-python",
   "name": "python",
   "nbconvert_exporter": "python",
   "pygments_lexer": "ipython3",
   "version": "3.9.7"
  }
 },
 "nbformat": 4,
 "nbformat_minor": 5
}
